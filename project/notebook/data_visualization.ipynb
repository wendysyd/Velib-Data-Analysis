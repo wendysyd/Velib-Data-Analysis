{
 "cells": [
  {
   "cell_type": "markdown",
   "metadata": {},
   "source": [
    "# Data Visualisation Project\n",
    "\n",
    "### Team members\n",
    "- Yingdi Su\n",
    "- Shahzeb Imtiaz\n",
    "- Modupe Agnes O'tayo\n",
    "\n",
    "### Dataset\n",
    "[Vélib - Bikes and terminals - Real-time availability](https://opendata.paris.fr/explore/dataset/velib-disponibilite-en-temps-reel/export/?disjunctive.name&disjunctive.is_installed&disjunctive.is_renting&disjunctive.is_returning&disjunctive.nom_arrondissement_communes&dataChart=eyJxdWVyaWVzIjpbeyJjaGFydHMiOlt7InR5cGUiOiJ0cmVlbWFwIiwiZnVuYyI6IlNVTSIsInlBeGlzIjoiY2FwYWNpdHkiLCJzY2llbnRpZmljRGlzcGxheSI6dHJ1ZSwiY29sb3IiOiJyYW5nZS1EYXJrMiJ9XSwieEF4aXMiOiJuYW1lIiwibWF4cG9pbnRzIjo1MCwidGltZXNjYWxlIjoiIiwic29ydCI6IiIsInNlcmllc0JyZWFrZG93biI6IiIsInNlcmllc0JyZWFrZG93blRpbWVzY2FsZSI6IiIsImNvbmZpZyI6eyJkYXRhc2V0IjoidmVsaWItZGlzcG9uaWJpbGl0ZS1lbi10ZW1wcy1yZWVsIiwib3B0aW9ucyI6eyJkaXNqdW5jdGl2ZS5uYW1lIjp0cnVlLCJkaXNqdW5jdGl2ZS5pc19pbnN0YWxsZWQiOnRydWUsImRpc2p1bmN0aXZlLmlzX3JlbnRpbmciOnRydWUsImRpc2p1bmN0aXZlLmlzX3JldHVybmluZyI6dHJ1ZSwiZGlzanVuY3RpdmUubm9tX2Fycm9uZGlzc2VtZW50X2NvbW11bmVzIjp0cnVlfX19XSwiZGlzcGxheUxlZ2VuZCI6dHJ1ZSwiYWxpZ25Nb250aCI6dHJ1ZSwidGltZXNjYWxlIjoiIn0%3D)\n",
    "\n"
   ]
  },
  {
   "cell_type": "markdown",
   "metadata": {},
   "source": [
    "# Introduction"
   ]
  },
  {
   "cell_type": "markdown",
   "metadata": {},
   "source": [
    "## What is the subject and context of the project? \n",
    "\n",
    "The subject of the project is the availability of bikes and terminals in the Vélib' Métropole shared bicycle service. The data we're working with constantly updates as bikes are taken from or returned to these stations. The context involves understanding urban mobility, promoting sustainable transportation, and planning for urban infrastructure improvements."
   ]
  },
  {
   "cell_type": "markdown",
   "metadata": {},
   "source": [
    "## What is the source of the data?"
   ]
  },
  {
   "cell_type": "markdown",
   "metadata": {},
   "source": [
    "The data is sourced from the Paris Open Data portal. The source of this data is the <span style=\"color:green\">Vélib' Métropole service,</span> operated by Autolib Velib Métropole. The dataset is made available by <span style=\"color:green\">Smovengo / Syndicat Autolib' Vélib' Métropole (© 2018 Smovengo / Syndicat Autolib' Vélib' Métropole)</span> and is accessible through the Vélib Métropole API.\n",
    "\n",
    "[API call](https://opendata.paris.fr/api/explore/v2.1/catalog/datasets/velib-disponibilite-en-temps-reel/records?limit=20)\n"
   ]
  },
  {
   "cell_type": "markdown",
   "metadata": {},
   "source": [
    "## Who collected the data ?\n",
    "\n",
    "The data was collected by Autolib Velib Métropole, the organization responsible for managing and operating the <span style=\"color:green\">Vélib' Métropole</span> bike-sharing service operated by <span style=\"color:green\">Smovengo</span> under a contract with the Métropole du Grand Paris. "
   ]
  },
  {
   "cell_type": "markdown",
   "metadata": {},
   "source": [
    "## When was the data collected ?\n",
    "\n",
    "The dataset was created in <span style=\"color:green\">December 5, 2019,</span> The data was collected in real-time and is continuously updated. Therefore, the specific timestamp for when the data was collected varies depending on when it is accessed or queried. "
   ]
  },
  {
   "cell_type": "markdown",
   "metadata": {},
   "source": [
    "##  In what context/for what purpose was the data collected?\n",
    "\n",
    "The data was collected to monitor and manage the Vélib' Métropole shared bicycle service, which operates nearly <span style=\"color:green\">1,400 stations across 55 municipalities</span> in the Métropole area. This helps people plan their bike trips better and makes the service more convenient to use. It also helps the people who run the service make decisions about where to put stations and how to make the service work better for everyone. "
   ]
  },
  {
   "cell_type": "markdown",
   "metadata": {},
   "source": [
    "## What does the dataset contain? Describe the data, its type (continuous, categorical...) \n",
    "\n",
    "The dataset contains information about Vélib' Métropole stations and their operational status, capacity, and bicycle availability. Here's a breakdown of the columns:\n",
    "\n",
    "- <span style=\"color:green\">**Station Identifier (Identifiant station):**</span> *Unique identifier for each Vélib' station.* <span style=\"color:red\">**Categorical**</span>\n",
    "- <span style=\"color:green\">**Station Name (Nom station):**</span> *Name of the Vélib' station.* <span style=\"color:red\">**Categorical**</span>\n",
    "- <span style=\"color:green\">**Station Operational Status (Station en fonctionnement):**</span> *Indicates whether the station is operational (OUI for yes).* <span style=\"color:red\">**Categorical**</span>\n",
    "- <span style=\"color:green\">**Station Capacity (Capacité de la station):**</span> *Maximum number of bikes the station can hold.* <span style=\"color:red\">**Continuous**</span>\n",
    "- <span style=\"color:green\">**Number of Available Docking Spaces (Nombre bornettes libres):**</span> *Number of docking spaces available at the station.* <span style=\"color:red\">**Continuous**</span>\n",
    "- <span style=\"color:green\">**Total Number of Bikes Available (Nombre total vélos disponibles):**</span> *Total number of bikes available at the station.* <span style=\"color:red\">**Continuous**</span>\n",
    "- <span style=\"color:green\">**Number of Mechanical Bikes Available (Vélos mécaniques disponibles):**</span> *Number of mechanical bikes available at the station.* <span style=\"color:red\">**Continuous**</span>\n",
    "- <span style=\"color:green\">**Number of Electric Bikes Available (Vélos électriques disponibles):**</span> *Number of electric bikes available at the station.* <span style=\"color:red\">**Continuous**</span>\n",
    "- <span style=\"color:green\">**Payment Terminal Availability (Borne de paiement disponible):**</span> *Indicates whether a payment terminal is available at the station.* <span style=\"color:red\">**Categorical**</span>\n",
    "- <span style=\"color:green\">**Bike Return Possibility (Retour vélib possible):**</span> *Indicates whether it's possible to return a Vélib' bike at the station.* <span style=\"color:red\">**Categorical**</span>\n",
    "- <span style=\"color:green\">**Data Update Timestamp (Actualisation de la donnée):**</span> *Timestamp indicating when the data was last updated.* <span style=\"color:red\">**Categorical**</span>\n",
    "- <span style=\"color:green\">**Geographic Coordinates (Coordonnées géographiques):**</span> *Latitude and longitude of the station's location.* <span style=\"color:red\">**Continuous**</span>\n",
    "- <span style=\"color:green\">**Name of Equipped Municipality (Nom communes équipées):**</span> *Name of the municipality where the station is located.* <span style=\"color:red\">**Categorical**</span>\n",
    "- <span style=\"color:green\">**INSEE Code of Equipped Municipality (Code INSEE communes équipées):**</span> *Unique code assigned to the municipality where the station is located.* <span style=\"color:red\">**Categorical**</span>\n"
   ]
  },
  {
   "cell_type": "markdown",
   "metadata": {},
   "source": [
    "## What is the size of the dataset?\n",
    "\n",
    "The size of the dataset is not fixed as it’s updating continuously. Last csv downloaded: <span style=\"color:green\">15 April 2024 (csv size 184,465 bytes with 1467 rows) </span>"
   ]
  },
  {
   "cell_type": "markdown",
   "metadata": {},
   "source": [
    "## What is the dataset's license?\n",
    "\n",
    "The dataset's license is the <span style=\"color:green\">Open Database License (ODbL).</span>"
   ]
  },
  {
   "cell_type": "markdown",
   "metadata": {},
   "source": [
    "# <span style=\"color:green\">Research question</span>\n",
    "## How does the availability of different kinds of bikes, terminals, and services availability (return and payment) vary across different areas? "
   ]
  },
  {
   "cell_type": "markdown",
   "metadata": {},
   "source": [
    "### How might the data you've chosen enable you to answer your question?\n",
    "\n",
    "The dataset provides detailed information about the availability of terminals, mechanical and electric bicycles, along with the geographical coordinates and other relevant data for Vélib' Métropole stations. By analyzing this dataset, we can identify patterns and trends in the distribution of bicycles and terminals, understand the utilization rates in different areas, and assess the overall performance of the Vélib' Métropole service."
   ]
  },
  {
   "cell_type": "markdown",
   "metadata": {},
   "source": [
    "### What are your hypotheses?\n",
    "\n",
    "Bike availability may vary across different areas, Paris has the highest number of different bikes and terminals. For the other areas, the closer to Paris, the greater number of bikes and terminals there will be. As for the service availability, Paris has the most amount."
   ]
  },
  {
   "cell_type": "markdown",
   "metadata": {},
   "source": [
    "### Data Exploration"
   ]
  },
  {
   "cell_type": "code",
   "execution_count": 1,
   "metadata": {},
   "outputs": [],
   "source": [
    "import pandas as pd\n",
    "import seaborn as sns\n",
    "import plotly as py\n",
    "import plotly.express as px\n",
    "import plotly.graph_objects as go\n",
    "import matplotlib.pyplot as plt\n",
    "from IPython.display import Image"
   ]
  },
  {
   "cell_type": "code",
   "execution_count": 2,
   "metadata": {},
   "outputs": [],
   "source": [
    "dataset = pd.read_csv('../data/velib-disponibilite-en-temps-reel.csv', delimiter=';')"
   ]
  },
  {
   "cell_type": "code",
   "execution_count": 3,
   "metadata": {},
   "outputs": [
    {
     "data": {
      "text/html": [
       "<div>\n",
       "<style scoped>\n",
       "    .dataframe tbody tr th:only-of-type {\n",
       "        vertical-align: middle;\n",
       "    }\n",
       "\n",
       "    .dataframe tbody tr th {\n",
       "        vertical-align: top;\n",
       "    }\n",
       "\n",
       "    .dataframe thead th {\n",
       "        text-align: right;\n",
       "    }\n",
       "</style>\n",
       "<table border=\"1\" class=\"dataframe\">\n",
       "  <thead>\n",
       "    <tr style=\"text-align: right;\">\n",
       "      <th></th>\n",
       "      <th>Identifiant station</th>\n",
       "      <th>Nom station</th>\n",
       "      <th>Station en fonctionnement</th>\n",
       "      <th>Capacité de la station</th>\n",
       "      <th>Nombre bornettes libres</th>\n",
       "      <th>Nombre total vélos disponibles</th>\n",
       "      <th>Vélos mécaniques disponibles</th>\n",
       "      <th>Vélos électriques disponibles</th>\n",
       "      <th>Borne de paiement disponible</th>\n",
       "      <th>Retour vélib possible</th>\n",
       "      <th>Actualisation de la donnée</th>\n",
       "      <th>Coordonnées géographiques</th>\n",
       "      <th>Nom communes équipées</th>\n",
       "      <th>Code INSEE communes équipées</th>\n",
       "    </tr>\n",
       "  </thead>\n",
       "  <tbody>\n",
       "    <tr>\n",
       "      <th>0</th>\n",
       "      <td>16107</td>\n",
       "      <td>Benjamin Godard - Victor Hugo</td>\n",
       "      <td>OUI</td>\n",
       "      <td>35</td>\n",
       "      <td>32</td>\n",
       "      <td>2</td>\n",
       "      <td>0</td>\n",
       "      <td>2</td>\n",
       "      <td>OUI</td>\n",
       "      <td>OUI</td>\n",
       "      <td>2024-04-15T14:19:19+02:00</td>\n",
       "      <td>48.865983, 2.275725</td>\n",
       "      <td>Paris</td>\n",
       "      <td>NaN</td>\n",
       "    </tr>\n",
       "    <tr>\n",
       "      <th>1</th>\n",
       "      <td>31104</td>\n",
       "      <td>Mairie de Rosny-sous-Bois</td>\n",
       "      <td>OUI</td>\n",
       "      <td>30</td>\n",
       "      <td>4</td>\n",
       "      <td>25</td>\n",
       "      <td>3</td>\n",
       "      <td>22</td>\n",
       "      <td>OUI</td>\n",
       "      <td>OUI</td>\n",
       "      <td>2024-04-15T14:20:04+02:00</td>\n",
       "      <td>48.871256519012, 2.4865807592869</td>\n",
       "      <td>Rosny-sous-Bois</td>\n",
       "      <td>NaN</td>\n",
       "    </tr>\n",
       "    <tr>\n",
       "      <th>2</th>\n",
       "      <td>44015</td>\n",
       "      <td>Rouget de L'isle - Watteau</td>\n",
       "      <td>OUI</td>\n",
       "      <td>20</td>\n",
       "      <td>7</td>\n",
       "      <td>13</td>\n",
       "      <td>4</td>\n",
       "      <td>9</td>\n",
       "      <td>OUI</td>\n",
       "      <td>OUI</td>\n",
       "      <td>2024-04-15T14:21:17+02:00</td>\n",
       "      <td>48.778192750803, 2.3963020229163</td>\n",
       "      <td>Vitry-sur-Seine</td>\n",
       "      <td>NaN</td>\n",
       "    </tr>\n",
       "    <tr>\n",
       "      <th>3</th>\n",
       "      <td>14111</td>\n",
       "      <td>Cassini - Denfert-Rochereau</td>\n",
       "      <td>OUI</td>\n",
       "      <td>25</td>\n",
       "      <td>19</td>\n",
       "      <td>6</td>\n",
       "      <td>2</td>\n",
       "      <td>4</td>\n",
       "      <td>OUI</td>\n",
       "      <td>OUI</td>\n",
       "      <td>2024-04-15T14:12:41+02:00</td>\n",
       "      <td>48.837525839067, 2.3360354080796</td>\n",
       "      <td>Paris</td>\n",
       "      <td>NaN</td>\n",
       "    </tr>\n",
       "    <tr>\n",
       "      <th>4</th>\n",
       "      <td>9020</td>\n",
       "      <td>Toudouze - Clauzel</td>\n",
       "      <td>OUI</td>\n",
       "      <td>21</td>\n",
       "      <td>20</td>\n",
       "      <td>1</td>\n",
       "      <td>0</td>\n",
       "      <td>1</td>\n",
       "      <td>OUI</td>\n",
       "      <td>OUI</td>\n",
       "      <td>2024-04-15T14:19:20+02:00</td>\n",
       "      <td>48.87929591733507, 2.3373600840568547</td>\n",
       "      <td>Paris</td>\n",
       "      <td>NaN</td>\n",
       "    </tr>\n",
       "  </tbody>\n",
       "</table>\n",
       "</div>"
      ],
      "text/plain": [
       "  Identifiant station                    Nom station  \\\n",
       "0               16107  Benjamin Godard - Victor Hugo   \n",
       "1               31104      Mairie de Rosny-sous-Bois   \n",
       "2               44015     Rouget de L'isle - Watteau   \n",
       "3               14111    Cassini - Denfert-Rochereau   \n",
       "4                9020             Toudouze - Clauzel   \n",
       "\n",
       "  Station en fonctionnement  Capacité de la station  Nombre bornettes libres  \\\n",
       "0                       OUI                      35                       32   \n",
       "1                       OUI                      30                        4   \n",
       "2                       OUI                      20                        7   \n",
       "3                       OUI                      25                       19   \n",
       "4                       OUI                      21                       20   \n",
       "\n",
       "   Nombre total vélos disponibles  Vélos mécaniques disponibles  \\\n",
       "0                               2                             0   \n",
       "1                              25                             3   \n",
       "2                              13                             4   \n",
       "3                               6                             2   \n",
       "4                               1                             0   \n",
       "\n",
       "   Vélos électriques disponibles Borne de paiement disponible  \\\n",
       "0                              2                          OUI   \n",
       "1                             22                          OUI   \n",
       "2                              9                          OUI   \n",
       "3                              4                          OUI   \n",
       "4                              1                          OUI   \n",
       "\n",
       "  Retour vélib possible Actualisation de la donnée  \\\n",
       "0                   OUI  2024-04-15T14:19:19+02:00   \n",
       "1                   OUI  2024-04-15T14:20:04+02:00   \n",
       "2                   OUI  2024-04-15T14:21:17+02:00   \n",
       "3                   OUI  2024-04-15T14:12:41+02:00   \n",
       "4                   OUI  2024-04-15T14:19:20+02:00   \n",
       "\n",
       "               Coordonnées géographiques Nom communes équipées  \\\n",
       "0                    48.865983, 2.275725                 Paris   \n",
       "1       48.871256519012, 2.4865807592869       Rosny-sous-Bois   \n",
       "2       48.778192750803, 2.3963020229163       Vitry-sur-Seine   \n",
       "3       48.837525839067, 2.3360354080796                 Paris   \n",
       "4  48.87929591733507, 2.3373600840568547                 Paris   \n",
       "\n",
       "   Code INSEE communes équipées  \n",
       "0                           NaN  \n",
       "1                           NaN  \n",
       "2                           NaN  \n",
       "3                           NaN  \n",
       "4                           NaN  "
      ]
     },
     "execution_count": 3,
     "metadata": {},
     "output_type": "execute_result"
    }
   ],
   "source": [
    "dataset.head()"
   ]
  },
  {
   "cell_type": "code",
   "execution_count": 4,
   "metadata": {},
   "outputs": [
    {
     "name": "stdout",
     "output_type": "stream",
     "text": [
      "<class 'pandas.core.frame.DataFrame'>\n",
      "RangeIndex: 1466 entries, 0 to 1465\n",
      "Data columns (total 14 columns):\n",
      " #   Column                          Non-Null Count  Dtype  \n",
      "---  ------                          --------------  -----  \n",
      " 0   Identifiant station             1466 non-null   object \n",
      " 1   Nom station                     1466 non-null   object \n",
      " 2   Station en fonctionnement       1466 non-null   object \n",
      " 3   Capacité de la station          1466 non-null   int64  \n",
      " 4   Nombre bornettes libres         1466 non-null   int64  \n",
      " 5   Nombre total vélos disponibles  1466 non-null   int64  \n",
      " 6   Vélos mécaniques disponibles    1466 non-null   int64  \n",
      " 7   Vélos électriques disponibles   1466 non-null   int64  \n",
      " 8   Borne de paiement disponible    1466 non-null   object \n",
      " 9   Retour vélib possible           1466 non-null   object \n",
      " 10  Actualisation de la donnée      1466 non-null   object \n",
      " 11  Coordonnées géographiques       1466 non-null   object \n",
      " 12  Nom communes équipées           1466 non-null   object \n",
      " 13  Code INSEE communes équipées    0 non-null      float64\n",
      "dtypes: float64(1), int64(5), object(8)\n",
      "memory usage: 160.5+ KB\n"
     ]
    }
   ],
   "source": [
    "dataset.info()"
   ]
  },
  {
   "cell_type": "code",
   "execution_count": 5,
   "metadata": {},
   "outputs": [
    {
     "data": {
      "text/html": [
       "<div>\n",
       "<style scoped>\n",
       "    .dataframe tbody tr th:only-of-type {\n",
       "        vertical-align: middle;\n",
       "    }\n",
       "\n",
       "    .dataframe tbody tr th {\n",
       "        vertical-align: top;\n",
       "    }\n",
       "\n",
       "    .dataframe thead th {\n",
       "        text-align: right;\n",
       "    }\n",
       "</style>\n",
       "<table border=\"1\" class=\"dataframe\">\n",
       "  <thead>\n",
       "    <tr style=\"text-align: right;\">\n",
       "      <th></th>\n",
       "      <th>Capacité de la station</th>\n",
       "      <th>Nombre bornettes libres</th>\n",
       "      <th>Nombre total vélos disponibles</th>\n",
       "      <th>Vélos mécaniques disponibles</th>\n",
       "      <th>Vélos électriques disponibles</th>\n",
       "      <th>Code INSEE communes équipées</th>\n",
       "    </tr>\n",
       "  </thead>\n",
       "  <tbody>\n",
       "    <tr>\n",
       "      <th>count</th>\n",
       "      <td>1466.000000</td>\n",
       "      <td>1466.000000</td>\n",
       "      <td>1466.000000</td>\n",
       "      <td>1466.000000</td>\n",
       "      <td>1466.000000</td>\n",
       "      <td>0.0</td>\n",
       "    </tr>\n",
       "    <tr>\n",
       "      <th>mean</th>\n",
       "      <td>31.075034</td>\n",
       "      <td>18.584584</td>\n",
       "      <td>11.650068</td>\n",
       "      <td>7.314461</td>\n",
       "      <td>4.335607</td>\n",
       "      <td>NaN</td>\n",
       "    </tr>\n",
       "    <tr>\n",
       "      <th>std</th>\n",
       "      <td>12.245881</td>\n",
       "      <td>13.241985</td>\n",
       "      <td>12.601519</td>\n",
       "      <td>9.538356</td>\n",
       "      <td>5.407925</td>\n",
       "      <td>NaN</td>\n",
       "    </tr>\n",
       "    <tr>\n",
       "      <th>min</th>\n",
       "      <td>0.000000</td>\n",
       "      <td>0.000000</td>\n",
       "      <td>0.000000</td>\n",
       "      <td>0.000000</td>\n",
       "      <td>0.000000</td>\n",
       "      <td>NaN</td>\n",
       "    </tr>\n",
       "    <tr>\n",
       "      <th>25%</th>\n",
       "      <td>23.000000</td>\n",
       "      <td>7.000000</td>\n",
       "      <td>2.000000</td>\n",
       "      <td>0.000000</td>\n",
       "      <td>1.000000</td>\n",
       "      <td>NaN</td>\n",
       "    </tr>\n",
       "    <tr>\n",
       "      <th>50%</th>\n",
       "      <td>29.000000</td>\n",
       "      <td>18.000000</td>\n",
       "      <td>7.000000</td>\n",
       "      <td>3.000000</td>\n",
       "      <td>2.000000</td>\n",
       "      <td>NaN</td>\n",
       "    </tr>\n",
       "    <tr>\n",
       "      <th>75%</th>\n",
       "      <td>37.000000</td>\n",
       "      <td>27.000000</td>\n",
       "      <td>18.000000</td>\n",
       "      <td>11.000000</td>\n",
       "      <td>6.000000</td>\n",
       "      <td>NaN</td>\n",
       "    </tr>\n",
       "    <tr>\n",
       "      <th>max</th>\n",
       "      <td>76.000000</td>\n",
       "      <td>62.000000</td>\n",
       "      <td>70.000000</td>\n",
       "      <td>59.000000</td>\n",
       "      <td>42.000000</td>\n",
       "      <td>NaN</td>\n",
       "    </tr>\n",
       "  </tbody>\n",
       "</table>\n",
       "</div>"
      ],
      "text/plain": [
       "       Capacité de la station  Nombre bornettes libres  \\\n",
       "count             1466.000000              1466.000000   \n",
       "mean                31.075034                18.584584   \n",
       "std                 12.245881                13.241985   \n",
       "min                  0.000000                 0.000000   \n",
       "25%                 23.000000                 7.000000   \n",
       "50%                 29.000000                18.000000   \n",
       "75%                 37.000000                27.000000   \n",
       "max                 76.000000                62.000000   \n",
       "\n",
       "       Nombre total vélos disponibles  Vélos mécaniques disponibles  \\\n",
       "count                     1466.000000                   1466.000000   \n",
       "mean                        11.650068                      7.314461   \n",
       "std                         12.601519                      9.538356   \n",
       "min                          0.000000                      0.000000   \n",
       "25%                          2.000000                      0.000000   \n",
       "50%                          7.000000                      3.000000   \n",
       "75%                         18.000000                     11.000000   \n",
       "max                         70.000000                     59.000000   \n",
       "\n",
       "       Vélos électriques disponibles  Code INSEE communes équipées  \n",
       "count                    1466.000000                           0.0  \n",
       "mean                        4.335607                           NaN  \n",
       "std                         5.407925                           NaN  \n",
       "min                         0.000000                           NaN  \n",
       "25%                         1.000000                           NaN  \n",
       "50%                         2.000000                           NaN  \n",
       "75%                         6.000000                           NaN  \n",
       "max                        42.000000                           NaN  "
      ]
     },
     "execution_count": 5,
     "metadata": {},
     "output_type": "execute_result"
    }
   ],
   "source": [
    "dataset.describe()"
   ]
  },
  {
   "cell_type": "markdown",
   "metadata": {},
   "source": [
    "### Data Cleaning"
   ]
  },
  {
   "cell_type": "code",
   "execution_count": 6,
   "metadata": {},
   "outputs": [
    {
     "data": {
      "text/plain": [
       "Identifiant station                  0\n",
       "Nom station                          0\n",
       "Station en fonctionnement            0\n",
       "Capacité de la station               0\n",
       "Nombre bornettes libres              0\n",
       "Nombre total vélos disponibles       0\n",
       "Vélos mécaniques disponibles         0\n",
       "Vélos électriques disponibles        0\n",
       "Borne de paiement disponible         0\n",
       "Retour vélib possible                0\n",
       "Actualisation de la donnée           0\n",
       "Coordonnées géographiques            0\n",
       "Nom communes équipées                0\n",
       "Code INSEE communes équipées      1466\n",
       "dtype: int64"
      ]
     },
     "execution_count": 6,
     "metadata": {},
     "output_type": "execute_result"
    }
   ],
   "source": [
    "null_values = dataset.isnull().sum()\n",
    "null_values"
   ]
  },
  {
   "cell_type": "code",
   "execution_count": 7,
   "metadata": {},
   "outputs": [
    {
     "data": {
      "text/html": [
       "<div>\n",
       "<style scoped>\n",
       "    .dataframe tbody tr th:only-of-type {\n",
       "        vertical-align: middle;\n",
       "    }\n",
       "\n",
       "    .dataframe tbody tr th {\n",
       "        vertical-align: top;\n",
       "    }\n",
       "\n",
       "    .dataframe thead th {\n",
       "        text-align: right;\n",
       "    }\n",
       "</style>\n",
       "<table border=\"1\" class=\"dataframe\">\n",
       "  <thead>\n",
       "    <tr style=\"text-align: right;\">\n",
       "      <th></th>\n",
       "      <th>Identifiant station</th>\n",
       "      <th>Nom station</th>\n",
       "      <th>Station en fonctionnement</th>\n",
       "      <th>Capacité de la station</th>\n",
       "      <th>Nombre bornettes libres</th>\n",
       "      <th>Nombre total vélos disponibles</th>\n",
       "      <th>Vélos mécaniques disponibles</th>\n",
       "      <th>Vélos électriques disponibles</th>\n",
       "      <th>Borne de paiement disponible</th>\n",
       "      <th>Retour vélib possible</th>\n",
       "      <th>Actualisation de la donnée</th>\n",
       "      <th>Coordonnées géographiques</th>\n",
       "      <th>Nom communes équipées</th>\n",
       "    </tr>\n",
       "  </thead>\n",
       "  <tbody>\n",
       "    <tr>\n",
       "      <th>0</th>\n",
       "      <td>16107</td>\n",
       "      <td>Benjamin Godard - Victor Hugo</td>\n",
       "      <td>OUI</td>\n",
       "      <td>35</td>\n",
       "      <td>32</td>\n",
       "      <td>2</td>\n",
       "      <td>0</td>\n",
       "      <td>2</td>\n",
       "      <td>OUI</td>\n",
       "      <td>OUI</td>\n",
       "      <td>2024-04-15T14:19:19+02:00</td>\n",
       "      <td>48.865983, 2.275725</td>\n",
       "      <td>Paris</td>\n",
       "    </tr>\n",
       "    <tr>\n",
       "      <th>1</th>\n",
       "      <td>31104</td>\n",
       "      <td>Mairie de Rosny-sous-Bois</td>\n",
       "      <td>OUI</td>\n",
       "      <td>30</td>\n",
       "      <td>4</td>\n",
       "      <td>25</td>\n",
       "      <td>3</td>\n",
       "      <td>22</td>\n",
       "      <td>OUI</td>\n",
       "      <td>OUI</td>\n",
       "      <td>2024-04-15T14:20:04+02:00</td>\n",
       "      <td>48.871256519012, 2.4865807592869</td>\n",
       "      <td>Rosny-sous-Bois</td>\n",
       "    </tr>\n",
       "    <tr>\n",
       "      <th>2</th>\n",
       "      <td>44015</td>\n",
       "      <td>Rouget de L'isle - Watteau</td>\n",
       "      <td>OUI</td>\n",
       "      <td>20</td>\n",
       "      <td>7</td>\n",
       "      <td>13</td>\n",
       "      <td>4</td>\n",
       "      <td>9</td>\n",
       "      <td>OUI</td>\n",
       "      <td>OUI</td>\n",
       "      <td>2024-04-15T14:21:17+02:00</td>\n",
       "      <td>48.778192750803, 2.3963020229163</td>\n",
       "      <td>Vitry-sur-Seine</td>\n",
       "    </tr>\n",
       "    <tr>\n",
       "      <th>3</th>\n",
       "      <td>14111</td>\n",
       "      <td>Cassini - Denfert-Rochereau</td>\n",
       "      <td>OUI</td>\n",
       "      <td>25</td>\n",
       "      <td>19</td>\n",
       "      <td>6</td>\n",
       "      <td>2</td>\n",
       "      <td>4</td>\n",
       "      <td>OUI</td>\n",
       "      <td>OUI</td>\n",
       "      <td>2024-04-15T14:12:41+02:00</td>\n",
       "      <td>48.837525839067, 2.3360354080796</td>\n",
       "      <td>Paris</td>\n",
       "    </tr>\n",
       "    <tr>\n",
       "      <th>4</th>\n",
       "      <td>9020</td>\n",
       "      <td>Toudouze - Clauzel</td>\n",
       "      <td>OUI</td>\n",
       "      <td>21</td>\n",
       "      <td>20</td>\n",
       "      <td>1</td>\n",
       "      <td>0</td>\n",
       "      <td>1</td>\n",
       "      <td>OUI</td>\n",
       "      <td>OUI</td>\n",
       "      <td>2024-04-15T14:19:20+02:00</td>\n",
       "      <td>48.87929591733507, 2.3373600840568547</td>\n",
       "      <td>Paris</td>\n",
       "    </tr>\n",
       "  </tbody>\n",
       "</table>\n",
       "</div>"
      ],
      "text/plain": [
       "  Identifiant station                    Nom station  \\\n",
       "0               16107  Benjamin Godard - Victor Hugo   \n",
       "1               31104      Mairie de Rosny-sous-Bois   \n",
       "2               44015     Rouget de L'isle - Watteau   \n",
       "3               14111    Cassini - Denfert-Rochereau   \n",
       "4                9020             Toudouze - Clauzel   \n",
       "\n",
       "  Station en fonctionnement  Capacité de la station  Nombre bornettes libres  \\\n",
       "0                       OUI                      35                       32   \n",
       "1                       OUI                      30                        4   \n",
       "2                       OUI                      20                        7   \n",
       "3                       OUI                      25                       19   \n",
       "4                       OUI                      21                       20   \n",
       "\n",
       "   Nombre total vélos disponibles  Vélos mécaniques disponibles  \\\n",
       "0                               2                             0   \n",
       "1                              25                             3   \n",
       "2                              13                             4   \n",
       "3                               6                             2   \n",
       "4                               1                             0   \n",
       "\n",
       "   Vélos électriques disponibles Borne de paiement disponible  \\\n",
       "0                              2                          OUI   \n",
       "1                             22                          OUI   \n",
       "2                              9                          OUI   \n",
       "3                              4                          OUI   \n",
       "4                              1                          OUI   \n",
       "\n",
       "  Retour vélib possible Actualisation de la donnée  \\\n",
       "0                   OUI  2024-04-15T14:19:19+02:00   \n",
       "1                   OUI  2024-04-15T14:20:04+02:00   \n",
       "2                   OUI  2024-04-15T14:21:17+02:00   \n",
       "3                   OUI  2024-04-15T14:12:41+02:00   \n",
       "4                   OUI  2024-04-15T14:19:20+02:00   \n",
       "\n",
       "               Coordonnées géographiques Nom communes équipées  \n",
       "0                    48.865983, 2.275725                 Paris  \n",
       "1       48.871256519012, 2.4865807592869       Rosny-sous-Bois  \n",
       "2       48.778192750803, 2.3963020229163       Vitry-sur-Seine  \n",
       "3       48.837525839067, 2.3360354080796                 Paris  \n",
       "4  48.87929591733507, 2.3373600840568547                 Paris  "
      ]
     },
     "execution_count": 7,
     "metadata": {},
     "output_type": "execute_result"
    }
   ],
   "source": [
    "dataset_clean = dataset.copy()\n",
    "\n",
    "dataset_clean.drop(columns=['Code INSEE communes équipées'], inplace=True)\n",
    "\n",
    "dataset_clean.head()"
   ]
  },
  {
   "cell_type": "markdown",
   "metadata": {},
   "source": [
    "### Column renaming"
   ]
  },
  {
   "cell_type": "code",
   "execution_count": 8,
   "metadata": {},
   "outputs": [
    {
     "data": {
      "text/plain": [
       "Index(['Station Identifier', 'Station Name',\n",
       "       'Operational Status of the Station', 'Station Capacity',\n",
       "       'Number of Available Docking Spaces', 'Total Number of Bikes Available',\n",
       "       'Number of Mechanical Bikes Available',\n",
       "       'Number of Electric Bikes Available',\n",
       "       'Availability of Payment Terminal',\n",
       "       'Possibility of Returning a Vélib Bike', 'Data Update Timestamp',\n",
       "       'Geographic Coordinates', 'Name of Equipped Municipality'],\n",
       "      dtype='object')"
      ]
     },
     "execution_count": 8,
     "metadata": {},
     "output_type": "execute_result"
    }
   ],
   "source": [
    "column_mapping = {\n",
    "    'Identifiant station': 'Station Identifier',\n",
    "    'Nom station': 'Station Name',\n",
    "    'Station en fonctionnement': 'Operational Status of the Station',\n",
    "    'Capacité de la station': 'Station Capacity',\n",
    "    'Nombre bornettes libres': 'Number of Available Docking Spaces',\n",
    "    'Nombre total vélos disponibles': 'Total Number of Bikes Available',\n",
    "    'Vélos mécaniques disponibles': 'Number of Mechanical Bikes Available',\n",
    "    'Vélos électriques disponibles': 'Number of Electric Bikes Available',\n",
    "    'Borne de paiement disponible': 'Availability of Payment Terminal',\n",
    "    'Retour vélib possible': 'Possibility of Returning a Vélib Bike',\n",
    "    'Actualisation de la donnée': 'Data Update Timestamp',\n",
    "    'Coordonnées géographiques': 'Geographic Coordinates',\n",
    "    'Nom communes équipées': 'Name of Equipped Municipality',\n",
    "}\n",
    "\n",
    "dataset_clean.rename(columns=column_mapping, inplace=True)\n",
    "\n",
    "dataset_clean.columns"
   ]
  },
  {
   "cell_type": "code",
   "execution_count": 9,
   "metadata": {},
   "outputs": [
    {
     "data": {
      "text/html": [
       "<div>\n",
       "<style scoped>\n",
       "    .dataframe tbody tr th:only-of-type {\n",
       "        vertical-align: middle;\n",
       "    }\n",
       "\n",
       "    .dataframe tbody tr th {\n",
       "        vertical-align: top;\n",
       "    }\n",
       "\n",
       "    .dataframe thead th {\n",
       "        text-align: right;\n",
       "    }\n",
       "</style>\n",
       "<table border=\"1\" class=\"dataframe\">\n",
       "  <thead>\n",
       "    <tr style=\"text-align: right;\">\n",
       "      <th></th>\n",
       "      <th>Station Identifier</th>\n",
       "      <th>Station Name</th>\n",
       "      <th>Operational Status of the Station</th>\n",
       "      <th>Station Capacity</th>\n",
       "      <th>Number of Available Docking Spaces</th>\n",
       "      <th>Total Number of Bikes Available</th>\n",
       "      <th>Number of Mechanical Bikes Available</th>\n",
       "      <th>Number of Electric Bikes Available</th>\n",
       "      <th>Availability of Payment Terminal</th>\n",
       "      <th>Possibility of Returning a Vélib Bike</th>\n",
       "      <th>Data Update Timestamp</th>\n",
       "      <th>Geographic Coordinates</th>\n",
       "      <th>Name of Equipped Municipality</th>\n",
       "    </tr>\n",
       "  </thead>\n",
       "  <tbody>\n",
       "    <tr>\n",
       "      <th>0</th>\n",
       "      <td>16107</td>\n",
       "      <td>Benjamin Godard - Victor Hugo</td>\n",
       "      <td>OUI</td>\n",
       "      <td>35</td>\n",
       "      <td>32</td>\n",
       "      <td>2</td>\n",
       "      <td>0</td>\n",
       "      <td>2</td>\n",
       "      <td>OUI</td>\n",
       "      <td>OUI</td>\n",
       "      <td>2024-04-15T14:19:19+02:00</td>\n",
       "      <td>48.865983, 2.275725</td>\n",
       "      <td>Paris</td>\n",
       "    </tr>\n",
       "    <tr>\n",
       "      <th>1</th>\n",
       "      <td>31104</td>\n",
       "      <td>Mairie de Rosny-sous-Bois</td>\n",
       "      <td>OUI</td>\n",
       "      <td>30</td>\n",
       "      <td>4</td>\n",
       "      <td>25</td>\n",
       "      <td>3</td>\n",
       "      <td>22</td>\n",
       "      <td>OUI</td>\n",
       "      <td>OUI</td>\n",
       "      <td>2024-04-15T14:20:04+02:00</td>\n",
       "      <td>48.871256519012, 2.4865807592869</td>\n",
       "      <td>Rosny-sous-Bois</td>\n",
       "    </tr>\n",
       "    <tr>\n",
       "      <th>2</th>\n",
       "      <td>44015</td>\n",
       "      <td>Rouget de L'isle - Watteau</td>\n",
       "      <td>OUI</td>\n",
       "      <td>20</td>\n",
       "      <td>7</td>\n",
       "      <td>13</td>\n",
       "      <td>4</td>\n",
       "      <td>9</td>\n",
       "      <td>OUI</td>\n",
       "      <td>OUI</td>\n",
       "      <td>2024-04-15T14:21:17+02:00</td>\n",
       "      <td>48.778192750803, 2.3963020229163</td>\n",
       "      <td>Vitry-sur-Seine</td>\n",
       "    </tr>\n",
       "    <tr>\n",
       "      <th>3</th>\n",
       "      <td>14111</td>\n",
       "      <td>Cassini - Denfert-Rochereau</td>\n",
       "      <td>OUI</td>\n",
       "      <td>25</td>\n",
       "      <td>19</td>\n",
       "      <td>6</td>\n",
       "      <td>2</td>\n",
       "      <td>4</td>\n",
       "      <td>OUI</td>\n",
       "      <td>OUI</td>\n",
       "      <td>2024-04-15T14:12:41+02:00</td>\n",
       "      <td>48.837525839067, 2.3360354080796</td>\n",
       "      <td>Paris</td>\n",
       "    </tr>\n",
       "    <tr>\n",
       "      <th>4</th>\n",
       "      <td>9020</td>\n",
       "      <td>Toudouze - Clauzel</td>\n",
       "      <td>OUI</td>\n",
       "      <td>21</td>\n",
       "      <td>20</td>\n",
       "      <td>1</td>\n",
       "      <td>0</td>\n",
       "      <td>1</td>\n",
       "      <td>OUI</td>\n",
       "      <td>OUI</td>\n",
       "      <td>2024-04-15T14:19:20+02:00</td>\n",
       "      <td>48.87929591733507, 2.3373600840568547</td>\n",
       "      <td>Paris</td>\n",
       "    </tr>\n",
       "  </tbody>\n",
       "</table>\n",
       "</div>"
      ],
      "text/plain": [
       "  Station Identifier                   Station Name  \\\n",
       "0              16107  Benjamin Godard - Victor Hugo   \n",
       "1              31104      Mairie de Rosny-sous-Bois   \n",
       "2              44015     Rouget de L'isle - Watteau   \n",
       "3              14111    Cassini - Denfert-Rochereau   \n",
       "4               9020             Toudouze - Clauzel   \n",
       "\n",
       "  Operational Status of the Station  Station Capacity  \\\n",
       "0                               OUI                35   \n",
       "1                               OUI                30   \n",
       "2                               OUI                20   \n",
       "3                               OUI                25   \n",
       "4                               OUI                21   \n",
       "\n",
       "   Number of Available Docking Spaces  Total Number of Bikes Available  \\\n",
       "0                                  32                                2   \n",
       "1                                   4                               25   \n",
       "2                                   7                               13   \n",
       "3                                  19                                6   \n",
       "4                                  20                                1   \n",
       "\n",
       "   Number of Mechanical Bikes Available  Number of Electric Bikes Available  \\\n",
       "0                                     0                                   2   \n",
       "1                                     3                                  22   \n",
       "2                                     4                                   9   \n",
       "3                                     2                                   4   \n",
       "4                                     0                                   1   \n",
       "\n",
       "  Availability of Payment Terminal Possibility of Returning a Vélib Bike  \\\n",
       "0                              OUI                                   OUI   \n",
       "1                              OUI                                   OUI   \n",
       "2                              OUI                                   OUI   \n",
       "3                              OUI                                   OUI   \n",
       "4                              OUI                                   OUI   \n",
       "\n",
       "       Data Update Timestamp                 Geographic Coordinates  \\\n",
       "0  2024-04-15T14:19:19+02:00                    48.865983, 2.275725   \n",
       "1  2024-04-15T14:20:04+02:00       48.871256519012, 2.4865807592869   \n",
       "2  2024-04-15T14:21:17+02:00       48.778192750803, 2.3963020229163   \n",
       "3  2024-04-15T14:12:41+02:00       48.837525839067, 2.3360354080796   \n",
       "4  2024-04-15T14:19:20+02:00  48.87929591733507, 2.3373600840568547   \n",
       "\n",
       "  Name of Equipped Municipality  \n",
       "0                         Paris  \n",
       "1               Rosny-sous-Bois  \n",
       "2               Vitry-sur-Seine  \n",
       "3                         Paris  \n",
       "4                         Paris  "
      ]
     },
     "execution_count": 9,
     "metadata": {},
     "output_type": "execute_result"
    }
   ],
   "source": [
    "dataset_clean.head()"
   ]
  },
  {
   "cell_type": "markdown",
   "metadata": {},
   "source": [
    "### Correlation matrix"
   ]
  },
  {
   "cell_type": "code",
   "execution_count": 10,
   "metadata": {},
   "outputs": [
    {
     "data": {
      "text/html": [
       "<div>\n",
       "<style scoped>\n",
       "    .dataframe tbody tr th:only-of-type {\n",
       "        vertical-align: middle;\n",
       "    }\n",
       "\n",
       "    .dataframe tbody tr th {\n",
       "        vertical-align: top;\n",
       "    }\n",
       "\n",
       "    .dataframe thead th {\n",
       "        text-align: right;\n",
       "    }\n",
       "</style>\n",
       "<table border=\"1\" class=\"dataframe\">\n",
       "  <thead>\n",
       "    <tr style=\"text-align: right;\">\n",
       "      <th></th>\n",
       "      <th>Station Capacity</th>\n",
       "      <th>Number of Available Docking Spaces</th>\n",
       "      <th>Total Number of Bikes Available</th>\n",
       "      <th>Number of Mechanical Bikes Available</th>\n",
       "      <th>Number of Electric Bikes Available</th>\n",
       "    </tr>\n",
       "  </thead>\n",
       "  <tbody>\n",
       "    <tr>\n",
       "      <th>Station Capacity</th>\n",
       "      <td>1.000000</td>\n",
       "      <td>0.519593</td>\n",
       "      <td>0.410443</td>\n",
       "      <td>0.398751</td>\n",
       "      <td>0.253105</td>\n",
       "    </tr>\n",
       "    <tr>\n",
       "      <th>Number of Available Docking Spaces</th>\n",
       "      <td>0.519593</td>\n",
       "      <td>1.000000</td>\n",
       "      <td>-0.547874</td>\n",
       "      <td>-0.488450</td>\n",
       "      <td>-0.415138</td>\n",
       "    </tr>\n",
       "    <tr>\n",
       "      <th>Total Number of Bikes Available</th>\n",
       "      <td>0.410443</td>\n",
       "      <td>-0.547874</td>\n",
       "      <td>1.000000</td>\n",
       "      <td>0.917375</td>\n",
       "      <td>0.712153</td>\n",
       "    </tr>\n",
       "    <tr>\n",
       "      <th>Number of Mechanical Bikes Available</th>\n",
       "      <td>0.398751</td>\n",
       "      <td>-0.488450</td>\n",
       "      <td>0.917375</td>\n",
       "      <td>1.000000</td>\n",
       "      <td>0.373889</td>\n",
       "    </tr>\n",
       "    <tr>\n",
       "      <th>Number of Electric Bikes Available</th>\n",
       "      <td>0.253105</td>\n",
       "      <td>-0.415138</td>\n",
       "      <td>0.712153</td>\n",
       "      <td>0.373889</td>\n",
       "      <td>1.000000</td>\n",
       "    </tr>\n",
       "  </tbody>\n",
       "</table>\n",
       "</div>"
      ],
      "text/plain": [
       "                                      Station Capacity  \\\n",
       "Station Capacity                              1.000000   \n",
       "Number of Available Docking Spaces            0.519593   \n",
       "Total Number of Bikes Available               0.410443   \n",
       "Number of Mechanical Bikes Available          0.398751   \n",
       "Number of Electric Bikes Available            0.253105   \n",
       "\n",
       "                                      Number of Available Docking Spaces  \\\n",
       "Station Capacity                                                0.519593   \n",
       "Number of Available Docking Spaces                              1.000000   \n",
       "Total Number of Bikes Available                                -0.547874   \n",
       "Number of Mechanical Bikes Available                           -0.488450   \n",
       "Number of Electric Bikes Available                             -0.415138   \n",
       "\n",
       "                                      Total Number of Bikes Available  \\\n",
       "Station Capacity                                             0.410443   \n",
       "Number of Available Docking Spaces                          -0.547874   \n",
       "Total Number of Bikes Available                              1.000000   \n",
       "Number of Mechanical Bikes Available                         0.917375   \n",
       "Number of Electric Bikes Available                           0.712153   \n",
       "\n",
       "                                      Number of Mechanical Bikes Available  \\\n",
       "Station Capacity                                                  0.398751   \n",
       "Number of Available Docking Spaces                               -0.488450   \n",
       "Total Number of Bikes Available                                   0.917375   \n",
       "Number of Mechanical Bikes Available                              1.000000   \n",
       "Number of Electric Bikes Available                                0.373889   \n",
       "\n",
       "                                      Number of Electric Bikes Available  \n",
       "Station Capacity                                                0.253105  \n",
       "Number of Available Docking Spaces                             -0.415138  \n",
       "Total Number of Bikes Available                                 0.712153  \n",
       "Number of Mechanical Bikes Available                            0.373889  \n",
       "Number of Electric Bikes Available                              1.000000  "
      ]
     },
     "execution_count": 10,
     "metadata": {},
     "output_type": "execute_result"
    }
   ],
   "source": [
    "numeric_dataset = dataset_clean.select_dtypes(include=['int64', 'float64'])\n",
    "\n",
    "correlation_matrix = numeric_dataset.corr()\n",
    "correlation_matrix\n"
   ]
  },
  {
   "cell_type": "code",
   "execution_count": 11,
   "metadata": {},
   "outputs": [
    {
     "data": {
      "image/png": "[encoded data removed]",
      "text/plain": [
       "<Figure size 1000x800 with 2 Axes>"
      ]
     },
     "metadata": {},
     "output_type": "display_data"
    }
   ],
   "source": [
    "plt.figure(figsize=(10, 8))\n",
    "sns.heatmap(correlation_matrix, annot=True, cmap='viridis', fmt=\".2f\", vmin=-1, vmax=1)\n",
    "plt.title('Correlation Heatmap')\n",
    "plt.show()\n"
   ]
  },
  {
   "cell_type": "markdown",
   "metadata": {},
   "source": [
    "#### Overall Distribution:\n",
    "1. What is the overall distribution of electric and mechanical bikes across all stations?\n",
    "2. Are there more electric bikes available than mechanical bikes, or vice versa?"
   ]
  },
  {
   "cell_type": "code",
   "execution_count": 12,
   "metadata": {},
   "outputs": [
    {
     "name": "stdout",
     "output_type": "stream",
     "text": [
      "Overall Distribution:\n",
      "Total Electric Bikes: 6356\n",
      "Total Mechanical Bikes: 10723\n"
     ]
    }
   ],
   "source": [
    "total_electric_bikes = dataset_clean['Number of Electric Bikes Available'].sum()\n",
    "total_mechanical_bikes = dataset_clean['Number of Mechanical Bikes Available'].sum()\n",
    "\n",
    "print(\"Overall Distribution:\")\n",
    "print(f\"Total Electric Bikes: {total_electric_bikes}\")\n",
    "print(f\"Total Mechanical Bikes: {total_mechanical_bikes}\")\n"
   ]
  },
  {
   "cell_type": "markdown",
   "metadata": {},
   "source": [
    "**Station-wise Comparison:**\n",
    "1. How does the availability of electric bikes compare to mechanical bikes at each individual station?\n",
    "2. Which stations have more electric bikes, and which ones have more mechanical bikes?"
   ]
  },
  {
   "cell_type": "code",
   "execution_count": 13,
   "metadata": {},
   "outputs": [
    {
     "name": "stdout",
     "output_type": "stream",
     "text": [
      "\n",
      "Station-wise Comparison:\n",
      "                                      Number of Electric Bikes Available  \\\n",
      "Station Name                                                               \n",
      "11 Novembre 1918 - 8 Mai 1945                                         19   \n",
      "18 juin 1940 - Buzenval                                                3   \n",
      "8 Mai 1945 - 10 Juillet 1940                                           0   \n",
      "Abbeville - Faubourg Poissonnière                                      1   \n",
      "Abbé Carton - Plantes                                                  0   \n",
      "...                                                                  ...   \n",
      "Youri Gagarine - Commune de Paris                                      2   \n",
      "Youri Gagarine - Karl Marx                                             2   \n",
      "Yves Farges - Route d'Enghein                                          0   \n",
      "Édouard Vaillant - Place Jean Jaurès                                   0   \n",
      "Île de la Jatte                                                        7   \n",
      "\n",
      "                                      Number of Mechanical Bikes Available  \n",
      "Station Name                                                                \n",
      "11 Novembre 1918 - 8 Mai 1945                                            2  \n",
      "18 juin 1940 - Buzenval                                                  6  \n",
      "8 Mai 1945 - 10 Juillet 1940                                             0  \n",
      "Abbeville - Faubourg Poissonnière                                        0  \n",
      "Abbé Carton - Plantes                                                    0  \n",
      "...                                                                    ...  \n",
      "Youri Gagarine - Commune de Paris                                        7  \n",
      "Youri Gagarine - Karl Marx                                               1  \n",
      "Yves Farges - Route d'Enghein                                            0  \n",
      "Édouard Vaillant - Place Jean Jaurès                                     0  \n",
      "Île de la Jatte                                                          2  \n",
      "\n",
      "[1463 rows x 2 columns]\n"
     ]
    }
   ],
   "source": [
    "station_wise_comparison = dataset_clean.groupby('Station Name')[['Number of Electric Bikes Available', 'Number of Mechanical Bikes Available']].sum()\n",
    "print(\"\\nStation-wise Comparison:\")\n",
    "print(station_wise_comparison)\n"
   ]
  },
  {
   "cell_type": "markdown",
   "metadata": {},
   "source": [
    "**Trends Over Time:**\n",
    "1. Has the availability of electric and mechanical bikes changed over time?\n",
    "2. Are there any noticeable trends or patterns in the availability of these bikes at different stations?"
   ]
  },
  {
   "cell_type": "code",
   "execution_count": 14,
   "metadata": {},
   "outputs": [
    {
     "name": "stdout",
     "output_type": "stream",
     "text": [
      "\n",
      "Trends Over Time:\n",
      "                           Number of Electric Bikes Available  \\\n",
      "Data Update Timestamp                                           \n",
      "2018-05-21T07:30:29+02:00                                   0   \n",
      "2018-09-21T06:21:45+02:00                                   0   \n",
      "2018-12-21T15:18:50+01:00                                   0   \n",
      "2018-12-21T15:48:55+01:00                                   0   \n",
      "2021-02-21T20:09:18+01:00                                   0   \n",
      "...                                                       ...   \n",
      "2024-04-15T14:21:18+02:00                                  46   \n",
      "2024-04-15T14:21:19+02:00                                  79   \n",
      "2024-04-15T14:21:20+02:00                                 105   \n",
      "2024-04-15T14:21:21+02:00                                  48   \n",
      "2024-04-15T14:21:22+02:00                                  56   \n",
      "\n",
      "                           Number of Mechanical Bikes Available  \n",
      "Data Update Timestamp                                            \n",
      "2018-05-21T07:30:29+02:00                                     0  \n",
      "2018-09-21T06:21:45+02:00                                     0  \n",
      "2018-12-21T15:18:50+01:00                                     0  \n",
      "2018-12-21T15:48:55+01:00                                     0  \n",
      "2021-02-21T20:09:18+01:00                                     0  \n",
      "...                                                         ...  \n",
      "2024-04-15T14:21:18+02:00                                   129  \n",
      "2024-04-15T14:21:19+02:00                                   185  \n",
      "2024-04-15T14:21:20+02:00                                   234  \n",
      "2024-04-15T14:21:21+02:00                                   151  \n",
      "2024-04-15T14:21:22+02:00                                    78  \n",
      "\n",
      "[443 rows x 2 columns]\n"
     ]
    }
   ],
   "source": [
    "trends_over_time = dataset_clean.groupby('Data Update Timestamp')[['Number of Electric Bikes Available', 'Number of Mechanical Bikes Available']].sum()\n",
    "print(\"\\nTrends Over Time:\")\n",
    "print(trends_over_time)"
   ]
  },
  {
   "cell_type": "code",
   "execution_count": 15,
   "metadata": {},
   "outputs": [
    {
     "name": "stdout",
     "output_type": "stream",
     "text": [
      "Index(['Number of Electric Bikes Available', 'Number of Mechanical Bikes Available'], dtype='object')\n"
     ]
    }
   ],
   "source": [
    "print(trends_over_time.columns)"
   ]
  },
  {
   "cell_type": "code",
   "execution_count": 16,
   "metadata": {},
   "outputs": [
    {
     "name": "stdout",
     "output_type": "stream",
     "text": [
      "   Number of Electric Bikes Available  Number of Mechanical Bikes Available\n",
      "0                                   0                                     0\n",
      "1                                   0                                     0\n",
      "2                                   0                                     0\n",
      "3                                   0                                     0\n",
      "4                                   0                                     0\n"
     ]
    }
   ],
   "source": [
    "# Reset index to convert the index ('Data Update Timestamp') into a regular column\n",
    "trends_over_time.reset_index(drop=True, inplace=True)\n",
    "\n",
    "# Now 'Data Update Timestamp' is a regular column in the DataFrame\n",
    "print(trends_over_time.head())\n"
   ]
  },
  {
   "cell_type": "code",
   "execution_count": 17,
   "metadata": {},
   "outputs": [
    {
     "data": {
      "application/vnd.plotly.v1+json": {
       "config": {
        "plotlyServerURL": "https://plot.ly"
       },
       "data": [
        {
         "hovertemplate": "variable=Number of Electric Bikes Available<br>Date=%{x}<br>Number of Bikes Available=%{y}<extra></extra>",
         "legendgroup": "Number of Electric Bikes Available",
         "line": {
          "color": "#16E2F5",
          "dash": "solid"
         },
         "marker": {
          "symbol": "circle"
         },
         "mode": "lines",
         "name": "Number of Electric Bikes Available",
         "orientation": "v",
         "showlegend": true,
         "type": "scatter",
         "x": [
          0,
          1,
          2,
          3,
          4,
          5,
          6,
          7,
          8,
          9,
          10,
          11,
          12,
          13,
          14,
          15,
          16,
          17,
          18,
          19,
          20,
          21,
          22,
          23,
          24,
          25,
          26,
          27,
          28,
          29,
          30,
          31,
          32,
          33,
          34,
          35,
          36,
          37,
          38,
          39,
          40,
          41,
          42,
          43,
          44,
          45,
          46,
          47,
          48,
          49,
          50,
          51,
          52,
          53,
          54,
          55,
          56,
          57,
          58,
          59,
          60,
          61,
          62,
          63,
          64,
          65,
          66,
          67,
          68,
          69,
          70,
          71,
          72,
          73,
          74,
          75,
          76,
          77,
          78,
          79,
          80,
          81,
          82,
          83,
          84,
          85,
          86,
          87,
          88,
          89,
          90,
          91,
          92,
          93,
          94,
          95,
          96,
          97,
          98,
          99,
          100,
          101,
          102,
          103,
          104,
          105,
          106,
          107,
          108,
          109,
          110,
          111,
          112,
          113,
          114,
          115,
          116,
          117,
          118,
          119,
          120,
          121,
          122,
          123,
          124,
          125,
          126,
          127,
          128,
          129,
          130,
          131,
          132,
          133,
          134,
          135,
          136,
          137,
          138,
          139,
          140,
          141,
          142,
          143,
          144,
          145,
          146,
          147,
          148,
          149,
          150,
          151,
          152,
          153,
          154,
          155,
          156,
          157,
          158,
          159,
          160,
          161,
          162,
          163,
          164,
          165,
          166,
          167,
          168,
          169,
          170,
          171,
          172,
          173,
          174,
          175,
          176,
          177,
          178,
          179,
          180,
          181,
          182,
          183,
          184,
          185,
          186,
          187,
          188,
          189,
          190,
          191,
          192,
          193,
          194,
          195,
          196,
          197,
          198,
          199,
          200,
          201,
          202,
          203,
          204,
          205,
          206,
          207,
          208,
          209,
          210,
          211,
          212,
          213,
          214,
          215,
          216,
          217,
          218,
          219,
          220,
          221,
          222,
          223,
          224,
          225,
          226,
          227,
          228,
          229,
          230,
          231,
          232,
          233,
          234,
          235,
          236,
          237,
          238,
          239,
          240,
          241,
          242,
          243,
          244,
          245,
          246,
          247,
          248,
          249,
          250,
          251,
          252,
          253,
          254,
          255,
          256,
          257,
          258,
          259,
          260,
          261,
          262,
          263,
          264,
          265,
          266,
          267,
          268,
          269,
          270,
          271,
          272,
          273,
          274,
          275,
          276,
          277,
          278,
          279,
          280,
          281,
          282,
          283,
          284,
          285,
          286,
          287,
          288,
          289,
          290,
          291,
          292,
          293,
          294,
          295,
          296,
          297,
          298,
          299,
          300,
          301,
          302,
          303,
          304,
          305,
          306,
          307,
          308,
          309,
          310,
          311,
          312,
          313,
          314,
          315,
          316,
          317,
          318,
          319,
          320,
          321,
          322,
          323,
          324,
          325,
          326,
          327,
          328,
          329,
          330,
          331,
          332,
          333,
          334,
          335,
          336,
          337,
          338,
          339,
          340,
          341,
          342,
          343,
          344,
          345,
          346,
          347,
          348,
          349,
          350,
          351,
          352,
          353,
          354,
          355,
          356,
          357,
          358,
          359,
          360,
          361,
          362,
          363,
          364,
          365,
          366,
          367,
          368,
          369,
          370,
          371,
          372,
          373,
          374,
          375,
          376,
          377,
          378,
          379,
          380,
          381,
          382,
          383,
          384,
          385,
          386,
          387,
          388,
          389,
          390,
          391,
          392,
          393,
          394,
          395,
          396,
          397,
          398,
          399,
          400,
          401,
          402,
          403,
          404,
          405,
          406,
          407,
          408,
          409,
          410,
          411,
          412,
          413,
          414,
          415,
          416,
          417,
          418,
          419,
          420,
          421,
          422,
          423,
          424,
          425,
          426,
          427,
          428,
          429,
          430,
          431,
          432,
          433,
          434,
          435,
          436,
          437,
          438,
          439,
          440,
          441,
          442
         ],
         "xaxis": "x",
         "y": [
          0,
          0,
          0,
          0,
          0,
          0,
          0,
          0,
          0,
          0,
          0,
          0,
          0,
          0,
          0,
          0,
          0,
          0,
          0,
          0,
          0,
          0,
          0,
          0,
          0,
          0,
          0,
          0,
          0,
          0,
          0,
          0,
          0,
          0,
          0,
          0,
          0,
          3,
          3,
          1,
          5,
          4,
          1,
          2,
          1,
          2,
          3,
          2,
          0,
          0,
          3,
          0,
          7,
          3,
          0,
          1,
          7,
          0,
          10,
          4,
          6,
          11,
          0,
          1,
          4,
          5,
          0,
          2,
          1,
          0,
          0,
          3,
          1,
          0,
          0,
          0,
          1,
          0,
          1,
          1,
          4,
          0,
          0,
          2,
          1,
          3,
          3,
          2,
          0,
          1,
          13,
          1,
          0,
          3,
          5,
          1,
          7,
          5,
          6,
          2,
          0,
          10,
          3,
          1,
          0,
          0,
          2,
          3,
          1,
          3,
          2,
          3,
          15,
          1,
          8,
          12,
          0,
          3,
          1,
          2,
          3,
          18,
          2,
          1,
          2,
          7,
          0,
          3,
          4,
          4,
          2,
          5,
          8,
          3,
          2,
          0,
          6,
          4,
          3,
          1,
          7,
          0,
          1,
          6,
          8,
          0,
          24,
          2,
          8,
          1,
          3,
          6,
          0,
          13,
          19,
          0,
          9,
          19,
          0,
          4,
          6,
          0,
          4,
          18,
          4,
          1,
          3,
          5,
          1,
          6,
          2,
          1,
          5,
          4,
          2,
          4,
          0,
          8,
          3,
          21,
          0,
          1,
          3,
          3,
          1,
          0,
          3,
          11,
          1,
          0,
          24,
          12,
          2,
          11,
          4,
          4,
          3,
          5,
          2,
          20,
          8,
          10,
          0,
          2,
          6,
          1,
          4,
          3,
          6,
          7,
          3,
          1,
          10,
          1,
          6,
          4,
          2,
          2,
          8,
          2,
          2,
          8,
          7,
          16,
          16,
          7,
          25,
          10,
          10,
          6,
          35,
          2,
          7,
          6,
          16,
          4,
          13,
          4,
          13,
          3,
          0,
          5,
          4,
          14,
          4,
          1,
          2,
          10,
          0,
          7,
          12,
          5,
          10,
          8,
          1,
          2,
          7,
          20,
          0,
          21,
          10,
          11,
          21,
          2,
          4,
          28,
          5,
          4,
          22,
          24,
          1,
          0,
          33,
          5,
          8,
          9,
          17,
          10,
          6,
          5,
          15,
          14,
          8,
          31,
          9,
          9,
          1,
          10,
          11,
          15,
          3,
          13,
          14,
          18,
          33,
          2,
          12,
          5,
          7,
          0,
          19,
          7,
          8,
          15,
          13,
          28,
          16,
          22,
          23,
          24,
          4,
          6,
          9,
          11,
          7,
          20,
          34,
          44,
          20,
          25,
          1,
          15,
          3,
          7,
          11,
          41,
          1,
          20,
          10,
          58,
          26,
          6,
          27,
          12,
          20,
          25,
          14,
          16,
          6,
          21,
          43,
          21,
          23,
          46,
          14,
          45,
          65,
          26,
          24,
          29,
          9,
          40,
          41,
          34,
          44,
          18,
          25,
          16,
          2,
          18,
          31,
          55,
          26,
          25,
          49,
          63,
          33,
          3,
          4,
          28,
          28,
          22,
          23,
          16,
          29,
          46,
          14,
          37,
          28,
          39,
          46,
          64,
          32,
          52,
          38,
          28,
          27,
          54,
          47,
          30,
          58,
          77,
          31,
          28,
          15,
          4,
          48,
          9,
          48,
          16,
          23,
          23,
          10,
          10,
          38,
          41,
          52,
          47,
          30,
          68,
          32,
          27,
          21,
          30,
          56,
          99,
          21,
          22,
          53,
          23,
          18,
          28,
          16,
          27,
          55,
          57,
          95,
          68,
          37,
          107,
          22,
          152,
          59,
          65,
          86,
          57,
          59,
          131,
          46,
          79,
          105,
          48,
          56
         ],
         "yaxis": "y"
        },
        {
         "hovertemplate": "variable=Number of Mechanical Bikes Available<br>Date=%{x}<br>Number of Bikes Available=%{y}<extra></extra>",
         "legendgroup": "Number of Mechanical Bikes Available",
         "line": {
          "color": "#50C878",
          "dash": "solid"
         },
         "marker": {
          "symbol": "circle"
         },
         "mode": "lines",
         "name": "Number of Mechanical Bikes Available",
         "orientation": "v",
         "showlegend": true,
         "type": "scatter",
         "x": [
          0,
          1,
          2,
          3,
          4,
          5,
          6,
          7,
          8,
          9,
          10,
          11,
          12,
          13,
          14,
          15,
          16,
          17,
          18,
          19,
          20,
          21,
          22,
          23,
          24,
          25,
          26,
          27,
          28,
          29,
          30,
          31,
          32,
          33,
          34,
          35,
          36,
          37,
          38,
          39,
          40,
          41,
          42,
          43,
          44,
          45,
          46,
          47,
          48,
          49,
          50,
          51,
          52,
          53,
          54,
          55,
          56,
          57,
          58,
          59,
          60,
          61,
          62,
          63,
          64,
          65,
          66,
          67,
          68,
          69,
          70,
          71,
          72,
          73,
          74,
          75,
          76,
          77,
          78,
          79,
          80,
          81,
          82,
          83,
          84,
          85,
          86,
          87,
          88,
          89,
          90,
          91,
          92,
          93,
          94,
          95,
          96,
          97,
          98,
          99,
          100,
          101,
          102,
          103,
          104,
          105,
          106,
          107,
          108,
          109,
          110,
          111,
          112,
          113,
          114,
          115,
          116,
          117,
          118,
          119,
          120,
          121,
          122,
          123,
          124,
          125,
          126,
          127,
          128,
          129,
          130,
          131,
          132,
          133,
          134,
          135,
          136,
          137,
          138,
          139,
          140,
          141,
          142,
          143,
          144,
          145,
          146,
          147,
          148,
          149,
          150,
          151,
          152,
          153,
          154,
          155,
          156,
          157,
          158,
          159,
          160,
          161,
          162,
          163,
          164,
          165,
          166,
          167,
          168,
          169,
          170,
          171,
          172,
          173,
          174,
          175,
          176,
          177,
          178,
          179,
          180,
          181,
          182,
          183,
          184,
          185,
          186,
          187,
          188,
          189,
          190,
          191,
          192,
          193,
          194,
          195,
          196,
          197,
          198,
          199,
          200,
          201,
          202,
          203,
          204,
          205,
          206,
          207,
          208,
          209,
          210,
          211,
          212,
          213,
          214,
          215,
          216,
          217,
          218,
          219,
          220,
          221,
          222,
          223,
          224,
          225,
          226,
          227,
          228,
          229,
          230,
          231,
          232,
          233,
          234,
          235,
          236,
          237,
          238,
          239,
          240,
          241,
          242,
          243,
          244,
          245,
          246,
          247,
          248,
          249,
          250,
          251,
          252,
          253,
          254,
          255,
          256,
          257,
          258,
          259,
          260,
          261,
          262,
          263,
          264,
          265,
          266,
          267,
          268,
          269,
          270,
          271,
          272,
          273,
          274,
          275,
          276,
          277,
          278,
          279,
          280,
          281,
          282,
          283,
          284,
          285,
          286,
          287,
          288,
          289,
          290,
          291,
          292,
          293,
          294,
          295,
          296,
          297,
          298,
          299,
          300,
          301,
          302,
          303,
          304,
          305,
          306,
          307,
          308,
          309,
          310,
          311,
          312,
          313,
          314,
          315,
          316,
          317,
          318,
          319,
          320,
          321,
          322,
          323,
          324,
          325,
          326,
          327,
          328,
          329,
          330,
          331,
          332,
          333,
          334,
          335,
          336,
          337,
          338,
          339,
          340,
          341,
          342,
          343,
          344,
          345,
          346,
          347,
          348,
          349,
          350,
          351,
          352,
          353,
          354,
          355,
          356,
          357,
          358,
          359,
          360,
          361,
          362,
          363,
          364,
          365,
          366,
          367,
          368,
          369,
          370,
          371,
          372,
          373,
          374,
          375,
          376,
          377,
          378,
          379,
          380,
          381,
          382,
          383,
          384,
          385,
          386,
          387,
          388,
          389,
          390,
          391,
          392,
          393,
          394,
          395,
          396,
          397,
          398,
          399,
          400,
          401,
          402,
          403,
          404,
          405,
          406,
          407,
          408,
          409,
          410,
          411,
          412,
          413,
          414,
          415,
          416,
          417,
          418,
          419,
          420,
          421,
          422,
          423,
          424,
          425,
          426,
          427,
          428,
          429,
          430,
          431,
          432,
          433,
          434,
          435,
          436,
          437,
          438,
          439,
          440,
          441,
          442
         ],
         "xaxis": "x",
         "y": [
          0,
          0,
          0,
          0,
          0,
          0,
          0,
          0,
          0,
          0,
          0,
          2,
          0,
          0,
          0,
          0,
          0,
          0,
          0,
          0,
          0,
          0,
          0,
          0,
          0,
          0,
          0,
          0,
          0,
          0,
          0,
          0,
          0,
          0,
          0,
          0,
          0,
          5,
          5,
          1,
          2,
          1,
          0,
          5,
          1,
          0,
          4,
          0,
          0,
          0,
          15,
          0,
          2,
          5,
          0,
          6,
          3,
          1,
          1,
          2,
          7,
          6,
          0,
          0,
          1,
          1,
          2,
          0,
          2,
          10,
          0,
          1,
          1,
          1,
          5,
          0,
          1,
          0,
          2,
          0,
          0,
          0,
          0,
          3,
          1,
          19,
          2,
          2,
          0,
          2,
          9,
          0,
          3,
          0,
          9,
          0,
          4,
          1,
          5,
          3,
          1,
          5,
          5,
          1,
          0,
          0,
          0,
          2,
          6,
          0,
          0,
          2,
          3,
          0,
          10,
          4,
          5,
          8,
          0,
          1,
          8,
          13,
          6,
          22,
          2,
          1,
          3,
          12,
          18,
          15,
          0,
          0,
          1,
          0,
          2,
          2,
          4,
          8,
          5,
          0,
          12,
          0,
          0,
          6,
          0,
          1,
          21,
          3,
          12,
          0,
          7,
          9,
          0,
          7,
          30,
          9,
          4,
          33,
          0,
          9,
          9,
          4,
          1,
          8,
          9,
          2,
          9,
          5,
          12,
          14,
          3,
          0,
          1,
          10,
          1,
          6,
          1,
          4,
          7,
          15,
          0,
          8,
          1,
          22,
          0,
          0,
          1,
          18,
          1,
          1,
          36,
          5,
          9,
          31,
          1,
          26,
          0,
          25,
          8,
          13,
          6,
          6,
          0,
          0,
          9,
          2,
          13,
          3,
          5,
          3,
          10,
          0,
          13,
          5,
          11,
          4,
          2,
          4,
          20,
          1,
          4,
          29,
          21,
          0,
          19,
          4,
          68,
          9,
          43,
          17,
          43,
          1,
          45,
          16,
          12,
          32,
          7,
          7,
          27,
          0,
          0,
          20,
          15,
          28,
          28,
          1,
          9,
          10,
          0,
          6,
          5,
          2,
          13,
          53,
          4,
          1,
          12,
          17,
          0,
          31,
          25,
          19,
          11,
          15,
          1,
          57,
          11,
          5,
          27,
          56,
          4,
          1,
          9,
          14,
          88,
          24,
          36,
          28,
          5,
          7,
          10,
          20,
          1,
          56,
          3,
          11,
          25,
          38,
          3,
          26,
          2,
          13,
          15,
          31,
          34,
          4,
          4,
          5,
          22,
          12,
          6,
          14,
          20,
          29,
          13,
          60,
          38,
          64,
          35,
          99,
          5,
          9,
          56,
          15,
          30,
          6,
          15,
          60,
          22,
          109,
          0,
          23,
          2,
          21,
          4,
          25,
          17,
          5,
          22,
          54,
          55,
          28,
          49,
          7,
          15,
          6,
          40,
          36,
          6,
          45,
          45,
          28,
          19,
          43,
          38,
          66,
          91,
          32,
          33,
          43,
          17,
          90,
          21,
          30,
          53,
          42,
          75,
          51,
          10,
          27,
          31,
          43,
          70,
          68,
          38,
          103,
          36,
          0,
          0,
          31,
          14,
          101,
          75,
          21,
          19,
          146,
          40,
          93,
          75,
          55,
          41,
          70,
          69,
          99,
          103,
          31,
          51,
          132,
          84,
          47,
          92,
          91,
          66,
          33,
          6,
          10,
          43,
          27,
          183,
          22,
          38,
          28,
          38,
          39,
          75,
          23,
          161,
          75,
          47,
          53,
          95,
          133,
          72,
          47,
          101,
          170,
          48,
          44,
          63,
          30,
          67,
          19,
          74,
          63,
          46,
          163,
          119,
          51,
          101,
          175,
          104,
          305,
          63,
          113,
          57,
          92,
          51,
          142,
          129,
          185,
          234,
          151,
          78
         ],
         "yaxis": "y"
        }
       ],
       "layout": {
        "height": 600,
        "legend": {
         "title": {
          "text": "variable"
         },
         "tracegroupgap": 0
        },
        "template": {
         "data": {
          "bar": [
           {
            "error_x": {
             "color": "#2a3f5f"
            },
            "error_y": {
             "color": "#2a3f5f"
            },
            "marker": {
             "line": {
              "color": "#E5ECF6",
              "width": 0.5
             },
             "pattern": {
              "fillmode": "overlay",
              "size": 10,
              "solidity": 0.2
             }
            },
            "type": "bar"
           }
          ],
          "barpolar": [
           {
            "marker": {
             "line": {
              "color": "#E5ECF6",
              "width": 0.5
             },
             "pattern": {
              "fillmode": "overlay",
              "size": 10,
              "solidity": 0.2
             }
            },
            "type": "barpolar"
           }
          ],
          "carpet": [
           {
            "aaxis": {
             "endlinecolor": "#2a3f5f",
             "gridcolor": "white",
             "linecolor": "white",
             "minorgridcolor": "white",
             "startlinecolor": "#2a3f5f"
            },
            "baxis": {
             "endlinecolor": "#2a3f5f",
             "gridcolor": "white",
             "linecolor": "white",
             "minorgridcolor": "white",
             "startlinecolor": "#2a3f5f"
            },
            "type": "carpet"
           }
          ],
          "choropleth": [
           {
            "colorbar": {
             "outlinewidth": 0,
             "ticks": ""
            },
            "type": "choropleth"
           }
          ],
          "contour": [
           {
            "colorbar": {
             "outlinewidth": 0,
             "ticks": ""
            },
            "colorscale": [
             [
              0,
              "#0d0887"
             ],
             [
              0.1111111111111111,
              "#46039f"
             ],
             [
              0.2222222222222222,
              "#7201a8"
             ],
             [
              0.3333333333333333,
              "#9c179e"
             ],
             [
              0.4444444444444444,
              "#bd3786"
             ],
             [
              0.5555555555555556,
              "#d8576b"
             ],
             [
              0.6666666666666666,
              "#ed7953"
             ],
             [
              0.7777777777777778,
              "#fb9f3a"
             ],
             [
              0.8888888888888888,
              "#fdca26"
             ],
             [
              1,
              "#f0f921"
             ]
            ],
            "type": "contour"
           }
          ],
          "contourcarpet": [
           {
            "colorbar": {
             "outlinewidth": 0,
             "ticks": ""
            },
            "type": "contourcarpet"
           }
          ],
          "heatmap": [
           {
            "colorbar": {
             "outlinewidth": 0,
             "ticks": ""
            },
            "colorscale": [
             [
              0,
              "#0d0887"
             ],
             [
              0.1111111111111111,
              "#46039f"
             ],
             [
              0.2222222222222222,
              "#7201a8"
             ],
             [
              0.3333333333333333,
              "#9c179e"
             ],
             [
              0.4444444444444444,
              "#bd3786"
             ],
             [
              0.5555555555555556,
              "#d8576b"
             ],
             [
              0.6666666666666666,
              "#ed7953"
             ],
             [
              0.7777777777777778,
              "#fb9f3a"
             ],
             [
              0.8888888888888888,
              "#fdca26"
             ],
             [
              1,
              "#f0f921"
             ]
            ],
            "type": "heatmap"
           }
          ],
          "heatmapgl": [
           {
            "colorbar": {
             "outlinewidth": 0,
             "ticks": ""
            },
            "colorscale": [
             [
              0,
              "#0d0887"
             ],
             [
              0.1111111111111111,
              "#46039f"
             ],
             [
              0.2222222222222222,
              "#7201a8"
             ],
             [
              0.3333333333333333,
              "#9c179e"
             ],
             [
              0.4444444444444444,
              "#bd3786"
             ],
             [
              0.5555555555555556,
              "#d8576b"
             ],
             [
              0.6666666666666666,
              "#ed7953"
             ],
             [
              0.7777777777777778,
              "#fb9f3a"
             ],
             [
              0.8888888888888888,
              "#fdca26"
             ],
             [
              1,
              "#f0f921"
             ]
            ],
            "type": "heatmapgl"
           }
          ],
          "histogram": [
           {
            "marker": {
             "pattern": {
              "fillmode": "overlay",
              "size": 10,
              "solidity": 0.2
             }
            },
            "type": "histogram"
           }
          ],
          "histogram2d": [
           {
            "colorbar": {
             "outlinewidth": 0,
             "ticks": ""
            },
            "colorscale": [
             [
              0,
              "#0d0887"
             ],
             [
              0.1111111111111111,
              "#46039f"
             ],
             [
              0.2222222222222222,
              "#7201a8"
             ],
             [
              0.3333333333333333,
              "#9c179e"
             ],
             [
              0.4444444444444444,
              "#bd3786"
             ],
             [
              0.5555555555555556,
              "#d8576b"
             ],
             [
              0.6666666666666666,
              "#ed7953"
             ],
             [
              0.7777777777777778,
              "#fb9f3a"
             ],
             [
              0.8888888888888888,
              "#fdca26"
             ],
             [
              1,
              "#f0f921"
             ]
            ],
            "type": "histogram2d"
           }
          ],
          "histogram2dcontour": [
           {
            "colorbar": {
             "outlinewidth": 0,
             "ticks": ""
            },
            "colorscale": [
             [
              0,
              "#0d0887"
             ],
             [
              0.1111111111111111,
              "#46039f"
             ],
             [
              0.2222222222222222,
              "#7201a8"
             ],
             [
              0.3333333333333333,
              "#9c179e"
             ],
             [
              0.4444444444444444,
              "#bd3786"
             ],
             [
              0.5555555555555556,
              "#d8576b"
             ],
             [
              0.6666666666666666,
              "#ed7953"
             ],
             [
              0.7777777777777778,
              "#fb9f3a"
             ],
             [
              0.8888888888888888,
              "#fdca26"
             ],
             [
              1,
              "#f0f921"
             ]
            ],
            "type": "histogram2dcontour"
           }
          ],
          "mesh3d": [
           {
            "colorbar": {
             "outlinewidth": 0,
             "ticks": ""
            },
            "type": "mesh3d"
           }
          ],
          "parcoords": [
           {
            "line": {
             "colorbar": {
              "outlinewidth": 0,
              "ticks": ""
             }
            },
            "type": "parcoords"
           }
          ],
          "pie": [
           {
            "automargin": true,
            "type": "pie"
           }
          ],
          "scatter": [
           {
            "fillpattern": {
             "fillmode": "overlay",
             "size": 10,
             "solidity": 0.2
            },
            "type": "scatter"
           }
          ],
          "scatter3d": [
           {
            "line": {
             "colorbar": {
              "outlinewidth": 0,
              "ticks": ""
             }
            },
            "marker": {
             "colorbar": {
              "outlinewidth": 0,
              "ticks": ""
             }
            },
            "type": "scatter3d"
           }
          ],
          "scattercarpet": [
           {
            "marker": {
             "colorbar": {
              "outlinewidth": 0,
              "ticks": ""
             }
            },
            "type": "scattercarpet"
           }
          ],
          "scattergeo": [
           {
            "marker": {
             "colorbar": {
              "outlinewidth": 0,
              "ticks": ""
             }
            },
            "type": "scattergeo"
           }
          ],
          "scattergl": [
           {
            "marker": {
             "colorbar": {
              "outlinewidth": 0,
              "ticks": ""
             }
            },
            "type": "scattergl"
           }
          ],
          "scattermapbox": [
           {
            "marker": {
             "colorbar": {
              "outlinewidth": 0,
              "ticks": ""
             }
            },
            "type": "scattermapbox"
           }
          ],
          "scatterpolar": [
           {
            "marker": {
             "colorbar": {
              "outlinewidth": 0,
              "ticks": ""
             }
            },
            "type": "scatterpolar"
           }
          ],
          "scatterpolargl": [
           {
            "marker": {
             "colorbar": {
              "outlinewidth": 0,
              "ticks": ""
             }
            },
            "type": "scatterpolargl"
           }
          ],
          "scatterternary": [
           {
            "marker": {
             "colorbar": {
              "outlinewidth": 0,
              "ticks": ""
             }
            },
            "type": "scatterternary"
           }
          ],
          "surface": [
           {
            "colorbar": {
             "outlinewidth": 0,
             "ticks": ""
            },
            "colorscale": [
             [
              0,
              "#0d0887"
             ],
             [
              0.1111111111111111,
              "#46039f"
             ],
             [
              0.2222222222222222,
              "#7201a8"
             ],
             [
              0.3333333333333333,
              "#9c179e"
             ],
             [
              0.4444444444444444,
              "#bd3786"
             ],
             [
              0.5555555555555556,
              "#d8576b"
             ],
             [
              0.6666666666666666,
              "#ed7953"
             ],
             [
              0.7777777777777778,
              "#fb9f3a"
             ],
             [
              0.8888888888888888,
              "#fdca26"
             ],
             [
              1,
              "#f0f921"
             ]
            ],
            "type": "surface"
           }
          ],
          "table": [
           {
            "cells": {
             "fill": {
              "color": "#EBF0F8"
             },
             "line": {
              "color": "white"
             }
            },
            "header": {
             "fill": {
              "color": "#C8D4E3"
             },
             "line": {
              "color": "white"
             }
            },
            "type": "table"
           }
          ]
         },
         "layout": {
          "annotationdefaults": {
           "arrowcolor": "#2a3f5f",
           "arrowhead": 0,
           "arrowwidth": 1
          },
          "autotypenumbers": "strict",
          "coloraxis": {
           "colorbar": {
            "outlinewidth": 0,
            "ticks": ""
           }
          },
          "colorscale": {
           "diverging": [
            [
             0,
             "#8e0152"
            ],
            [
             0.1,
             "#c51b7d"
            ],
            [
             0.2,
             "#de77ae"
            ],
            [
             0.3,
             "#f1b6da"
            ],
            [
             0.4,
             "#fde0ef"
            ],
            [
             0.5,
             "#f7f7f7"
            ],
            [
             0.6,
             "#e6f5d0"
            ],
            [
             0.7,
             "#b8e186"
            ],
            [
             0.8,
             "#7fbc41"
            ],
            [
             0.9,
             "#4d9221"
            ],
            [
             1,
             "#276419"
            ]
           ],
           "sequential": [
            [
             0,
             "#0d0887"
            ],
            [
             0.1111111111111111,
             "#46039f"
            ],
            [
             0.2222222222222222,
             "#7201a8"
            ],
            [
             0.3333333333333333,
             "#9c179e"
            ],
            [
             0.4444444444444444,
             "#bd3786"
            ],
            [
             0.5555555555555556,
             "#d8576b"
            ],
            [
             0.6666666666666666,
             "#ed7953"
            ],
            [
             0.7777777777777778,
             "#fb9f3a"
            ],
            [
             0.8888888888888888,
             "#fdca26"
            ],
            [
             1,
             "#f0f921"
            ]
           ],
           "sequentialminus": [
            [
             0,
             "#0d0887"
            ],
            [
             0.1111111111111111,
             "#46039f"
            ],
            [
             0.2222222222222222,
             "#7201a8"
            ],
            [
             0.3333333333333333,
             "#9c179e"
            ],
            [
             0.4444444444444444,
             "#bd3786"
            ],
            [
             0.5555555555555556,
             "#d8576b"
            ],
            [
             0.6666666666666666,
             "#ed7953"
            ],
            [
             0.7777777777777778,
             "#fb9f3a"
            ],
            [
             0.8888888888888888,
             "#fdca26"
            ],
            [
             1,
             "#f0f921"
            ]
           ]
          },
          "colorway": [
           "#636efa",
           "#EF553B",
           "#00cc96",
           "#ab63fa",
           "#FFA15A",
           "#19d3f3",
           "#FF6692",
           "#B6E880",
           "#FF97FF",
           "#FECB52"
          ],
          "font": {
           "color": "#2a3f5f"
          },
          "geo": {
           "bgcolor": "white",
           "lakecolor": "white",
           "landcolor": "#E5ECF6",
           "showlakes": true,
           "showland": true,
           "subunitcolor": "white"
          },
          "hoverlabel": {
           "align": "left"
          },
          "hovermode": "closest",
          "mapbox": {
           "style": "light"
          },
          "paper_bgcolor": "white",
          "plot_bgcolor": "#E5ECF6",
          "polar": {
           "angularaxis": {
            "gridcolor": "white",
            "linecolor": "white",
            "ticks": ""
           },
           "bgcolor": "#E5ECF6",
           "radialaxis": {
            "gridcolor": "white",
            "linecolor": "white",
            "ticks": ""
           }
          },
          "scene": {
           "xaxis": {
            "backgroundcolor": "#E5ECF6",
            "gridcolor": "white",
            "gridwidth": 2,
            "linecolor": "white",
            "showbackground": true,
            "ticks": "",
            "zerolinecolor": "white"
           },
           "yaxis": {
            "backgroundcolor": "#E5ECF6",
            "gridcolor": "white",
            "gridwidth": 2,
            "linecolor": "white",
            "showbackground": true,
            "ticks": "",
            "zerolinecolor": "white"
           },
           "zaxis": {
            "backgroundcolor": "#E5ECF6",
            "gridcolor": "white",
            "gridwidth": 2,
            "linecolor": "white",
            "showbackground": true,
            "ticks": "",
            "zerolinecolor": "white"
           }
          },
          "shapedefaults": {
           "line": {
            "color": "#2a3f5f"
           }
          },
          "ternary": {
           "aaxis": {
            "gridcolor": "white",
            "linecolor": "white",
            "ticks": ""
           },
           "baxis": {
            "gridcolor": "white",
            "linecolor": "white",
            "ticks": ""
           },
           "bgcolor": "#E5ECF6",
           "caxis": {
            "gridcolor": "white",
            "linecolor": "white",
            "ticks": ""
           }
          },
          "title": {
           "x": 0.05
          },
          "xaxis": {
           "automargin": true,
           "gridcolor": "white",
           "linecolor": "white",
           "ticks": "",
           "title": {
            "standoff": 15
           },
           "zerolinecolor": "white",
           "zerolinewidth": 2
          },
          "yaxis": {
           "automargin": true,
           "gridcolor": "white",
           "linecolor": "white",
           "ticks": "",
           "title": {
            "standoff": 15
           },
           "zerolinecolor": "white",
           "zerolinewidth": 2
          }
         }
        },
        "title": {
         "text": "Trends Over Time"
        },
        "width": 1000,
        "xaxis": {
         "anchor": "y",
         "domain": [
          0,
          1
         ],
         "title": {
          "text": "Date"
         }
        },
        "yaxis": {
         "anchor": "x",
         "domain": [
          0,
          1
         ],
         "title": {
          "text": "Number of Bikes Available"
         }
        }
       }
      }
     },
     "metadata": {},
     "output_type": "display_data"
    }
   ],
   "source": [
    "# Plot the line graph\n",
    "fig = px.line(trends_over_time, \n",
    "              x=trends_over_time.index, \n",
    "              y=['Number of Electric Bikes Available', 'Number of Mechanical Bikes Available'], \n",
    "              title='Trends Over Time',\n",
    "              labels={'index': 'Date', 'value': 'Number of Bikes Available'},\n",
    "              color_discrete_map={'Number of Electric Bikes Available': '#16E2F5', 'Number of Mechanical Bikes Available': '#50C878'})\n",
    "\n",
    "fig.update_layout(\n",
    "    width=1000,  # Set the width of the plot\n",
    "    height=600,  # Set the height of the plot\n",
    ")\n",
    "fig.show()\n"
   ]
  },
  {
   "cell_type": "markdown",
   "metadata": {},
   "source": [
    "Insights: \n",
    "The quantity of both types of bike are increasing, sometimes sharply, it may because the government provides more bikes on those days."
   ]
  },
  {
   "cell_type": "markdown",
   "metadata": {},
   "source": [
    "**Geographical Analysis:**\n",
    "1. Is there any correlation between the availability of electric/mechanical bikes and the geographical location of the stations?\n",
    "2. Are certain areas or regions more likely to have electric bikes available compared to mechanical bikes, or vice versa?"
   ]
  },
  {
   "cell_type": "code",
   "execution_count": 18,
   "metadata": {},
   "outputs": [
    {
     "name": "stdout",
     "output_type": "stream",
     "text": [
      "                                Station Name  Total Available Bikes\n",
      "1421     Malesherbes - Place de la Madeleine                     70\n",
      "660   Place du Front Populaire - George Sand                     65\n",
      "661        François Truffaut - Saint Emilion                     65\n",
      "271                    Place du Palais Royal                     65\n",
      "1374                           Musée d'Orsay                     64\n",
      "682                       Censier - Santeuil                     64\n",
      "571                       Parc André Citroën                     63\n",
      "153        Hôpital Européen Georges Pompidou                     62\n",
      "1465  BNF - Bibliothèque Nationale de France                     61\n",
      "831                          Place Lafayette                     61\n"
     ]
    }
   ],
   "source": [
    "dataset_clean['Total Available Bikes'] = dataset_clean['Number of Mechanical Bikes Available'] + dataset_clean['Number of Electric Bikes Available']\n",
    "\n",
    "sorted_dataset = dataset_clean.sort_values(by='Total Available Bikes', ascending=False)\n",
    "\n",
    "top_10_busiest_stations = sorted_dataset.head(10)\n",
    "\n",
    "print(top_10_busiest_stations[['Station Name', 'Total Available Bikes']])\n"
   ]
  },
  {
   "cell_type": "markdown",
   "metadata": {},
   "source": [
    "**Station Capacity vs. Availability:**\n",
    "1. How does the capacity of the stations relate to the availability of electric and mechanical bikes?\n",
    "2. Are stations with higher capacities more likely to have more bikes available, regardless of type?"
   ]
  },
  {
   "cell_type": "code",
   "execution_count": 19,
   "metadata": {},
   "outputs": [
    {
     "name": "stdout",
     "output_type": "stream",
     "text": [
      "\n",
      "Station Capacity vs. Availability:\n",
      "                  Number of Electric Bikes Available  \\\n",
      "Station Capacity                                       \n",
      "0                                                  0   \n",
      "7                                                  3   \n",
      "11                                                 4   \n",
      "12                                                12   \n",
      "13                                                 7   \n",
      "...                                              ...   \n",
      "68                                                43   \n",
      "69                                                 8   \n",
      "71                                                 7   \n",
      "74                                                 2   \n",
      "76                                                28   \n",
      "\n",
      "                  Number of Mechanical Bikes Available  \n",
      "Station Capacity                                        \n",
      "0                                                    0  \n",
      "7                                                    0  \n",
      "11                                                   4  \n",
      "12                                                  22  \n",
      "13                                                   4  \n",
      "...                                                ...  \n",
      "68                                                 102  \n",
      "69                                                  56  \n",
      "71                                                  49  \n",
      "74                                                  22  \n",
      "76                                                  22  \n",
      "\n",
      "[64 rows x 2 columns]\n"
     ]
    }
   ],
   "source": [
    "station_capacity_vs_availability = dataset_clean.groupby('Station Capacity')[['Number of Electric Bikes Available', 'Number of Mechanical Bikes Available']].sum()\n",
    "print(\"\\nStation Capacity vs. Availability:\")\n",
    "print(station_capacity_vs_availability)"
   ]
  },
  {
   "cell_type": "markdown",
   "metadata": {},
   "source": [
    "**Effectiveness of Data Update:**\n",
    "1. How frequently is the data updated, and does it impact the availability of electric and mechanical bikes?\n",
    "2. Are stations with more frequent data updates more likely to have accurate bike availability information?"
   ]
  },
  {
   "cell_type": "code",
   "execution_count": 20,
   "metadata": {},
   "outputs": [
    {
     "name": "stdout",
     "output_type": "stream",
     "text": [
      "\n",
      "Effectiveness of Data Update:\n",
      "                           Number of Electric Bikes Available  \\\n",
      "Data Update Timestamp                                           \n",
      "2018-05-21T07:30:29+02:00                                   0   \n",
      "2018-09-21T06:21:45+02:00                                   0   \n",
      "2018-12-21T15:18:50+01:00                                   0   \n",
      "2018-12-21T15:48:55+01:00                                   0   \n",
      "2021-02-21T20:09:18+01:00                                   0   \n",
      "...                                                       ...   \n",
      "2024-04-15T14:21:18+02:00                                  46   \n",
      "2024-04-15T14:21:19+02:00                                  79   \n",
      "2024-04-15T14:21:20+02:00                                 105   \n",
      "2024-04-15T14:21:21+02:00                                  48   \n",
      "2024-04-15T14:21:22+02:00                                  56   \n",
      "\n",
      "                           Number of Mechanical Bikes Available  \n",
      "Data Update Timestamp                                            \n",
      "2018-05-21T07:30:29+02:00                                     0  \n",
      "2018-09-21T06:21:45+02:00                                     0  \n",
      "2018-12-21T15:18:50+01:00                                     0  \n",
      "2018-12-21T15:48:55+01:00                                     0  \n",
      "2021-02-21T20:09:18+01:00                                     0  \n",
      "...                                                         ...  \n",
      "2024-04-15T14:21:18+02:00                                   129  \n",
      "2024-04-15T14:21:19+02:00                                   185  \n",
      "2024-04-15T14:21:20+02:00                                   234  \n",
      "2024-04-15T14:21:21+02:00                                   151  \n",
      "2024-04-15T14:21:22+02:00                                    78  \n",
      "\n",
      "[443 rows x 2 columns]\n"
     ]
    }
   ],
   "source": [
    "effectiveness_of_data_update = dataset_clean.groupby('Data Update Timestamp')[['Number of Electric Bikes Available', 'Number of Mechanical Bikes Available']].sum()\n",
    "print(\"\\nEffectiveness of Data Update:\")\n",
    "print(effectiveness_of_data_update)"
   ]
  },
  {
   "cell_type": "markdown",
   "metadata": {},
   "source": [
    "## Sub-questions:\n",
    "\n",
    "### 1. How does the availability of bikes vary between electric and mechanical bikes at different stations? \n",
    "**Relevance:** Explores how the availability of electric and mechanical bikes varies at different stations, directly addressing the main research question about bike availability across various areas."
   ]
  },
  {
   "cell_type": "code",
   "execution_count": 21,
   "metadata": {},
   "outputs": [
    {
     "data": {
      "application/vnd.plotly.v1+json": {
       "config": {
        "plotlyServerURL": "https://plot.ly"
       },
       "data": [
        {
         "alignmentgroup": "True",
         "hovertemplate": "Bike type=Number of Mechanical Bikes Available<br>Number of bikes=%{x}<br>Name of Equipped Municipality=%{y}<extra></extra>",
         "legendgroup": "Number of Mechanical Bikes Available",
         "marker": {
          "color": "#50C878",
          "pattern": {
           "shape": ""
          }
         },
         "name": "Number of Mechanical Bikes Available",
         "offsetgroup": "Number of Mechanical Bikes Available",
         "orientation": "h",
         "showlegend": true,
         "textposition": "auto",
         "type": "bar",
         "x": [
          7267,
          343,
          358,
          189,
          271,
          103,
          133,
          121,
          120,
          94
         ],
         "xaxis": "x",
         "y": [
          "Paris",
          "Boulogne-Billancourt",
          "Issy-les-Moulineaux",
          "Saint-Denis",
          "Ivry-sur-Seine",
          "Aubervilliers",
          "Levallois-Perret",
          "Vitry-sur-Seine",
          "Clichy",
          "Pantin"
         ],
         "yaxis": "y"
        },
        {
         "alignmentgroup": "True",
         "hovertemplate": "Bike type=Number of Electric Bikes Available<br>Number of bikes=%{x}<br>Name of Equipped Municipality=%{y}<extra></extra>",
         "legendgroup": "Number of Electric Bikes Available",
         "marker": {
          "color": "#16E2F5",
          "pattern": {
           "shape": ""
          }
         },
         "name": "Number of Electric Bikes Available",
         "offsetgroup": "Number of Electric Bikes Available",
         "orientation": "h",
         "showlegend": true,
         "textposition": "auto",
         "type": "bar",
         "x": [
          4354,
          204,
          93,
          215,
          62,
          122,
          91,
          64,
          47,
          50
         ],
         "xaxis": "x",
         "y": [
          "Paris",
          "Boulogne-Billancourt",
          "Issy-les-Moulineaux",
          "Saint-Denis",
          "Ivry-sur-Seine",
          "Aubervilliers",
          "Levallois-Perret",
          "Vitry-sur-Seine",
          "Clichy",
          "Pantin"
         ],
         "yaxis": "y"
        }
       ],
       "layout": {
        "barmode": "stack",
        "legend": {
         "title": {
          "text": "Bike type"
         },
         "tracegroupgap": 0
        },
        "template": {
         "data": {
          "bar": [
           {
            "error_x": {
             "color": "#2a3f5f"
            },
            "error_y": {
             "color": "#2a3f5f"
            },
            "marker": {
             "line": {
              "color": "#E5ECF6",
              "width": 0.5
             },
             "pattern": {
              "fillmode": "overlay",
              "size": 10,
              "solidity": 0.2
             }
            },
            "type": "bar"
           }
          ],
          "barpolar": [
           {
            "marker": {
             "line": {
              "color": "#E5ECF6",
              "width": 0.5
             },
             "pattern": {
              "fillmode": "overlay",
              "size": 10,
              "solidity": 0.2
             }
            },
            "type": "barpolar"
           }
          ],
          "carpet": [
           {
            "aaxis": {
             "endlinecolor": "#2a3f5f",
             "gridcolor": "white",
             "linecolor": "white",
             "minorgridcolor": "white",
             "startlinecolor": "#2a3f5f"
            },
            "baxis": {
             "endlinecolor": "#2a3f5f",
             "gridcolor": "white",
             "linecolor": "white",
             "minorgridcolor": "white",
             "startlinecolor": "#2a3f5f"
            },
            "type": "carpet"
           }
          ],
          "choropleth": [
           {
            "colorbar": {
             "outlinewidth": 0,
             "ticks": ""
            },
            "type": "choropleth"
           }
          ],
          "contour": [
           {
            "colorbar": {
             "outlinewidth": 0,
             "ticks": ""
            },
            "colorscale": [
             [
              0,
              "#0d0887"
             ],
             [
              0.1111111111111111,
              "#46039f"
             ],
             [
              0.2222222222222222,
              "#7201a8"
             ],
             [
              0.3333333333333333,
              "#9c179e"
             ],
             [
              0.4444444444444444,
              "#bd3786"
             ],
             [
              0.5555555555555556,
              "#d8576b"
             ],
             [
              0.6666666666666666,
              "#ed7953"
             ],
             [
              0.7777777777777778,
              "#fb9f3a"
             ],
             [
              0.8888888888888888,
              "#fdca26"
             ],
             [
              1,
              "#f0f921"
             ]
            ],
            "type": "contour"
           }
          ],
          "contourcarpet": [
           {
            "colorbar": {
             "outlinewidth": 0,
             "ticks": ""
            },
            "type": "contourcarpet"
           }
          ],
          "heatmap": [
           {
            "colorbar": {
             "outlinewidth": 0,
             "ticks": ""
            },
            "colorscale": [
             [
              0,
              "#0d0887"
             ],
             [
              0.1111111111111111,
              "#46039f"
             ],
             [
              0.2222222222222222,
              "#7201a8"
             ],
             [
              0.3333333333333333,
              "#9c179e"
             ],
             [
              0.4444444444444444,
              "#bd3786"
             ],
             [
              0.5555555555555556,
              "#d8576b"
             ],
             [
              0.6666666666666666,
              "#ed7953"
             ],
             [
              0.7777777777777778,
              "#fb9f3a"
             ],
             [
              0.8888888888888888,
              "#fdca26"
             ],
             [
              1,
              "#f0f921"
             ]
            ],
            "type": "heatmap"
           }
          ],
          "heatmapgl": [
           {
            "colorbar": {
             "outlinewidth": 0,
             "ticks": ""
            },
            "colorscale": [
             [
              0,
              "#0d0887"
             ],
             [
              0.1111111111111111,
              "#46039f"
             ],
             [
              0.2222222222222222,
              "#7201a8"
             ],
             [
              0.3333333333333333,
              "#9c179e"
             ],
             [
              0.4444444444444444,
              "#bd3786"
             ],
             [
              0.5555555555555556,
              "#d8576b"
             ],
             [
              0.6666666666666666,
              "#ed7953"
             ],
             [
              0.7777777777777778,
              "#fb9f3a"
             ],
             [
              0.8888888888888888,
              "#fdca26"
             ],
             [
              1,
              "#f0f921"
             ]
            ],
            "type": "heatmapgl"
           }
          ],
          "histogram": [
           {
            "marker": {
             "pattern": {
              "fillmode": "overlay",
              "size": 10,
              "solidity": 0.2
             }
            },
            "type": "histogram"
           }
          ],
          "histogram2d": [
           {
            "colorbar": {
             "outlinewidth": 0,
             "ticks": ""
            },
            "colorscale": [
             [
              0,
              "#0d0887"
             ],
             [
              0.1111111111111111,
              "#46039f"
             ],
             [
              0.2222222222222222,
              "#7201a8"
             ],
             [
              0.3333333333333333,
              "#9c179e"
             ],
             [
              0.4444444444444444,
              "#bd3786"
             ],
             [
              0.5555555555555556,
              "#d8576b"
             ],
             [
              0.6666666666666666,
              "#ed7953"
             ],
             [
              0.7777777777777778,
              "#fb9f3a"
             ],
             [
              0.8888888888888888,
              "#fdca26"
             ],
             [
              1,
              "#f0f921"
             ]
            ],
            "type": "histogram2d"
           }
          ],
          "histogram2dcontour": [
           {
            "colorbar": {
             "outlinewidth": 0,
             "ticks": ""
            },
            "colorscale": [
             [
              0,
              "#0d0887"
             ],
             [
              0.1111111111111111,
              "#46039f"
             ],
             [
              0.2222222222222222,
              "#7201a8"
             ],
             [
              0.3333333333333333,
              "#9c179e"
             ],
             [
              0.4444444444444444,
              "#bd3786"
             ],
             [
              0.5555555555555556,
              "#d8576b"
             ],
             [
              0.6666666666666666,
              "#ed7953"
             ],
             [
              0.7777777777777778,
              "#fb9f3a"
             ],
             [
              0.8888888888888888,
              "#fdca26"
             ],
             [
              1,
              "#f0f921"
             ]
            ],
            "type": "histogram2dcontour"
           }
          ],
          "mesh3d": [
           {
            "colorbar": {
             "outlinewidth": 0,
             "ticks": ""
            },
            "type": "mesh3d"
           }
          ],
          "parcoords": [
           {
            "line": {
             "colorbar": {
              "outlinewidth": 0,
              "ticks": ""
             }
            },
            "type": "parcoords"
           }
          ],
          "pie": [
           {
            "automargin": true,
            "type": "pie"
           }
          ],
          "scatter": [
           {
            "fillpattern": {
             "fillmode": "overlay",
             "size": 10,
             "solidity": 0.2
            },
            "type": "scatter"
           }
          ],
          "scatter3d": [
           {
            "line": {
             "colorbar": {
              "outlinewidth": 0,
              "ticks": ""
             }
            },
            "marker": {
             "colorbar": {
              "outlinewidth": 0,
              "ticks": ""
             }
            },
            "type": "scatter3d"
           }
          ],
          "scattercarpet": [
           {
            "marker": {
             "colorbar": {
              "outlinewidth": 0,
              "ticks": ""
             }
            },
            "type": "scattercarpet"
           }
          ],
          "scattergeo": [
           {
            "marker": {
             "colorbar": {
              "outlinewidth": 0,
              "ticks": ""
             }
            },
            "type": "scattergeo"
           }
          ],
          "scattergl": [
           {
            "marker": {
             "colorbar": {
              "outlinewidth": 0,
              "ticks": ""
             }
            },
            "type": "scattergl"
           }
          ],
          "scattermapbox": [
           {
            "marker": {
             "colorbar": {
              "outlinewidth": 0,
              "ticks": ""
             }
            },
            "type": "scattermapbox"
           }
          ],
          "scatterpolar": [
           {
            "marker": {
             "colorbar": {
              "outlinewidth": 0,
              "ticks": ""
             }
            },
            "type": "scatterpolar"
           }
          ],
          "scatterpolargl": [
           {
            "marker": {
             "colorbar": {
              "outlinewidth": 0,
              "ticks": ""
             }
            },
            "type": "scatterpolargl"
           }
          ],
          "scatterternary": [
           {
            "marker": {
             "colorbar": {
              "outlinewidth": 0,
              "ticks": ""
             }
            },
            "type": "scatterternary"
           }
          ],
          "surface": [
           {
            "colorbar": {
             "outlinewidth": 0,
             "ticks": ""
            },
            "colorscale": [
             [
              0,
              "#0d0887"
             ],
             [
              0.1111111111111111,
              "#46039f"
             ],
             [
              0.2222222222222222,
              "#7201a8"
             ],
             [
              0.3333333333333333,
              "#9c179e"
             ],
             [
              0.4444444444444444,
              "#bd3786"
             ],
             [
              0.5555555555555556,
              "#d8576b"
             ],
             [
              0.6666666666666666,
              "#ed7953"
             ],
             [
              0.7777777777777778,
              "#fb9f3a"
             ],
             [
              0.8888888888888888,
              "#fdca26"
             ],
             [
              1,
              "#f0f921"
             ]
            ],
            "type": "surface"
           }
          ],
          "table": [
           {
            "cells": {
             "fill": {
              "color": "#EBF0F8"
             },
             "line": {
              "color": "white"
             }
            },
            "header": {
             "fill": {
              "color": "#C8D4E3"
             },
             "line": {
              "color": "white"
             }
            },
            "type": "table"
           }
          ]
         },
         "layout": {
          "annotationdefaults": {
           "arrowcolor": "#2a3f5f",
           "arrowhead": 0,
           "arrowwidth": 1
          },
          "autotypenumbers": "strict",
          "coloraxis": {
           "colorbar": {
            "outlinewidth": 0,
            "ticks": ""
           }
          },
          "colorscale": {
           "diverging": [
            [
             0,
             "#8e0152"
            ],
            [
             0.1,
             "#c51b7d"
            ],
            [
             0.2,
             "#de77ae"
            ],
            [
             0.3,
             "#f1b6da"
            ],
            [
             0.4,
             "#fde0ef"
            ],
            [
             0.5,
             "#f7f7f7"
            ],
            [
             0.6,
             "#e6f5d0"
            ],
            [
             0.7,
             "#b8e186"
            ],
            [
             0.8,
             "#7fbc41"
            ],
            [
             0.9,
             "#4d9221"
            ],
            [
             1,
             "#276419"
            ]
           ],
           "sequential": [
            [
             0,
             "#0d0887"
            ],
            [
             0.1111111111111111,
             "#46039f"
            ],
            [
             0.2222222222222222,
             "#7201a8"
            ],
            [
             0.3333333333333333,
             "#9c179e"
            ],
            [
             0.4444444444444444,
             "#bd3786"
            ],
            [
             0.5555555555555556,
             "#d8576b"
            ],
            [
             0.6666666666666666,
             "#ed7953"
            ],
            [
             0.7777777777777778,
             "#fb9f3a"
            ],
            [
             0.8888888888888888,
             "#fdca26"
            ],
            [
             1,
             "#f0f921"
            ]
           ],
           "sequentialminus": [
            [
             0,
             "#0d0887"
            ],
            [
             0.1111111111111111,
             "#46039f"
            ],
            [
             0.2222222222222222,
             "#7201a8"
            ],
            [
             0.3333333333333333,
             "#9c179e"
            ],
            [
             0.4444444444444444,
             "#bd3786"
            ],
            [
             0.5555555555555556,
             "#d8576b"
            ],
            [
             0.6666666666666666,
             "#ed7953"
            ],
            [
             0.7777777777777778,
             "#fb9f3a"
            ],
            [
             0.8888888888888888,
             "#fdca26"
            ],
            [
             1,
             "#f0f921"
            ]
           ]
          },
          "colorway": [
           "#636efa",
           "#EF553B",
           "#00cc96",
           "#ab63fa",
           "#FFA15A",
           "#19d3f3",
           "#FF6692",
           "#B6E880",
           "#FF97FF",
           "#FECB52"
          ],
          "font": {
           "color": "#2a3f5f"
          },
          "geo": {
           "bgcolor": "white",
           "lakecolor": "white",
           "landcolor": "#E5ECF6",
           "showlakes": true,
           "showland": true,
           "subunitcolor": "white"
          },
          "hoverlabel": {
           "align": "left"
          },
          "hovermode": "closest",
          "mapbox": {
           "style": "light"
          },
          "paper_bgcolor": "white",
          "plot_bgcolor": "#E5ECF6",
          "polar": {
           "angularaxis": {
            "gridcolor": "white",
            "linecolor": "white",
            "ticks": ""
           },
           "bgcolor": "#E5ECF6",
           "radialaxis": {
            "gridcolor": "white",
            "linecolor": "white",
            "ticks": ""
           }
          },
          "scene": {
           "xaxis": {
            "backgroundcolor": "#E5ECF6",
            "gridcolor": "white",
            "gridwidth": 2,
            "linecolor": "white",
            "showbackground": true,
            "ticks": "",
            "zerolinecolor": "white"
           },
           "yaxis": {
            "backgroundcolor": "#E5ECF6",
            "gridcolor": "white",
            "gridwidth": 2,
            "linecolor": "white",
            "showbackground": true,
            "ticks": "",
            "zerolinecolor": "white"
           },
           "zaxis": {
            "backgroundcolor": "#E5ECF6",
            "gridcolor": "white",
            "gridwidth": 2,
            "linecolor": "white",
            "showbackground": true,
            "ticks": "",
            "zerolinecolor": "white"
           }
          },
          "shapedefaults": {
           "line": {
            "color": "#2a3f5f"
           }
          },
          "ternary": {
           "aaxis": {
            "gridcolor": "white",
            "linecolor": "white",
            "ticks": ""
           },
           "baxis": {
            "gridcolor": "white",
            "linecolor": "white",
            "ticks": ""
           },
           "bgcolor": "#E5ECF6",
           "caxis": {
            "gridcolor": "white",
            "linecolor": "white",
            "ticks": ""
           }
          },
          "title": {
           "x": 0.05
          },
          "xaxis": {
           "automargin": true,
           "gridcolor": "white",
           "linecolor": "white",
           "ticks": "",
           "title": {
            "standoff": 15
           },
           "zerolinecolor": "white",
           "zerolinewidth": 2
          },
          "yaxis": {
           "automargin": true,
           "gridcolor": "white",
           "linecolor": "white",
           "ticks": "",
           "title": {
            "standoff": 15
           },
           "zerolinecolor": "white",
           "zerolinewidth": 2
          }
         }
        },
        "title": {
         "text": "Top 10 areas with highest bike availability (Updated: 2024-04-15T14:19:19+02:00)"
        },
        "width": 1000,
        "xaxis": {
         "anchor": "y",
         "domain": [
          0,
          1
         ],
         "title": {
          "text": "Number of bikes"
         }
        },
        "yaxis": {
         "anchor": "x",
         "domain": [
          0,
          1
         ],
         "title": {
          "text": "Name of Equipped Municipality"
         }
        }
       }
      }
     },
     "metadata": {},
     "output_type": "display_data"
    }
   ],
   "source": [
    "# Extract the timestamp from the first row of the dataset\n",
    "timestamp = dataset_clean.iloc[0]['Data Update Timestamp']\n",
    "\n",
    "top_n = 10\n",
    "# Group by areas\n",
    "area_bike_count = dataset_clean.groupby('Name of Equipped Municipality')[\n",
    "    ['Number of Mechanical Bikes Available', 'Number of Electric Bikes Available']\n",
    "].sum().reset_index()\n",
    "\n",
    "# Sort the areas based on the total number of bikes\n",
    "area_bike_count['Total bikes'] = (\n",
    "    area_bike_count['Number of Mechanical Bikes Available'] +\n",
    "    area_bike_count['Number of Electric Bikes Available']\n",
    ")\n",
    "sorted_areas = area_bike_count.sort_values(by='Total bikes', ascending=False)\n",
    "\n",
    "top_n_areas = sorted_areas.head(top_n)\n",
    "\n",
    "top_n_areas_melt = top_n_areas.melt(\n",
    "    id_vars='Name of Equipped Municipality',\n",
    "    value_vars=['Number of Mechanical Bikes Available', 'Number of Electric Bikes Available'],\n",
    "    var_name='Bike type',\n",
    "    value_name='Number of bikes'\n",
    ")\n",
    "\n",
    "fig = px.bar(top_n_areas_melt, \n",
    "             y='Name of Equipped Municipality', \n",
    "             x='Number of bikes', \n",
    "             color='Bike type', \n",
    "             barmode='stack',\n",
    "             orientation='h',\n",
    "             title=f'Top {top_n} areas with highest bike availability (Updated: {timestamp})',\n",
    "             width=1000,\n",
    "             color_discrete_map={'Number of Mechanical Bikes Available': '#50C878', 'Number of Electric Bikes Available': '#16E2F5'})\n",
    "\n",
    "fig.show()\n"
   ]
  },
  {
   "cell_type": "code",
   "execution_count": 22,
   "metadata": {},
   "outputs": [
    {
     "data": {
      "application/vnd.plotly.v1+json": {
       "config": {
        "plotlyServerURL": "https://plot.ly"
       },
       "data": [
        {
         "alignmentgroup": "True",
         "hovertemplate": "Bike type=Mechanical Bikes Proportion<br>Proportion of bikes=%{x}<br>Name of Equipped Municipality=%{y}<extra></extra>",
         "legendgroup": "Mechanical Bikes Proportion",
         "marker": {
          "color": "#50C878",
          "pattern": {
           "shape": ""
          }
         },
         "name": "Mechanical Bikes Proportion",
         "offsetgroup": "Mechanical Bikes Proportion",
         "orientation": "h",
         "showlegend": true,
         "textposition": "auto",
         "type": "bar",
         "x": [
          0.6253334480681525,
          0.6270566727605119,
          0.7937915742793792,
          0.46782178217821785,
          0.8138138138138138,
          0.4577777777777778,
          0.59375,
          0.654054054054054,
          0.718562874251497,
          0.6527777777777778
         ],
         "xaxis": "x",
         "y": [
          "Paris",
          "Boulogne-Billancourt",
          "Issy-les-Moulineaux",
          "Saint-Denis",
          "Ivry-sur-Seine",
          "Aubervilliers",
          "Levallois-Perret",
          "Vitry-sur-Seine",
          "Clichy",
          "Pantin"
         ],
         "yaxis": "y"
        },
        {
         "alignmentgroup": "True",
         "hovertemplate": "Bike type=Electric Bikes Proportion<br>Proportion of bikes=%{x}<br>Name of Equipped Municipality=%{y}<extra></extra>",
         "legendgroup": "Electric Bikes Proportion",
         "marker": {
          "color": "#16E2F5",
          "pattern": {
           "shape": ""
          }
         },
         "name": "Electric Bikes Proportion",
         "offsetgroup": "Electric Bikes Proportion",
         "orientation": "h",
         "showlegend": true,
         "textposition": "auto",
         "type": "bar",
         "x": [
          0.3746665519318475,
          0.37294332723948814,
          0.20620842572062084,
          0.5321782178217822,
          0.18618618618618618,
          0.5422222222222223,
          0.40625,
          0.34594594594594597,
          0.281437125748503,
          0.3472222222222222
         ],
         "xaxis": "x",
         "y": [
          "Paris",
          "Boulogne-Billancourt",
          "Issy-les-Moulineaux",
          "Saint-Denis",
          "Ivry-sur-Seine",
          "Aubervilliers",
          "Levallois-Perret",
          "Vitry-sur-Seine",
          "Clichy",
          "Pantin"
         ],
         "yaxis": "y"
        }
       ],
       "layout": {
        "barmode": "stack",
        "legend": {
         "title": {
          "text": "Bike type"
         },
         "tracegroupgap": 0
        },
        "template": {
         "data": {
          "bar": [
           {
            "error_x": {
             "color": "#2a3f5f"
            },
            "error_y": {
             "color": "#2a3f5f"
            },
            "marker": {
             "line": {
              "color": "#E5ECF6",
              "width": 0.5
             },
             "pattern": {
              "fillmode": "overlay",
              "size": 10,
              "solidity": 0.2
             }
            },
            "type": "bar"
           }
          ],
          "barpolar": [
           {
            "marker": {
             "line": {
              "color": "#E5ECF6",
              "width": 0.5
             },
             "pattern": {
              "fillmode": "overlay",
              "size": 10,
              "solidity": 0.2
             }
            },
            "type": "barpolar"
           }
          ],
          "carpet": [
           {
            "aaxis": {
             "endlinecolor": "#2a3f5f",
             "gridcolor": "white",
             "linecolor": "white",
             "minorgridcolor": "white",
             "startlinecolor": "#2a3f5f"
            },
            "baxis": {
             "endlinecolor": "#2a3f5f",
             "gridcolor": "white",
             "linecolor": "white",
             "minorgridcolor": "white",
             "startlinecolor": "#2a3f5f"
            },
            "type": "carpet"
           }
          ],
          "choropleth": [
           {
            "colorbar": {
             "outlinewidth": 0,
             "ticks": ""
            },
            "type": "choropleth"
           }
          ],
          "contour": [
           {
            "colorbar": {
             "outlinewidth": 0,
             "ticks": ""
            },
            "colorscale": [
             [
              0,
              "#0d0887"
             ],
             [
              0.1111111111111111,
              "#46039f"
             ],
             [
              0.2222222222222222,
              "#7201a8"
             ],
             [
              0.3333333333333333,
              "#9c179e"
             ],
             [
              0.4444444444444444,
              "#bd3786"
             ],
             [
              0.5555555555555556,
              "#d8576b"
             ],
             [
              0.6666666666666666,
              "#ed7953"
             ],
             [
              0.7777777777777778,
              "#fb9f3a"
             ],
             [
              0.8888888888888888,
              "#fdca26"
             ],
             [
              1,
              "#f0f921"
             ]
            ],
            "type": "contour"
           }
          ],
          "contourcarpet": [
           {
            "colorbar": {
             "outlinewidth": 0,
             "ticks": ""
            },
            "type": "contourcarpet"
           }
          ],
          "heatmap": [
           {
            "colorbar": {
             "outlinewidth": 0,
             "ticks": ""
            },
            "colorscale": [
             [
              0,
              "#0d0887"
             ],
             [
              0.1111111111111111,
              "#46039f"
             ],
             [
              0.2222222222222222,
              "#7201a8"
             ],
             [
              0.3333333333333333,
              "#9c179e"
             ],
             [
              0.4444444444444444,
              "#bd3786"
             ],
             [
              0.5555555555555556,
              "#d8576b"
             ],
             [
              0.6666666666666666,
              "#ed7953"
             ],
             [
              0.7777777777777778,
              "#fb9f3a"
             ],
             [
              0.8888888888888888,
              "#fdca26"
             ],
             [
              1,
              "#f0f921"
             ]
            ],
            "type": "heatmap"
           }
          ],
          "heatmapgl": [
           {
            "colorbar": {
             "outlinewidth": 0,
             "ticks": ""
            },
            "colorscale": [
             [
              0,
              "#0d0887"
             ],
             [
              0.1111111111111111,
              "#46039f"
             ],
             [
              0.2222222222222222,
              "#7201a8"
             ],
             [
              0.3333333333333333,
              "#9c179e"
             ],
             [
              0.4444444444444444,
              "#bd3786"
             ],
             [
              0.5555555555555556,
              "#d8576b"
             ],
             [
              0.6666666666666666,
              "#ed7953"
             ],
             [
              0.7777777777777778,
              "#fb9f3a"
             ],
             [
              0.8888888888888888,
              "#fdca26"
             ],
             [
              1,
              "#f0f921"
             ]
            ],
            "type": "heatmapgl"
           }
          ],
          "histogram": [
           {
            "marker": {
             "pattern": {
              "fillmode": "overlay",
              "size": 10,
              "solidity": 0.2
             }
            },
            "type": "histogram"
           }
          ],
          "histogram2d": [
           {
            "colorbar": {
             "outlinewidth": 0,
             "ticks": ""
            },
            "colorscale": [
             [
              0,
              "#0d0887"
             ],
             [
              0.1111111111111111,
              "#46039f"
             ],
             [
              0.2222222222222222,
              "#7201a8"
             ],
             [
              0.3333333333333333,
              "#9c179e"
             ],
             [
              0.4444444444444444,
              "#bd3786"
             ],
             [
              0.5555555555555556,
              "#d8576b"
             ],
             [
              0.6666666666666666,
              "#ed7953"
             ],
             [
              0.7777777777777778,
              "#fb9f3a"
             ],
             [
              0.8888888888888888,
              "#fdca26"
             ],
             [
              1,
              "#f0f921"
             ]
            ],
            "type": "histogram2d"
           }
          ],
          "histogram2dcontour": [
           {
            "colorbar": {
             "outlinewidth": 0,
             "ticks": ""
            },
            "colorscale": [
             [
              0,
              "#0d0887"
             ],
             [
              0.1111111111111111,
              "#46039f"
             ],
             [
              0.2222222222222222,
              "#7201a8"
             ],
             [
              0.3333333333333333,
              "#9c179e"
             ],
             [
              0.4444444444444444,
              "#bd3786"
             ],
             [
              0.5555555555555556,
              "#d8576b"
             ],
             [
              0.6666666666666666,
              "#ed7953"
             ],
             [
              0.7777777777777778,
              "#fb9f3a"
             ],
             [
              0.8888888888888888,
              "#fdca26"
             ],
             [
              1,
              "#f0f921"
             ]
            ],
            "type": "histogram2dcontour"
           }
          ],
          "mesh3d": [
           {
            "colorbar": {
             "outlinewidth": 0,
             "ticks": ""
            },
            "type": "mesh3d"
           }
          ],
          "parcoords": [
           {
            "line": {
             "colorbar": {
              "outlinewidth": 0,
              "ticks": ""
             }
            },
            "type": "parcoords"
           }
          ],
          "pie": [
           {
            "automargin": true,
            "type": "pie"
           }
          ],
          "scatter": [
           {
            "fillpattern": {
             "fillmode": "overlay",
             "size": 10,
             "solidity": 0.2
            },
            "type": "scatter"
           }
          ],
          "scatter3d": [
           {
            "line": {
             "colorbar": {
              "outlinewidth": 0,
              "ticks": ""
             }
            },
            "marker": {
             "colorbar": {
              "outlinewidth": 0,
              "ticks": ""
             }
            },
            "type": "scatter3d"
           }
          ],
          "scattercarpet": [
           {
            "marker": {
             "colorbar": {
              "outlinewidth": 0,
              "ticks": ""
             }
            },
            "type": "scattercarpet"
           }
          ],
          "scattergeo": [
           {
            "marker": {
             "colorbar": {
              "outlinewidth": 0,
              "ticks": ""
             }
            },
            "type": "scattergeo"
           }
          ],
          "scattergl": [
           {
            "marker": {
             "colorbar": {
              "outlinewidth": 0,
              "ticks": ""
             }
            },
            "type": "scattergl"
           }
          ],
          "scattermapbox": [
           {
            "marker": {
             "colorbar": {
              "outlinewidth": 0,
              "ticks": ""
             }
            },
            "type": "scattermapbox"
           }
          ],
          "scatterpolar": [
           {
            "marker": {
             "colorbar": {
              "outlinewidth": 0,
              "ticks": ""
             }
            },
            "type": "scatterpolar"
           }
          ],
          "scatterpolargl": [
           {
            "marker": {
             "colorbar": {
              "outlinewidth": 0,
              "ticks": ""
             }
            },
            "type": "scatterpolargl"
           }
          ],
          "scatterternary": [
           {
            "marker": {
             "colorbar": {
              "outlinewidth": 0,
              "ticks": ""
             }
            },
            "type": "scatterternary"
           }
          ],
          "surface": [
           {
            "colorbar": {
             "outlinewidth": 0,
             "ticks": ""
            },
            "colorscale": [
             [
              0,
              "#0d0887"
             ],
             [
              0.1111111111111111,
              "#46039f"
             ],
             [
              0.2222222222222222,
              "#7201a8"
             ],
             [
              0.3333333333333333,
              "#9c179e"
             ],
             [
              0.4444444444444444,
              "#bd3786"
             ],
             [
              0.5555555555555556,
              "#d8576b"
             ],
             [
              0.6666666666666666,
              "#ed7953"
             ],
             [
              0.7777777777777778,
              "#fb9f3a"
             ],
             [
              0.8888888888888888,
              "#fdca26"
             ],
             [
              1,
              "#f0f921"
             ]
            ],
            "type": "surface"
           }
          ],
          "table": [
           {
            "cells": {
             "fill": {
              "color": "#EBF0F8"
             },
             "line": {
              "color": "white"
             }
            },
            "header": {
             "fill": {
              "color": "#C8D4E3"
             },
             "line": {
              "color": "white"
             }
            },
            "type": "table"
           }
          ]
         },
         "layout": {
          "annotationdefaults": {
           "arrowcolor": "#2a3f5f",
           "arrowhead": 0,
           "arrowwidth": 1
          },
          "autotypenumbers": "strict",
          "coloraxis": {
           "colorbar": {
            "outlinewidth": 0,
            "ticks": ""
           }
          },
          "colorscale": {
           "diverging": [
            [
             0,
             "#8e0152"
            ],
            [
             0.1,
             "#c51b7d"
            ],
            [
             0.2,
             "#de77ae"
            ],
            [
             0.3,
             "#f1b6da"
            ],
            [
             0.4,
             "#fde0ef"
            ],
            [
             0.5,
             "#f7f7f7"
            ],
            [
             0.6,
             "#e6f5d0"
            ],
            [
             0.7,
             "#b8e186"
            ],
            [
             0.8,
             "#7fbc41"
            ],
            [
             0.9,
             "#4d9221"
            ],
            [
             1,
             "#276419"
            ]
           ],
           "sequential": [
            [
             0,
             "#0d0887"
            ],
            [
             0.1111111111111111,
             "#46039f"
            ],
            [
             0.2222222222222222,
             "#7201a8"
            ],
            [
             0.3333333333333333,
             "#9c179e"
            ],
            [
             0.4444444444444444,
             "#bd3786"
            ],
            [
             0.5555555555555556,
             "#d8576b"
            ],
            [
             0.6666666666666666,
             "#ed7953"
            ],
            [
             0.7777777777777778,
             "#fb9f3a"
            ],
            [
             0.8888888888888888,
             "#fdca26"
            ],
            [
             1,
             "#f0f921"
            ]
           ],
           "sequentialminus": [
            [
             0,
             "#0d0887"
            ],
            [
             0.1111111111111111,
             "#46039f"
            ],
            [
             0.2222222222222222,
             "#7201a8"
            ],
            [
             0.3333333333333333,
             "#9c179e"
            ],
            [
             0.4444444444444444,
             "#bd3786"
            ],
            [
             0.5555555555555556,
             "#d8576b"
            ],
            [
             0.6666666666666666,
             "#ed7953"
            ],
            [
             0.7777777777777778,
             "#fb9f3a"
            ],
            [
             0.8888888888888888,
             "#fdca26"
            ],
            [
             1,
             "#f0f921"
            ]
           ]
          },
          "colorway": [
           "#636efa",
           "#EF553B",
           "#00cc96",
           "#ab63fa",
           "#FFA15A",
           "#19d3f3",
           "#FF6692",
           "#B6E880",
           "#FF97FF",
           "#FECB52"
          ],
          "font": {
           "color": "#2a3f5f"
          },
          "geo": {
           "bgcolor": "white",
           "lakecolor": "white",
           "landcolor": "#E5ECF6",
           "showlakes": true,
           "showland": true,
           "subunitcolor": "white"
          },
          "hoverlabel": {
           "align": "left"
          },
          "hovermode": "closest",
          "mapbox": {
           "style": "light"
          },
          "paper_bgcolor": "white",
          "plot_bgcolor": "#E5ECF6",
          "polar": {
           "angularaxis": {
            "gridcolor": "white",
            "linecolor": "white",
            "ticks": ""
           },
           "bgcolor": "#E5ECF6",
           "radialaxis": {
            "gridcolor": "white",
            "linecolor": "white",
            "ticks": ""
           }
          },
          "scene": {
           "xaxis": {
            "backgroundcolor": "#E5ECF6",
            "gridcolor": "white",
            "gridwidth": 2,
            "linecolor": "white",
            "showbackground": true,
            "ticks": "",
            "zerolinecolor": "white"
           },
           "yaxis": {
            "backgroundcolor": "#E5ECF6",
            "gridcolor": "white",
            "gridwidth": 2,
            "linecolor": "white",
            "showbackground": true,
            "ticks": "",
            "zerolinecolor": "white"
           },
           "zaxis": {
            "backgroundcolor": "#E5ECF6",
            "gridcolor": "white",
            "gridwidth": 2,
            "linecolor": "white",
            "showbackground": true,
            "ticks": "",
            "zerolinecolor": "white"
           }
          },
          "shapedefaults": {
           "line": {
            "color": "#2a3f5f"
           }
          },
          "ternary": {
           "aaxis": {
            "gridcolor": "white",
            "linecolor": "white",
            "ticks": ""
           },
           "baxis": {
            "gridcolor": "white",
            "linecolor": "white",
            "ticks": ""
           },
           "bgcolor": "#E5ECF6",
           "caxis": {
            "gridcolor": "white",
            "linecolor": "white",
            "ticks": ""
           }
          },
          "title": {
           "x": 0.05
          },
          "xaxis": {
           "automargin": true,
           "gridcolor": "white",
           "linecolor": "white",
           "ticks": "",
           "title": {
            "standoff": 15
           },
           "zerolinecolor": "white",
           "zerolinewidth": 2
          },
          "yaxis": {
           "automargin": true,
           "gridcolor": "white",
           "linecolor": "white",
           "ticks": "",
           "title": {
            "standoff": 15
           },
           "zerolinecolor": "white",
           "zerolinewidth": 2
          }
         }
        },
        "title": {
         "text": "Top 10 areas with highest bike availability (Updated: 2024-04-15T14:19:19+02:00)"
        },
        "width": 1000,
        "xaxis": {
         "anchor": "y",
         "domain": [
          0,
          1
         ],
         "title": {
          "text": "Proportion of bikes"
         }
        },
        "yaxis": {
         "anchor": "x",
         "domain": [
          0,
          1
         ],
         "title": {
          "text": "Name of Equipped Municipality"
         }
        }
       }
      }
     },
     "metadata": {},
     "output_type": "display_data"
    }
   ],
   "source": [
    "# Extract the timestamp from the first row of the dataset\n",
    "timestamp = dataset_clean.iloc[0]['Data Update Timestamp']\n",
    "\n",
    "top_n = 10\n",
    "\n",
    "# Group by areas\n",
    "area_bike_count = dataset_clean.groupby('Name of Equipped Municipality')[\n",
    "    ['Number of Mechanical Bikes Available', 'Number of Electric Bikes Available']\n",
    "].sum().reset_index()\n",
    "\n",
    "# Sort the areas based on the total number of bikes\n",
    "area_bike_count['Total bikes'] = (\n",
    "    area_bike_count['Number of Mechanical Bikes Available'] +\n",
    "    area_bike_count['Number of Electric Bikes Available']\n",
    ")\n",
    "sorted_areas = area_bike_count.sort_values(by='Total bikes', ascending=False)\n",
    "\n",
    "top_n_areas = sorted_areas.head(top_n).copy()\n",
    "\n",
    "# Calculate the proportion of each bike type relative to the total number of bikes\n",
    "top_n_areas['Mechanical Bikes Proportion'] = top_n_areas['Number of Mechanical Bikes Available'] / top_n_areas['Total bikes']\n",
    "top_n_areas['Electric Bikes Proportion'] = top_n_areas['Number of Electric Bikes Available'] / top_n_areas['Total bikes']\n",
    "\n",
    "# Melt the DataFrame for plotting\n",
    "top_n_areas_melt = top_n_areas.melt(\n",
    "    id_vars='Name of Equipped Municipality',\n",
    "    value_vars=['Mechanical Bikes Proportion', 'Electric Bikes Proportion'],\n",
    "    var_name='Bike type',\n",
    "    value_name='Proportion of bikes'\n",
    ")\n",
    "\n",
    "fig = px.bar(top_n_areas_melt, \n",
    "             y='Name of Equipped Municipality', \n",
    "             x='Proportion of bikes', \n",
    "             color='Bike type', \n",
    "             barmode='stack',\n",
    "             orientation='h',\n",
    "             title=f'Top {top_n} areas with highest bike availability (Updated: {timestamp})',\n",
    "             width=1000,\n",
    "             color_discrete_map={'Mechanical Bikes Proportion': '#50C878', 'Electric Bikes Proportion': '#16E2F5'})\n",
    "\n",
    "fig.show()\n"
   ]
  },
  {
   "cell_type": "markdown",
   "metadata": {},
   "source": [
    "#### Insights:\n",
    "1. According to the plot above, it is not surprising to see that Paris has the highest number of bicycles, the total number is around 12k, more than 20 times higher than the second area: Boulogne-Billancourt. The main reason is Paris is the capital of France, it has a dense population, and is also a tourist hub. \n",
    "2. As for the bike types, from the second plot, we can conclude that in the top 10 areas with the most bikes, 8 of them has more than 60% of the mechanical bike, only Aubervilliers and Saint-Denis has slightly more electric bikes than mechanical bikes."
   ]
  },
  {
   "cell_type": "markdown",
   "metadata": {},
   "source": [
    "#### Limitations to consider\n",
    "1. Temporal Variation: The analysis represents a snapshot of bike availability at a specific point in time. It does not account for temporal variations or fluctuations in bike usage in real time.\n",
    "2. In the first plot, there is a huge gap between Paris and the rest of the areas."
   ]
  },
  {
   "cell_type": "code",
   "execution_count": 23,
   "metadata": {},
   "outputs": [
    {
     "data": {
      "application/vnd.plotly.v1+json": {
       "config": {
        "plotlyServerURL": "https://plot.ly"
       },
       "data": [
        {
         "marker": {
          "color": "#50C878"
         },
         "name": "Mechanical Bikes",
         "orientation": "h",
         "type": "bar",
         "x": [
          47,
          26,
          59,
          44,
          44,
          56,
          57,
          44,
          40,
          55
         ],
         "y": [
          "Malesherbes - Place de la Madeleine (Paris)",
          "Place du Front Populaire - George Sand (Saint-Denis)",
          "François Truffaut - Saint Emilion (Paris)",
          "Place du Palais Royal (Paris)",
          "Musée d'Orsay (Paris)",
          "Censier - Santeuil (Paris)",
          "Parc André Citroën (Paris)",
          "Hôpital Européen Georges Pompidou (Paris)",
          "BNF - Bibliothèque Nationale de France (Paris)",
          "Place Lafayette (Issy-les-Moulineaux)"
         ]
        },
        {
         "marker": {
          "color": "#16E2F5"
         },
         "name": "Electric Bikes",
         "orientation": "h",
         "type": "bar",
         "x": [
          23,
          39,
          6,
          21,
          20,
          8,
          6,
          18,
          21,
          6
         ],
         "y": [
          "Malesherbes - Place de la Madeleine (Paris)",
          "Place du Front Populaire - George Sand (Saint-Denis)",
          "François Truffaut - Saint Emilion (Paris)",
          "Place du Palais Royal (Paris)",
          "Musée d'Orsay (Paris)",
          "Censier - Santeuil (Paris)",
          "Parc André Citroën (Paris)",
          "Hôpital Européen Georges Pompidou (Paris)",
          "BNF - Bibliothèque Nationale de France (Paris)",
          "Place Lafayette (Issy-les-Moulineaux)"
         ]
        }
       ],
       "layout": {
        "barmode": "stack",
        "legend": {
         "title": {
          "text": "Bike Type"
         }
        },
        "template": {
         "data": {
          "bar": [
           {
            "error_x": {
             "color": "#2a3f5f"
            },
            "error_y": {
             "color": "#2a3f5f"
            },
            "marker": {
             "line": {
              "color": "#E5ECF6",
              "width": 0.5
             },
             "pattern": {
              "fillmode": "overlay",
              "size": 10,
              "solidity": 0.2
             }
            },
            "type": "bar"
           }
          ],
          "barpolar": [
           {
            "marker": {
             "line": {
              "color": "#E5ECF6",
              "width": 0.5
             },
             "pattern": {
              "fillmode": "overlay",
              "size": 10,
              "solidity": 0.2
             }
            },
            "type": "barpolar"
           }
          ],
          "carpet": [
           {
            "aaxis": {
             "endlinecolor": "#2a3f5f",
             "gridcolor": "white",
             "linecolor": "white",
             "minorgridcolor": "white",
             "startlinecolor": "#2a3f5f"
            },
            "baxis": {
             "endlinecolor": "#2a3f5f",
             "gridcolor": "white",
             "linecolor": "white",
             "minorgridcolor": "white",
             "startlinecolor": "#2a3f5f"
            },
            "type": "carpet"
           }
          ],
          "choropleth": [
           {
            "colorbar": {
             "outlinewidth": 0,
             "ticks": ""
            },
            "type": "choropleth"
           }
          ],
          "contour": [
           {
            "colorbar": {
             "outlinewidth": 0,
             "ticks": ""
            },
            "colorscale": [
             [
              0,
              "#0d0887"
             ],
             [
              0.1111111111111111,
              "#46039f"
             ],
             [
              0.2222222222222222,
              "#7201a8"
             ],
             [
              0.3333333333333333,
              "#9c179e"
             ],
             [
              0.4444444444444444,
              "#bd3786"
             ],
             [
              0.5555555555555556,
              "#d8576b"
             ],
             [
              0.6666666666666666,
              "#ed7953"
             ],
             [
              0.7777777777777778,
              "#fb9f3a"
             ],
             [
              0.8888888888888888,
              "#fdca26"
             ],
             [
              1,
              "#f0f921"
             ]
            ],
            "type": "contour"
           }
          ],
          "contourcarpet": [
           {
            "colorbar": {
             "outlinewidth": 0,
             "ticks": ""
            },
            "type": "contourcarpet"
           }
          ],
          "heatmap": [
           {
            "colorbar": {
             "outlinewidth": 0,
             "ticks": ""
            },
            "colorscale": [
             [
              0,
              "#0d0887"
             ],
             [
              0.1111111111111111,
              "#46039f"
             ],
             [
              0.2222222222222222,
              "#7201a8"
             ],
             [
              0.3333333333333333,
              "#9c179e"
             ],
             [
              0.4444444444444444,
              "#bd3786"
             ],
             [
              0.5555555555555556,
              "#d8576b"
             ],
             [
              0.6666666666666666,
              "#ed7953"
             ],
             [
              0.7777777777777778,
              "#fb9f3a"
             ],
             [
              0.8888888888888888,
              "#fdca26"
             ],
             [
              1,
              "#f0f921"
             ]
            ],
            "type": "heatmap"
           }
          ],
          "heatmapgl": [
           {
            "colorbar": {
             "outlinewidth": 0,
             "ticks": ""
            },
            "colorscale": [
             [
              0,
              "#0d0887"
             ],
             [
              0.1111111111111111,
              "#46039f"
             ],
             [
              0.2222222222222222,
              "#7201a8"
             ],
             [
              0.3333333333333333,
              "#9c179e"
             ],
             [
              0.4444444444444444,
              "#bd3786"
             ],
             [
              0.5555555555555556,
              "#d8576b"
             ],
             [
              0.6666666666666666,
              "#ed7953"
             ],
             [
              0.7777777777777778,
              "#fb9f3a"
             ],
             [
              0.8888888888888888,
              "#fdca26"
             ],
             [
              1,
              "#f0f921"
             ]
            ],
            "type": "heatmapgl"
           }
          ],
          "histogram": [
           {
            "marker": {
             "pattern": {
              "fillmode": "overlay",
              "size": 10,
              "solidity": 0.2
             }
            },
            "type": "histogram"
           }
          ],
          "histogram2d": [
           {
            "colorbar": {
             "outlinewidth": 0,
             "ticks": ""
            },
            "colorscale": [
             [
              0,
              "#0d0887"
             ],
             [
              0.1111111111111111,
              "#46039f"
             ],
             [
              0.2222222222222222,
              "#7201a8"
             ],
             [
              0.3333333333333333,
              "#9c179e"
             ],
             [
              0.4444444444444444,
              "#bd3786"
             ],
             [
              0.5555555555555556,
              "#d8576b"
             ],
             [
              0.6666666666666666,
              "#ed7953"
             ],
             [
              0.7777777777777778,
              "#fb9f3a"
             ],
             [
              0.8888888888888888,
              "#fdca26"
             ],
             [
              1,
              "#f0f921"
             ]
            ],
            "type": "histogram2d"
           }
          ],
          "histogram2dcontour": [
           {
            "colorbar": {
             "outlinewidth": 0,
             "ticks": ""
            },
            "colorscale": [
             [
              0,
              "#0d0887"
             ],
             [
              0.1111111111111111,
              "#46039f"
             ],
             [
              0.2222222222222222,
              "#7201a8"
             ],
             [
              0.3333333333333333,
              "#9c179e"
             ],
             [
              0.4444444444444444,
              "#bd3786"
             ],
             [
              0.5555555555555556,
              "#d8576b"
             ],
             [
              0.6666666666666666,
              "#ed7953"
             ],
             [
              0.7777777777777778,
              "#fb9f3a"
             ],
             [
              0.8888888888888888,
              "#fdca26"
             ],
             [
              1,
              "#f0f921"
             ]
            ],
            "type": "histogram2dcontour"
           }
          ],
          "mesh3d": [
           {
            "colorbar": {
             "outlinewidth": 0,
             "ticks": ""
            },
            "type": "mesh3d"
           }
          ],
          "parcoords": [
           {
            "line": {
             "colorbar": {
              "outlinewidth": 0,
              "ticks": ""
             }
            },
            "type": "parcoords"
           }
          ],
          "pie": [
           {
            "automargin": true,
            "type": "pie"
           }
          ],
          "scatter": [
           {
            "fillpattern": {
             "fillmode": "overlay",
             "size": 10,
             "solidity": 0.2
            },
            "type": "scatter"
           }
          ],
          "scatter3d": [
           {
            "line": {
             "colorbar": {
              "outlinewidth": 0,
              "ticks": ""
             }
            },
            "marker": {
             "colorbar": {
              "outlinewidth": 0,
              "ticks": ""
             }
            },
            "type": "scatter3d"
           }
          ],
          "scattercarpet": [
           {
            "marker": {
             "colorbar": {
              "outlinewidth": 0,
              "ticks": ""
             }
            },
            "type": "scattercarpet"
           }
          ],
          "scattergeo": [
           {
            "marker": {
             "colorbar": {
              "outlinewidth": 0,
              "ticks": ""
             }
            },
            "type": "scattergeo"
           }
          ],
          "scattergl": [
           {
            "marker": {
             "colorbar": {
              "outlinewidth": 0,
              "ticks": ""
             }
            },
            "type": "scattergl"
           }
          ],
          "scattermapbox": [
           {
            "marker": {
             "colorbar": {
              "outlinewidth": 0,
              "ticks": ""
             }
            },
            "type": "scattermapbox"
           }
          ],
          "scatterpolar": [
           {
            "marker": {
             "colorbar": {
              "outlinewidth": 0,
              "ticks": ""
             }
            },
            "type": "scatterpolar"
           }
          ],
          "scatterpolargl": [
           {
            "marker": {
             "colorbar": {
              "outlinewidth": 0,
              "ticks": ""
             }
            },
            "type": "scatterpolargl"
           }
          ],
          "scatterternary": [
           {
            "marker": {
             "colorbar": {
              "outlinewidth": 0,
              "ticks": ""
             }
            },
            "type": "scatterternary"
           }
          ],
          "surface": [
           {
            "colorbar": {
             "outlinewidth": 0,
             "ticks": ""
            },
            "colorscale": [
             [
              0,
              "#0d0887"
             ],
             [
              0.1111111111111111,
              "#46039f"
             ],
             [
              0.2222222222222222,
              "#7201a8"
             ],
             [
              0.3333333333333333,
              "#9c179e"
             ],
             [
              0.4444444444444444,
              "#bd3786"
             ],
             [
              0.5555555555555556,
              "#d8576b"
             ],
             [
              0.6666666666666666,
              "#ed7953"
             ],
             [
              0.7777777777777778,
              "#fb9f3a"
             ],
             [
              0.8888888888888888,
              "#fdca26"
             ],
             [
              1,
              "#f0f921"
             ]
            ],
            "type": "surface"
           }
          ],
          "table": [
           {
            "cells": {
             "fill": {
              "color": "#EBF0F8"
             },
             "line": {
              "color": "white"
             }
            },
            "header": {
             "fill": {
              "color": "#C8D4E3"
             },
             "line": {
              "color": "white"
             }
            },
            "type": "table"
           }
          ]
         },
         "layout": {
          "annotationdefaults": {
           "arrowcolor": "#2a3f5f",
           "arrowhead": 0,
           "arrowwidth": 1
          },
          "autotypenumbers": "strict",
          "coloraxis": {
           "colorbar": {
            "outlinewidth": 0,
            "ticks": ""
           }
          },
          "colorscale": {
           "diverging": [
            [
             0,
             "#8e0152"
            ],
            [
             0.1,
             "#c51b7d"
            ],
            [
             0.2,
             "#de77ae"
            ],
            [
             0.3,
             "#f1b6da"
            ],
            [
             0.4,
             "#fde0ef"
            ],
            [
             0.5,
             "#f7f7f7"
            ],
            [
             0.6,
             "#e6f5d0"
            ],
            [
             0.7,
             "#b8e186"
            ],
            [
             0.8,
             "#7fbc41"
            ],
            [
             0.9,
             "#4d9221"
            ],
            [
             1,
             "#276419"
            ]
           ],
           "sequential": [
            [
             0,
             "#0d0887"
            ],
            [
             0.1111111111111111,
             "#46039f"
            ],
            [
             0.2222222222222222,
             "#7201a8"
            ],
            [
             0.3333333333333333,
             "#9c179e"
            ],
            [
             0.4444444444444444,
             "#bd3786"
            ],
            [
             0.5555555555555556,
             "#d8576b"
            ],
            [
             0.6666666666666666,
             "#ed7953"
            ],
            [
             0.7777777777777778,
             "#fb9f3a"
            ],
            [
             0.8888888888888888,
             "#fdca26"
            ],
            [
             1,
             "#f0f921"
            ]
           ],
           "sequentialminus": [
            [
             0,
             "#0d0887"
            ],
            [
             0.1111111111111111,
             "#46039f"
            ],
            [
             0.2222222222222222,
             "#7201a8"
            ],
            [
             0.3333333333333333,
             "#9c179e"
            ],
            [
             0.4444444444444444,
             "#bd3786"
            ],
            [
             0.5555555555555556,
             "#d8576b"
            ],
            [
             0.6666666666666666,
             "#ed7953"
            ],
            [
             0.7777777777777778,
             "#fb9f3a"
            ],
            [
             0.8888888888888888,
             "#fdca26"
            ],
            [
             1,
             "#f0f921"
            ]
           ]
          },
          "colorway": [
           "#636efa",
           "#EF553B",
           "#00cc96",
           "#ab63fa",
           "#FFA15A",
           "#19d3f3",
           "#FF6692",
           "#B6E880",
           "#FF97FF",
           "#FECB52"
          ],
          "font": {
           "color": "#2a3f5f"
          },
          "geo": {
           "bgcolor": "white",
           "lakecolor": "white",
           "landcolor": "#E5ECF6",
           "showlakes": true,
           "showland": true,
           "subunitcolor": "white"
          },
          "hoverlabel": {
           "align": "left"
          },
          "hovermode": "closest",
          "mapbox": {
           "style": "light"
          },
          "paper_bgcolor": "white",
          "plot_bgcolor": "#E5ECF6",
          "polar": {
           "angularaxis": {
            "gridcolor": "white",
            "linecolor": "white",
            "ticks": ""
           },
           "bgcolor": "#E5ECF6",
           "radialaxis": {
            "gridcolor": "white",
            "linecolor": "white",
            "ticks": ""
           }
          },
          "scene": {
           "xaxis": {
            "backgroundcolor": "#E5ECF6",
            "gridcolor": "white",
            "gridwidth": 2,
            "linecolor": "white",
            "showbackground": true,
            "ticks": "",
            "zerolinecolor": "white"
           },
           "yaxis": {
            "backgroundcolor": "#E5ECF6",
            "gridcolor": "white",
            "gridwidth": 2,
            "linecolor": "white",
            "showbackground": true,
            "ticks": "",
            "zerolinecolor": "white"
           },
           "zaxis": {
            "backgroundcolor": "#E5ECF6",
            "gridcolor": "white",
            "gridwidth": 2,
            "linecolor": "white",
            "showbackground": true,
            "ticks": "",
            "zerolinecolor": "white"
           }
          },
          "shapedefaults": {
           "line": {
            "color": "#2a3f5f"
           }
          },
          "ternary": {
           "aaxis": {
            "gridcolor": "white",
            "linecolor": "white",
            "ticks": ""
           },
           "baxis": {
            "gridcolor": "white",
            "linecolor": "white",
            "ticks": ""
           },
           "bgcolor": "#E5ECF6",
           "caxis": {
            "gridcolor": "white",
            "linecolor": "white",
            "ticks": ""
           }
          },
          "title": {
           "x": 0.05
          },
          "xaxis": {
           "automargin": true,
           "gridcolor": "white",
           "linecolor": "white",
           "ticks": "",
           "title": {
            "standoff": 15
           },
           "zerolinecolor": "white",
           "zerolinewidth": 2
          },
          "yaxis": {
           "automargin": true,
           "gridcolor": "white",
           "linecolor": "white",
           "ticks": "",
           "title": {
            "standoff": 15
           },
           "zerolinecolor": "white",
           "zerolinewidth": 2
          }
         }
        },
        "title": {
         "text": "Number of Available Bikes (Mechanical vs Electric) at Top 10 Busiest Stations (Updated: 2024-04-15T14:19:19+02:00)"
        },
        "xaxis": {
         "title": {
          "text": "Number of Bikes Available"
         }
        },
        "yaxis": {
         "title": {
          "text": "Station Name"
         }
        }
       }
      }
     },
     "metadata": {},
     "output_type": "display_data"
    }
   ],
   "source": [
    "# Sort the dataset by the total number of available bikes\n",
    "top_10_stations = dataset_clean.sort_values(by='Total Available Bikes', ascending=False).head(top_n)\n",
    "\n",
    "# Appending city name with station name\n",
    "top_10_stations['Station Name'] = top_10_stations['Station Name'] + ' (' + top_10_stations['Name of Equipped Municipality'] + ')'\n",
    "\n",
    "fig = go.Figure()\n",
    "\n",
    "fig.add_trace(go.Bar(\n",
    "    y=top_10_stations['Station Name'],\n",
    "    x=top_10_stations['Number of Mechanical Bikes Available'],\n",
    "    name='Mechanical Bikes',\n",
    "    orientation='h',\n",
    "    marker_color='#50C878'\n",
    "))\n",
    "\n",
    "fig.add_trace(go.Bar(\n",
    "    y=top_10_stations['Station Name'],\n",
    "    x=top_10_stations['Number of Electric Bikes Available'],\n",
    "    name='Electric Bikes',\n",
    "    orientation='h',\n",
    "    marker_color='#16E2F5'\n",
    "))\n",
    "\n",
    "fig.update_layout(\n",
    "    title=f'Number of Available Bikes (Mechanical vs Electric) at Top 10 Busiest Stations (Updated: {timestamp})',\n",
    "    xaxis_title='Number of Bikes Available',\n",
    "    yaxis_title='Station Name',\n",
    "    legend_title='Bike Type',\n",
    "    barmode='stack'\n",
    ")\n",
    "\n",
    "fig.show()\n"
   ]
  },
  {
   "cell_type": "code",
   "execution_count": 24,
   "metadata": {},
   "outputs": [
    {
     "data": {
      "application/vnd.plotly.v1+json": {
       "config": {
        "plotlyServerURL": "https://plot.ly"
       },
       "data": [
        {
         "customdata": [
          [
           "Malesherbes - Place de la Madeleine (Paris)"
          ],
          [
           "Place du Front Populaire - George Sand (Saint-Denis)"
          ],
          [
           "François Truffaut - Saint Emilion (Paris)"
          ],
          [
           "Place du Palais Royal (Paris)"
          ],
          [
           "Musée d'Orsay (Paris)"
          ],
          [
           "Censier - Santeuil (Paris)"
          ],
          [
           "Parc André Citroën (Paris)"
          ],
          [
           "Hôpital Européen Georges Pompidou (Paris)"
          ],
          [
           "BNF - Bibliothèque Nationale de France (Paris)"
          ],
          [
           "Place Lafayette (Issy-les-Moulineaux)"
          ]
         ],
         "hovertemplate": "<b>%{hovertext}</b><br><br>Latitude=%{lat}<br>Longitude=%{lon}<br>Station Name=%{customdata[0]}<extra></extra>",
         "hovertext": [
          "Malesherbes - Place de la Madeleine (Paris)",
          "Place du Front Populaire - George Sand (Saint-Denis)",
          "François Truffaut - Saint Emilion (Paris)",
          "Place du Palais Royal (Paris)",
          "Musée d'Orsay (Paris)",
          "Censier - Santeuil (Paris)",
          "Parc André Citroën (Paris)",
          "Hôpital Européen Georges Pompidou (Paris)",
          "BNF - Bibliothèque Nationale de France (Paris)",
          "Place Lafayette (Issy-les-Moulineaux)"
         ],
         "lat": [
          48.870406028483,
          48.90680713698062,
          48.83372354344807,
          48.862382970647,
          48.85972615790874,
          48.840658921385234,
          48.840639944296655,
          48.83769531916335,
          48.8350268238,
          48.829654975522
         ],
         "legendgroup": "",
         "lon": [
          2.323243509808,
          2.364541214992642,
          2.386601903271428,
          2.3384822532535,
          2.325860448181629,
          2.3537524044513702,
          2.2780618071556096,
          2.275374233722687,
          2.3760157451034,
          2.2638675570488
         ],
         "marker": {
          "color": "blue"
         },
         "mode": "markers",
         "name": "",
         "showlegend": false,
         "subplot": "mapbox",
         "type": "scattermapbox"
        }
       ],
       "layout": {
        "height": 600,
        "legend": {
         "tracegroupgap": 0
        },
        "mapbox": {
         "center": {
          "lat": 48.85167218216346,
          "lon": 2.3285801076989063
         },
         "domain": {
          "x": [
           0,
           1
          ],
          "y": [
           0,
           1
          ]
         },
         "style": "open-street-map",
         "zoom": 10
        },
        "margin": {
         "t": 60
        },
        "template": {
         "data": {
          "bar": [
           {
            "error_x": {
             "color": "#2a3f5f"
            },
            "error_y": {
             "color": "#2a3f5f"
            },
            "marker": {
             "line": {
              "color": "#E5ECF6",
              "width": 0.5
             },
             "pattern": {
              "fillmode": "overlay",
              "size": 10,
              "solidity": 0.2
             }
            },
            "type": "bar"
           }
          ],
          "barpolar": [
           {
            "marker": {
             "line": {
              "color": "#E5ECF6",
              "width": 0.5
             },
             "pattern": {
              "fillmode": "overlay",
              "size": 10,
              "solidity": 0.2
             }
            },
            "type": "barpolar"
           }
          ],
          "carpet": [
           {
            "aaxis": {
             "endlinecolor": "#2a3f5f",
             "gridcolor": "white",
             "linecolor": "white",
             "minorgridcolor": "white",
             "startlinecolor": "#2a3f5f"
            },
            "baxis": {
             "endlinecolor": "#2a3f5f",
             "gridcolor": "white",
             "linecolor": "white",
             "minorgridcolor": "white",
             "startlinecolor": "#2a3f5f"
            },
            "type": "carpet"
           }
          ],
          "choropleth": [
           {
            "colorbar": {
             "outlinewidth": 0,
             "ticks": ""
            },
            "type": "choropleth"
           }
          ],
          "contour": [
           {
            "colorbar": {
             "outlinewidth": 0,
             "ticks": ""
            },
            "colorscale": [
             [
              0,
              "#0d0887"
             ],
             [
              0.1111111111111111,
              "#46039f"
             ],
             [
              0.2222222222222222,
              "#7201a8"
             ],
             [
              0.3333333333333333,
              "#9c179e"
             ],
             [
              0.4444444444444444,
              "#bd3786"
             ],
             [
              0.5555555555555556,
              "#d8576b"
             ],
             [
              0.6666666666666666,
              "#ed7953"
             ],
             [
              0.7777777777777778,
              "#fb9f3a"
             ],
             [
              0.8888888888888888,
              "#fdca26"
             ],
             [
              1,
              "#f0f921"
             ]
            ],
            "type": "contour"
           }
          ],
          "contourcarpet": [
           {
            "colorbar": {
             "outlinewidth": 0,
             "ticks": ""
            },
            "type": "contourcarpet"
           }
          ],
          "heatmap": [
           {
            "colorbar": {
             "outlinewidth": 0,
             "ticks": ""
            },
            "colorscale": [
             [
              0,
              "#0d0887"
             ],
             [
              0.1111111111111111,
              "#46039f"
             ],
             [
              0.2222222222222222,
              "#7201a8"
             ],
             [
              0.3333333333333333,
              "#9c179e"
             ],
             [
              0.4444444444444444,
              "#bd3786"
             ],
             [
              0.5555555555555556,
              "#d8576b"
             ],
             [
              0.6666666666666666,
              "#ed7953"
             ],
             [
              0.7777777777777778,
              "#fb9f3a"
             ],
             [
              0.8888888888888888,
              "#fdca26"
             ],
             [
              1,
              "#f0f921"
             ]
            ],
            "type": "heatmap"
           }
          ],
          "heatmapgl": [
           {
            "colorbar": {
             "outlinewidth": 0,
             "ticks": ""
            },
            "colorscale": [
             [
              0,
              "#0d0887"
             ],
             [
              0.1111111111111111,
              "#46039f"
             ],
             [
              0.2222222222222222,
              "#7201a8"
             ],
             [
              0.3333333333333333,
              "#9c179e"
             ],
             [
              0.4444444444444444,
              "#bd3786"
             ],
             [
              0.5555555555555556,
              "#d8576b"
             ],
             [
              0.6666666666666666,
              "#ed7953"
             ],
             [
              0.7777777777777778,
              "#fb9f3a"
             ],
             [
              0.8888888888888888,
              "#fdca26"
             ],
             [
              1,
              "#f0f921"
             ]
            ],
            "type": "heatmapgl"
           }
          ],
          "histogram": [
           {
            "marker": {
             "pattern": {
              "fillmode": "overlay",
              "size": 10,
              "solidity": 0.2
             }
            },
            "type": "histogram"
           }
          ],
          "histogram2d": [
           {
            "colorbar": {
             "outlinewidth": 0,
             "ticks": ""
            },
            "colorscale": [
             [
              0,
              "#0d0887"
             ],
             [
              0.1111111111111111,
              "#46039f"
             ],
             [
              0.2222222222222222,
              "#7201a8"
             ],
             [
              0.3333333333333333,
              "#9c179e"
             ],
             [
              0.4444444444444444,
              "#bd3786"
             ],
             [
              0.5555555555555556,
              "#d8576b"
             ],
             [
              0.6666666666666666,
              "#ed7953"
             ],
             [
              0.7777777777777778,
              "#fb9f3a"
             ],
             [
              0.8888888888888888,
              "#fdca26"
             ],
             [
              1,
              "#f0f921"
             ]
            ],
            "type": "histogram2d"
           }
          ],
          "histogram2dcontour": [
           {
            "colorbar": {
             "outlinewidth": 0,
             "ticks": ""
            },
            "colorscale": [
             [
              0,
              "#0d0887"
             ],
             [
              0.1111111111111111,
              "#46039f"
             ],
             [
              0.2222222222222222,
              "#7201a8"
             ],
             [
              0.3333333333333333,
              "#9c179e"
             ],
             [
              0.4444444444444444,
              "#bd3786"
             ],
             [
              0.5555555555555556,
              "#d8576b"
             ],
             [
              0.6666666666666666,
              "#ed7953"
             ],
             [
              0.7777777777777778,
              "#fb9f3a"
             ],
             [
              0.8888888888888888,
              "#fdca26"
             ],
             [
              1,
              "#f0f921"
             ]
            ],
            "type": "histogram2dcontour"
           }
          ],
          "mesh3d": [
           {
            "colorbar": {
             "outlinewidth": 0,
             "ticks": ""
            },
            "type": "mesh3d"
           }
          ],
          "parcoords": [
           {
            "line": {
             "colorbar": {
              "outlinewidth": 0,
              "ticks": ""
             }
            },
            "type": "parcoords"
           }
          ],
          "pie": [
           {
            "automargin": true,
            "type": "pie"
           }
          ],
          "scatter": [
           {
            "fillpattern": {
             "fillmode": "overlay",
             "size": 10,
             "solidity": 0.2
            },
            "type": "scatter"
           }
          ],
          "scatter3d": [
           {
            "line": {
             "colorbar": {
              "outlinewidth": 0,
              "ticks": ""
             }
            },
            "marker": {
             "colorbar": {
              "outlinewidth": 0,
              "ticks": ""
             }
            },
            "type": "scatter3d"
           }
          ],
          "scattercarpet": [
           {
            "marker": {
             "colorbar": {
              "outlinewidth": 0,
              "ticks": ""
             }
            },
            "type": "scattercarpet"
           }
          ],
          "scattergeo": [
           {
            "marker": {
             "colorbar": {
              "outlinewidth": 0,
              "ticks": ""
             }
            },
            "type": "scattergeo"
           }
          ],
          "scattergl": [
           {
            "marker": {
             "colorbar": {
              "outlinewidth": 0,
              "ticks": ""
             }
            },
            "type": "scattergl"
           }
          ],
          "scattermapbox": [
           {
            "marker": {
             "colorbar": {
              "outlinewidth": 0,
              "ticks": ""
             }
            },
            "type": "scattermapbox"
           }
          ],
          "scatterpolar": [
           {
            "marker": {
             "colorbar": {
              "outlinewidth": 0,
              "ticks": ""
             }
            },
            "type": "scatterpolar"
           }
          ],
          "scatterpolargl": [
           {
            "marker": {
             "colorbar": {
              "outlinewidth": 0,
              "ticks": ""
             }
            },
            "type": "scatterpolargl"
           }
          ],
          "scatterternary": [
           {
            "marker": {
             "colorbar": {
              "outlinewidth": 0,
              "ticks": ""
             }
            },
            "type": "scatterternary"
           }
          ],
          "surface": [
           {
            "colorbar": {
             "outlinewidth": 0,
             "ticks": ""
            },
            "colorscale": [
             [
              0,
              "#0d0887"
             ],
             [
              0.1111111111111111,
              "#46039f"
             ],
             [
              0.2222222222222222,
              "#7201a8"
             ],
             [
              0.3333333333333333,
              "#9c179e"
             ],
             [
              0.4444444444444444,
              "#bd3786"
             ],
             [
              0.5555555555555556,
              "#d8576b"
             ],
             [
              0.6666666666666666,
              "#ed7953"
             ],
             [
              0.7777777777777778,
              "#fb9f3a"
             ],
             [
              0.8888888888888888,
              "#fdca26"
             ],
             [
              1,
              "#f0f921"
             ]
            ],
            "type": "surface"
           }
          ],
          "table": [
           {
            "cells": {
             "fill": {
              "color": "#EBF0F8"
             },
             "line": {
              "color": "white"
             }
            },
            "header": {
             "fill": {
              "color": "#C8D4E3"
             },
             "line": {
              "color": "white"
             }
            },
            "type": "table"
           }
          ]
         },
         "layout": {
          "annotationdefaults": {
           "arrowcolor": "#2a3f5f",
           "arrowhead": 0,
           "arrowwidth": 1
          },
          "autotypenumbers": "strict",
          "coloraxis": {
           "colorbar": {
            "outlinewidth": 0,
            "ticks": ""
           }
          },
          "colorscale": {
           "diverging": [
            [
             0,
             "#8e0152"
            ],
            [
             0.1,
             "#c51b7d"
            ],
            [
             0.2,
             "#de77ae"
            ],
            [
             0.3,
             "#f1b6da"
            ],
            [
             0.4,
             "#fde0ef"
            ],
            [
             0.5,
             "#f7f7f7"
            ],
            [
             0.6,
             "#e6f5d0"
            ],
            [
             0.7,
             "#b8e186"
            ],
            [
             0.8,
             "#7fbc41"
            ],
            [
             0.9,
             "#4d9221"
            ],
            [
             1,
             "#276419"
            ]
           ],
           "sequential": [
            [
             0,
             "#0d0887"
            ],
            [
             0.1111111111111111,
             "#46039f"
            ],
            [
             0.2222222222222222,
             "#7201a8"
            ],
            [
             0.3333333333333333,
             "#9c179e"
            ],
            [
             0.4444444444444444,
             "#bd3786"
            ],
            [
             0.5555555555555556,
             "#d8576b"
            ],
            [
             0.6666666666666666,
             "#ed7953"
            ],
            [
             0.7777777777777778,
             "#fb9f3a"
            ],
            [
             0.8888888888888888,
             "#fdca26"
            ],
            [
             1,
             "#f0f921"
            ]
           ],
           "sequentialminus": [
            [
             0,
             "#0d0887"
            ],
            [
             0.1111111111111111,
             "#46039f"
            ],
            [
             0.2222222222222222,
             "#7201a8"
            ],
            [
             0.3333333333333333,
             "#9c179e"
            ],
            [
             0.4444444444444444,
             "#bd3786"
            ],
            [
             0.5555555555555556,
             "#d8576b"
            ],
            [
             0.6666666666666666,
             "#ed7953"
            ],
            [
             0.7777777777777778,
             "#fb9f3a"
            ],
            [
             0.8888888888888888,
             "#fdca26"
            ],
            [
             1,
             "#f0f921"
            ]
           ]
          },
          "colorway": [
           "#636efa",
           "#EF553B",
           "#00cc96",
           "#ab63fa",
           "#FFA15A",
           "#19d3f3",
           "#FF6692",
           "#B6E880",
           "#FF97FF",
           "#FECB52"
          ],
          "font": {
           "color": "#2a3f5f"
          },
          "geo": {
           "bgcolor": "white",
           "lakecolor": "white",
           "landcolor": "#E5ECF6",
           "showlakes": true,
           "showland": true,
           "subunitcolor": "white"
          },
          "hoverlabel": {
           "align": "left"
          },
          "hovermode": "closest",
          "mapbox": {
           "style": "light"
          },
          "paper_bgcolor": "white",
          "plot_bgcolor": "#E5ECF6",
          "polar": {
           "angularaxis": {
            "gridcolor": "white",
            "linecolor": "white",
            "ticks": ""
           },
           "bgcolor": "#E5ECF6",
           "radialaxis": {
            "gridcolor": "white",
            "linecolor": "white",
            "ticks": ""
           }
          },
          "scene": {
           "xaxis": {
            "backgroundcolor": "#E5ECF6",
            "gridcolor": "white",
            "gridwidth": 2,
            "linecolor": "white",
            "showbackground": true,
            "ticks": "",
            "zerolinecolor": "white"
           },
           "yaxis": {
            "backgroundcolor": "#E5ECF6",
            "gridcolor": "white",
            "gridwidth": 2,
            "linecolor": "white",
            "showbackground": true,
            "ticks": "",
            "zerolinecolor": "white"
           },
           "zaxis": {
            "backgroundcolor": "#E5ECF6",
            "gridcolor": "white",
            "gridwidth": 2,
            "linecolor": "white",
            "showbackground": true,
            "ticks": "",
            "zerolinecolor": "white"
           }
          },
          "shapedefaults": {
           "line": {
            "color": "#2a3f5f"
           }
          },
          "ternary": {
           "aaxis": {
            "gridcolor": "white",
            "linecolor": "white",
            "ticks": ""
           },
           "baxis": {
            "gridcolor": "white",
            "linecolor": "white",
            "ticks": ""
           },
           "bgcolor": "#E5ECF6",
           "caxis": {
            "gridcolor": "white",
            "linecolor": "white",
            "ticks": ""
           }
          },
          "title": {
           "x": 0.05
          },
          "xaxis": {
           "automargin": true,
           "gridcolor": "white",
           "linecolor": "white",
           "ticks": "",
           "title": {
            "standoff": 15
           },
           "zerolinecolor": "white",
           "zerolinewidth": 2
          },
          "yaxis": {
           "automargin": true,
           "gridcolor": "white",
           "linecolor": "white",
           "ticks": "",
           "title": {
            "standoff": 15
           },
           "zerolinecolor": "white",
           "zerolinewidth": 2
          }
         }
        },
        "title": {
         "text": "Top 10 Busiest Stations (Updated: 2024-04-15T14:19:19+02:00)"
        }
       }
      }
     },
     "metadata": {},
     "output_type": "display_data"
    }
   ],
   "source": [
    "# Extract latitude and longitude\n",
    "top_10_stations[['Latitude', 'Longitude']] = dataset_clean['Geographic Coordinates'].str.split(', ', expand=True).astype(float)\n",
    "\n",
    "# Create a scatter plot on a map for the top 10 stations\n",
    "fig = px.scatter_mapbox(top_10_stations, lat=\"Latitude\", lon=\"Longitude\",\n",
    "                        hover_name=\"Station Name\", hover_data=[\"Station Name\"],\n",
    "                        color_discrete_sequence=[\"blue\"], zoom=10, height=600)\n",
    "\n",
    "# Update layout and display the figure\n",
    "fig.update_layout(mapbox_style=\"open-street-map\")\n",
    "fig.update_layout(title=f'Top 10 Busiest Stations (Updated: {timestamp})')\n",
    "fig.show()\n"
   ]
  },
  {
   "cell_type": "markdown",
   "metadata": {},
   "source": [
    "Insights:\n",
    "1. From the map, it is interesting to see that 7 of 10 busiest stations are located along the seine, it may indicates that people like riding bikes along the seine. \n",
    "2. The other three are Opéra(tourist attraction), Censier - Santeuil, Place du Populaire - George Stand(near a park)"
   ]
  },
  {
   "cell_type": "markdown",
   "metadata": {},
   "source": [
    "#### Limitations:\n",
    "The availability of bikes may vary throughout the day due to factors such as usage patterns, maintenance, and replenishment, which are not captured in this static analysis."
   ]
  },
  {
   "cell_type": "markdown",
   "metadata": {},
   "source": [
    "### 2. How does the availability of service amenities, such as return and payment terminals, vary across different areas?\n",
    "\n",
    "**Relevance:** This sub-question focuses on investigating the availability of service amenities, such as return and payment terminals, across various areas. "
   ]
  },
  {
   "cell_type": "code",
   "execution_count": 25,
   "metadata": {},
   "outputs": [
    {
     "data": {
      "application/vnd.plotly.v1+json": {
       "config": {
        "plotlyServerURL": "https://plot.ly"
       },
       "data": [
        {
         "marker": {
          "color": "green"
         },
         "name": "OUI",
         "showlegend": true,
         "text": [
          "967"
         ],
         "textposition": "auto",
         "type": "bar",
         "width": 0.4,
         "x": [
          -0.2
         ],
         "y": [
          967
         ]
        },
        {
         "marker": {
          "color": "red"
         },
         "name": "NON",
         "showlegend": true,
         "text": [
          "24"
         ],
         "textposition": "auto",
         "type": "bar",
         "width": 0.4,
         "x": [
          0.2
         ],
         "y": [
          24
         ]
        },
        {
         "marker": {
          "color": "green"
         },
         "name": "OUI",
         "showlegend": false,
         "text": [
          "29"
         ],
         "textposition": "auto",
         "type": "bar",
         "width": 0.4,
         "x": [
          0.8
         ],
         "y": [
          29
         ]
        },
        {
         "marker": {
          "color": "red"
         },
         "name": "NON",
         "showlegend": false,
         "text": [
          "0"
         ],
         "textposition": "auto",
         "type": "bar",
         "width": 0.4,
         "x": [
          1.2
         ],
         "y": [
          0
         ]
        },
        {
         "marker": {
          "color": "green"
         },
         "name": "OUI",
         "showlegend": false,
         "text": [
          "23"
         ],
         "textposition": "auto",
         "type": "bar",
         "width": 0.4,
         "x": [
          1.8
         ],
         "y": [
          23
         ]
        },
        {
         "marker": {
          "color": "red"
         },
         "name": "NON",
         "showlegend": false,
         "text": [
          "0"
         ],
         "textposition": "auto",
         "type": "bar",
         "width": 0.4,
         "x": [
          2.2
         ],
         "y": [
          0
         ]
        },
        {
         "marker": {
          "color": "green"
         },
         "name": "OUI",
         "showlegend": false,
         "text": [
          "22"
         ],
         "textposition": "auto",
         "type": "bar",
         "width": 0.4,
         "x": [
          2.8
         ],
         "y": [
          22
         ]
        },
        {
         "marker": {
          "color": "red"
         },
         "name": "NON",
         "showlegend": false,
         "text": [
          "0"
         ],
         "textposition": "auto",
         "type": "bar",
         "width": 0.4,
         "x": [
          3.2
         ],
         "y": [
          0
         ]
        },
        {
         "marker": {
          "color": "green"
         },
         "name": "OUI",
         "showlegend": false,
         "text": [
          "19"
         ],
         "textposition": "auto",
         "type": "bar",
         "width": 0.4,
         "x": [
          3.8
         ],
         "y": [
          19
         ]
        },
        {
         "marker": {
          "color": "red"
         },
         "name": "NON",
         "showlegend": false,
         "text": [
          "2"
         ],
         "textposition": "auto",
         "type": "bar",
         "width": 0.4,
         "x": [
          4.2
         ],
         "y": [
          2
         ]
        },
        {
         "marker": {
          "color": "green"
         },
         "name": "OUI",
         "showlegend": false,
         "text": [
          "18"
         ],
         "textposition": "auto",
         "type": "bar",
         "width": 0.4,
         "x": [
          4.8
         ],
         "y": [
          18
         ]
        },
        {
         "marker": {
          "color": "red"
         },
         "name": "NON",
         "showlegend": false,
         "text": [
          "0"
         ],
         "textposition": "auto",
         "type": "bar",
         "width": 0.4,
         "x": [
          5.2
         ],
         "y": [
          0
         ]
        },
        {
         "marker": {
          "color": "green"
         },
         "name": "OUI",
         "showlegend": false,
         "text": [
          "18"
         ],
         "textposition": "auto",
         "type": "bar",
         "width": 0.4,
         "x": [
          5.8
         ],
         "y": [
          18
         ]
        },
        {
         "marker": {
          "color": "red"
         },
         "name": "NON",
         "showlegend": false,
         "text": [
          "0"
         ],
         "textposition": "auto",
         "type": "bar",
         "width": 0.4,
         "x": [
          6.2
         ],
         "y": [
          0
         ]
        },
        {
         "marker": {
          "color": "green"
         },
         "name": "OUI",
         "showlegend": false,
         "text": [
          "15"
         ],
         "textposition": "auto",
         "type": "bar",
         "width": 0.4,
         "x": [
          6.8
         ],
         "y": [
          15
         ]
        },
        {
         "marker": {
          "color": "red"
         },
         "name": "NON",
         "showlegend": false,
         "text": [
          "1"
         ],
         "textposition": "auto",
         "type": "bar",
         "width": 0.4,
         "x": [
          7.2
         ],
         "y": [
          1
         ]
        },
        {
         "marker": {
          "color": "green"
         },
         "name": "OUI",
         "showlegend": false,
         "text": [
          "13"
         ],
         "textposition": "auto",
         "type": "bar",
         "width": 0.4,
         "x": [
          7.8
         ],
         "y": [
          13
         ]
        },
        {
         "marker": {
          "color": "red"
         },
         "name": "NON",
         "showlegend": false,
         "text": [
          "0"
         ],
         "textposition": "auto",
         "type": "bar",
         "width": 0.4,
         "x": [
          8.2
         ],
         "y": [
          0
         ]
        },
        {
         "marker": {
          "color": "green"
         },
         "name": "OUI",
         "showlegend": false,
         "text": [
          "12"
         ],
         "textposition": "auto",
         "type": "bar",
         "width": 0.4,
         "x": [
          8.8
         ],
         "y": [
          12
         ]
        },
        {
         "marker": {
          "color": "red"
         },
         "name": "NON",
         "showlegend": false,
         "text": [
          "1"
         ],
         "textposition": "auto",
         "type": "bar",
         "width": 0.4,
         "x": [
          9.2
         ],
         "y": [
          1
         ]
        }
       ],
       "layout": {
        "barmode": "group",
        "height": 600,
        "legend": {
         "title": {
          "text": "Retour vélib possible"
         }
        },
        "template": {
         "data": {
          "bar": [
           {
            "error_x": {
             "color": "#2a3f5f"
            },
            "error_y": {
             "color": "#2a3f5f"
            },
            "marker": {
             "line": {
              "color": "#E5ECF6",
              "width": 0.5
             },
             "pattern": {
              "fillmode": "overlay",
              "size": 10,
              "solidity": 0.2
             }
            },
            "type": "bar"
           }
          ],
          "barpolar": [
           {
            "marker": {
             "line": {
              "color": "#E5ECF6",
              "width": 0.5
             },
             "pattern": {
              "fillmode": "overlay",
              "size": 10,
              "solidity": 0.2
             }
            },
            "type": "barpolar"
           }
          ],
          "carpet": [
           {
            "aaxis": {
             "endlinecolor": "#2a3f5f",
             "gridcolor": "white",
             "linecolor": "white",
             "minorgridcolor": "white",
             "startlinecolor": "#2a3f5f"
            },
            "baxis": {
             "endlinecolor": "#2a3f5f",
             "gridcolor": "white",
             "linecolor": "white",
             "minorgridcolor": "white",
             "startlinecolor": "#2a3f5f"
            },
            "type": "carpet"
           }
          ],
          "choropleth": [
           {
            "colorbar": {
             "outlinewidth": 0,
             "ticks": ""
            },
            "type": "choropleth"
           }
          ],
          "contour": [
           {
            "colorbar": {
             "outlinewidth": 0,
             "ticks": ""
            },
            "colorscale": [
             [
              0,
              "#0d0887"
             ],
             [
              0.1111111111111111,
              "#46039f"
             ],
             [
              0.2222222222222222,
              "#7201a8"
             ],
             [
              0.3333333333333333,
              "#9c179e"
             ],
             [
              0.4444444444444444,
              "#bd3786"
             ],
             [
              0.5555555555555556,
              "#d8576b"
             ],
             [
              0.6666666666666666,
              "#ed7953"
             ],
             [
              0.7777777777777778,
              "#fb9f3a"
             ],
             [
              0.8888888888888888,
              "#fdca26"
             ],
             [
              1,
              "#f0f921"
             ]
            ],
            "type": "contour"
           }
          ],
          "contourcarpet": [
           {
            "colorbar": {
             "outlinewidth": 0,
             "ticks": ""
            },
            "type": "contourcarpet"
           }
          ],
          "heatmap": [
           {
            "colorbar": {
             "outlinewidth": 0,
             "ticks": ""
            },
            "colorscale": [
             [
              0,
              "#0d0887"
             ],
             [
              0.1111111111111111,
              "#46039f"
             ],
             [
              0.2222222222222222,
              "#7201a8"
             ],
             [
              0.3333333333333333,
              "#9c179e"
             ],
             [
              0.4444444444444444,
              "#bd3786"
             ],
             [
              0.5555555555555556,
              "#d8576b"
             ],
             [
              0.6666666666666666,
              "#ed7953"
             ],
             [
              0.7777777777777778,
              "#fb9f3a"
             ],
             [
              0.8888888888888888,
              "#fdca26"
             ],
             [
              1,
              "#f0f921"
             ]
            ],
            "type": "heatmap"
           }
          ],
          "heatmapgl": [
           {
            "colorbar": {
             "outlinewidth": 0,
             "ticks": ""
            },
            "colorscale": [
             [
              0,
              "#0d0887"
             ],
             [
              0.1111111111111111,
              "#46039f"
             ],
             [
              0.2222222222222222,
              "#7201a8"
             ],
             [
              0.3333333333333333,
              "#9c179e"
             ],
             [
              0.4444444444444444,
              "#bd3786"
             ],
             [
              0.5555555555555556,
              "#d8576b"
             ],
             [
              0.6666666666666666,
              "#ed7953"
             ],
             [
              0.7777777777777778,
              "#fb9f3a"
             ],
             [
              0.8888888888888888,
              "#fdca26"
             ],
             [
              1,
              "#f0f921"
             ]
            ],
            "type": "heatmapgl"
           }
          ],
          "histogram": [
           {
            "marker": {
             "pattern": {
              "fillmode": "overlay",
              "size": 10,
              "solidity": 0.2
             }
            },
            "type": "histogram"
           }
          ],
          "histogram2d": [
           {
            "colorbar": {
             "outlinewidth": 0,
             "ticks": ""
            },
            "colorscale": [
             [
              0,
              "#0d0887"
             ],
             [
              0.1111111111111111,
              "#46039f"
             ],
             [
              0.2222222222222222,
              "#7201a8"
             ],
             [
              0.3333333333333333,
              "#9c179e"
             ],
             [
              0.4444444444444444,
              "#bd3786"
             ],
             [
              0.5555555555555556,
              "#d8576b"
             ],
             [
              0.6666666666666666,
              "#ed7953"
             ],
             [
              0.7777777777777778,
              "#fb9f3a"
             ],
             [
              0.8888888888888888,
              "#fdca26"
             ],
             [
              1,
              "#f0f921"
             ]
            ],
            "type": "histogram2d"
           }
          ],
          "histogram2dcontour": [
           {
            "colorbar": {
             "outlinewidth": 0,
             "ticks": ""
            },
            "colorscale": [
             [
              0,
              "#0d0887"
             ],
             [
              0.1111111111111111,
              "#46039f"
             ],
             [
              0.2222222222222222,
              "#7201a8"
             ],
             [
              0.3333333333333333,
              "#9c179e"
             ],
             [
              0.4444444444444444,
              "#bd3786"
             ],
             [
              0.5555555555555556,
              "#d8576b"
             ],
             [
              0.6666666666666666,
              "#ed7953"
             ],
             [
              0.7777777777777778,
              "#fb9f3a"
             ],
             [
              0.8888888888888888,
              "#fdca26"
             ],
             [
              1,
              "#f0f921"
             ]
            ],
            "type": "histogram2dcontour"
           }
          ],
          "mesh3d": [
           {
            "colorbar": {
             "outlinewidth": 0,
             "ticks": ""
            },
            "type": "mesh3d"
           }
          ],
          "parcoords": [
           {
            "line": {
             "colorbar": {
              "outlinewidth": 0,
              "ticks": ""
             }
            },
            "type": "parcoords"
           }
          ],
          "pie": [
           {
            "automargin": true,
            "type": "pie"
           }
          ],
          "scatter": [
           {
            "fillpattern": {
             "fillmode": "overlay",
             "size": 10,
             "solidity": 0.2
            },
            "type": "scatter"
           }
          ],
          "scatter3d": [
           {
            "line": {
             "colorbar": {
              "outlinewidth": 0,
              "ticks": ""
             }
            },
            "marker": {
             "colorbar": {
              "outlinewidth": 0,
              "ticks": ""
             }
            },
            "type": "scatter3d"
           }
          ],
          "scattercarpet": [
           {
            "marker": {
             "colorbar": {
              "outlinewidth": 0,
              "ticks": ""
             }
            },
            "type": "scattercarpet"
           }
          ],
          "scattergeo": [
           {
            "marker": {
             "colorbar": {
              "outlinewidth": 0,
              "ticks": ""
             }
            },
            "type": "scattergeo"
           }
          ],
          "scattergl": [
           {
            "marker": {
             "colorbar": {
              "outlinewidth": 0,
              "ticks": ""
             }
            },
            "type": "scattergl"
           }
          ],
          "scattermapbox": [
           {
            "marker": {
             "colorbar": {
              "outlinewidth": 0,
              "ticks": ""
             }
            },
            "type": "scattermapbox"
           }
          ],
          "scatterpolar": [
           {
            "marker": {
             "colorbar": {
              "outlinewidth": 0,
              "ticks": ""
             }
            },
            "type": "scatterpolar"
           }
          ],
          "scatterpolargl": [
           {
            "marker": {
             "colorbar": {
              "outlinewidth": 0,
              "ticks": ""
             }
            },
            "type": "scatterpolargl"
           }
          ],
          "scatterternary": [
           {
            "marker": {
             "colorbar": {
              "outlinewidth": 0,
              "ticks": ""
             }
            },
            "type": "scatterternary"
           }
          ],
          "surface": [
           {
            "colorbar": {
             "outlinewidth": 0,
             "ticks": ""
            },
            "colorscale": [
             [
              0,
              "#0d0887"
             ],
             [
              0.1111111111111111,
              "#46039f"
             ],
             [
              0.2222222222222222,
              "#7201a8"
             ],
             [
              0.3333333333333333,
              "#9c179e"
             ],
             [
              0.4444444444444444,
              "#bd3786"
             ],
             [
              0.5555555555555556,
              "#d8576b"
             ],
             [
              0.6666666666666666,
              "#ed7953"
             ],
             [
              0.7777777777777778,
              "#fb9f3a"
             ],
             [
              0.8888888888888888,
              "#fdca26"
             ],
             [
              1,
              "#f0f921"
             ]
            ],
            "type": "surface"
           }
          ],
          "table": [
           {
            "cells": {
             "fill": {
              "color": "#EBF0F8"
             },
             "line": {
              "color": "white"
             }
            },
            "header": {
             "fill": {
              "color": "#C8D4E3"
             },
             "line": {
              "color": "white"
             }
            },
            "type": "table"
           }
          ]
         },
         "layout": {
          "annotationdefaults": {
           "arrowcolor": "#2a3f5f",
           "arrowhead": 0,
           "arrowwidth": 1
          },
          "autotypenumbers": "strict",
          "coloraxis": {
           "colorbar": {
            "outlinewidth": 0,
            "ticks": ""
           }
          },
          "colorscale": {
           "diverging": [
            [
             0,
             "#8e0152"
            ],
            [
             0.1,
             "#c51b7d"
            ],
            [
             0.2,
             "#de77ae"
            ],
            [
             0.3,
             "#f1b6da"
            ],
            [
             0.4,
             "#fde0ef"
            ],
            [
             0.5,
             "#f7f7f7"
            ],
            [
             0.6,
             "#e6f5d0"
            ],
            [
             0.7,
             "#b8e186"
            ],
            [
             0.8,
             "#7fbc41"
            ],
            [
             0.9,
             "#4d9221"
            ],
            [
             1,
             "#276419"
            ]
           ],
           "sequential": [
            [
             0,
             "#0d0887"
            ],
            [
             0.1111111111111111,
             "#46039f"
            ],
            [
             0.2222222222222222,
             "#7201a8"
            ],
            [
             0.3333333333333333,
             "#9c179e"
            ],
            [
             0.4444444444444444,
             "#bd3786"
            ],
            [
             0.5555555555555556,
             "#d8576b"
            ],
            [
             0.6666666666666666,
             "#ed7953"
            ],
            [
             0.7777777777777778,
             "#fb9f3a"
            ],
            [
             0.8888888888888888,
             "#fdca26"
            ],
            [
             1,
             "#f0f921"
            ]
           ],
           "sequentialminus": [
            [
             0,
             "#0d0887"
            ],
            [
             0.1111111111111111,
             "#46039f"
            ],
            [
             0.2222222222222222,
             "#7201a8"
            ],
            [
             0.3333333333333333,
             "#9c179e"
            ],
            [
             0.4444444444444444,
             "#bd3786"
            ],
            [
             0.5555555555555556,
             "#d8576b"
            ],
            [
             0.6666666666666666,
             "#ed7953"
            ],
            [
             0.7777777777777778,
             "#fb9f3a"
            ],
            [
             0.8888888888888888,
             "#fdca26"
            ],
            [
             1,
             "#f0f921"
            ]
           ]
          },
          "colorway": [
           "#636efa",
           "#EF553B",
           "#00cc96",
           "#ab63fa",
           "#FFA15A",
           "#19d3f3",
           "#FF6692",
           "#B6E880",
           "#FF97FF",
           "#FECB52"
          ],
          "font": {
           "color": "#2a3f5f"
          },
          "geo": {
           "bgcolor": "white",
           "lakecolor": "white",
           "landcolor": "#E5ECF6",
           "showlakes": true,
           "showland": true,
           "subunitcolor": "white"
          },
          "hoverlabel": {
           "align": "left"
          },
          "hovermode": "closest",
          "mapbox": {
           "style": "light"
          },
          "paper_bgcolor": "white",
          "plot_bgcolor": "#E5ECF6",
          "polar": {
           "angularaxis": {
            "gridcolor": "white",
            "linecolor": "white",
            "ticks": ""
           },
           "bgcolor": "#E5ECF6",
           "radialaxis": {
            "gridcolor": "white",
            "linecolor": "white",
            "ticks": ""
           }
          },
          "scene": {
           "xaxis": {
            "backgroundcolor": "#E5ECF6",
            "gridcolor": "white",
            "gridwidth": 2,
            "linecolor": "white",
            "showbackground": true,
            "ticks": "",
            "zerolinecolor": "white"
           },
           "yaxis": {
            "backgroundcolor": "#E5ECF6",
            "gridcolor": "white",
            "gridwidth": 2,
            "linecolor": "white",
            "showbackground": true,
            "ticks": "",
            "zerolinecolor": "white"
           },
           "zaxis": {
            "backgroundcolor": "#E5ECF6",
            "gridcolor": "white",
            "gridwidth": 2,
            "linecolor": "white",
            "showbackground": true,
            "ticks": "",
            "zerolinecolor": "white"
           }
          },
          "shapedefaults": {
           "line": {
            "color": "#2a3f5f"
           }
          },
          "ternary": {
           "aaxis": {
            "gridcolor": "white",
            "linecolor": "white",
            "ticks": ""
           },
           "baxis": {
            "gridcolor": "white",
            "linecolor": "white",
            "ticks": ""
           },
           "bgcolor": "#E5ECF6",
           "caxis": {
            "gridcolor": "white",
            "linecolor": "white",
            "ticks": ""
           }
          },
          "title": {
           "x": 0.05
          },
          "xaxis": {
           "automargin": true,
           "gridcolor": "white",
           "linecolor": "white",
           "ticks": "",
           "title": {
            "standoff": 15
           },
           "zerolinecolor": "white",
           "zerolinewidth": 2
          },
          "yaxis": {
           "automargin": true,
           "gridcolor": "white",
           "linecolor": "white",
           "ticks": "",
           "title": {
            "standoff": 15
           },
           "zerolinecolor": "white",
           "zerolinewidth": 2
          }
         }
        },
        "title": {
         "text": "Counts of Availability for Return Terminals Across Top Ten Areas (Updated: 2024-04-15T14:19:19+02:00)"
        },
        "width": 1000,
        "xaxis": {
         "tickmode": "array",
         "ticktext": [
          "Paris",
          "Boulogne-Billancourt",
          "Montreuil",
          "Issy-les-Moulineaux",
          "Pantin",
          "Ivry-sur-Seine",
          "Saint-Denis",
          "Vitry-sur-Seine",
          "Montrouge",
          "Neuilly-sur-Seine"
         ],
         "tickvals": [
          0,
          1,
          2,
          3,
          4,
          5,
          6,
          7,
          8,
          9
         ],
         "title": {
          "text": "Area"
         }
        },
        "yaxis": {
         "title": {
          "text": "Count"
         }
        }
       }
      }
     },
     "metadata": {},
     "output_type": "display_data"
    }
   ],
   "source": [
    "# Group the data by the area column and calculate the total counts\n",
    "return_counts = dataset_clean.groupby('Name of Equipped Municipality')['Possibility of Returning a Vélib Bike'] \\\n",
    "                        .value_counts() \\\n",
    "                        .unstack(fill_value=0)\n",
    "\n",
    "# Calculate the total return counts for each area\n",
    "return_counts['Total'] = return_counts['OUI'] + return_counts['NON']\n",
    "\n",
    "# Sort the areas based on the total number of return counts and select the top ten areas\n",
    "top_ten_areas = return_counts.sort_values(by='Total', ascending=False).head(10)\n",
    "\n",
    "bar_width = 0.4\n",
    "\n",
    "fig = go.Figure()\n",
    "\n",
    "for i, area in enumerate(top_ten_areas.index):\n",
    "    oui_count = top_ten_areas.loc[area, 'OUI']\n",
    "    non_count = top_ten_areas.loc[area, 'NON']\n",
    "\n",
    "    # Calculate the x-coordinate for the bars based on the index\n",
    "    x_oui = i - 0.2  # Shift 'OUI' bar to the left\n",
    "    x_non = i + 0.2  # Shift 'NON' bar to the right\n",
    "\n",
    "    if area == top_ten_areas.index[0]:\n",
    "        fig.add_trace(\n",
    "            go.Bar(\n",
    "                x=[x_oui],\n",
    "                y=[oui_count],\n",
    "                name='OUI',\n",
    "                text=[oui_count],\n",
    "                textposition='auto',\n",
    "                marker_color='green',\n",
    "                width=bar_width,\n",
    "                showlegend=True))\n",
    "    else:\n",
    "        fig.add_trace(\n",
    "            go.Bar(\n",
    "                x=[x_oui],\n",
    "                y=[oui_count],\n",
    "                name='OUI',\n",
    "                text=[oui_count],\n",
    "                textposition='auto',\n",
    "                marker_color='green',\n",
    "                width=bar_width,\n",
    "                showlegend=False))\n",
    "\n",
    "    if area == top_ten_areas.index[0]:\n",
    "        fig.add_trace(\n",
    "            go.Bar(\n",
    "                x=[x_non],\n",
    "                y=[non_count],\n",
    "                name='NON',\n",
    "                text=[non_count],\n",
    "                textposition='auto',\n",
    "                marker_color='red',\n",
    "                width=bar_width,\n",
    "                showlegend=True))\n",
    "    else:\n",
    "        fig.add_trace(\n",
    "            go.Bar(\n",
    "                x=[x_non],\n",
    "                y=[non_count],\n",
    "                name='NON',\n",
    "                text=[non_count],\n",
    "                textposition='auto',\n",
    "                marker_color='red',\n",
    "                width=bar_width,\n",
    "                showlegend=False))\n",
    "\n",
    "# Manually specify the positions and labels of the x-axis ticks\n",
    "tickvals = list(range(len(top_ten_areas.index)))\n",
    "ticktext = top_ten_areas.index\n",
    "\n",
    "fig.update_layout(title=f'Counts of Availability for Return Terminals Across Top Ten Areas (Updated: {timestamp})',\n",
    "                  xaxis_title='Area', yaxis_title='Count', barmode='group', legend_title='Retour vélib possible',\n",
    "                  xaxis=dict(tickmode='array', tickvals=tickvals, ticktext=ticktext),\n",
    "                  width=1000, height=600)\n",
    "\n",
    "fig.show()\n"
   ]
  },
  {
   "cell_type": "code",
   "execution_count": 26,
   "metadata": {},
   "outputs": [
    {
     "data": {
      "application/vnd.plotly.v1+json": {
       "config": {
        "plotlyServerURL": "https://plot.ly"
       },
       "data": [
        {
         "marker": {
          "color": "green"
         },
         "name": "OUI",
         "showlegend": true,
         "text": [
          "967"
         ],
         "textposition": "auto",
         "type": "bar",
         "width": 0.4,
         "x": [
          -0.2
         ],
         "y": [
          967
         ]
        },
        {
         "marker": {
          "color": "red"
         },
         "name": "NON",
         "showlegend": true,
         "text": [
          "24"
         ],
         "textposition": "auto",
         "type": "bar",
         "width": 0.4,
         "x": [
          0.2
         ],
         "y": [
          24
         ]
        },
        {
         "marker": {
          "color": "green"
         },
         "name": "OUI",
         "showlegend": false,
         "text": [
          "29"
         ],
         "textposition": "auto",
         "type": "bar",
         "width": 0.4,
         "x": [
          0.8
         ],
         "y": [
          29
         ]
        },
        {
         "marker": {
          "color": "red"
         },
         "name": "NON",
         "showlegend": false,
         "text": [
          "0"
         ],
         "textposition": "auto",
         "type": "bar",
         "width": 0.4,
         "x": [
          1.2
         ],
         "y": [
          0
         ]
        },
        {
         "marker": {
          "color": "green"
         },
         "name": "OUI",
         "showlegend": false,
         "text": [
          "23"
         ],
         "textposition": "auto",
         "type": "bar",
         "width": 0.4,
         "x": [
          1.8
         ],
         "y": [
          23
         ]
        },
        {
         "marker": {
          "color": "red"
         },
         "name": "NON",
         "showlegend": false,
         "text": [
          "0"
         ],
         "textposition": "auto",
         "type": "bar",
         "width": 0.4,
         "x": [
          2.2
         ],
         "y": [
          0
         ]
        },
        {
         "marker": {
          "color": "green"
         },
         "name": "OUI",
         "showlegend": false,
         "text": [
          "22"
         ],
         "textposition": "auto",
         "type": "bar",
         "width": 0.4,
         "x": [
          2.8
         ],
         "y": [
          22
         ]
        },
        {
         "marker": {
          "color": "red"
         },
         "name": "NON",
         "showlegend": false,
         "text": [
          "0"
         ],
         "textposition": "auto",
         "type": "bar",
         "width": 0.4,
         "x": [
          3.2
         ],
         "y": [
          0
         ]
        },
        {
         "marker": {
          "color": "green"
         },
         "name": "OUI",
         "showlegend": false,
         "text": [
          "19"
         ],
         "textposition": "auto",
         "type": "bar",
         "width": 0.4,
         "x": [
          3.8
         ],
         "y": [
          19
         ]
        },
        {
         "marker": {
          "color": "red"
         },
         "name": "NON",
         "showlegend": false,
         "text": [
          "2"
         ],
         "textposition": "auto",
         "type": "bar",
         "width": 0.4,
         "x": [
          4.2
         ],
         "y": [
          2
         ]
        },
        {
         "marker": {
          "color": "green"
         },
         "name": "OUI",
         "showlegend": false,
         "text": [
          "18"
         ],
         "textposition": "auto",
         "type": "bar",
         "width": 0.4,
         "x": [
          4.8
         ],
         "y": [
          18
         ]
        },
        {
         "marker": {
          "color": "red"
         },
         "name": "NON",
         "showlegend": false,
         "text": [
          "0"
         ],
         "textposition": "auto",
         "type": "bar",
         "width": 0.4,
         "x": [
          5.2
         ],
         "y": [
          0
         ]
        },
        {
         "marker": {
          "color": "green"
         },
         "name": "OUI",
         "showlegend": false,
         "text": [
          "18"
         ],
         "textposition": "auto",
         "type": "bar",
         "width": 0.4,
         "x": [
          5.8
         ],
         "y": [
          18
         ]
        },
        {
         "marker": {
          "color": "red"
         },
         "name": "NON",
         "showlegend": false,
         "text": [
          "0"
         ],
         "textposition": "auto",
         "type": "bar",
         "width": 0.4,
         "x": [
          6.2
         ],
         "y": [
          0
         ]
        },
        {
         "marker": {
          "color": "green"
         },
         "name": "OUI",
         "showlegend": false,
         "text": [
          "15"
         ],
         "textposition": "auto",
         "type": "bar",
         "width": 0.4,
         "x": [
          6.8
         ],
         "y": [
          15
         ]
        },
        {
         "marker": {
          "color": "red"
         },
         "name": "NON",
         "showlegend": false,
         "text": [
          "1"
         ],
         "textposition": "auto",
         "type": "bar",
         "width": 0.4,
         "x": [
          7.2
         ],
         "y": [
          1
         ]
        },
        {
         "marker": {
          "color": "green"
         },
         "name": "OUI",
         "showlegend": false,
         "text": [
          "13"
         ],
         "textposition": "auto",
         "type": "bar",
         "width": 0.4,
         "x": [
          7.8
         ],
         "y": [
          13
         ]
        },
        {
         "marker": {
          "color": "red"
         },
         "name": "NON",
         "showlegend": false,
         "text": [
          "0"
         ],
         "textposition": "auto",
         "type": "bar",
         "width": 0.4,
         "x": [
          8.2
         ],
         "y": [
          0
         ]
        },
        {
         "marker": {
          "color": "green"
         },
         "name": "OUI",
         "showlegend": false,
         "text": [
          "12"
         ],
         "textposition": "auto",
         "type": "bar",
         "width": 0.4,
         "x": [
          8.8
         ],
         "y": [
          12
         ]
        },
        {
         "marker": {
          "color": "red"
         },
         "name": "NON",
         "showlegend": false,
         "text": [
          "1"
         ],
         "textposition": "auto",
         "type": "bar",
         "width": 0.4,
         "x": [
          9.2
         ],
         "y": [
          1
         ]
        }
       ],
       "layout": {
        "barmode": "group",
        "height": 600,
        "legend": {
         "title": {
          "text": "Availability of Payment Terminal"
         }
        },
        "template": {
         "data": {
          "bar": [
           {
            "error_x": {
             "color": "#2a3f5f"
            },
            "error_y": {
             "color": "#2a3f5f"
            },
            "marker": {
             "line": {
              "color": "#E5ECF6",
              "width": 0.5
             },
             "pattern": {
              "fillmode": "overlay",
              "size": 10,
              "solidity": 0.2
             }
            },
            "type": "bar"
           }
          ],
          "barpolar": [
           {
            "marker": {
             "line": {
              "color": "#E5ECF6",
              "width": 0.5
             },
             "pattern": {
              "fillmode": "overlay",
              "size": 10,
              "solidity": 0.2
             }
            },
            "type": "barpolar"
           }
          ],
          "carpet": [
           {
            "aaxis": {
             "endlinecolor": "#2a3f5f",
             "gridcolor": "white",
             "linecolor": "white",
             "minorgridcolor": "white",
             "startlinecolor": "#2a3f5f"
            },
            "baxis": {
             "endlinecolor": "#2a3f5f",
             "gridcolor": "white",
             "linecolor": "white",
             "minorgridcolor": "white",
             "startlinecolor": "#2a3f5f"
            },
            "type": "carpet"
           }
          ],
          "choropleth": [
           {
            "colorbar": {
             "outlinewidth": 0,
             "ticks": ""
            },
            "type": "choropleth"
           }
          ],
          "contour": [
           {
            "colorbar": {
             "outlinewidth": 0,
             "ticks": ""
            },
            "colorscale": [
             [
              0,
              "#0d0887"
             ],
             [
              0.1111111111111111,
              "#46039f"
             ],
             [
              0.2222222222222222,
              "#7201a8"
             ],
             [
              0.3333333333333333,
              "#9c179e"
             ],
             [
              0.4444444444444444,
              "#bd3786"
             ],
             [
              0.5555555555555556,
              "#d8576b"
             ],
             [
              0.6666666666666666,
              "#ed7953"
             ],
             [
              0.7777777777777778,
              "#fb9f3a"
             ],
             [
              0.8888888888888888,
              "#fdca26"
             ],
             [
              1,
              "#f0f921"
             ]
            ],
            "type": "contour"
           }
          ],
          "contourcarpet": [
           {
            "colorbar": {
             "outlinewidth": 0,
             "ticks": ""
            },
            "type": "contourcarpet"
           }
          ],
          "heatmap": [
           {
            "colorbar": {
             "outlinewidth": 0,
             "ticks": ""
            },
            "colorscale": [
             [
              0,
              "#0d0887"
             ],
             [
              0.1111111111111111,
              "#46039f"
             ],
             [
              0.2222222222222222,
              "#7201a8"
             ],
             [
              0.3333333333333333,
              "#9c179e"
             ],
             [
              0.4444444444444444,
              "#bd3786"
             ],
             [
              0.5555555555555556,
              "#d8576b"
             ],
             [
              0.6666666666666666,
              "#ed7953"
             ],
             [
              0.7777777777777778,
              "#fb9f3a"
             ],
             [
              0.8888888888888888,
              "#fdca26"
             ],
             [
              1,
              "#f0f921"
             ]
            ],
            "type": "heatmap"
           }
          ],
          "heatmapgl": [
           {
            "colorbar": {
             "outlinewidth": 0,
             "ticks": ""
            },
            "colorscale": [
             [
              0,
              "#0d0887"
             ],
             [
              0.1111111111111111,
              "#46039f"
             ],
             [
              0.2222222222222222,
              "#7201a8"
             ],
             [
              0.3333333333333333,
              "#9c179e"
             ],
             [
              0.4444444444444444,
              "#bd3786"
             ],
             [
              0.5555555555555556,
              "#d8576b"
             ],
             [
              0.6666666666666666,
              "#ed7953"
             ],
             [
              0.7777777777777778,
              "#fb9f3a"
             ],
             [
              0.8888888888888888,
              "#fdca26"
             ],
             [
              1,
              "#f0f921"
             ]
            ],
            "type": "heatmapgl"
           }
          ],
          "histogram": [
           {
            "marker": {
             "pattern": {
              "fillmode": "overlay",
              "size": 10,
              "solidity": 0.2
             }
            },
            "type": "histogram"
           }
          ],
          "histogram2d": [
           {
            "colorbar": {
             "outlinewidth": 0,
             "ticks": ""
            },
            "colorscale": [
             [
              0,
              "#0d0887"
             ],
             [
              0.1111111111111111,
              "#46039f"
             ],
             [
              0.2222222222222222,
              "#7201a8"
             ],
             [
              0.3333333333333333,
              "#9c179e"
             ],
             [
              0.4444444444444444,
              "#bd3786"
             ],
             [
              0.5555555555555556,
              "#d8576b"
             ],
             [
              0.6666666666666666,
              "#ed7953"
             ],
             [
              0.7777777777777778,
              "#fb9f3a"
             ],
             [
              0.8888888888888888,
              "#fdca26"
             ],
             [
              1,
              "#f0f921"
             ]
            ],
            "type": "histogram2d"
           }
          ],
          "histogram2dcontour": [
           {
            "colorbar": {
             "outlinewidth": 0,
             "ticks": ""
            },
            "colorscale": [
             [
              0,
              "#0d0887"
             ],
             [
              0.1111111111111111,
              "#46039f"
             ],
             [
              0.2222222222222222,
              "#7201a8"
             ],
             [
              0.3333333333333333,
              "#9c179e"
             ],
             [
              0.4444444444444444,
              "#bd3786"
             ],
             [
              0.5555555555555556,
              "#d8576b"
             ],
             [
              0.6666666666666666,
              "#ed7953"
             ],
             [
              0.7777777777777778,
              "#fb9f3a"
             ],
             [
              0.8888888888888888,
              "#fdca26"
             ],
             [
              1,
              "#f0f921"
             ]
            ],
            "type": "histogram2dcontour"
           }
          ],
          "mesh3d": [
           {
            "colorbar": {
             "outlinewidth": 0,
             "ticks": ""
            },
            "type": "mesh3d"
           }
          ],
          "parcoords": [
           {
            "line": {
             "colorbar": {
              "outlinewidth": 0,
              "ticks": ""
             }
            },
            "type": "parcoords"
           }
          ],
          "pie": [
           {
            "automargin": true,
            "type": "pie"
           }
          ],
          "scatter": [
           {
            "fillpattern": {
             "fillmode": "overlay",
             "size": 10,
             "solidity": 0.2
            },
            "type": "scatter"
           }
          ],
          "scatter3d": [
           {
            "line": {
             "colorbar": {
              "outlinewidth": 0,
              "ticks": ""
             }
            },
            "marker": {
             "colorbar": {
              "outlinewidth": 0,
              "ticks": ""
             }
            },
            "type": "scatter3d"
           }
          ],
          "scattercarpet": [
           {
            "marker": {
             "colorbar": {
              "outlinewidth": 0,
              "ticks": ""
             }
            },
            "type": "scattercarpet"
           }
          ],
          "scattergeo": [
           {
            "marker": {
             "colorbar": {
              "outlinewidth": 0,
              "ticks": ""
             }
            },
            "type": "scattergeo"
           }
          ],
          "scattergl": [
           {
            "marker": {
             "colorbar": {
              "outlinewidth": 0,
              "ticks": ""
             }
            },
            "type": "scattergl"
           }
          ],
          "scattermapbox": [
           {
            "marker": {
             "colorbar": {
              "outlinewidth": 0,
              "ticks": ""
             }
            },
            "type": "scattermapbox"
           }
          ],
          "scatterpolar": [
           {
            "marker": {
             "colorbar": {
              "outlinewidth": 0,
              "ticks": ""
             }
            },
            "type": "scatterpolar"
           }
          ],
          "scatterpolargl": [
           {
            "marker": {
             "colorbar": {
              "outlinewidth": 0,
              "ticks": ""
             }
            },
            "type": "scatterpolargl"
           }
          ],
          "scatterternary": [
           {
            "marker": {
             "colorbar": {
              "outlinewidth": 0,
              "ticks": ""
             }
            },
            "type": "scatterternary"
           }
          ],
          "surface": [
           {
            "colorbar": {
             "outlinewidth": 0,
             "ticks": ""
            },
            "colorscale": [
             [
              0,
              "#0d0887"
             ],
             [
              0.1111111111111111,
              "#46039f"
             ],
             [
              0.2222222222222222,
              "#7201a8"
             ],
             [
              0.3333333333333333,
              "#9c179e"
             ],
             [
              0.4444444444444444,
              "#bd3786"
             ],
             [
              0.5555555555555556,
              "#d8576b"
             ],
             [
              0.6666666666666666,
              "#ed7953"
             ],
             [
              0.7777777777777778,
              "#fb9f3a"
             ],
             [
              0.8888888888888888,
              "#fdca26"
             ],
             [
              1,
              "#f0f921"
             ]
            ],
            "type": "surface"
           }
          ],
          "table": [
           {
            "cells": {
             "fill": {
              "color": "#EBF0F8"
             },
             "line": {
              "color": "white"
             }
            },
            "header": {
             "fill": {
              "color": "#C8D4E3"
             },
             "line": {
              "color": "white"
             }
            },
            "type": "table"
           }
          ]
         },
         "layout": {
          "annotationdefaults": {
           "arrowcolor": "#2a3f5f",
           "arrowhead": 0,
           "arrowwidth": 1
          },
          "autotypenumbers": "strict",
          "coloraxis": {
           "colorbar": {
            "outlinewidth": 0,
            "ticks": ""
           }
          },
          "colorscale": {
           "diverging": [
            [
             0,
             "#8e0152"
            ],
            [
             0.1,
             "#c51b7d"
            ],
            [
             0.2,
             "#de77ae"
            ],
            [
             0.3,
             "#f1b6da"
            ],
            [
             0.4,
             "#fde0ef"
            ],
            [
             0.5,
             "#f7f7f7"
            ],
            [
             0.6,
             "#e6f5d0"
            ],
            [
             0.7,
             "#b8e186"
            ],
            [
             0.8,
             "#7fbc41"
            ],
            [
             0.9,
             "#4d9221"
            ],
            [
             1,
             "#276419"
            ]
           ],
           "sequential": [
            [
             0,
             "#0d0887"
            ],
            [
             0.1111111111111111,
             "#46039f"
            ],
            [
             0.2222222222222222,
             "#7201a8"
            ],
            [
             0.3333333333333333,
             "#9c179e"
            ],
            [
             0.4444444444444444,
             "#bd3786"
            ],
            [
             0.5555555555555556,
             "#d8576b"
            ],
            [
             0.6666666666666666,
             "#ed7953"
            ],
            [
             0.7777777777777778,
             "#fb9f3a"
            ],
            [
             0.8888888888888888,
             "#fdca26"
            ],
            [
             1,
             "#f0f921"
            ]
           ],
           "sequentialminus": [
            [
             0,
             "#0d0887"
            ],
            [
             0.1111111111111111,
             "#46039f"
            ],
            [
             0.2222222222222222,
             "#7201a8"
            ],
            [
             0.3333333333333333,
             "#9c179e"
            ],
            [
             0.4444444444444444,
             "#bd3786"
            ],
            [
             0.5555555555555556,
             "#d8576b"
            ],
            [
             0.6666666666666666,
             "#ed7953"
            ],
            [
             0.7777777777777778,
             "#fb9f3a"
            ],
            [
             0.8888888888888888,
             "#fdca26"
            ],
            [
             1,
             "#f0f921"
            ]
           ]
          },
          "colorway": [
           "#636efa",
           "#EF553B",
           "#00cc96",
           "#ab63fa",
           "#FFA15A",
           "#19d3f3",
           "#FF6692",
           "#B6E880",
           "#FF97FF",
           "#FECB52"
          ],
          "font": {
           "color": "#2a3f5f"
          },
          "geo": {
           "bgcolor": "white",
           "lakecolor": "white",
           "landcolor": "#E5ECF6",
           "showlakes": true,
           "showland": true,
           "subunitcolor": "white"
          },
          "hoverlabel": {
           "align": "left"
          },
          "hovermode": "closest",
          "mapbox": {
           "style": "light"
          },
          "paper_bgcolor": "white",
          "plot_bgcolor": "#E5ECF6",
          "polar": {
           "angularaxis": {
            "gridcolor": "white",
            "linecolor": "white",
            "ticks": ""
           },
           "bgcolor": "#E5ECF6",
           "radialaxis": {
            "gridcolor": "white",
            "linecolor": "white",
            "ticks": ""
           }
          },
          "scene": {
           "xaxis": {
            "backgroundcolor": "#E5ECF6",
            "gridcolor": "white",
            "gridwidth": 2,
            "linecolor": "white",
            "showbackground": true,
            "ticks": "",
            "zerolinecolor": "white"
           },
           "yaxis": {
            "backgroundcolor": "#E5ECF6",
            "gridcolor": "white",
            "gridwidth": 2,
            "linecolor": "white",
            "showbackground": true,
            "ticks": "",
            "zerolinecolor": "white"
           },
           "zaxis": {
            "backgroundcolor": "#E5ECF6",
            "gridcolor": "white",
            "gridwidth": 2,
            "linecolor": "white",
            "showbackground": true,
            "ticks": "",
            "zerolinecolor": "white"
           }
          },
          "shapedefaults": {
           "line": {
            "color": "#2a3f5f"
           }
          },
          "ternary": {
           "aaxis": {
            "gridcolor": "white",
            "linecolor": "white",
            "ticks": ""
           },
           "baxis": {
            "gridcolor": "white",
            "linecolor": "white",
            "ticks": ""
           },
           "bgcolor": "#E5ECF6",
           "caxis": {
            "gridcolor": "white",
            "linecolor": "white",
            "ticks": ""
           }
          },
          "title": {
           "x": 0.05
          },
          "xaxis": {
           "automargin": true,
           "gridcolor": "white",
           "linecolor": "white",
           "ticks": "",
           "title": {
            "standoff": 15
           },
           "zerolinecolor": "white",
           "zerolinewidth": 2
          },
          "yaxis": {
           "automargin": true,
           "gridcolor": "white",
           "linecolor": "white",
           "ticks": "",
           "title": {
            "standoff": 15
           },
           "zerolinecolor": "white",
           "zerolinewidth": 2
          }
         }
        },
        "title": {
         "text": "Counts of Availability for Payment Terminals Across Top Ten Areas (Updated: 2024-04-15T14:19:19+02:00)"
        },
        "width": 1000,
        "xaxis": {
         "tickmode": "array",
         "ticktext": [
          "Paris",
          "Boulogne-Billancourt",
          "Montreuil",
          "Issy-les-Moulineaux",
          "Pantin",
          "Ivry-sur-Seine",
          "Saint-Denis",
          "Vitry-sur-Seine",
          "Montrouge",
          "Neuilly-sur-Seine"
         ],
         "tickvals": [
          0,
          1,
          2,
          3,
          4,
          5,
          6,
          7,
          8,
          9
         ],
         "title": {
          "text": "Area"
         }
        },
        "yaxis": {
         "title": {
          "text": "Count"
         }
        }
       }
      }
     },
     "metadata": {},
     "output_type": "display_data"
    }
   ],
   "source": [
    "# Group the data by the area column and calculate the total counts\n",
    "payment_counts = dataset_clean.groupby('Name of Equipped Municipality')['Availability of Payment Terminal'] \\\n",
    "                        .value_counts() \\\n",
    "                        .unstack(fill_value=0)\n",
    "\n",
    "# Calculate the total payment counts for each area\n",
    "payment_counts['Total'] = payment_counts['OUI'] + payment_counts['NON']\n",
    "\n",
    "# Sort the areas based on the total number of payment counts and select the top ten areas\n",
    "top_ten_areas = payment_counts.sort_values(by='Total', ascending=False).head(10)\n",
    "\n",
    "bar_width = 0.4\n",
    "\n",
    "fig = go.Figure()\n",
    "\n",
    "for i, area in enumerate(top_ten_areas.index):\n",
    "    oui_count = top_ten_areas.loc[area, 'OUI']\n",
    "    non_count = top_ten_areas.loc[area, 'NON']\n",
    "\n",
    "    # Calculate the x-coordinate for the bars based on the index\n",
    "    x_oui = i - 0.2  # Shift 'OUI' bar to the left\n",
    "    x_non = i + 0.2  # Shift 'NON' bar to the right\n",
    "\n",
    "    if area == top_ten_areas.index[0]:\n",
    "        fig.add_trace(\n",
    "            go.Bar(\n",
    "                x=[x_oui],\n",
    "                y=[oui_count],\n",
    "                name='OUI',\n",
    "                text=[oui_count],\n",
    "                textposition='auto',\n",
    "                marker_color='green',\n",
    "                width=bar_width,\n",
    "                showlegend=True))\n",
    "    else:\n",
    "        fig.add_trace(\n",
    "            go.Bar(\n",
    "                x=[x_oui],\n",
    "                y=[oui_count],\n",
    "                name='OUI',\n",
    "                text=[oui_count],\n",
    "                textposition='auto',\n",
    "                marker_color='green',\n",
    "                width=bar_width,\n",
    "                showlegend=False))\n",
    "\n",
    "    if area == top_ten_areas.index[0]:\n",
    "        fig.add_trace(\n",
    "            go.Bar(\n",
    "                x=[x_non],\n",
    "                y=[non_count],\n",
    "                name='NON',\n",
    "                text=[non_count],\n",
    "                textposition='auto',\n",
    "                marker_color='red',\n",
    "                width=bar_width,\n",
    "                showlegend=True))\n",
    "    else:\n",
    "        fig.add_trace(\n",
    "            go.Bar(\n",
    "                x=[x_non],\n",
    "                y=[non_count],\n",
    "                name='NON',\n",
    "                text=[non_count],\n",
    "                textposition='auto',\n",
    "                marker_color='red',\n",
    "                width=bar_width,\n",
    "                showlegend=False))\n",
    "\n",
    "# Manually specify the positions and labels of the x-axis ticks\n",
    "tickvals = list(range(len(top_ten_areas.index)))\n",
    "ticktext = top_ten_areas.index\n",
    "\n",
    "fig.update_layout(title=f'Counts of Availability for Payment Terminals Across Top Ten Areas (Updated: {timestamp})',\n",
    "                  xaxis_title='Area', yaxis_title='Count', barmode='group', legend_title='Availability of Payment Terminal',\n",
    "                  xaxis=dict(tickmode='array', tickvals=tickvals, ticktext=ticktext),\n",
    "                  width=1000, height=600)\n",
    "\n",
    "fig.show()\n"
   ]
  },
  {
   "cell_type": "markdown",
   "metadata": {},
   "source": [
    "#### Insights: \n",
    "1. According to the two plots above, Paris has the most return and payment availability among all the areas, and it is more than 30 times of the second area: Boulogne-Billancourt. The difference between the rest of the areas is small. \n",
    "2. Moreover, although Paris has the most amount of unavailable payment terminals, the service availability remains the highest, which concludes that Paris provides the best return and payment service.\n",
    "3. The count of availability for return and payment terminals is the same, it indicates that these two services are on the exactly same terminal. However, in the real life, the return terminals(left on the image below) are different from the payment terminals(right on the image below). The reason might be the two services are synchronised."
   ]
  },
  {
   "cell_type": "code",
   "execution_count": 27,
   "metadata": {},
   "outputs": [
    {
     "data": {
      "image/png": "[encoded data removed]",
      "text/plain": [
       "<IPython.core.display.Image object>"
      ]
     },
     "execution_count": 27,
     "metadata": {},
     "output_type": "execute_result"
    }
   ],
   "source": [
    "Image(filename='../data/velib.png')"
   ]
  },
  {
   "cell_type": "markdown",
   "metadata": {},
   "source": [
    "image source: https://secretsofparis.com/practical/using-the-velib-bike-service-in-paris/\n"
   ]
  },
  {
   "cell_type": "markdown",
   "metadata": {},
   "source": [
    "#### Limitations:\n",
    " Limitations may include the inaccuracy of the dataset itself, "
   ]
  },
  {
   "cell_type": "markdown",
   "metadata": {},
   "source": [
    "### Question 3: What are the distribution of bikes geographically in greater Paris?"
   ]
  },
  {
   "cell_type": "code",
   "execution_count": 28,
   "metadata": {},
   "outputs": [
    {
     "data": {
      "application/vnd.plotly.v1+json": {
       "config": {
        "plotlyServerURL": "https://plot.ly"
       },
       "data": [
        {
         "customdata": [
          [
           "Alfortville",
           71
          ],
          [
           "Arcueil",
           46
          ],
          [
           "Argenteuil",
           84
          ],
          [
           "Asnières-sur-Seine",
           57
          ],
          [
           "Aubervilliers",
           225
          ],
          [
           "Bagneux",
           16
          ],
          [
           "Bagnolet",
           22
          ],
          [
           "Bobigny",
           101
          ],
          [
           "Bois-Colombes",
           12
          ],
          [
           "Boulogne-Billancourt",
           547
          ],
          [
           "Bourg-la-Reine",
           46
          ],
          [
           "Cachan",
           28
          ],
          [
           "Champigny-sur-Marne",
           88
          ],
          [
           "Charenton-le-Pont",
           85
          ],
          [
           "Chaville",
           9
          ],
          [
           "Choisy-le-Roi",
           65
          ],
          [
           "Châtillon",
           39
          ],
          [
           "Clamart",
           15
          ],
          [
           "Clichy",
           167
          ],
          [
           "Colombes",
           38
          ],
          [
           "Courbevoie",
           87
          ],
          [
           "Fontenay-aux-Roses",
           11
          ],
          [
           "Fontenay-sous-Bois",
           59
          ],
          [
           "Gennevilliers",
           58
          ],
          [
           "Gentilly",
           21
          ],
          [
           "Issy-les-Moulineaux",
           451
          ],
          [
           "Ivry-sur-Seine",
           333
          ],
          [
           "Joinville-le-Pont",
           56
          ],
          [
           "La Courneuve",
           0
          ],
          [
           "La Garenne-Colombes",
           59
          ],
          [
           "Le Kremlin-Bicêtre",
           38
          ],
          [
           "Le Pré-Saint-Gervais",
           9
          ],
          [
           "Les Lilas",
           1
          ],
          [
           "Levallois-Perret",
           224
          ],
          [
           "Maisons-Alfort",
           123
          ],
          [
           "Malakoff",
           19
          ],
          [
           "Meudon",
           33
          ],
          [
           "Montreuil",
           89
          ],
          [
           "Montrouge",
           76
          ],
          [
           "Nanterre",
           87
          ],
          [
           "Neuilly-sur-Seine",
           135
          ],
          [
           "Nogent-sur-Marne",
           71
          ],
          [
           "Noisy-le-Sec",
           25
          ],
          [
           "Pantin",
           144
          ],
          [
           "Paris",
           11621
          ],
          [
           "Puteaux",
           50
          ],
          [
           "Romainville",
           11
          ],
          [
           "Rosny-sous-Bois",
           69
          ],
          [
           "Rueil-Malmaison",
           85
          ],
          [
           "Saint-Cloud",
           44
          ],
          [
           "Saint-Denis",
           404
          ],
          [
           "Saint-Mandé",
           63
          ],
          [
           "Saint-Maurice",
           49
          ],
          [
           "Saint-Ouen-sur-Seine",
           87
          ],
          [
           "Sceaux",
           76
          ],
          [
           "Suresnes",
           79
          ],
          [
           "Sèvres",
           80
          ],
          [
           "Vanves",
           10
          ],
          [
           "Ville-d'Avray",
           1
          ],
          [
           "Villejuif",
           53
          ],
          [
           "Villeneuve-la-Garenne",
           24
          ],
          [
           "Vincennes",
           118
          ],
          [
           "Vitry-sur-Seine",
           185
          ]
         ],
         "hovertemplate": "<b>%{hovertext}</b><br><br>Total Number of Bikes Available=%{customdata[1]}<br>Latitude=%{lat}<br>Longitude=%{lon}<br>Name of Equipped Municipality=%{customdata[0]}<extra></extra>",
         "hovertext": [
          "Alfortville",
          "Arcueil",
          "Argenteuil",
          "Asnières-sur-Seine",
          "Aubervilliers",
          "Bagneux",
          "Bagnolet",
          "Bobigny",
          "Bois-Colombes",
          "Boulogne-Billancourt",
          "Bourg-la-Reine",
          "Cachan",
          "Champigny-sur-Marne",
          "Charenton-le-Pont",
          "Chaville",
          "Choisy-le-Roi",
          "Châtillon",
          "Clamart",
          "Clichy",
          "Colombes",
          "Courbevoie",
          "Fontenay-aux-Roses",
          "Fontenay-sous-Bois",
          "Gennevilliers",
          "Gentilly",
          "Issy-les-Moulineaux",
          "Ivry-sur-Seine",
          "Joinville-le-Pont",
          "La Courneuve",
          "La Garenne-Colombes",
          "Le Kremlin-Bicêtre",
          "Le Pré-Saint-Gervais",
          "Les Lilas",
          "Levallois-Perret",
          "Maisons-Alfort",
          "Malakoff",
          "Meudon",
          "Montreuil",
          "Montrouge",
          "Nanterre",
          "Neuilly-sur-Seine",
          "Nogent-sur-Marne",
          "Noisy-le-Sec",
          "Pantin",
          "Paris",
          "Puteaux",
          "Romainville",
          "Rosny-sous-Bois",
          "Rueil-Malmaison",
          "Saint-Cloud",
          "Saint-Denis",
          "Saint-Mandé",
          "Saint-Maurice",
          "Saint-Ouen-sur-Seine",
          "Sceaux",
          "Suresnes",
          "Sèvres",
          "Vanves",
          "Ville-d'Avray",
          "Villejuif",
          "Villeneuve-la-Garenne",
          "Vincennes",
          "Vitry-sur-Seine"
         ],
         "lat": [
          48.801566843457856,
          48.80642003848464,
          48.94793192804652,
          48.91546583506443,
          48.910739591375574,
          48.79702105058296,
          48.86857826226797,
          48.9087423246404,
          48.9189893870885,
          48.83492373554232,
          48.778949695386906,
          48.79003205492572,
          48.817946965465744,
          48.8233253163187,
          48.808896421948134,
          48.767585107796926,
          48.80359986093131,
          48.7990088417526,
          48.90295528911043,
          48.92099265924725,
          48.900458441293786,
          48.79113630377592,
          48.850873824412226,
          48.92684553635592,
          48.81335498578116,
          48.82416867039822,
          48.813891929575114,
          48.820117689778975,
          48.924744851162004,
          48.90735411398074,
          48.811126269101614,
          48.8853338192091,
          48.880024556088976,
          48.893327828388166,
          48.80582270676418,
          48.819459800158086,
          48.80811951336338,
          48.86075334870205,
          48.81565297301805,
          48.8929956304761,
          48.88462214609364,
          48.83585455528352,
          48.89994040289543,
          48.89656391250973,
          48.86016364341239,
          48.88180056277311,
          48.88356363220092,
          48.8728903200868,
          48.87474098608689,
          48.85212972125408,
          48.92738068600545,
          48.84126107948734,
          48.818453982638765,
          48.908269270818884,
          48.780250202225524,
          48.86960224085198,
          48.822375521972326,
          48.82171431345048,
          48.826073335699,
          48.79091412961593,
          48.933799475325,
          48.84728224080476,
          48.788569781315275
         ],
         "legendgroup": "",
         "lon": [
          2.422035698602648,
          2.3317663781633295,
          2.2434836068519495,
          2.2904113850285763,
          2.381001197922404,
          2.312270259157995,
          2.4194747814908526,
          2.4454691971747,
          2.27003273514055,
          2.240630819810558,
          2.314436630707188,
          2.33164733089149,
          2.5078573748125708,
          2.4058221399241284,
          2.1895287930965424,
          2.408339381217957,
          2.2887187694035407,
          2.2589135356787495,
          2.307324834914607,
          2.245521042318644,
          2.2605960961766134,
          2.2872599714282478,
          2.4713615127411583,
          2.2966487987390476,
          2.3418669838352466,
          2.2655242942778737,
          2.386242217199628,
          2.468975876229732,
          2.3879794080068,
          2.246097410297474,
          2.359313964843758,
          2.4078145813853062,
          2.4183701835163385,
          2.2878801703493172,
          2.437490454935203,
          2.30204330776201,
          2.2359866584011057,
          2.4379725083568204,
          2.3180615439749372,
          2.2090994485092024,
          2.267809488814753,
          2.483586892435509,
          2.4617817473939194,
          2.407795075598779,
          2.3434647859940934,
          2.245241627097136,
          2.437619701164625,
          2.490847064182167,
          2.1847799121770235,
          2.219544441744995,
          2.357285787794437,
          2.418280538070361,
          2.4335912911806425,
          2.3327148971158604,
          2.2922030705591654,
          2.221320239162874,
          2.211731140108825,
          2.2894208190655,
          2.1894485725692,
          2.361583716703601,
          2.3294279077180002,
          2.4362137010806033,
          2.392804133418556
         ],
         "marker": {
          "color": "blue",
          "size": [
           71,
           46,
           84,
           57,
           225,
           16,
           22,
           101,
           12,
           547,
           46,
           28,
           88,
           85,
           9,
           65,
           39,
           15,
           167,
           38,
           87,
           11,
           59,
           58,
           21,
           451,
           333,
           56,
           0,
           59,
           38,
           9,
           1,
           224,
           123,
           19,
           33,
           89,
           76,
           87,
           135,
           71,
           25,
           144,
           11621,
           50,
           11,
           69,
           85,
           44,
           404,
           63,
           49,
           87,
           76,
           79,
           80,
           10,
           1,
           53,
           24,
           118,
           185
          ],
          "sizemode": "area",
          "sizeref": 1.1621
         },
         "mode": "markers",
         "name": "",
         "showlegend": false,
         "subplot": "mapbox",
         "type": "scattermapbox"
        }
       ],
       "layout": {
        "height": 800,
        "legend": {
         "itemsizing": "constant",
         "tracegroupgap": 0
        },
        "mapbox": {
         "center": {
          "lat": 48.852181748317875,
          "lon": 2.3372979021337374
         },
         "domain": {
          "x": [
           0,
           1
          ],
          "y": [
           0,
           1
          ]
         },
         "style": "open-street-map",
         "zoom": 10
        },
        "margin": {
         "t": 60
        },
        "template": {
         "data": {
          "bar": [
           {
            "error_x": {
             "color": "#2a3f5f"
            },
            "error_y": {
             "color": "#2a3f5f"
            },
            "marker": {
             "line": {
              "color": "#E5ECF6",
              "width": 0.5
             },
             "pattern": {
              "fillmode": "overlay",
              "size": 10,
              "solidity": 0.2
             }
            },
            "type": "bar"
           }
          ],
          "barpolar": [
           {
            "marker": {
             "line": {
              "color": "#E5ECF6",
              "width": 0.5
             },
             "pattern": {
              "fillmode": "overlay",
              "size": 10,
              "solidity": 0.2
             }
            },
            "type": "barpolar"
           }
          ],
          "carpet": [
           {
            "aaxis": {
             "endlinecolor": "#2a3f5f",
             "gridcolor": "white",
             "linecolor": "white",
             "minorgridcolor": "white",
             "startlinecolor": "#2a3f5f"
            },
            "baxis": {
             "endlinecolor": "#2a3f5f",
             "gridcolor": "white",
             "linecolor": "white",
             "minorgridcolor": "white",
             "startlinecolor": "#2a3f5f"
            },
            "type": "carpet"
           }
          ],
          "choropleth": [
           {
            "colorbar": {
             "outlinewidth": 0,
             "ticks": ""
            },
            "type": "choropleth"
           }
          ],
          "contour": [
           {
            "colorbar": {
             "outlinewidth": 0,
             "ticks": ""
            },
            "colorscale": [
             [
              0,
              "#0d0887"
             ],
             [
              0.1111111111111111,
              "#46039f"
             ],
             [
              0.2222222222222222,
              "#7201a8"
             ],
             [
              0.3333333333333333,
              "#9c179e"
             ],
             [
              0.4444444444444444,
              "#bd3786"
             ],
             [
              0.5555555555555556,
              "#d8576b"
             ],
             [
              0.6666666666666666,
              "#ed7953"
             ],
             [
              0.7777777777777778,
              "#fb9f3a"
             ],
             [
              0.8888888888888888,
              "#fdca26"
             ],
             [
              1,
              "#f0f921"
             ]
            ],
            "type": "contour"
           }
          ],
          "contourcarpet": [
           {
            "colorbar": {
             "outlinewidth": 0,
             "ticks": ""
            },
            "type": "contourcarpet"
           }
          ],
          "heatmap": [
           {
            "colorbar": {
             "outlinewidth": 0,
             "ticks": ""
            },
            "colorscale": [
             [
              0,
              "#0d0887"
             ],
             [
              0.1111111111111111,
              "#46039f"
             ],
             [
              0.2222222222222222,
              "#7201a8"
             ],
             [
              0.3333333333333333,
              "#9c179e"
             ],
             [
              0.4444444444444444,
              "#bd3786"
             ],
             [
              0.5555555555555556,
              "#d8576b"
             ],
             [
              0.6666666666666666,
              "#ed7953"
             ],
             [
              0.7777777777777778,
              "#fb9f3a"
             ],
             [
              0.8888888888888888,
              "#fdca26"
             ],
             [
              1,
              "#f0f921"
             ]
            ],
            "type": "heatmap"
           }
          ],
          "heatmapgl": [
           {
            "colorbar": {
             "outlinewidth": 0,
             "ticks": ""
            },
            "colorscale": [
             [
              0,
              "#0d0887"
             ],
             [
              0.1111111111111111,
              "#46039f"
             ],
             [
              0.2222222222222222,
              "#7201a8"
             ],
             [
              0.3333333333333333,
              "#9c179e"
             ],
             [
              0.4444444444444444,
              "#bd3786"
             ],
             [
              0.5555555555555556,
              "#d8576b"
             ],
             [
              0.6666666666666666,
              "#ed7953"
             ],
             [
              0.7777777777777778,
              "#fb9f3a"
             ],
             [
              0.8888888888888888,
              "#fdca26"
             ],
             [
              1,
              "#f0f921"
             ]
            ],
            "type": "heatmapgl"
           }
          ],
          "histogram": [
           {
            "marker": {
             "pattern": {
              "fillmode": "overlay",
              "size": 10,
              "solidity": 0.2
             }
            },
            "type": "histogram"
           }
          ],
          "histogram2d": [
           {
            "colorbar": {
             "outlinewidth": 0,
             "ticks": ""
            },
            "colorscale": [
             [
              0,
              "#0d0887"
             ],
             [
              0.1111111111111111,
              "#46039f"
             ],
             [
              0.2222222222222222,
              "#7201a8"
             ],
             [
              0.3333333333333333,
              "#9c179e"
             ],
             [
              0.4444444444444444,
              "#bd3786"
             ],
             [
              0.5555555555555556,
              "#d8576b"
             ],
             [
              0.6666666666666666,
              "#ed7953"
             ],
             [
              0.7777777777777778,
              "#fb9f3a"
             ],
             [
              0.8888888888888888,
              "#fdca26"
             ],
             [
              1,
              "#f0f921"
             ]
            ],
            "type": "histogram2d"
           }
          ],
          "histogram2dcontour": [
           {
            "colorbar": {
             "outlinewidth": 0,
             "ticks": ""
            },
            "colorscale": [
             [
              0,
              "#0d0887"
             ],
             [
              0.1111111111111111,
              "#46039f"
             ],
             [
              0.2222222222222222,
              "#7201a8"
             ],
             [
              0.3333333333333333,
              "#9c179e"
             ],
             [
              0.4444444444444444,
              "#bd3786"
             ],
             [
              0.5555555555555556,
              "#d8576b"
             ],
             [
              0.6666666666666666,
              "#ed7953"
             ],
             [
              0.7777777777777778,
              "#fb9f3a"
             ],
             [
              0.8888888888888888,
              "#fdca26"
             ],
             [
              1,
              "#f0f921"
             ]
            ],
            "type": "histogram2dcontour"
           }
          ],
          "mesh3d": [
           {
            "colorbar": {
             "outlinewidth": 0,
             "ticks": ""
            },
            "type": "mesh3d"
           }
          ],
          "parcoords": [
           {
            "line": {
             "colorbar": {
              "outlinewidth": 0,
              "ticks": ""
             }
            },
            "type": "parcoords"
           }
          ],
          "pie": [
           {
            "automargin": true,
            "type": "pie"
           }
          ],
          "scatter": [
           {
            "fillpattern": {
             "fillmode": "overlay",
             "size": 10,
             "solidity": 0.2
            },
            "type": "scatter"
           }
          ],
          "scatter3d": [
           {
            "line": {
             "colorbar": {
              "outlinewidth": 0,
              "ticks": ""
             }
            },
            "marker": {
             "colorbar": {
              "outlinewidth": 0,
              "ticks": ""
             }
            },
            "type": "scatter3d"
           }
          ],
          "scattercarpet": [
           {
            "marker": {
             "colorbar": {
              "outlinewidth": 0,
              "ticks": ""
             }
            },
            "type": "scattercarpet"
           }
          ],
          "scattergeo": [
           {
            "marker": {
             "colorbar": {
              "outlinewidth": 0,
              "ticks": ""
             }
            },
            "type": "scattergeo"
           }
          ],
          "scattergl": [
           {
            "marker": {
             "colorbar": {
              "outlinewidth": 0,
              "ticks": ""
             }
            },
            "type": "scattergl"
           }
          ],
          "scattermapbox": [
           {
            "marker": {
             "colorbar": {
              "outlinewidth": 0,
              "ticks": ""
             }
            },
            "type": "scattermapbox"
           }
          ],
          "scatterpolar": [
           {
            "marker": {
             "colorbar": {
              "outlinewidth": 0,
              "ticks": ""
             }
            },
            "type": "scatterpolar"
           }
          ],
          "scatterpolargl": [
           {
            "marker": {
             "colorbar": {
              "outlinewidth": 0,
              "ticks": ""
             }
            },
            "type": "scatterpolargl"
           }
          ],
          "scatterternary": [
           {
            "marker": {
             "colorbar": {
              "outlinewidth": 0,
              "ticks": ""
             }
            },
            "type": "scatterternary"
           }
          ],
          "surface": [
           {
            "colorbar": {
             "outlinewidth": 0,
             "ticks": ""
            },
            "colorscale": [
             [
              0,
              "#0d0887"
             ],
             [
              0.1111111111111111,
              "#46039f"
             ],
             [
              0.2222222222222222,
              "#7201a8"
             ],
             [
              0.3333333333333333,
              "#9c179e"
             ],
             [
              0.4444444444444444,
              "#bd3786"
             ],
             [
              0.5555555555555556,
              "#d8576b"
             ],
             [
              0.6666666666666666,
              "#ed7953"
             ],
             [
              0.7777777777777778,
              "#fb9f3a"
             ],
             [
              0.8888888888888888,
              "#fdca26"
             ],
             [
              1,
              "#f0f921"
             ]
            ],
            "type": "surface"
           }
          ],
          "table": [
           {
            "cells": {
             "fill": {
              "color": "#EBF0F8"
             },
             "line": {
              "color": "white"
             }
            },
            "header": {
             "fill": {
              "color": "#C8D4E3"
             },
             "line": {
              "color": "white"
             }
            },
            "type": "table"
           }
          ]
         },
         "layout": {
          "annotationdefaults": {
           "arrowcolor": "#2a3f5f",
           "arrowhead": 0,
           "arrowwidth": 1
          },
          "autotypenumbers": "strict",
          "coloraxis": {
           "colorbar": {
            "outlinewidth": 0,
            "ticks": ""
           }
          },
          "colorscale": {
           "diverging": [
            [
             0,
             "#8e0152"
            ],
            [
             0.1,
             "#c51b7d"
            ],
            [
             0.2,
             "#de77ae"
            ],
            [
             0.3,
             "#f1b6da"
            ],
            [
             0.4,
             "#fde0ef"
            ],
            [
             0.5,
             "#f7f7f7"
            ],
            [
             0.6,
             "#e6f5d0"
            ],
            [
             0.7,
             "#b8e186"
            ],
            [
             0.8,
             "#7fbc41"
            ],
            [
             0.9,
             "#4d9221"
            ],
            [
             1,
             "#276419"
            ]
           ],
           "sequential": [
            [
             0,
             "#0d0887"
            ],
            [
             0.1111111111111111,
             "#46039f"
            ],
            [
             0.2222222222222222,
             "#7201a8"
            ],
            [
             0.3333333333333333,
             "#9c179e"
            ],
            [
             0.4444444444444444,
             "#bd3786"
            ],
            [
             0.5555555555555556,
             "#d8576b"
            ],
            [
             0.6666666666666666,
             "#ed7953"
            ],
            [
             0.7777777777777778,
             "#fb9f3a"
            ],
            [
             0.8888888888888888,
             "#fdca26"
            ],
            [
             1,
             "#f0f921"
            ]
           ],
           "sequentialminus": [
            [
             0,
             "#0d0887"
            ],
            [
             0.1111111111111111,
             "#46039f"
            ],
            [
             0.2222222222222222,
             "#7201a8"
            ],
            [
             0.3333333333333333,
             "#9c179e"
            ],
            [
             0.4444444444444444,
             "#bd3786"
            ],
            [
             0.5555555555555556,
             "#d8576b"
            ],
            [
             0.6666666666666666,
             "#ed7953"
            ],
            [
             0.7777777777777778,
             "#fb9f3a"
            ],
            [
             0.8888888888888888,
             "#fdca26"
            ],
            [
             1,
             "#f0f921"
            ]
           ]
          },
          "colorway": [
           "#636efa",
           "#EF553B",
           "#00cc96",
           "#ab63fa",
           "#FFA15A",
           "#19d3f3",
           "#FF6692",
           "#B6E880",
           "#FF97FF",
           "#FECB52"
          ],
          "font": {
           "color": "#2a3f5f"
          },
          "geo": {
           "bgcolor": "white",
           "lakecolor": "white",
           "landcolor": "#E5ECF6",
           "showlakes": true,
           "showland": true,
           "subunitcolor": "white"
          },
          "hoverlabel": {
           "align": "left"
          },
          "hovermode": "closest",
          "mapbox": {
           "style": "light"
          },
          "paper_bgcolor": "white",
          "plot_bgcolor": "#E5ECF6",
          "polar": {
           "angularaxis": {
            "gridcolor": "white",
            "linecolor": "white",
            "ticks": ""
           },
           "bgcolor": "#E5ECF6",
           "radialaxis": {
            "gridcolor": "white",
            "linecolor": "white",
            "ticks": ""
           }
          },
          "scene": {
           "xaxis": {
            "backgroundcolor": "#E5ECF6",
            "gridcolor": "white",
            "gridwidth": 2,
            "linecolor": "white",
            "showbackground": true,
            "ticks": "",
            "zerolinecolor": "white"
           },
           "yaxis": {
            "backgroundcolor": "#E5ECF6",
            "gridcolor": "white",
            "gridwidth": 2,
            "linecolor": "white",
            "showbackground": true,
            "ticks": "",
            "zerolinecolor": "white"
           },
           "zaxis": {
            "backgroundcolor": "#E5ECF6",
            "gridcolor": "white",
            "gridwidth": 2,
            "linecolor": "white",
            "showbackground": true,
            "ticks": "",
            "zerolinecolor": "white"
           }
          },
          "shapedefaults": {
           "line": {
            "color": "#2a3f5f"
           }
          },
          "ternary": {
           "aaxis": {
            "gridcolor": "white",
            "linecolor": "white",
            "ticks": ""
           },
           "baxis": {
            "gridcolor": "white",
            "linecolor": "white",
            "ticks": ""
           },
           "bgcolor": "#E5ECF6",
           "caxis": {
            "gridcolor": "white",
            "linecolor": "white",
            "ticks": ""
           }
          },
          "title": {
           "x": 0.05
          },
          "xaxis": {
           "automargin": true,
           "gridcolor": "white",
           "linecolor": "white",
           "ticks": "",
           "title": {
            "standoff": 15
           },
           "zerolinecolor": "white",
           "zerolinewidth": 2
          },
          "yaxis": {
           "automargin": true,
           "gridcolor": "white",
           "linecolor": "white",
           "ticks": "",
           "title": {
            "standoff": 15
           },
           "zerolinecolor": "white",
           "zerolinewidth": 2
          }
         }
        },
        "title": {
         "text": "Number of Bikes Available in Greater Paris geographically (Updated: 2024-04-15T14:19:19+02:00)"
        },
        "width": 1000
       }
      }
     },
     "metadata": {},
     "output_type": "display_data"
    }
   ],
   "source": [
    "# Extract latitude and longitude\n",
    "dataset_clean[['Latitude', 'Longitude']] = dataset_clean['Geographic Coordinates'].str.split(', ', expand=True).astype(float)\n",
    "\n",
    "# Aggregate data by area\n",
    "area_df = dataset_clean.groupby('Name of Equipped Municipality').agg({\n",
    "    'Latitude': 'mean',\n",
    "    'Longitude': 'mean',\n",
    "    'Total Number of Bikes Available': 'sum'}).reset_index()\n",
    "\n",
    "fig = px.scatter_mapbox(area_df, lat=\"Latitude\", lon=\"Longitude\",\n",
    "                        size=\"Total Number of Bikes Available\", hover_name=\"Name of Equipped Municipality\",\n",
    "                        hover_data=[\"Name of Equipped Municipality\", \"Total Number of Bikes Available\"],\n",
    "                        color_discrete_sequence=[\"blue\"], zoom=10, height=600, size_max=100)\n",
    "fig.update_layout(mapbox_style=\"open-street-map\")\n",
    "fig.update_layout(title=f'Number of Bikes Available in Greater Paris geographically (Updated: {timestamp})')\n",
    "fig.update_layout(width=1000, height=800)\n",
    "\n",
    "fig.show()\n"
   ]
  },
  {
   "cell_type": "markdown",
   "metadata": {},
   "source": [
    "##### Insight:\n",
    "\n",
    "Apart from Paris, which has the highest quantity of bikes, other areas also show significant availability. Particularly, Boulogne-Billancourt and Issy-les-Moulineaux, located in the southwest, along with Saint-Denis in the north and Ivry-sur-Seine in the southeast, stand out for their bike availability."
   ]
  },
  {
   "cell_type": "code",
   "execution_count": 29,
   "metadata": {},
   "outputs": [
    {
     "data": {
      "application/vnd.plotly.v1+json": {
       "config": {
        "plotlyServerURL": "https://plot.ly"
       },
       "data": [
        {
         "customdata": [
          [
           "Benjamin Godard - Victor Hugo",
           2
          ],
          [
           "Mairie de Rosny-sous-Bois",
           25
          ],
          [
           "Rouget de L'isle - Watteau",
           13
          ],
          [
           "Cassini - Denfert-Rochereau",
           6
          ],
          [
           "Toudouze - Clauzel",
           1
          ],
          [
           "Jourdan - Stade Charléty",
           6
          ],
          [
           "Mairie du 12ème",
           8
          ],
          [
           "Saint-Sulpice",
           17
          ],
          [
           "Basilique",
           9
          ],
          [
           "Vaneau - Sèvres",
           6
          ],
          [
           "Charonne - Robert et Sonia Delaunay",
           0
          ],
          [
           "Lacépède - Monge",
           10
          ],
          [
           "Messine - Place Du Pérou",
           11
          ],
          [
           "Saint-Romain - Cherche-Midi",
           11
          ],
          [
           "Le Brun - Gobelins",
           2
          ],
          [
           "André Karman - République",
           3
          ],
          [
           "Pierre et Marie Curie - Maurice Thorez",
           12
          ],
          [
           "Bois de Vincennes - Gare",
           24
          ],
          [
           "Beaux-Arts - Bonaparte",
           19
          ],
          [
           "Silly - Galliéni",
           9
          ],
          [
           "Jean Rostand - Paul Vaillant Couturier",
           27
          ],
          [
           "Place Nelson Mandela",
           0
          ],
          [
           "Bracion - Périphérique",
           1
          ],
          [
           "Grande Armée - Brunel",
           40
          ],
          [
           "Guersant - Gouvion-Saint-Cyr",
           6
          ],
          [
           "Square Boucicaut",
           44
          ],
          [
           "Thouin - Cardinal Lemoine",
           8
          ],
          [
           "Jouffroy d'Abbans - Wagram",
           6
          ],
          [
           "Froment - Bréguet",
           39
          ],
          [
           "Morillons - Dantzig",
           0
          ],
          [
           "Le Brix et Mesmin - Jourdan",
           1
          ],
          [
           "Boétie - Ponthieu",
           8
          ],
          [
           "Saint-Fiacre - Poissonière",
           31
          ],
          [
           "Croulebarde - Corvisart",
           8
          ],
          [
           "Cambrai - Benjamin Constant",
           3
          ],
          [
           "Romainville - Vaillant-Couturier",
           3
          ],
          [
           "Chazelles - Courcelles",
           10
          ],
          [
           "Bir Hakeim",
           32
          ],
          [
           "Ramponeau - Belleville",
           3
          ],
          [
           "Porte de Saint-Ouen - Bessières",
           12
          ],
          [
           "Général Martial Valin - Pont du Garigliano",
           11
          ],
          [
           "Moulin de Pierre - Abbé Grégoire",
           5
          ],
          [
           "Rond-point du Dr Albert Schweitzer",
           9
          ],
          [
           "Lagny - Victor Basch",
           20
          ],
          [
           "Théâtre des Amandiers - Palais des sports",
           4
          ],
          [
           "Saint-Cloud - Hippodrome",
           2
          ],
          [
           "Italie - Tolbiac",
           1
          ],
          [
           "Louis Lejeune - Barbès",
           14
          ],
          [
           "Serrurier",
           0
          ],
          [
           "Raspail Barbès",
           19
          ],
          [
           "De Toqueville - Terrasse",
           0
          ],
          [
           "Jules Guesde - Pont du Port à l'Anglais",
           18
          ],
          [
           "Alibert - Jemmapes",
           4
          ],
          [
           "Michel-Ange - Parent de Rosan",
           0
          ],
          [
           "Artois - Berri",
           18
          ],
          [
           "Caire - Dussoubs",
           20
          ],
          [
           "Marceau - Chaillot",
           20
          ],
          [
           "Tour d'Auvergne - Rodier",
           2
          ],
          [
           "Liard - Amiral Mouchez",
           3
          ],
          [
           "Félix Ziem - Armand Gauthier",
           1
          ],
          [
           "Regnault - Patay",
           59
          ],
          [
           "Abbeville - Faubourg Poissonnière",
           1
          ],
          [
           "Vigée-Lebrun - Anselme Payen",
           3
          ],
          [
           "Youri Gagarine - Karl Marx",
           3
          ],
          [
           "Faubourg Montmartre - La Fayette",
           30
          ],
          [
           "Octave Feuillet - Albéric Magnard",
           2
          ],
          [
           "Place Jean-Spire-Lemaître",
           3
          ],
          [
           "Edgar Quinet - Raspail",
           6
          ],
          [
           "Place Georges Guillaumin",
           24
          ],
          [
           "Bellefond - Poissonnière",
           3
          ],
          [
           "Jean Oestreicher - Porte de Champerret",
           18
          ],
          [
           "Square Louis XVI",
           27
          ],
          [
           "Gare de l'Est - Faubourg-Saint-Martin",
           2
          ],
          [
           "Granges aux Belles",
           5
          ],
          [
           "Gabriel Lamé",
           36
          ],
          [
           "Dunkerque - Rocroy",
           0
          ],
          [
           "Boulangers - Cardinal Lemoine",
           15
          ],
          [
           "Gay Lussac - Saint-Jacques",
           24
          ],
          [
           "Boudreau - Auber",
           13
          ],
          [
           "Gare de Nogent-le-Perreux",
           21
          ],
          [
           "Verger - Colonel Guichard",
           1
          ],
          [
           "Las Cases - Bourgogne",
           20
          ],
          [
           "Douai - Bruxelles",
           1
          ],
          [
           "Charlot - Stade Gabriel Voisin",
           30
          ],
          [
           "Gare Saint-Lazare - Isly",
           21
          ],
          [
           "Arsène Houssaye - Friedland",
           28
          ],
          [
           "Quai de l'Horloge - Pont Neuf",
           14
          ],
          [
           "Gare d'Austerlitz - Quai Saint-Bernard",
           0
          ],
          [
           "Gare Rosny-Bois-Perrier",
           22
          ],
          [
           "Pereire - Ternes",
           5
          ],
          [
           "Institut du Monde Arabe - Saint-Germain",
           38
          ],
          [
           "Porte Pouchet-Bessières",
           5
          ],
          [
           "Thionville - Ourcq",
           2
          ],
          [
           "Ségur - d'Estrées",
           17
          ],
          [
           "Legendre - Clichy",
           4
          ],
          [
           "Institut de France",
           17
          ],
          [
           "Quai de la Seine",
           2
          ],
          [
           "Ambroise Rendu - Porte Brunet",
           0
          ],
          [
           "Lisbonne - Monceau",
           24
          ],
          [
           "Château - République",
           11
          ],
          [
           "Gare de Lyon - Place Louis Armand",
           20
          ],
          [
           "Henri Barbusse - Stalingrad",
           4
          ],
          [
           "Gare du Nord - Hôpital Lariboisière",
           3
          ],
          [
           "Rossini - Laffitte",
           32
          ],
          [
           "Redoute - Les Courtilles",
           18
          ],
          [
           "Argenteuil - Voltaire",
           2
          ],
          [
           "Belidor - Gouvion-Saint-Cyr",
           12
          ],
          [
           "Chartres - La Charbonnière",
           2
          ],
          [
           "Place de Rhin et Danube",
           0
          ],
          [
           "Pesaro - Préfecture",
           13
          ],
          [
           "Exelmans - Versailles",
           2
          ],
          [
           "Ranelagh - Mozart",
           3
          ],
          [
           "Roquette - Thiéré",
           9
          ],
          [
           "Moncey - Blanche",
           1
          ],
          [
           "Claude Decaen - Cannebière",
           0
          ],
          [
           "Saint-Maur - Roquette",
           3
          ],
          [
           "Berri - Haussmann",
           30
          ],
          [
           "11 Novembre 1918 - 8 Mai 1945",
           21
          ],
          [
           "Panthéon - Valette",
           37
          ],
          [
           "Amelot - Saint-Sébastien",
           6
          ],
          [
           "Pyrénées - Emmery",
           1
          ],
          [
           "Delphine Seyrig - Général Leclerc",
           19
          ],
          [
           "Pereire - Rennequin",
           7
          ],
          [
           "Desaix - Edgar Faure",
           7
          ],
          [
           "Notre-Dame-des-Champs - Stanislas",
           12
          ],
          [
           "Gare RER - Canadiens",
           33
          ],
          [
           "Mairie de Montreuil",
           0
          ],
          [
           "Saint-Ambroise - Parmentier",
           4
          ],
          [
           "Richard Lenoir - Republique",
           6
          ],
          [
           "Pyramide - Ecole du Breuil",
           27
          ],
          [
           "Récollets - Square Villemin",
           0
          ],
          [
           "Liège - Moscou",
           4
          ],
          [
           "Cimetière de Montrouge",
           1
          ],
          [
           "Square Simon Bolivar",
           2
          ],
          [
           "Henry Farman",
           16
          ],
          [
           "Schoelcher - Raspail",
           2
          ],
          [
           "Pajol - Place Herbert",
           3
          ],
          [
           "Rouget de Lisle",
           25
          ],
          [
           "Fontenay - Libération",
           3
          ],
          [
           "Place Du Général De Gaulle",
           0
          ],
          [
           "Marne - Germain Dardan",
           12
          ],
          [
           "Charles de Gaulle - Beauté",
           1
          ],
          [
           "Yves Farges - Route d'Enghein",
           0
          ],
          [
           "Mutualité",
           33
          ],
          [
           "Carducci - Place Hannah Arendt",
           1
          ],
          [
           "Anatole France - President Roosevelt",
           15
          ],
          [
           "Cimetière de Montmartre",
           6
          ],
          [
           "Jourdain - Place des Grandes Rigoles",
           0
          ],
          [
           "Manin - Carrières d'Amérique",
           2
          ],
          [
           "Gabriel Péri - Francisco Ferrer",
           3
          ],
          [
           "Porte de Vanves",
           2
          ],
          [
           "Roger Salengro - Fontainebleau",
           10
          ],
          [
           "Conservatoire de Musique",
           25
          ],
          [
           "Hôpital Européen Georges Pompidou",
           62
          ],
          [
           "Lucie Aubrac - Fort",
           2
          ],
          [
           "Concorde - Stalingrad",
           18
          ],
          [
           "Port-Royal - Hôpital du Val-de-Grâce",
           13
          ],
          [
           "Place Albert Kahn",
           0
          ],
          [
           "Lecourbe - Jean Maridor",
           1
          ],
          [
           "Saint-Jacques - Val de Grâce",
           13
          ],
          [
           "Grenelle - Violet",
           21
          ],
          [
           "Victor Hugo - Jeanne Jugan",
           5
          ],
          [
           "Erasme - Ulm",
           22
          ],
          [
           "Cimetière de Fontenay-sous-Bois",
           0
          ],
          [
           "Marc Sangnier - Porte de Vanves",
           3
          ],
          [
           "Place de la Reine Astrid",
           54
          ],
          [
           "Bertie Albrecht - Hoche",
           23
          ],
          [
           "Championnet - Vauvenargues",
           6
          ],
          [
           "Molière - République",
           5
          ],
          [
           "Place Marcel Cachin",
           15
          ],
          [
           "Hoche - Jean Lolive",
           3
          ],
          [
           "Rocher - Laborde",
           23
          ],
          [
           "Place de la Porte de Champeret",
           9
          ],
          [
           "Mouton Duvernet - Général Leclerc",
           2
          ],
          [
           "Saint Lambert - Blomet",
           4
          ],
          [
           "Etienne Jodelle - Saint Ouen",
           1
          ],
          [
           "Edouard Tremblay - Julian Grimaux",
           9
          ],
          [
           "Guy Môquet - Etienne Dolet",
           3
          ],
          [
           "Nationale - Place Jules Guesde",
           18
          ],
          [
           "Boissière - Etienne Dolet",
           2
          ],
          [
           "Gabriel Péri - Danielle Casanova",
           6
          ],
          [
           "Chabanais - Petits Champs",
           28
          ],
          [
           "Karl Marx",
           3
          ],
          [
           "Marcadet - Barbès",
           3
          ],
          [
           "Oberkampf - République",
           3
          ],
          [
           "Cevennes - Bergers",
           29
          ],
          [
           "Cossonnerie - Sébastopol",
           21
          ],
          [
           "Sibelle - Alésia",
           7
          ],
          [
           "Marcelle - Thalie",
           0
          ],
          [
           "Hôtel de Ville de Boulogne Billancourt",
           8
          ],
          [
           "Cambon - Rivoli",
           29
          ],
          [
           "Enghien - Faubourg Poissonnière",
           28
          ],
          [
           "Henri Ste-Claire Déville - Paul Héroult",
           14
          ],
          [
           "David Weill - Parc Montsouris",
           2
          ],
          [
           "Louis Lumière - Porte de Bagnolet",
           3
          ],
          [
           "Place Robert Guillemard",
           22
          ],
          [
           "Victoire - Chaussée d'Antin",
           21
          ],
          [
           "Marcelin Berthelot",
           11
          ],
          [
           "Victor Hugo - Galliéni",
           14
          ],
          [
           "Repos - Cimetière du Père Lachaise",
           1
          ],
          [
           "Galilée - Kléber",
           21
          ],
          [
           "Assas - Rennes",
           8
          ],
          [
           "Chemin Vert - Saint-Maur",
           6
          ],
          [
           "François Debergue - Croix de Chavaux",
           9
          ],
          [
           "Botzaris - Parc des Buttes Chaumont",
           1
          ],
          [
           "Lakanal - Commerce",
           28
          ],
          [
           "Général De Gaulle - Alouette",
           3
          ],
          [
           "Censier - Jardin des Plantes",
           27
          ],
          [
           "Joseph Liouville - Croix Nivert",
           7
          ],
          [
           "Tertres - Fontaine",
           1
          ],
          [
           "Rochechouart lamartine",
           9
          ],
          [
           "Gare Rer de Fontenay sous Bois",
           18
          ],
          [
           "Molitor - Chardon-Lagache",
           21
          ],
          [
           "Raspail - Manufacture des Oeillets",
           27
          ],
          [
           "Parmentier - République",
           3
          ],
          [
           "Noisy le Sec - Jean-Baptiste Clément",
           2
          ],
          [
           "Marie-Georges Picquart - Pereire",
           5
          ],
          [
           "Paris - Emile Zola",
           3
          ],
          [
           "Gare RER de Vincennes",
           32
          ],
          [
           "Jean Jaurès - Salvador Allende",
           1
          ],
          [
           "Théophile Gautier - François Millet",
           18
          ],
          [
           "Richard Lenoir - Jean-Pierre Timbaud",
           3
          ],
          [
           "Villette - Belleville",
           10
          ],
          [
           "Legendre - Dulong",
           0
          ],
          [
           "Larmeroux - Baudelaire",
           1
          ],
          [
           "Quai Panhard et Levassor",
           53
          ],
          [
           "Beffroy",
           23
          ],
          [
           "Square du Théâtre du Garde-Chasse",
           0
          ],
          [
           "Arche - Léonard de Vinci",
           26
          ],
          [
           "Alexandre Parodi - Quai de Valmy",
           0
          ],
          [
           "Charles de Gaulle - Sablonville",
           5
          ],
          [
           "Place Madeleine Daniélou",
           1
          ],
          [
           "Chemin Vert - Fraternité",
           0
          ],
          [
           "Jean-François Lépine - Stephenson",
           3
          ],
          [
           "Parmentier - Abel Rabaud",
           3
          ],
          [
           "Abbé Carton - Plantes",
           0
          ],
          [
           "Mairie d'Ivry-sur-Seine",
           35
          ],
          [
           "Sablons - Georges Mandel",
           2
          ],
          [
           "Exelmans - Michel-Ange",
           1
          ],
          [
           "Marché Secrétan",
           3
          ],
          [
           "Pierret - Madrid",
           22
          ],
          [
           "Cauchy - Cévennes",
           38
          ],
          [
           "Saint-Vincent - Verdun",
           14
          ],
          [
           "Mairie du 11ème",
           12
          ],
          [
           "Aristide Briand - Gare de Bagneux",
           5
          ],
          [
           "Lieutenant Chauré - Etienne Marey",
           0
          ],
          [
           "Seine - Flandre",
           2
          ],
          [
           "Auguste Cain - Jean Moulin",
           2
          ],
          [
           "Miromesnil - La Boétie",
           34
          ],
          [
           "Marseille - Beaurepaire",
           6
          ],
          [
           "Saint-Germain - Thenard",
           29
          ],
          [
           "Arago - Glacière",
           4
          ],
          [
           "Victoria - Place du Chatelet",
           22
          ],
          [
           "Parc Georges Brassens - Brancion",
           2
          ],
          [
           "Quai du docteur Dervaux",
           2
          ],
          [
           "Place Paul Eluard",
           15
          ],
          [
           "Stalingrad - Désiré Chevalier",
           1
          ],
          [
           "Reims - Raymond Pitet",
           23
          ],
          [
           "Flandre - Alphonse Karr",
           2
          ],
          [
           "Mathurins - Auber",
           26
          ],
          [
           "Charonne - Faubourg Saint-Antoine",
           28
          ],
          [
           "Hautpoul - Jean Jaurès",
           0
          ],
          [
           "Hôtel de Ville de Nanterre",
           18
          ],
          [
           "Wilson - Métallurgie",
           22
          ],
          [
           "Stephenson - Doudeauville",
           4
          ],
          [
           "Madame de Sanzillon - Mozart",
           17
          ],
          [
           "Tristan Tzara -  Tchaïkovski",
           0
          ],
          [
           "Grand Prieuré - Crussol",
           5
          ],
          [
           "Général Delambre - Prebuard",
           0
          ],
          [
           "Square d'Anvers",
           1
          ],
          [
           "Gaston Roussel - Commune de Paris",
           8
          ],
          [
           "Place du Palais Royal",
           65
          ],
          [
           "Stalingrad - Germaine Tailleferre",
           14
          ],
          [
           "Mairie du 7ème",
           11
          ],
          [
           "Porte de Vincennes",
           17
          ],
          [
           "Boyer - Ménilmontant",
           4
          ],
          [
           "Bienfaisance - Place de Narvik",
           28
          ],
          [
           "Laumière - Petit",
           1
          ],
          [
           "Guynemer - Séverine",
           26
          ],
          [
           "Gare Arcueil - Cachan",
           11
          ],
          [
           "Richard Wallace - Place du 8 Mai 1945",
           27
          ],
          [
           "Gare RER de Gentilly",
           1
          ],
          [
           "Faustin Hélie - Desbordes-Valmore",
           0
          ],
          [
           "Villiers de l'Isle Adam - Pyrénées",
           0
          ],
          [
           "Varenne",
           44
          ],
          [
           "Place Jean Ferrat",
           2
          ],
          [
           "Dupleix - du Guesclin",
           27
          ],
          [
           "Place de la Porte de Paris",
           28
          ],
          [
           "Pasteur - Gambetta",
           10
          ],
          [
           "Place Amédée Gordini - Lefebvre",
           8
          ],
          [
           "Place des Ternes.",
           14
          ],
          [
           "Victor Hugo - Ecoles",
           16
          ],
          [
           "Edouard Poisson - Victor Hugo",
           17
          ],
          [
           "Hôpital Bégin",
           17
          ],
          [
           "Montreuil - Gonnet",
           4
          ],
          [
           "Jules Ferry - Faubourg du Temple Paris",
           9
          ],
          [
           "Jussieu - Fossés Saint-Bernard",
           37
          ],
          [
           "Charenton - Diderot",
           8
          ],
          [
           "Jacques Callot - Mazarine",
           0
          ],
          [
           "Place de l'Édit de Nantes",
           1
          ],
          [
           "Commandant Rivière",
           40
          ],
          [
           "Boulard - Daguerre",
           0
          ],
          [
           "Jardin d'Acclimatation",
           20
          ],
          [
           "Marignan - Champs-Elysées",
           33
          ],
          [
           "Gare de Laplace",
           11
          ],
          [
           "Saint Georges - d'Aumale",
           5
          ],
          [
           "Bayen - Pereire",
           2
          ],
          [
           "Anatole France - Louise Michel",
           25
          ],
          [
           "Clignancourt - Sofia",
           2
          ],
          [
           "Montgallet - Charenton",
           4
          ],
          [
           "Cujas - Saint-Michel",
           16
          ],
          [
           "Alfred Roll - Berthier",
           3
          ],
          [
           "Mairie de La Garenne Colombes",
           3
          ],
          [
           "Square Gilbert Thomain",
           1
          ],
          [
           "Jean Colly - Tolbiac",
           12
          ],
          [
           "Jean Macé - Faidherbe",
           34
          ],
          [
           "Ouest - Château",
           1
          ],
          [
           "Ancien Canal - Hélène Brion",
           14
          ],
          [
           "Place aux Étoiles",
           37
          ],
          [
           "Departement - Pajol",
           1
          ],
          [
           "Pirogues de Bercy - Libourne",
           46
          ],
          [
           "Flandre - Riquet",
           1
          ],
          [
           "Place Violet",
           4
          ],
          [
           "Parmentier - Hôpital Saint-Louis",
           4
          ],
          [
           "Grands Moulins de Pantin",
           10
          ],
          [
           "Fragonard - Porte de Clichy",
           8
          ],
          [
           "Gare de Courbevoie",
           10
          ],
          [
           "Place de Verdun",
           23
          ],
          [
           "Dugommier",
           9
          ],
          [
           "Montgallet - Reuilly",
           10
          ],
          [
           "Petit - Manin",
           1
          ],
          [
           "Place Jacques Madaule",
           22
          ],
          [
           "Ménilmontant - Pelleport",
           2
          ],
          [
           "Place de la Porte de Châtillon",
           3
          ],
          [
           "Chanzy - Sud-Est",
           14
          ],
          [
           "Paul Vaillant Couturier - Chaptal",
           39
          ],
          [
           "Jussieu - Guy de la Brosse",
           38
          ],
          [
           "Square Cambronne",
           21
          ],
          [
           "Parvis Robert Schuman - Roger Salengro",
           7
          ],
          [
           "Quai de la Loire - Jean Jaurès",
           6
          ],
          [
           "Navier - Epinettes",
           3
          ],
          [
           "Route de Sèvres - Porte de Bagatelle",
           17
          ],
          [
           "Verdun - Place Henri IV",
           23
          ],
          [
           "Bordier - Félix Faure",
           7
          ],
          [
           "Edgar Quinet - Gaité",
           5
          ],
          [
           "Félix Faure - Sadi Carnot",
           12
          ],
          [
           "Place Carnot",
           1
          ],
          [
           "Assemblée Nationale",
           50
          ],
          [
           "Ceinture du Lac Inferieure - Saint-Cloud",
           0
          ],
          [
           "Gare Montparnasse - René Mouchotte",
           2
          ],
          [
           "Anatole France - Jean Lolive",
           5
          ],
          [
           "18 juin 1940 - Buzenval",
           9
          ],
          [
           "Piat - Parc de Belleville",
           1
          ],
          [
           "Porte de la Villette",
           4
          ],
          [
           "Assas - Vaugirard",
           19
          ],
          [
           "Flandrin - Henri Martin",
           7
          ],
          [
           "Batignolles - Place de Clichy",
           5
          ],
          [
           "Charonne - Avron",
           4
          ],
          [
           "Lagny - Joffre",
           20
          ],
          [
           "Place du 8 Mai 1945",
           1
          ],
          [
           "Place Falguière",
           2
          ],
          [
           "Victor Hugo - Magasins Généraux",
           30
          ],
          [
           "Emeriau - Place de Brazzaville",
           39
          ],
          [
           "Porte d'Auteuil",
           4
          ],
          [
           "Parc Monceau",
           12
          ],
          [
           "Carnot - Pâquerettes",
           15
          ],
          [
           "Tardieu - Chappe",
           0
          ],
          [
           "Réunion - Avron",
           0
          ],
          [
           "Petites Ecuries - Faubourg Poissonnière",
           13
          ],
          [
           "Jacquard - Ternaux",
           0
          ],
          [
           "Francoeur - Marcadet",
           4
          ],
          [
           "Square des Saint-Simoniens",
           0
          ],
          [
           "Vignerons - Minimes",
           15
          ],
          [
           "Place des Marseillais",
           22
          ],
          [
           "Lamennais - Washington",
           24
          ],
          [
           "Place Jean-Baptiste Clément",
           8
          ],
          [
           "Pierre Grenier - Pont de Billancourt",
           6
          ],
          [
           "Jean Lolive - Parc Stalingrad",
           8
          ],
          [
           "Parc de Belleville - Julien Lacroix",
           0
          ],
          [
           "Champeaux - Gallieni",
           1
          ],
          [
           "Gare de Pont-Cardinet",
           6
          ],
          [
           "Courcelles - Place des Ternes",
           7
          ],
          [
           "Morice - Général Leclerc",
           3
          ],
          [
           "Parc Pierre Lagravère",
           25
          ],
          [
           "Place Jean Delay",
           1
          ],
          [
           "Guichet - Jean Jaurès",
           7
          ],
          [
           "Vasco de Gama",
           24
          ],
          [
           "Gravelle - Route du Bac",
           26
          ],
          [
           "Jonquoy - Didot",
           1
          ],
          [
           "Gare de Bercy",
           7
          ],
          [
           "Lucien Sampaix - Récollets",
           6
          ],
          [
           "Boyer-Barret - Raymond Losserand",
           2
          ],
          [
           "Place du Général de Gaulle",
           12
          ],
          [
           "Pailleron - Bouret",
           0
          ],
          [
           "Lauriston - Copernic",
           6
          ],
          [
           "Place Valhubert",
           20
          ],
          [
           "Charenton - Place du Col Bourgoin",
           11
          ],
          [
           "Nanterre - Université",
           3
          ],
          [
           "Haxo - Surmelin",
           1
          ],
          [
           "Henri Chevreau - Couronnes",
           0
          ],
          [
           "Mézières - Rennes",
           11
          ],
          [
           "Pascal - Claude Bernard",
           25
          ],
          [
           "Place Adolphe Cherioux - Vaugirard",
           4
          ],
          [
           "Sommerard - Saint-Jacques",
           31
          ],
          [
           "Raspail - Bac",
           49
          ],
          [
           "Grenelle - Dr Finlay",
           56
          ],
          [
           "Porte de Clignancourt.",
           0
          ],
          [
           "Porte d'Orléans",
           5
          ],
          [
           "Porte de Saint-Ouen - Henri Huchard",
           11
          ],
          [
           "Pierre et Marie Curie - Julien Grimau",
           0
          ],
          [
           "Place du Maréchal Juin - Péreire",
           14
          ],
          [
           "Raspail - Varenne",
           18
          ],
          [
           "Lucie Aubrac - Franklin",
           1
          ],
          [
           "Vladimir Ilitch Lénine - Andrée Chedid",
           2
          ],
          [
           "Hôtel de Ville d'Argenteuil",
           14
          ],
          [
           "Professeur René Leriche - Général Leclerc",
           6
          ],
          [
           "Gare Routière de Saint Cloud",
           29
          ],
          [
           "Saint-François-Xavier",
           36
          ],
          [
           "Primo Levi - Frigos",
           33
          ],
          [
           "Quai Voltaire",
           29
          ],
          [
           "Dunois - Clisson",
           6
          ],
          [
           "Uzès - Montmartre",
           23
          ],
          [
           "Milton - Manuel",
           2
          ],
          [
           "Ledru-Rollin - Charonne",
           27
          ],
          [
           "Mahatma Gandhi",
           19
          ],
          [
           "Gare de l'Est - Verdun",
           4
          ],
          [
           "Edouard Pailleron - Simon Bolivar",
           0
          ],
          [
           "Capitaine Glarner - Gabriel Péri",
           10
          ],
          [
           "Château - Bineau",
           4
          ],
          [
           "Pont de Levallois-bécon",
           42
          ],
          [
           "Bridaine - Lamandé",
           2
          ],
          [
           "Pierre Larousse - Raymond Losserand",
           3
          ],
          [
           "Laffitte - Italiens",
           33
          ],
          [
           "Pitié-Salpêtrière",
           49
          ],
          [
           "Courcelles - Pierre Demours",
           3
          ],
          [
           "Charles Delescluze",
           10
          ],
          [
           "Chabrol - d'Hauteville",
           8
          ],
          [
           "Bara - Henri Farman",
           32
          ],
          [
           "Pajol - Riquet",
           1
          ],
          [
           "Edouard Vaillant - Paul-Adolphe Souriau",
           26
          ],
          [
           "Lassus - Delouvain",
           0
          ],
          [
           "Porte Dorée",
           8
          ],
          [
           "Toffier Decaux - Cartier Bresson",
           4
          ],
          [
           "Belleville - Porte des Lilas",
           0
          ],
          [
           "François Ponsard - La Muette",
           1
          ],
          [
           "Sèvres-Gallieni",
           24
          ],
          [
           "Provence - Chaussée d'Antin",
           20
          ],
          [
           "Indre - Prairies",
           1
          ],
          [
           "Bellefond - Maubeuge",
           1
          ],
          [
           "Michelet - Assas",
           9
          ],
          [
           "Pelleport - Belgrand",
           1
          ],
          [
           "Tanger - Place du Maroc",
           2
          ],
          [
           "Porte d'Aubervilliers",
           13
          ],
          [
           "Vincennes - Douy-Delcupe",
           2
          ],
          [
           "Square Saint-Ambroise",
           18
          ],
          [
           "Place du Cornillon - Stade de France",
           29
          ],
          [
           "Sadi Carnot - François Mitterrand",
           2
          ],
          [
           "Génie - Mozart",
           1
          ],
          [
           "Charles de Gaulle - Jean Lolive",
           10
          ],
          [
           "Filles Saint-Thomas - Place de la Bourse",
           55
          ],
          [
           "Ecole Vétérinaire",
           23
          ],
          [
           "Batignolles - Rome",
           3
          ],
          [
           "Méchain - Faubourg Saint-Jacques",
           2
          ],
          [
           "Colonel Monteil - Brune",
           0
          ],
          [
           "Stade Auguste Delaune",
           20
          ],
          [
           "Verdun - Adrien Damalix",
           6
          ],
          [
           "Jean-Baptiste Pigalle - La Bruyere",
           5
          ],
          [
           "Eglise d'Auteuil",
           7
          ],
          [
           "Transvaal - Charles de Gaulle",
           21
          ],
          [
           "Jean Jaurès - Jean Baptiste Clément",
           11
          ],
          [
           "Belliard - Damrémont",
           1
          ],
          [
           "Mairie du 18ème",
           2
          ],
          [
           "Boulets - Faubourg Saint-Antoine",
           7
          ],
          [
           "Porte de Ménilmontant",
           1
          ],
          [
           "Route de la Muette - Porte de Neuilly",
           5
          ],
          [
           "Paris - Désiré Préaux",
           4
          ],
          [
           "Maine - Antoine Bourdelle",
           2
          ],
          [
           "Lourmel - Marie Skobtsov",
           15
          ],
          [
           "Kléber - Gouverneur Général Eboué",
           18
          ],
          [
           "Belleville - Télégraphe",
           1
          ],
          [
           "Président Wilson - Jean Jaures",
           15
          ],
          [
           "Gare d'Asnières sur Seine",
           5
          ],
          [
           "Pyrénées - Maraîchers",
           2
          ],
          [
           "Danton - Serpente",
           21
          ],
          [
           "Place Jacques Bonsergent",
           8
          ],
          [
           "République - Danton",
           0
          ],
          [
           "Square René Viviani - Montebello",
           31
          ],
          [
           "Mac-Mahon - Brey",
           7
          ],
          [
           "Place de Passy",
           1
          ],
          [
           "Square des Epinettes",
           3
          ],
          [
           "Haies - Réunion",
           0
          ],
          [
           "Les Planètes",
           11
          ],
          [
           "Place Pasdeloup",
           10
          ],
          [
           "Lepic - Armée d'Orient",
           2
          ],
          [
           "Place Alphonse Deville",
           14
          ],
          [
           "Cité des Sciences et de l'Industrie",
           1
          ],
          [
           "Caulaincourt - Place Constantin Pecqueur",
           2
          ],
          [
           "Emile Blemont - Poteau",
           3
          ],
          [
           "Maison de Radio - France",
           43
          ],
          [
           "Square du Carrefour de l'Insurrection",
           3
          ],
          [
           "Square Léon",
           2
          ],
          [
           "Orteaux - Mouraud",
           2
          ],
          [
           "Fontainebleau - Edmond Michelet",
           0
          ],
          [
           "Place Etienne Pernet",
           13
          ],
          [
           "Mont Valérien - Michel Salles",
           0
          ],
          [
           "Gabrielle Josserand - Edouard Vaillant",
           6
          ],
          [
           "Traversière - Ledru-Rollin",
           25
          ],
          [
           "Théâtre - Lourmel",
           30
          ],
          [
           "Champ de Mars - Cler",
           9
          ],
          [
           "Hameau Fleuri - Marché",
           12
          ],
          [
           "Belleville - Pyrénées",
           2
          ],
          [
           "Ledru-Rollin - Place du Père Chaillet",
           6
          ],
          [
           "Aqueduc - Villette",
           3
          ],
          [
           "Aubervilliers - Curial",
           0
          ],
          [
           "Mairie de Sceaux",
           27
          ],
          [
           "Bassano -  Iéna",
           13
          ],
          [
           "Sénat - Condé",
           20
          ],
          [
           "Balard - Montagne de la Fage",
           34
          ],
          [
           "Palais des Sports",
           20
          ],
          [
           "Lavandieres Sainte Opportune - Rivoli",
           18
          ],
          [
           "Pont Neuf - Rivoli",
           22
          ],
          [
           "Gare RER de Saint-Denis",
           13
          ],
          [
           "Diderot - Reuilly",
           40
          ],
          [
           "Mozart - Jasmin",
           3
          ],
          [
           "Borrégo - Gambetta",
           1
          ],
          [
           "Wilson - Landy",
           34
          ],
          [
           "Chateau",
           11
          ],
          [
           "Naples - Rome",
           1
          ],
          [
           "Hôtel de Ville - Pont-Marie",
           6
          ],
          [
           "Lallier - Trudaine",
           1
          ],
          [
           "Hôtel de Ville de Champigny sur Marne",
           13
          ],
          [
           "Villersexel - Saint-Germain",
           13
          ],
          [
           "Place François Mitterand",
           0
          ],
          [
           "Chernoviz - Raynouard",
           11
          ],
          [
           "Faubourg Poissonniere - Delta",
           1
          ],
          [
           "Pernety - Raymond Losserand",
           3
          ],
          [
           "Gare du Nord - Demarquay",
           0
          ],
          [
           "Eugène Reisz - Davout",
           8
          ],
          [
           "Greneta - Sebastopol",
           12
          ],
          [
           "Eugène Oudiné - Dessous Des Berges",
           28
          ],
          [
           "Bercy.",
           60
          ],
          [
           "Gare Montparnasse - Vaugirard",
           4
          ],
          [
           "Raspail - Chomel",
           46
          ],
          [
           "Neuve Saint-Pierre - Beautreillis",
           6
          ],
          [
           "Reims - Porte d'Asnières",
           12
          ],
          [
           "Sabot - Rennes",
           23
          ],
          [
           "Station Paris Basketball - Ney - Charles Hermite",
           4
          ],
          [
           "Pereire - Place de Wagram",
           1
          ],
          [
           "Centenaire - Sorins",
           2
          ],
          [
           "Hôpital Pitié Salpêtrière",
           23
          ],
          [
           "Franciade - Gabriel Péri",
           12
          ],
          [
           "Cadet - La Fayette",
           6
          ],
          [
           "Brochant - Square des Batignolles",
           1
          ],
          [
           "Gustave Eiffel - Parc des Impressionnistes",
           1
          ],
          [
           "Square Raymond Souplex",
           4
          ],
          [
           "Stade Gaston Bouillant",
           8
          ],
          [
           "Poissy - Saint-Germain",
           17
          ],
          [
           "Jeanne Hornet - Girardot",
           2
          ],
          [
           "Place des Larris",
           6
          ],
          [
           "Manin - Simon Bolivar",
           0
          ],
          [
           "Vistule - Choisy",
           2
          ],
          [
           "Calmette",
           0
          ],
          [
           "Square Desnouettes",
           14
          ],
          [
           "Duroc - Place de Breteuil",
           11
          ],
          [
           "Saint-Blaise - Mouraud",
           1
          ],
          [
           "Favart - Italiens",
           17
          ],
          [
           "Place de Finlande",
           19
          ],
          [
           "Parvis Corentin Celton",
           49
          ],
          [
           "Roquépine - Malesherbes",
           32
          ],
          [
           "Bois de Vincennes.",
           16
          ],
          [
           "Les Juilliottes",
           15
          ],
          [
           "Parc André Citroën",
           63
          ],
          [
           "République - Henri Barbusse",
           21
          ],
          [
           "François 1er - Montaigne",
           0
          ],
          [
           "Jeûneurs - Mulhouse",
           23
          ],
          [
           "Vieille du Temple - Francs Bourgeois",
           5
          ],
          [
           "Convention - Saint-Charles",
           0
          ],
          [
           "Saint-Jacques - Tombe Issoire",
           1
          ],
          [
           "Ferrus - Saint-Jacques",
           22
          ],
          [
           "Billancourt - Général Leclerc",
           21
          ],
          [
           "Bleue - Trévise",
           9
          ],
          [
           "Porte Maillot - Perreire",
           0
          ],
          [
           "Le Vau - Maurice Bertaux",
           0
          ],
          [
           "Place du Maquis du Vercors",
           0
          ],
          [
           "Daunou - Louis le Grand",
           15
          ],
          [
           "Poissonniers - Nord",
           0
          ],
          [
           "Versailles - Claude Terrasse",
           3
          ],
          [
           "Beaujon - Wagram",
           17
          ],
          [
           "Mornay - Sully",
           3
          ],
          [
           "Porte d'Ivry",
           4
          ],
          [
           "Porte Saint-Martin",
           6
          ],
          [
           "Surcouf - Université",
           54
          ],
          [
           "Parc de Sceaux - Centre-Ville",
           6
          ],
          [
           "Damrémont - Caulaincourt",
           2
          ],
          [
           "François 1er - Lincoln",
           28
          ],
          [
           "Dupont de l'Eure - Gambetta",
           0
          ],
          [
           "Place Mireille Havet",
           38
          ],
          [
           "Keller - La Roquette",
           4
          ],
          [
           "Bachaumont - Montmartre",
           30
          ],
          [
           "Parmentier - Fontaine au Roi",
           5
          ],
          [
           "Melun - Jean Jaurès",
           3
          ],
          [
           "Thérèse - Opéra",
           22
          ],
          [
           "Argenson - Château",
           9
          ],
          [
           "Rougemont - Poissonnière",
           25
          ],
          [
           "Place de l'Eglise - Pantin",
           14
          ],
          [
           "Mairie du 15ème",
           8
          ],
          [
           "Butte aux Cailles - Esperance",
           0
          ],
          [
           "Manin - Crimée",
           1
          ],
          [
           "Fernand Braudel - Vincent Auriol",
           32
          ],
          [
           "Nationale - Marcel Duchamp",
           2
          ],
          [
           "Terroirs de France - Lheureux",
           54
          ],
          [
           "Charonne - Philippe-Auguste",
           0
          ],
          [
           "Brochant - Clichy",
           5
          ],
          [
           "Hôtel de Ville de Levallois Perret",
           13
          ],
          [
           "Odessa - Départ",
           0
          ],
          [
           "Mairie de Clichy",
           20
          ],
          [
           "Madeleine Michelis - Roule",
           5
          ],
          [
           "Pont de Lodi - Dauphine",
           13
          ],
          [
           "Jessaint - Marx Dormoy",
           4
          ],
          [
           "Romain Rolland",
           4
          ],
          [
           "Léon - Doudeauville",
           3
          ],
          [
           "Gambetta - Michelet",
           9
          ],
          [
           "Sèvres Rive Gauche",
           13
          ],
          [
           "Claude Vellefaux - Sambre et Meuse",
           2
          ],
          [
           "Quai Marcel Boyer - Victor Hugo",
           24
          ],
          [
           "Faidherbe - Dahomey",
           28
          ],
          [
           "Gare de Clichy-Levallois",
           13
          ],
          [
           "Pierre Sarrazin - Saint-Michel",
           27
          ],
          [
           "Docteur Calmette - Martre",
           24
          ],
          [
           "Place Tony de Graaff",
           19
          ],
          [
           "Dareau - Broussais",
           4
          ],
          [
           "Georges V - François 1er",
           22
          ],
          [
           "Le Corbusier - Jean Jaurès",
           41
          ],
          [
           "Square Georges Melies",
           15
          ],
          [
           "Boutroux - Porte de Vitry",
           33
          ],
          [
           "Sorbonne - Ecoles",
           35
          ],
          [
           "Gergovie - Vercingétorix",
           0
          ],
          [
           "Lamartine - Faubourg Montmartre",
           5
          ],
          [
           "Sambre et Meuse - Villette",
           1
          ],
          [
           "Charles de Gaulle - Louis Philippe",
           14
          ],
          [
           "Hôpital Robert Debré",
           0
          ],
          [
           "Mairie du 19ème",
           1
          ],
          [
           "Bois de Vincennes - Porte Jaune",
           1
          ],
          [
           "Jardin Marguerite Long",
           4
          ],
          [
           "Choron - Martyrs",
           2
          ],
          [
           "Jean Jaurès - Reine",
           7
          ],
          [
           "Place du Président Salvador Allende",
           15
          ],
          [
           "Louis Ganne - Davout",
           5
          ],
          [
           "Edouard Vaillant - Galliéni",
           4
          ],
          [
           "Square du Bataclan",
           6
          ],
          [
           "Bastille - Quai de la Rapée",
           17
          ],
          [
           "Place du Canada",
           54
          ],
          [
           "Clapeyron - Moscou",
           5
          ],
          [
           "Roquette - Folie Regnault",
           2
          ],
          [
           "Alexander Fleming - Belvédère",
           4
          ],
          [
           "Vignes - Boulainvilliers",
           4
          ],
          [
           "Honoré d'Estienne d'Ovres - Grilles",
           1
          ],
          [
           "Place Marcel Sembat",
           12
          ],
          [
           "Jacquard - Ternaux",
           0
          ],
          [
           "René Coty - Parc Montsouris",
           0
          ],
          [
           "Place du Front Populaire - George Sand",
           65
          ],
          [
           "François Truffaut - Saint Emilion",
           65
          ],
          [
           "Jules Guesde - Alsace",
           0
          ],
          [
           "Lac Daumesnil - Saint-Maurice",
           3
          ],
          [
           "Commandant l'Herminier - Gallieni",
           7
          ],
          [
           "René Binet - Porte de Montmartre",
           11
          ],
          [
           "Longchamp - Place d'Iéna",
           37
          ],
          [
           "Moulin de la Pointe",
           5
          ],
          [
           "Charles Lecocq - Lecourbe",
           4
          ],
          [
           "Suffren - Pérignon",
           12
          ],
          [
           "Athènes - Clichy",
           8
          ],
          [
           "Saint-Fargeau - Mortier",
           1
          ],
          [
           "Stade Georges Carpentier",
           7
          ],
          [
           "République - Auguste Perret",
           16
          ],
          [
           "Mazagran - Pierre de Coubertin",
           6
          ],
          [
           "Beaumarchais - Pas de la Mule",
           3
          ],
          [
           "Pierre Demours - Laugier",
           3
          ],
          [
           "Cours de Vincennes - Davout",
           4
          ],
          [
           "Metz - Faubourg Saint-Denis",
           10
          ],
          [
           "Mairie du 9ème",
           21
          ],
          [
           "Belleville - Couronnes",
           2
          ],
          [
           "Jean Moulin - Paul Doumer",
           1
          ],
          [
           "Censier - Santeuil",
           64
          ],
          [
           "Véron - Lepic",
           1
          ],
          [
           "Chancé Milly - Cimetière Communal Sud",
           3
          ],
          [
           "Pont De Charenton",
           6
          ],
          [
           "Botzaris - Crimée",
           3
          ],
          [
           "Pierre Brossolette - Adolphe Pinard",
           6
          ],
          [
           "Cours de l'Ile Seguin - Parc Billancourt",
           22
          ],
          [
           "Place Centrale",
           11
          ],
          [
           "André Maurois - Joseph et Marie Hackin",
           10
          ],
          [
           "Gare de Nanterre Ville",
           16
          ],
          [
           "Eylau - Trocadéro",
           9
          ],
          [
           "Senard - Charles Blum",
           15
          ],
          [
           "Cimetière d'Issy-les-Moulineaux",
           6
          ],
          [
           "Pré Saint-Gervais - Lilas",
           0
          ],
          [
           "Marcel Yol - Jullien",
           0
          ],
          [
           "Pyramide - Parc Floral",
           11
          ],
          [
           "Gare Montparnasse - Edgar Quinet",
           1
          ],
          [
           "Jules Guesde - Laennec",
           8
          ],
          [
           "Wurtz - Tolbiac",
           5
          ],
          [
           "Demi-Lune - Aristide Briand",
           0
          ],
          [
           "Marc Sangnier - Division Leclerc",
           7
          ],
          [
           "Guy Môquet - Saint-Ouen",
           3
          ],
          [
           "Résistance - Hoche",
           3
          ],
          [
           "Auguste Blanqui - Glacière",
           14
          ],
          [
           "Raffet - Montmorency",
           3
          ],
          [
           "Paul Klee - Place Augusta Holmes",
           33
          ],
          [
           "Ivry - Simone Weil",
           1
          ],
          [
           "Santé - Arago",
           11
          ],
          [
           "Cimetière de Boulogne-Billancourt",
           29
          ],
          [
           "Gare du Nord - Place de Valenciennes",
           1
          ],
          [
           "Ranelagh - Maison de la Radio",
           16
          ],
          [
           "Averroès - Aimé Césaire",
           11
          ],
          [
           "Gare SNCF Vanves-Malakoff",
           4
          ],
          [
           "Paul Barruel - Vaugirard",
           1
          ],
          [
           "Place Saint-Ferdinand",
           5
          ],
          [
           "Rapp - Place du Général Gouraud",
           31
          ],
          [
           "Vinaigriers - Magenta",
           10
          ],
          [
           "Louis Blanc - Jemmapes",
           4
          ],
          [
           "Petit Palais",
           33
          ],
          [
           "Quai de Valmy",
           2
          ],
          [
           "Carnot - Général Lanrezac",
           0
          ],
          [
           "Square de la rue Pixérécourt",
           0
          ],
          [
           "Vanne - Saussaies",
           7
          ],
          [
           "Gare de Lyon - Van Gogh",
           48
          ],
          [
           "Jean-Pierre Timbaud - Vaucouleurs",
           3
          ],
          [
           "Parc Suzanne Lenglen",
           45
          ],
          [
           "Pierre Lefaucheux - Traversière",
           28
          ],
          [
           "Neuilly - Petit",
           6
          ],
          [
           "Square Alban Satragne",
           1
          ],
          [
           "Pelée - Alphonse Baudin",
           12
          ],
          [
           "Buzenval - Avron",
           13
          ],
          [
           "Joseph Sansboeuf - Saint Lazare",
           17
          ],
          [
           "Mairie de Romainville",
           2
          ],
          [
           "Place Jules Ferry",
           10
          ],
          [
           "Daumesnil - Hébrard",
           25
          ],
          [
           "Gare de l'Est - Fidélité",
           4
          ],
          [
           "Place de Barcelone - Mirabeau",
           0
          ],
          [
           "Mairie de Neuilly sur Seine",
           11
          ],
          [
           "Hôpital - Campo-Formio",
           3
          ],
          [
           "Saint-Didier - Raymond Poincaré",
           4
          ],
          [
           "Proudhon - Président Wilson",
           25
          ],
          [
           "Gare du Nord - Denain",
           1
          ],
          [
           "Paul Signac - Aristide Briand",
           0
          ],
          [
           "Place Fernand Forest",
           27
          ],
          [
           "George V - Christophe Colomb",
           24
          ],
          [
           "Hôtel de ville de Fontenay-sous-Bois",
           0
          ],
          [
           "Stade de France",
           39
          ],
          [
           "Pierre Levée - Fontaine Timbaud",
           3
          ],
          [
           "Porte d'Italie",
           8
          ],
          [
           "Victor Cresson - Telles de la Poterie",
           10
          ],
          [
           "Batignolles - Beudant",
           2
          ],
          [
           "Convention - Vaugirard",
           15
          ],
          [
           "La Motte-Picquet - Grenelle",
           30
          ],
          [
           "Paul Vaillant-Couturier - Gare RER",
           23
          ],
          [
           "Théâtre de La Garenne",
           10
          ],
          [
           "Commerce - Letellier",
           20
          ],
          [
           "Place de l'Insurrection d'Août 1944",
           9
          ],
          [
           "Fessart - Château",
           7
          ],
          [
           "Quai de la Gare - Pont de Bercy",
           24
          ],
          [
           "Brancion - Lefebvre",
           0
          ],
          [
           "Jean Moulin - Place Victor et Hélène Basch",
           3
          ],
          [
           "Hôtel de Ville de Fontenay-aux-Roses",
           1
          ],
          [
           "Porte d'Asnières",
           4
          ],
          [
           "Docteurs Déjérine - Pte de Montreuil",
           10
          ],
          [
           "Gaston Tessier - Rosa Parks RER",
           2
          ],
          [
           "Malakoff - Place de la Porte Maillot",
           16
          ],
          [
           "Camille Groult - Guy Môquet",
           5
          ],
          [
           "Bruneseau - Quai d'Ivry",
           44
          ],
          [
           "Mazagran - Bonne Nouvelle",
           22
          ],
          [
           "Pontoise - La Tournelle",
           17
          ],
          [
           "Raspail - Albert Schweitzer",
           9
          ],
          [
           "Jardin de l'Hospice Debrousse",
           0
          ],
          [
           "Assas - Luxembourg",
           1
          ],
          [
           "Amaury Duval - Gabriel Péri",
           4
          ],
          [
           "Brillat-Savarin - Küss",
           0
          ],
          [
           "Jean Calvin - Tournefort",
           23
          ],
          [
           "Estienne d'Orves - Henri Ginoux",
           0
          ],
          [
           "Gallieni - Lycée Charles Petitet",
           16
          ],
          [
           "Paris - Laitières",
           20
          ],
          [
           "Charles Gide - Fort de Bicêtre",
           5
          ],
          [
           "Charonne - Pierre Bayle",
           4
          ],
          [
           "Vitruve - Davout",
           6
          ],
          [
           "Javel - André Citroën",
           42
          ],
          [
           "Place de la Porte de Passy",
           8
          ],
          [
           "Emeriau - Beaugrenelle",
           24
          ],
          [
           "Damrémont - Ordener",
           5
          ],
          [
           "Faubourg Poissonnière - Dunkerque",
           0
          ],
          [
           "Place Nationale - Château-des-Rentiers",
           12
          ],
          [
           "Place Mongolfier",
           37
          ],
          [
           "Quai aux Fleurs - Pont Saint-Louis",
           20
          ],
          [
           "Gare de l'Est - Place du 11 Novembre 1918",
           1
          ],
          [
           "Place de Lévis",
           1
          ],
          [
           "Monceau - Malesherbes",
           16
          ],
          [
           "Arcole - Notre-Dame",
           29
          ],
          [
           "Lucien Lanternier - Le Luth",
           14
          ],
          [
           "Président Wilson - Baudin",
           22
          ],
          [
           "La Jarry - Place Diderot",
           3
          ],
          [
           "Jourdan - Monticelli",
           0
          ],
          [
           "Charonne - Bureau",
           3
          ],
          [
           "Marché aux fleurs",
           15
          ],
          [
           "Pergolèse - Malakoff",
           28
          ],
          [
           "Lobau - Hôtel de Ville",
           31
          ],
          [
           "Vaugirard - Pasteur",
           3
          ],
          [
           "Jacques Kellner - Saint-Ouen",
           3
          ],
          [
           "Voltaire - Anatole France",
           16
          ],
          [
           "Place de l'Europe - Quai de Bercy",
           13
          ],
          [
           "Blaise-Desgoffe - Vaugirard",
           10
          ],
          [
           "Louis Pasteur - Albert Petit",
           0
          ],
          [
           "Square Louise Michel",
           0
          ],
          [
           "Bobillot - Paulin Mery",
           4
          ],
          [
           "Mairie de Clamart",
           3
          ],
          [
           "Louis Rolland - République",
           1
          ],
          [
           "Place Jeanne d'Arc",
           4
          ],
          [
           "Victor Hugo - La Pompe",
           12
          ],
          [
           "Douai - Pierre Fontaine",
           2
          ],
          [
           "Gare de Lyon - Chalon",
           13
          ],
          [
           "Paul Vaillant-Couturier - Victor Hugo",
           30
          ],
          [
           "Colmar - Victor Hugo",
           26
          ],
          [
           "Portugais - Kléber",
           22
          ],
          [
           "Benjamin Delessert - Jean Lolive",
           6
          ],
          [
           "Halles - Bourdonnais",
           19
          ],
          [
           "Place de la Gare",
           38
          ],
          [
           "Saint-Mandé - Fabre d'Eglantine",
           30
          ],
          [
           "Italie - Jardin Joan Miro",
           6
          ],
          [
           "Lemercier - Cardinet",
           0
          ],
          [
           "Charles de Gaulle - Les Sablons",
           0
          ],
          [
           "Balzac - Olympes de Gouges",
           19
          ],
          [
           "Mairie de quartier du Plateau - Mont-Valérien",
           1
          ],
          [
           "Place Saint-Just",
           12
          ],
          [
           "Place Lafayette",
           61
          ],
          [
           "Toqueville - Cardinet",
           2
          ],
          [
           "Berthier - Place Stuart Merril",
           4
          ],
          [
           "Gérando - Rochechouart",
           1
          ],
          [
           "Lucien Bossoutrot - Général Martial Vallin",
           31
          ],
          [
           "Placette Grégoire Collas",
           12
          ],
          [
           "Goutte d'or - Barbès",
           1
          ],
          [
           "Centre Georges Pompidou",
           24
          ],
          [
           "Quai de l'Oise - Aisne",
           3
          ],
          [
           "Porte des Lilas - Faidherbe",
           0
          ],
          [
           "Place du 14 Juillet",
           1
          ],
          [
           "Square Bela Bartok",
           21
          ],
          [
           "Place Jacques et Thérèse Tréfouël",
           6
          ],
          [
           "Place Ginette Hamelin",
           19
          ],
          [
           "Bessières - Porte de Clichy",
           11
          ],
          [
           "Mstislav Rostropovitch - Berthier",
           10
          ],
          [
           "Place Edmond Michelet",
           23
          ],
          [
           "Saint-Germain - Ciseaux",
           17
          ],
          [
           "Emile Zola - Fondary",
           1
          ],
          [
           "Gare du Stade",
           13
          ],
          [
           "Estrapade - Ulm",
           15
          ],
          [
           "Esplanade du Foncet - Camille Desmoulins",
           27
          ],
          [
           "Charles Tillon - Cimetière Communal",
           10
          ],
          [
           "Londres - Place d'Estienne d'Orves",
           24
          ],
          [
           "La Motte-Picquet - La Tour Maubourg",
           9
          ],
          [
           "Dunkerque - Trudaine",
           0
          ],
          [
           "Quai du Président Roosevelt - Pont Aval",
           27
          ],
          [
           "Champs-Elysees - Bassano",
           0
          ],
          [
           "Delizy - Louis Nadot",
           5
          ],
          [
           "Joseph Dijon - Ornano",
           2
          ],
          [
           "Maréchal Joffre - Verdun",
           0
          ],
          [
           "Square Denise Buisson",
           1
          ],
          [
           "Île de la Jatte",
           9
          ],
          [
           "Chemin de Bretagne",
           28
          ],
          [
           "Cambronne - Villa Croix Nivert",
           4
          ],
          [
           "Crozatier - Faubourg Saint-Antoine",
           27
          ],
          [
           "Fort d'Aubervilliers",
           2
          ],
          [
           "Glacière - Soeur Catherine Marie",
           4
          ],
          [
           "Auguste Blanqui - Corvisart",
           1
          ],
          [
           "Rottembourg - Général Michel Bizot",
           10
          ],
          [
           "Suffren - Champ de Mars",
           22
          ],
          [
           "Geoffroy - Marie",
           15
          ],
          [
           "Taitbout - La Fayette",
           52
          ],
          [
           "Place de Rungis",
           4
          ],
          [
           "Place Nelson Mandela",
           18
          ],
          [
           "Vivaldi - Antoine-Julien Hénard",
           2
          ],
          [
           "Place Monge",
           3
          ],
          [
           "Louis Xavier de Ricard - Ancienne Mairie",
           0
          ],
          [
           "Picpus - Louis Braille",
           3
          ],
          [
           "Charenton - Prague",
           6
          ],
          [
           "Godot de Mauroy - Madeleine",
           10
          ],
          [
           "Harpe - Saint-Germain",
           15
          ],
          [
           "Madagascar - Meuniers",
           6
          ],
          [
           "Hôpital Necker",
           27
          ],
          [
           "Marché Saint-Quentin",
           3
          ],
          [
           "Bagnolet - Orteaux",
           4
          ],
          [
           "Buffon - Jardin des Plantes",
           9
          ],
          [
           "Mairie du 8ème",
           7
          ],
          [
           "Lebrun - Colonel Fabien",
           0
          ],
          [
           "Abbé Groult - Convention",
           0
          ],
          [
           "Vivienne - Montmartre",
           38
          ],
          [
           "Place d'Italie - Vincent Auriol",
           3
          ],
          [
           "Square Etienne Jarousse",
           1
          ],
          [
           "Marché Saint-Germain",
           17
          ],
          [
           "Cloître Saint-Merri - Renard",
           30
          ],
          [
           "Place Aimé Césaire",
           12
          ],
          [
           "Bourg l'Abbé - Saint-Martin",
           15
          ],
          [
           "Gare RER - Malleret-Joinville",
           15
          ],
          [
           "Gare d'Argenteuil",
           20
          ],
          [
           "Bruant - Vincent Auriol",
           20
          ],
          [
           "Jules Guesdes - Général de Gaulle",
           0
          ],
          [
           "Hôtel de Ville de Sèvres",
           15
          ],
          [
           "Bibliothèque Nationale - Richelieu",
           15
          ],
          [
           "Jean Monnet - Iles",
           7
          ],
          [
           "Cherche-Midi - Hôpital Necker",
           17
          ],
          [
           "Parc Eli Lotar",
           12
          ],
          [
           "Villiers - Batignolles",
           6
          ],
          [
           "Condorcet - Turgot",
           4
          ],
          [
           "Place Charles Michels",
           28
          ],
          [
           "Leredde - Tolbiac",
           41
          ],
          [
           "Croix Nivert - Square Saint-Lambert",
           5
          ],
          [
           "Porte de la Muette",
           14
          ],
          [
           "Benoît Frachon - République",
           19
          ],
          [
           "Landy - Heurtault",
           11
          ],
          [
           "Jean Jaurès - Jules Jacquemin",
           6
          ],
          [
           "Gare du Nord - Saint-Vincent de Paul",
           0
          ],
          [
           "Mairie du 14ème",
           0
          ],
          [
           "Ecoles - Carmes",
           32
          ],
          [
           "Place des Droits de l'Enfant",
           1
          ],
          [
           "Porte de Bagnolet",
           1
          ],
          [
           "Marne - Charles de Gaulle",
           9
          ],
          [
           "Reuilly - Place Felix Eboue",
           4
          ],
          [
           "Saint-Benoît - Jacob",
           20
          ],
          [
           "Flandrin - Longchamp",
           21
          ],
          [
           "Didot - Place de Moro-Giafferi",
           4
          ],
          [
           "Porte Molitor",
           3
          ],
          [
           "Davout - Volga",
           5
          ],
          [
           "Charles Frérot - Albert Guilpin",
           9
          ],
          [
           "Paradis - Hauteville",
           20
          ],
          [
           "Place de la Madeleine - Royale",
           41
          ],
          [
           "Bréguet - Sabin",
           26
          ],
          [
           "Claude Vellefaux - Hôpital Saint-Louis",
           3
          ],
          [
           "Stalingrad - Rigollots",
           2
          ],
          [
           "Gare RER les Grésillons",
           13
          ],
          [
           "Jardins d'Eole",
           0
          ],
          [
           "Murat - Porte de Saint-Cloud",
           5
          ],
          [
           "Raymond Poincaré - Place Victor Hugo",
           12
          ],
          [
           "Buisson Saint-Louis - Saint-Maur",
           1
          ],
          [
           "Paul Bodin - Clichy",
           1
          ],
          [
           "Diane Arbus",
           5
          ],
          [
           "Bourdon - Pont Morland",
           11
          ],
          [
           "Perle - Vieille du Temple",
           11
          ],
          [
           "Plantes - Moulin Vert",
           0
          ],
          [
           "Roger Salengro - Général de Gaulle",
           11
          ],
          [
           "Crevaux - Bugeaud",
           12
          ],
          [
           "Cadix - Hameau",
           6
          ],
          [
           "Cité Riverin - Château d'Eau",
           2
          ],
          [
           "Camille Risch - Paul Armangot",
           11
          ],
          [
           "Place de la Nation - Picpus",
           6
          ],
          [
           "Charentonneau - Maisons Alfort",
           1
          ],
          [
           "Maxime Gorki - Louis Aragon",
           5
          ],
          [
           "Mairie du 16ème",
           6
          ],
          [
           "Poissonniers - Championnet",
           4
          ],
          [
           "Cité Vaneau",
           15
          ],
          [
           "Grande Truanderie - Saint-Denis",
           6
          ],
          [
           "Leibniz - Jean Dollfus",
           0
          ],
          [
           "Gare Montparnasse - Arrivée",
           4
          ],
          [
           "Gare de Reuilly - Picpus",
           6
          ],
          [
           "Sèvres - Lecourbe",
           4
          ],
          [
           "Pergolèse - Marbeau",
           8
          ],
          [
           "Square Claude Bernard",
           17
          ],
          [
           "Jourdan - Cité Universitaire",
           2
          ],
          [
           "Jules Vallès - Charonne",
           8
          ],
          [
           "Gare Saint-Lazare - Stockholm",
           3
          ],
          [
           "Henri Ravera - Gabriel Péri",
           4
          ],
          [
           "Gambetta - Père Lachaise",
           0
          ],
          [
           "Charcot - Benfleet",
           0
          ],
          [
           "Niger - Soult",
           12
          ],
          [
           "Chevreuse - Montparnasse",
           6
          ],
          [
           "Porte de Clignancourt - Ney",
           5
          ],
          [
           "Epée de Bois - Mouffetard",
           14
          ],
          [
           "Louis Blanc - La Chapelle",
           4
          ],
          [
           "Reuilly - Daumesnil",
           1
          ],
          [
           "Quai de Béthune - Pont de la Tournelle",
           13
          ],
          [
           "Turbigo - Française",
           15
          ],
          [
           "Cordelières - Arago",
           13
          ],
          [
           "Molitor - Michel-Ange",
           2
          ],
          [
           "Centquatre",
           3
          ],
          [
           "Place des Abbesses",
           3
          ],
          [
           "Herschel - Observatoire",
           6
          ],
          [
           "Sorbier - Ménilmontant",
           0
          ],
          [
           "Petit - Georges Thill",
           5
          ],
          [
           "Place de la Nation - Charonne",
           11
          ],
          [
           "Mairie du 10ème",
           8
          ],
          [
           "Pyrénées - Avron",
           4
          ],
          [
           "Pyrénées - Plaine",
           11
          ],
          [
           "Louis Lumière.",
           9
          ],
          [
           "Saint-Denis - Université",
           13
          ],
          [
           "Mairie d'Issy",
           20
          ],
          [
           "Sarrette - Général Leclerc",
           1
          ],
          [
           "Beaubourg - Michel-le-Comte",
           14
          ],
          [
           "Turbigo - Réaumur",
           9
          ],
          [
           "Square Montholon",
           3
          ],
          [
           "Place de la Fraternité",
           2
          ],
          [
           "Phalsbourg - Villiers",
           6
          ],
          [
           "Parme - Clichy",
           0
          ],
          [
           "Emile Reynaud - Porte de la Villette",
           3
          ],
          [
           "Dunkerque - Alsace",
           2
          ],
          [
           "Chausson - Gabriel Péri",
           8
          ],
          [
           "Petites Ecuries - Faubourg Saint-Denis",
           4
          ],
          [
           "Bargue -  Dutot",
           4
          ],
          [
           "Charles de Gaulle - Plateau de Vanves",
           3
          ],
          [
           "Place de l'Europe - Alfortville",
           16
          ],
          [
           "Maurice Payret-Dortail",
           2
          ],
          [
           "Sèvres - Général Leclerc",
           20
          ],
          [
           "Archives - Rivoli",
           19
          ],
          [
           "Arsène Houssaye - Champs-Elysées",
           27
          ],
          [
           "Maine - Liancourt",
           2
          ],
          [
           "Gare de Bellevue",
           2
          ],
          [
           "Bourse du Travail",
           11
          ],
          [
           "Bosquet - Saint-Dominique",
           22
          ],
          [
           "Frères Flavien - Porte des Lilas",
           1
          ],
          [
           "Louis le Grand - Italiens",
           27
          ],
          [
           "Saint-Denis - Réaumur",
           15
          ],
          [
           "Maurice d'Ocagne - General Maudhuy",
           0
          ],
          [
           "Française - Etienne Marcel",
           10
          ],
          [
           "Beaumarchais - Saint-Gilles",
           8
          ],
          [
           "Cléry - Montmartre",
           42
          ],
          [
           "Lacuée - Lyon",
           15
          ],
          [
           "Adolphe Lalyre - Armand Silvestre",
           3
          ],
          [
           "Solitaires - Place des Fêtes",
           0
          ],
          [
           "Temple - Haudriettes",
           11
          ],
          [
           "Joffre - Aigle",
           7
          ],
          [
           "Square Emile - Chautemps",
           11
          ],
          [
           "Parc Roger Salengro",
           15
          ],
          [
           "Gare d'Austerlitz - Pont Charles de Gaulle",
           37
          ],
          [
           "Nationale - Vincent Auriol",
           1
          ],
          [
           "Etienne Marcel - Montorgueil",
           27
          ],
          [
           "Olivier de Serres - Leriche",
           1
          ],
          [
           "Gardenat-Lapostol - Velettes",
           2
          ],
          [
           "Sainte-Elisabeth - Turbigo",
           8
          ],
          [
           "Place du 17 Octobre",
           10
          ],
          [
           "Cours de Vincennes - Soult",
           6
          ],
          [
           "Adolphe Pinard - Victor Hugo",
           1
          ],
          [
           "Bézout - Général Leclerc",
           1
          ],
          [
           "Mairie du 3ème",
           12
          ],
          [
           "Blancs-Manteaux - Archives",
           8
          ],
          [
           "Mairie du 4ème",
           9
          ],
          [
           "Hôtel de Ville d'Asnières sur Seine",
           3
          ],
          [
           "Fille du Calvaire - Turenne",
           6
          ],
          [
           "Montmartre - Etienne Marcel",
           14
          ],
          [
           "Cesaria Evora - Rosa Parks",
           2
          ],
          [
           "Hôtel de Ville de Chaville",
           0
          ],
          [
           "Victoire - Laffitte",
           18
          ],
          [
           "Didot - Mariniers",
           3
          ],
          [
           "Eugène Varlin - Place de la Paix",
           4
          ],
          [
           "Lally-Tollendal - Armand Carrel",
           1
          ],
          [
           "Froidevaux - Boulard",
           1
          ],
          [
           "Lagny - Auguste Blanqui",
           20
          ],
          [
           "Tiron - Rivoli",
           9
          ],
          [
           "Kléber - National",
           18
          ],
          [
           "Alouettes - Maréchal de Lattre de Tassigny",
           21
          ],
          [
           "Château - République",
           9
          ],
          [
           "Mairie du Kremlin-Bicêtre",
           15
          ],
          [
           "Saint-Michel - Luxembourg",
           14
          ],
          [
           "Jean Bleuzen - Square du 11 Novembre",
           1
          ],
          [
           "Verdier - Jean Jaurès",
           6
          ],
          [
           "Gare du Nord - La Chapelle",
           4
          ],
          [
           "Rivoli - Musée du Louvre",
           23
          ],
          [
           "Village Saint-Paul",
           5
          ],
          [
           "Bas - Gabriel Péri",
           0
          ],
          [
           "Barbès - Monique Maunoury",
           1
          ],
          [
           "Séminaire de Conflans - Liberté",
           12
          ],
          [
           "Choiseul - Quatre Septembre",
           39
          ],
          [
           "Saint-Gilles - Turenne",
           10
          ],
          [
           "Hippodrome Paris-Vincennes",
           26
          ],
          [
           "Gardenat Lapostol - Franklin Roosevelt",
           8
          ],
          [
           "Bastille - Beaumarchais",
           3
          ],
          [
           "Pau Casals - Neuve Tolbiac",
           51
          ],
          [
           "Square Pierre Lazareff",
           11
          ],
          [
           "Jean-Jacques Rousseau - Deux Ecus",
           21
          ],
          [
           "Place Paul Delouvrier",
           0
          ],
          [
           "Édouard Vaillant - Place Jean Jaurès",
           0
          ],
          [
           "Candale - Mehul",
           2
          ],
          [
           "Aboukir - Alexandrie",
           11
          ],
          [
           "Saint-Bon - Rivoli",
           17
          ],
          [
           "Place de l'Hôtel de Ville",
           13
          ],
          [
           "Waldeck Rochet - Germaine Tillon",
           29
          ],
          [
           "Porte de Saint Cloud - Parc des Princes",
           10
          ],
          [
           "Place du 8 mai 1945.",
           12
          ],
          [
           "Quai Jules Guesde - Saint-Simon",
           15
          ],
          [
           "Gare des Vallées",
           4
          ],
          [
           "Place de la Bastille - Bourdon",
           15
          ],
          [
           "Mairie du 2ème",
           27
          ],
          [
           "Chaussée d'Antin - Haussmann",
           24
          ],
          [
           "Place du Lieutenant Henri Karcher",
           28
          ],
          [
           "Oratoire - Rivoli",
           18
          ],
          [
           "Grande Rue - Europe",
           14
          ],
          [
           "Ventadour - Opéra",
           25
          ],
          [
           "Custine - Ramey",
           2
          ],
          [
           "Port - Confluence",
           3
          ],
          [
           "Alger - Rivoli",
           20
          ],
          [
           "Choisy - Malmaisons",
           0
          ],
          [
           "Berthier - Porte de Clichy",
           21
          ],
          [
           "Saint-Honoré - 29 juillet",
           15
          ],
          [
           "Stade Pershing",
           11
          ],
          [
           "Gare de Sèvres - Ville d'Avray",
           5
          ],
          [
           "Saint-Amand - Labrouste",
           5
          ],
          [
           "Saint Pères - Saint Germain",
           21
          ],
          [
           "Jouffroy d'Abbans - Villiers",
           3
          ],
          [
           "Marseillaise - Grenade",
           5
          ],
          [
           "Saint-Placide - Cherche Midi",
           21
          ],
          [
           "Decrès - Alésia",
           6
          ],
          [
           "Marx Dormoy - Château Sainte-Barbe",
           2
          ],
          [
           "Square Victor Basch",
           0
          ],
          [
           "Amédée Huon - Fort d'Ivry",
           15
          ],
          [
           "Archives - Pastourelle",
           14
          ],
          [
           "Saint-Honoré - Musée du Louvre",
           21
          ],
          [
           "Jean Jaurès - Paul Lafargue",
           23
          ],
          [
           "Guy Môquet - Parvis Georges Marchais",
           3
          ],
          [
           "Quai de l'Aisne - Général Leclerc",
           2
          ],
          [
           "Le Goff - Gay-Lussac",
           11
          ],
          [
           "Magenta - Chabrol",
           3
          ],
          [
           "Château - Place de Catalogne",
           0
          ],
          [
           "Bréa - Raspail",
           12
          ],
          [
           "Résistance - Parmentier",
           6
          ],
          [
           "Parc Floral du Bel Air",
           3
          ],
          [
           "Arthur Ranc - Hôpital Bichat",
           5
          ],
          [
           "Place de la Division Leclerc",
           5
          ],
          [
           "Suresnes - Muette à Neuilly",
           2
          ],
          [
           "Belfort - Victor Hugo",
           13
          ],
          [
           "Verdun - Carnot",
           9
          ],
          [
           "Belles Feuilles - Place de Mexico",
           4
          ],
          [
           "Cardinal Lavigerie",
           7
          ],
          [
           "André Theuriet - Blagis",
           13
          ],
          [
           "Réaumur - Montmartre",
           17
          ],
          [
           "Lampes",
           39
          ],
          [
           "Victor Hugo - Gare",
           0
          ],
          [
           "Porte de Pantin.",
           3
          ],
          [
           "Saint-Marc - Feydeau",
           36
          ],
          [
           "Place André Malraux",
           17
          ],
          [
           "Danielle Casanova - Opéra",
           17
          ],
          [
           "Place Farhat Hached",
           25
          ],
          [
           "Jules Guesdes - Carnot",
           3
          ],
          [
           "Gare RER - Maurice Grandcoing",
           20
          ],
          [
           "Henri Barbusse - Marcel Cachin",
           4
          ],
          [
           "Dutot - Place Alleray",
           1
          ],
          [
           "Les Halles - Saint-Eustache",
           31
          ],
          [
           "Jouffroy d'Abbans - Malesherbes",
           9
          ],
          [
           "Place des Victoires",
           24
          ],
          [
           "Bagnolet - Place Saint-Blaise",
           2
          ],
          [
           "Victor Massé - Jean-Baptiste Pigalle",
           7
          ],
          [
           "Strasbourg - Saint-Denis",
           8
          ],
          [
           "Coquillière - Louvre",
           19
          ],
          [
           "République - Louis Loucheur",
           32
          ],
          [
           "Place de l'Eglise - Vitry-sur-Seine",
           26
          ],
          [
           "Henri Barbusse - Gabriel Péri",
           2
          ],
          [
           "Porte Dauphine",
           0
          ],
          [
           "André Mazet - Saint-André des Arts",
           38
          ],
          [
           "Vaugirard - Monsieur le Prince",
           14
          ],
          [
           "Mariotte - Batignolles",
           2
          ],
          [
           "Charenton - Wattignies",
           8
          ],
          [
           "Londres - Europe",
           8
          ],
          [
           "Sorbier - Gasnier-Guy",
           1
          ],
          [
           "Riquet - Marx Dormoy",
           2
          ],
          [
           "Saint-Mande - Picpus",
           5
          ],
          [
           "Gare de Chaville Rive Gauche",
           2
          ],
          [
           "Les Blagis",
           23
          ],
          [
           "Gobelins - Port-Royal",
           9
          ],
          [
           "Victor Hugo - Paul Eluard",
           23
          ],
          [
           "Mûriers - Père Lachaise",
           0
          ],
          [
           "Blanqui - Docteur Bauer",
           15
          ],
          [
           "Danielle Casanova - Ledru-Rollin",
           13
          ],
          [
           "Youri Gagarine - Commune de Paris",
           9
          ],
          [
           "Ney - Porte de Montmartre",
           5
          ],
          [
           "Quai de Sèvres - Manufacture Nationale",
           27
          ],
          [
           "Place du Maréchal de Lattre de Tassigny",
           0
          ],
          [
           "Silly - Louis Blériot",
           12
          ],
          [
           "Pierre Charron - Champs-Elysées",
           28
          ],
          [
           "Paganini - Davout",
           13
          ],
          [
           "Belleville -  Pré Saint-Gervais",
           1
          ],
          [
           "Stalingrad - Henri Luisette",
           6
          ],
          [
           "Château de Vincennes",
           13
          ],
          [
           "Gare de Robinson",
           20
          ],
          [
           "Place Denfert-Rochereau",
           2
          ],
          [
           "Jardin Modèle - Pierre Boudou",
           1
          ],
          [
           "Saint-Augustin",
           19
          ],
          [
           "Vincent Auriol - Louise Weiss",
           19
          ],
          [
           "Balzac - Champs Elysées",
           29
          ],
          [
           "Halle Freyssinet - Parvis Alan Turing",
           21
          ],
          [
           "Félix Faure - Convention",
           30
          ],
          [
           "Mairie",
           1
          ],
          [
           "Léon Frot - Charonne",
           4
          ],
          [
           "Béranger - Félix Faure",
           1
          ],
          [
           "Cambronne - Mademoiselle",
           8
          ],
          [
           "Bichat - Grange aux Belles",
           3
          ],
          [
           "Hôtel de Ville de Saint-Ouen",
           15
          ],
          [
           "Stéphanie Bouvard - Gambetta",
           12
          ],
          [
           "Taitbout - Châteaudun",
           36
          ],
          [
           "Chastenet de Géry - Marcel Paul",
           2
          ],
          [
           "Roquette - Auguste Laurent",
           10
          ],
          [
           "Martyrs de Châteaubriant - Jean Grandel",
           28
          ],
          [
           "Place de la vache noire",
           8
          ],
          [
           "Place Charles de Gaulle",
           1
          ],
          [
           "Gouthière - Poterne des Peupliers",
           16
          ],
          [
           "Clef des Champs - Albert Dhalenne",
           9
          ],
          [
           "Moscou - Edouard Vaillant",
           26
          ],
          [
           "Gare - Aristide Briand",
           13
          ],
          [
           "Pyrénées - Charles Renouvier",
           1
          ],
          [
           "Porte de Versailles",
           22
          ],
          [
           "Hector Malot - Daumesnil",
           25
          ],
          [
           "Bons Raisins - Voltaire",
           0
          ],
          [
           "Bercy - Traversiére",
           18
          ],
          [
           "Manin - Secrétan",
           1
          ],
          [
           "Pierre Joseph Desault",
           11
          ],
          [
           "Mathis - Flandre",
           1
          ],
          [
           "Suffren - La Motte-Piquet",
           15
          ],
          [
           "Bobillot - Tolbiac",
           5
          ],
          [
           "Dom-Pérignon - Gravelle",
           18
          ],
          [
           "Paix - Verdun",
           8
          ],
          [
           "Gambetta - Tourelles",
           0
          ],
          [
           "Chevaleret - Louise Weiss",
           25
          ],
          [
           "Square des Amandiers",
           2
          ],
          [
           "Général Leclerc - Bièvre",
           22
          ],
          [
           "Pereire - Saussure",
           5
          ],
          [
           "Edith Cavell - Volta",
           8
          ],
          [
           "Marcadet - Ramey",
           4
          ],
          [
           "Place du Docteur Yersin",
           14
          ],
          [
           "George Sand - Jean de La Fontaine",
           1
          ],
          [
           "Duméril - Jeanne d'Arc",
           7
          ],
          [
           "Porte de la Plaine",
           0
          ],
          [
           "Maxime Gorki - Paul Vaillant-Couturier",
           2
          ],
          [
           "Sahel - Général Michel Bizot",
           5
          ],
          [
           "Francoeur - Caulaincourt",
           3
          ],
          [
           "René Coty - Place Denfert-Rochereau",
           1
          ],
          [
           "Euryale Dehaynin - Loire",
           2
          ],
          [
           "Duhamel - André Gide",
           1
          ],
          [
           "Lecourbe - Convention",
           21
          ],
          [
           "Saint-Séverin - Saint-Michel",
           27
          ],
          [
           "Dôme - République",
           25
          ],
          [
           "Jean Jaurès - Place de la Libération",
           22
          ],
          [
           "Pyrénées - Cours de Vincennes",
           9
          ],
          [
           "Montreuil - République",
           3
          ],
          [
           "Franquet - Labrouste",
           1
          ],
          [
           "Constantine - Université",
           55
          ],
          [
           "Hauteville - Bonne Nouvelle",
           12
          ],
          [
           "Mairie de Bagnolet",
           0
          ],
          [
           "Place Charles Digeon",
           9
          ],
          [
           "Pierre Brossolette - 12 Février 1934",
           0
          ],
          [
           "Port Royal - Hôpital Cochin",
           5
          ],
          [
           "Guy Môquet - Compoint",
           4
          ],
          [
           "Gergovie - Alésia",
           0
          ],
          [
           "Reynaldo Hahn - Lagny",
           5
          ],
          [
           "Place Eustache Deschamps",
           9
          ],
          [
           "Verdier - République",
           1
          ],
          [
           "LCL Campus - Place Oscar Niemeyer",
           5
          ],
          [
           "Louis Blanc - Aqueduc",
           3
          ],
          [
           "Général De Gaulle - Vivien",
           5
          ],
          [
           "Regard - Rennes",
           9
          ],
          [
           "Buzenval - Vignoles",
           2
          ],
          [
           "Pasteur - Cotentin",
           2
          ],
          [
           "Guillaume Tell - Parc Henri Barbusse",
           3
          ],
          [
           "Ménilmontant - Oberkampf",
           2
          ],
          [
           "Hôtel de Ville de Vincennes",
           2
          ],
          [
           "Lorraine - Jean Jaurès",
           4
          ],
          [
           "Hispano Suiza - Parc des Bruyères",
           5
          ],
          [
           "Volontaires - Vaugirard",
           7
          ],
          [
           "Dominique Pado - Croix Nivert",
           1
          ],
          [
           "M.- A. Lagroua Weill-Hallé -  F. Dolto",
           54
          ],
          [
           "Jean de la Fontaine - Boulainvilliers",
           26
          ],
          [
           "Fief - République",
           23
          ],
          [
           "Olympiades",
           6
          ],
          [
           "Dantzig - Lefebvre",
           1
          ],
          [
           "Maine - Jean Zay",
           6
          ],
          [
           "Porte de Charenton",
           8
          ],
          [
           "Tombe Issoire - René Coty",
           1
          ],
          [
           "Arsonval - Falguière",
           1
          ],
          [
           "Siam - La Pompe",
           1
          ],
          [
           "Bobillot - Moulin des Prés",
           3
          ],
          [
           "Alexandre Dumas - Place de la Réunion",
           2
          ],
          [
           "Montparnasse -  Square Ozanam",
           6
          ],
          [
           "Bourdonnais - Tour Eiffel",
           59
          ],
          [
           "Jean Bologne - Passy",
           2
          ],
          [
           "Marcel Pourtout - Édouard Manet",
           23
          ],
          [
           "Pyrénées - Dagorno",
           2
          ],
          [
           "Ancienne Mairie - André Morizet",
           14
          ],
          [
           "Crimée - Ourcq",
           1
          ],
          [
           "Lavoisier - Missak Manouchian",
           14
          ],
          [
           "Flandre - Ourcq",
           1
          ],
          [
           "Charonne - Alexandre Dumas",
           3
          ],
          [
           "Saint-Maur - République",
           0
          ],
          [
           "Place Aristide Briand",
           15
          ],
          [
           "Saint-Marcel - Hôpital",
           14
          ],
          [
           "Marceau - Président Wilson",
           29
          ],
          [
           "Lacépède - Linné",
           44
          ],
          [
           "Legendre - Nollet",
           4
          ],
          [
           "Jacquier - Didot",
           0
          ],
          [
           "Rome - Provence",
           27
          ],
          [
           "Guynemer - Jardin du Luxembourg",
           3
          ],
          [
           "Gabriel Péri - Place de la Libération",
           3
          ],
          [
           "Verdun - Pierre et Marie Curie",
           3
          ],
          [
           "Championnet.",
           1
          ],
          [
           "Paul Valery - Victor Hugo",
           26
          ],
          [
           "Quatre Vents - Carrefour de l'Odéon",
           19
          ],
          [
           "Temple - Jean-Pierre Timbaud",
           6
          ],
          [
           "Philippe-Auguste",
           2
          ],
          [
           "Perrault - Place du Louvre",
           25
          ],
          [
           "Bois de Vincennes - Polygone",
           1
          ],
          [
           "Temple - Charlot",
           6
          ],
          [
           "Colonel Pierre Avia",
           29
          ],
          [
           "Place Tristan Bernard",
           5
          ],
          [
           "Marché d'Auteuil",
           5
          ],
          [
           "Claude Debussy - Marc Bloch",
           33
          ],
          [
           "Arthur Auger - Jean Jaurès",
           8
          ],
          [
           "Paul Doumer - Stalingrad",
           16
          ],
          [
           "Passy - Place du Costa Rica",
           11
          ],
          [
           "Galilée - Vernet",
           13
          ],
          [
           "Jean-Baptiste Charcot - Sainte-Geneviève",
           4
          ],
          [
           "Payenne - Square George Caïn",
           6
          ],
          [
           "Guillaume Bertrand - République",
           4
          ],
          [
           "Pyrénées - Ménilmontant",
           0
          ],
          [
           "Victor Hugo - Bineau",
           9
          ],
          [
           "8 Mai 1945 - 10 Juillet 1940",
           0
          ],
          [
           "Mairie du 20ème",
           0
          ],
          [
           "Félix Faure - Lourmel",
           33
          ],
          [
           "Hôtel de Ville de Rueil-Malmaison",
           1
          ],
          [
           "Gare RER - Général de Gaulle",
           12
          ],
          [
           "Place Saint-André des Arts",
           35
          ],
          [
           "Chevaleret - Tolbiac",
           19
          ],
          [
           "Rond-Point Rhin et Danube",
           48
          ],
          [
           "Dora Maar - Nadia Guendouz",
           13
          ],
          [
           "Point du Jour - Jean Jaurès",
           4
          ],
          [
           "Jean Bouin - Gouverneur Général Eboué",
           30
          ],
          [
           "Geoffroy-Saint-Hilaire - Saint-Marcel",
           10
          ],
          [
           "Ménil - Argenteuil",
           3
          ],
          [
           "Metz - Marne",
           5
          ],
          [
           "Richard Lenoir - Place de la Bastille",
           8
          ],
          [
           "Bertrand Sincholle - Henri Barbusse",
           19
          ],
          [
           "Cartier Bresson - Denis Papin",
           16
          ],
          [
           "Place d'Italie - Soeur Rosalie",
           7
          ],
          [
           "Pierre Ginier - Clichy",
           2
          ],
          [
           "Commandant Charcot - Bretteville",
           5
          ],
          [
           "Saint-Germain - Verdun",
           1
          ],
          [
           "Général Michel Bizot - Claude Decaen",
           7
          ],
          [
           "Président Roosevelt - Rouget de Lisle",
           38
          ],
          [
           "Ivry - Baudricourt",
           1
          ],
          [
           "Châteaudun - Place de la Liberté",
           8
          ],
          [
           "Saint-Mandé - Docteur Arnold Netter",
           2
          ],
          [
           "Champs de Manoeuvre - Cartoucherie",
           11
          ],
          [
           "Marcel Monge - Marcel Dassault",
           31
          ],
          [
           "Bastille - Biscornet",
           55
          ],
          [
           "Etienne Dolet - Place Maurice Chevalier",
           0
          ],
          [
           "Place Henri Dunant - Gare RER",
           3
          ],
          [
           "Convention - Campus de Bobigny",
           26
          ],
          [
           "Gare de Lyon - Roland Barthes",
           50
          ],
          [
           "Batignolles - Abel Truchet",
           3
          ],
          [
           "Parc des Pierrettes",
           1
          ],
          [
           "Pablo Picasso - Maurice Thorez",
           0
          ],
          [
           "Division Leclerc - Kléber",
           8
          ],
          [
           "Alfred de Vigny - Place du Général Brocard",
           28
          ],
          [
           "Gare Saint-Lazare - Place de Budapest",
           37
          ],
          [
           "Fontaine du Tertre - Calvaire",
           3
          ],
          [
           "Adrien Lesesne - Docteur Bauer",
           7
          ],
          [
           "Résistance - Romain Rolland",
           10
          ],
          [
           "Porte de Clichy - Place des Nations Unies",
           22
          ],
          [
           "Sèvres - Maréchal Juin",
           14
          ],
          [
           "Henri Barbusse - Bourguignons",
           6
          ],
          [
           "Louis Armand - Bernard Palissy",
           0
          ],
          [
           "Bateliers - Quai de Seine",
           3
          ],
          [
           "Place Jean Mermoz",
           7
          ],
          [
           "Jonquière - Docteur Paul Brousse",
           4
          ],
          [
           "Charles de Gaulle - Rue de l'Alma",
           28
          ],
          [
           "Clignancourt - Ordener",
           1
          ],
          [
           "Place des Arts - Jean Mermoz",
           9
          ],
          [
           "Pont de Suresnes",
           0
          ],
          [
           "Gare du Nord - Dunkerque",
           2
          ],
          [
           "Convention - Lourmel",
           0
          ],
          [
           "René Boulanger - Lancry",
           11
          ],
          [
           "Rampal - Belleville",
           0
          ],
          [
           "Ménilmontant - Père Lachaise",
           7
          ],
          [
           "Place du Moulin de Javel",
           46
          ],
          [
           "Hippodrome de Longchamp",
           7
          ],
          [
           "Choisy - Tolbiac",
           0
          ],
          [
           "Musée d'Orsay",
           64
          ],
          [
           "Place Balard",
           38
          ],
          [
           "Georges Pompidou - Verdun",
           9
          ],
          [
           "Rochechouart - Martyrs",
           3
          ],
          [
           "Gambetta - Saint Fargeau",
           0
          ],
          [
           "Enfants du Paradis - Peupliers",
           58
          ],
          [
           "Macdonald - Césaria Evora",
           4
          ],
          [
           "Belfort - Voltaire",
           9
          ],
          [
           "Pavé des Gardes - Charles Vaillant",
           6
          ],
          [
           "Alexandre Dumas - Voltaire",
           8
          ],
          [
           "Saint-Lazare - Place d'Estienne d'Orves",
           36
          ],
          [
           "Fabre d'Eglantine - Place de la Nation",
           22
          ],
          [
           "Epi d'Or - Chevilly",
           4
          ],
          [
           "Clichy - Douai",
           7
          ],
          [
           "Nungesser - Santé",
           0
          ],
          [
           "Montreuil - Voltaire",
           8
          ],
          [
           "Port - Maurice Chevalier",
           25
          ],
          [
           "Place Pigalle",
           4
          ],
          [
           "Gare du Nord - Faubourg Saint-Denis",
           1
          ],
          [
           "Colisée - Champs-Elysées",
           15
          ],
          [
           "Jean Mermoz - Champs-Elysées",
           26
          ],
          [
           "Place de la République - Temple",
           7
          ],
          [
           "Stalingrad - Barbara",
           0
          ],
          [
           "Bineau - Louise Michel",
           9
          ],
          [
           "Verdun - Henri Barbusse",
           2
          ],
          [
           "Carrefour Pleyel",
           47
          ],
          [
           "Lamarck - Saint-Ouen",
           0
          ],
          [
           "Westermeyer - Paul Vaillant-Couturier",
           39
          ],
          [
           "Stalingrad - Général de Gaulle",
           11
          ],
          [
           "Aristide Briand - Place de la Résistance",
           12
          ],
          [
           "Maréchal Leclerc de Hauteclocque - Marché Buzenval",
           2
          ],
          [
           "Place Charles Vallin",
           5
          ],
          [
           "Carpeaux - Place Jacques Froment",
           1
          ],
          [
           "Tremblay - Lac des Minimes",
           54
          ],
          [
           "Jemmapes - Ecluses Saint-Martin",
           1
          ],
          [
           "Saint-Denis - Rivoli",
           41
          ],
          [
           "Jean Jaurès - Place du Dr Roux",
           14
          ],
          [
           "Gare Saint-Lazare - Cour du Havre",
           39
          ],
          [
           "Val-Fleury",
           1
          ],
          [
           "Jean Jaurès - Gare de Clamart",
           0
          ],
          [
           "Faubourg St-Antoine - Place de la Nation",
           5
          ],
          [
           "Gare de la Garenne-Colombes",
           0
          ],
          [
           "Place du Colonel Fabien",
           2
          ],
          [
           "Quai des Célestins - Henri IV",
           2
          ],
          [
           "Charles de Gaulle - Madrid",
           19
          ],
          [
           "Guy Môquet - Jean Moulin",
           9
          ],
          [
           "Avenir",
           25
          ],
          [
           "Malesherbes - Place de la Madeleine",
           70
          ],
          [
           "Hélène et François Missoffe - Emile Borel",
           25
          ],
          [
           "Marceau Delorme - Pierre Brossolette",
           3
          ],
          [
           "Garibaldi - Gabriel Péri",
           15
          ],
          [
           "Roland Garros - Jean Bouin",
           2
          ],
          [
           "Gare RER",
           14
          ],
          [
           "Place de la Paix - Abbé Saint-Pierre",
           1
          ],
          [
           "Simone Signoret - Paris",
           11
          ],
          [
           "Gare de l'Est - Chateau Landon",
           3
          ],
          [
           "Ordener - Poissonniers",
           1
          ],
          [
           "Ruisseau - Ordener",
           2
          ],
          [
           "Madeleine Vionnet",
           56
          ],
          [
           "Daumesnil - Picpus",
           12
          ],
          [
           "Gare d'Austerlitz",
           0
          ],
          [
           "Saint-Jacques - Soufflot",
           15
          ],
          [
           "Caumartin - Provence",
           28
          ],
          [
           "Suzanne Masson",
           0
          ],
          [
           "Volontaires - Lecourbe",
           5
          ],
          [
           "Gabriel Péri - Jules Ferry",
           0
          ],
          [
           "Granges aux Belles - Hôpital Saint-Louis",
           5
          ],
          [
           "Ney - Porte de Clignancourt",
           0
          ],
          [
           "Liberté - Vert-de-Maisons",
           15
          ],
          [
           "Place de la République - Voltaire",
           8
          ],
          [
           "Place de la Nation - Taillebourg",
           23
          ],
          [
           "Faubourg Du Temple - Republique",
           4
          ],
          [
           "Jean Jaurès - Ouvrières Pivéreuses",
           0
          ],
          [
           "Jean Jaurès - Presles",
           0
          ],
          [
           "Richard Lenoir - Voltaire",
           3
          ],
          [
           "Vanne - Général de Gaulle",
           8
          ],
          [
           "Boulets - Voltaire",
           7
          ],
          [
           "Place de la Montagne du Goulet",
           20
          ],
          [
           "Ecole Militaire - Place Joffre",
           7
          ],
          [
           "Fédération - Suffren",
           12
          ],
          [
           "Cité de la Musique",
           18
          ],
          [
           "Hoche - Tilsitt",
           11
          ],
          [
           "Place Joffre - Frédéric le Play",
           36
          ],
          [
           "Octave Gréard - Tour Eiffel",
           32
          ],
          [
           "Traktir - Foch",
           8
          ],
          [
           "Bercy - Villot",
           40
          ],
          [
           "Diderot - Pierre Bourdan",
           11
          ],
          [
           "Sebastopol - Rambuteau",
           16
          ],
          [
           "Clichy - Place Blanche",
           0
          ],
          [
           "Saint-Antoine Sévigné",
           9
          ],
          [
           "Danielle Casanova - Place Vendôme",
           35
          ],
          [
           "BNF - Bibliothèque Nationale de France",
           61
          ]
         ],
         "hovertemplate": "<b>%{hovertext}</b><br><br>Total Number of Bikes Available=%{customdata[1]}<br>Latitude=%{lat}<br>Longitude=%{lon}<br>Station Name=%{customdata[0]}<extra></extra>",
         "hovertext": [
          "Benjamin Godard - Victor Hugo",
          "Mairie de Rosny-sous-Bois",
          "Rouget de L'isle - Watteau",
          "Cassini - Denfert-Rochereau",
          "Toudouze - Clauzel",
          "Jourdan - Stade Charléty",
          "Mairie du 12ème",
          "Saint-Sulpice",
          "Basilique",
          "Vaneau - Sèvres",
          "Charonne - Robert et Sonia Delaunay",
          "Lacépède - Monge",
          "Messine - Place Du Pérou",
          "Saint-Romain - Cherche-Midi",
          "Le Brun - Gobelins",
          "André Karman - République",
          "Pierre et Marie Curie - Maurice Thorez",
          "Bois de Vincennes - Gare",
          "Beaux-Arts - Bonaparte",
          "Silly - Galliéni",
          "Jean Rostand - Paul Vaillant Couturier",
          "Place Nelson Mandela",
          "Bracion - Périphérique",
          "Grande Armée - Brunel",
          "Guersant - Gouvion-Saint-Cyr",
          "Square Boucicaut",
          "Thouin - Cardinal Lemoine",
          "Jouffroy d'Abbans - Wagram",
          "Froment - Bréguet",
          "Morillons - Dantzig",
          "Le Brix et Mesmin - Jourdan",
          "Boétie - Ponthieu",
          "Saint-Fiacre - Poissonière",
          "Croulebarde - Corvisart",
          "Cambrai - Benjamin Constant",
          "Romainville - Vaillant-Couturier",
          "Chazelles - Courcelles",
          "Bir Hakeim",
          "Ramponeau - Belleville",
          "Porte de Saint-Ouen - Bessières",
          "Général Martial Valin - Pont du Garigliano",
          "Moulin de Pierre - Abbé Grégoire",
          "Rond-point du Dr Albert Schweitzer",
          "Lagny - Victor Basch",
          "Théâtre des Amandiers - Palais des sports",
          "Saint-Cloud - Hippodrome",
          "Italie - Tolbiac",
          "Louis Lejeune - Barbès",
          "Serrurier",
          "Raspail Barbès",
          "De Toqueville - Terrasse",
          "Jules Guesde - Pont du Port à l'Anglais",
          "Alibert - Jemmapes",
          "Michel-Ange - Parent de Rosan",
          "Artois - Berri",
          "Caire - Dussoubs",
          "Marceau - Chaillot",
          "Tour d'Auvergne - Rodier",
          "Liard - Amiral Mouchez",
          "Félix Ziem - Armand Gauthier",
          "Regnault - Patay",
          "Abbeville - Faubourg Poissonnière",
          "Vigée-Lebrun - Anselme Payen",
          "Youri Gagarine - Karl Marx",
          "Faubourg Montmartre - La Fayette",
          "Octave Feuillet - Albéric Magnard",
          "Place Jean-Spire-Lemaître",
          "Edgar Quinet - Raspail",
          "Place Georges Guillaumin",
          "Bellefond - Poissonnière",
          "Jean Oestreicher - Porte de Champerret",
          "Square Louis XVI",
          "Gare de l'Est - Faubourg-Saint-Martin",
          "Granges aux Belles",
          "Gabriel Lamé",
          "Dunkerque - Rocroy",
          "Boulangers - Cardinal Lemoine",
          "Gay Lussac - Saint-Jacques",
          "Boudreau - Auber",
          "Gare de Nogent-le-Perreux",
          "Verger - Colonel Guichard",
          "Las Cases - Bourgogne",
          "Douai - Bruxelles",
          "Charlot - Stade Gabriel Voisin",
          "Gare Saint-Lazare - Isly",
          "Arsène Houssaye - Friedland",
          "Quai de l'Horloge - Pont Neuf",
          "Gare d'Austerlitz - Quai Saint-Bernard",
          "Gare Rosny-Bois-Perrier",
          "Pereire - Ternes",
          "Institut du Monde Arabe - Saint-Germain",
          "Porte Pouchet-Bessières",
          "Thionville - Ourcq",
          "Ségur - d'Estrées",
          "Legendre - Clichy",
          "Institut de France",
          "Quai de la Seine",
          "Ambroise Rendu - Porte Brunet",
          "Lisbonne - Monceau",
          "Château - République",
          "Gare de Lyon - Place Louis Armand",
          "Henri Barbusse - Stalingrad",
          "Gare du Nord - Hôpital Lariboisière",
          "Rossini - Laffitte",
          "Redoute - Les Courtilles",
          "Argenteuil - Voltaire",
          "Belidor - Gouvion-Saint-Cyr",
          "Chartres - La Charbonnière",
          "Place de Rhin et Danube",
          "Pesaro - Préfecture",
          "Exelmans - Versailles",
          "Ranelagh - Mozart",
          "Roquette - Thiéré",
          "Moncey - Blanche",
          "Claude Decaen - Cannebière",
          "Saint-Maur - Roquette",
          "Berri - Haussmann",
          "11 Novembre 1918 - 8 Mai 1945",
          "Panthéon - Valette",
          "Amelot - Saint-Sébastien",
          "Pyrénées - Emmery",
          "Delphine Seyrig - Général Leclerc",
          "Pereire - Rennequin",
          "Desaix - Edgar Faure",
          "Notre-Dame-des-Champs - Stanislas",
          "Gare RER - Canadiens",
          "Mairie de Montreuil",
          "Saint-Ambroise - Parmentier",
          "Richard Lenoir - Republique",
          "Pyramide - Ecole du Breuil",
          "Récollets - Square Villemin",
          "Liège - Moscou",
          "Cimetière de Montrouge",
          "Square Simon Bolivar",
          "Henry Farman",
          "Schoelcher - Raspail",
          "Pajol - Place Herbert",
          "Rouget de Lisle",
          "Fontenay - Libération",
          "Place Du Général De Gaulle",
          "Marne - Germain Dardan",
          "Charles de Gaulle - Beauté",
          "Yves Farges - Route d'Enghein",
          "Mutualité",
          "Carducci - Place Hannah Arendt",
          "Anatole France - President Roosevelt",
          "Cimetière de Montmartre",
          "Jourdain - Place des Grandes Rigoles",
          "Manin - Carrières d'Amérique",
          "Gabriel Péri - Francisco Ferrer",
          "Porte de Vanves",
          "Roger Salengro - Fontainebleau",
          "Conservatoire de Musique",
          "Hôpital Européen Georges Pompidou",
          "Lucie Aubrac - Fort",
          "Concorde - Stalingrad",
          "Port-Royal - Hôpital du Val-de-Grâce",
          "Place Albert Kahn",
          "Lecourbe - Jean Maridor",
          "Saint-Jacques - Val de Grâce",
          "Grenelle - Violet",
          "Victor Hugo - Jeanne Jugan",
          "Erasme - Ulm",
          "Cimetière de Fontenay-sous-Bois",
          "Marc Sangnier - Porte de Vanves",
          "Place de la Reine Astrid",
          "Bertie Albrecht - Hoche",
          "Championnet - Vauvenargues",
          "Molière - République",
          "Place Marcel Cachin",
          "Hoche - Jean Lolive",
          "Rocher - Laborde",
          "Place de la Porte de Champeret",
          "Mouton Duvernet - Général Leclerc",
          "Saint Lambert - Blomet",
          "Etienne Jodelle - Saint Ouen",
          "Edouard Tremblay - Julian Grimaux",
          "Guy Môquet - Etienne Dolet",
          "Nationale - Place Jules Guesde",
          "Boissière - Etienne Dolet",
          "Gabriel Péri - Danielle Casanova",
          "Chabanais - Petits Champs",
          "Karl Marx",
          "Marcadet - Barbès",
          "Oberkampf - République",
          "Cevennes - Bergers",
          "Cossonnerie - Sébastopol",
          "Sibelle - Alésia",
          "Marcelle - Thalie",
          "Hôtel de Ville de Boulogne Billancourt",
          "Cambon - Rivoli",
          "Enghien - Faubourg Poissonnière",
          "Henri Ste-Claire Déville - Paul Héroult",
          "David Weill - Parc Montsouris",
          "Louis Lumière - Porte de Bagnolet",
          "Place Robert Guillemard",
          "Victoire - Chaussée d'Antin",
          "Marcelin Berthelot",
          "Victor Hugo - Galliéni",
          "Repos - Cimetière du Père Lachaise",
          "Galilée - Kléber",
          "Assas - Rennes",
          "Chemin Vert - Saint-Maur",
          "François Debergue - Croix de Chavaux",
          "Botzaris - Parc des Buttes Chaumont",
          "Lakanal - Commerce",
          "Général De Gaulle - Alouette",
          "Censier - Jardin des Plantes",
          "Joseph Liouville - Croix Nivert",
          "Tertres - Fontaine",
          "Rochechouart lamartine",
          "Gare Rer de Fontenay sous Bois",
          "Molitor - Chardon-Lagache",
          "Raspail - Manufacture des Oeillets",
          "Parmentier - République",
          "Noisy le Sec - Jean-Baptiste Clément",
          "Marie-Georges Picquart - Pereire",
          "Paris - Emile Zola",
          "Gare RER de Vincennes",
          "Jean Jaurès - Salvador Allende",
          "Théophile Gautier - François Millet",
          "Richard Lenoir - Jean-Pierre Timbaud",
          "Villette - Belleville",
          "Legendre - Dulong",
          "Larmeroux - Baudelaire",
          "Quai Panhard et Levassor",
          "Beffroy",
          "Square du Théâtre du Garde-Chasse",
          "Arche - Léonard de Vinci",
          "Alexandre Parodi - Quai de Valmy",
          "Charles de Gaulle - Sablonville",
          "Place Madeleine Daniélou",
          "Chemin Vert - Fraternité",
          "Jean-François Lépine - Stephenson",
          "Parmentier - Abel Rabaud",
          "Abbé Carton - Plantes",
          "Mairie d'Ivry-sur-Seine",
          "Sablons - Georges Mandel",
          "Exelmans - Michel-Ange",
          "Marché Secrétan",
          "Pierret - Madrid",
          "Cauchy - Cévennes",
          "Saint-Vincent - Verdun",
          "Mairie du 11ème",
          "Aristide Briand - Gare de Bagneux",
          "Lieutenant Chauré - Etienne Marey",
          "Seine - Flandre",
          "Auguste Cain - Jean Moulin",
          "Miromesnil - La Boétie",
          "Marseille - Beaurepaire",
          "Saint-Germain - Thenard",
          "Arago - Glacière",
          "Victoria - Place du Chatelet",
          "Parc Georges Brassens - Brancion",
          "Quai du docteur Dervaux",
          "Place Paul Eluard",
          "Stalingrad - Désiré Chevalier",
          "Reims - Raymond Pitet",
          "Flandre - Alphonse Karr",
          "Mathurins - Auber",
          "Charonne - Faubourg Saint-Antoine",
          "Hautpoul - Jean Jaurès",
          "Hôtel de Ville de Nanterre",
          "Wilson - Métallurgie",
          "Stephenson - Doudeauville",
          "Madame de Sanzillon - Mozart",
          "Tristan Tzara -  Tchaïkovski",
          "Grand Prieuré - Crussol",
          "Général Delambre - Prebuard",
          "Square d'Anvers",
          "Gaston Roussel - Commune de Paris",
          "Place du Palais Royal",
          "Stalingrad - Germaine Tailleferre",
          "Mairie du 7ème",
          "Porte de Vincennes",
          "Boyer - Ménilmontant",
          "Bienfaisance - Place de Narvik",
          "Laumière - Petit",
          "Guynemer - Séverine",
          "Gare Arcueil - Cachan",
          "Richard Wallace - Place du 8 Mai 1945",
          "Gare RER de Gentilly",
          "Faustin Hélie - Desbordes-Valmore",
          "Villiers de l'Isle Adam - Pyrénées",
          "Varenne",
          "Place Jean Ferrat",
          "Dupleix - du Guesclin",
          "Place de la Porte de Paris",
          "Pasteur - Gambetta",
          "Place Amédée Gordini - Lefebvre",
          "Place des Ternes.",
          "Victor Hugo - Ecoles",
          "Edouard Poisson - Victor Hugo",
          "Hôpital Bégin",
          "Montreuil - Gonnet",
          "Jules Ferry - Faubourg du Temple Paris",
          "Jussieu - Fossés Saint-Bernard",
          "Charenton - Diderot",
          "Jacques Callot - Mazarine",
          "Place de l'Édit de Nantes",
          "Commandant Rivière",
          "Boulard - Daguerre",
          "Jardin d'Acclimatation",
          "Marignan - Champs-Elysées",
          "Gare de Laplace",
          "Saint Georges - d'Aumale",
          "Bayen - Pereire",
          "Anatole France - Louise Michel",
          "Clignancourt - Sofia",
          "Montgallet - Charenton",
          "Cujas - Saint-Michel",
          "Alfred Roll - Berthier",
          "Mairie de La Garenne Colombes",
          "Square Gilbert Thomain",
          "Jean Colly - Tolbiac",
          "Jean Macé - Faidherbe",
          "Ouest - Château",
          "Ancien Canal - Hélène Brion",
          "Place aux Étoiles",
          "Departement - Pajol",
          "Pirogues de Bercy - Libourne",
          "Flandre - Riquet",
          "Place Violet",
          "Parmentier - Hôpital Saint-Louis",
          "Grands Moulins de Pantin",
          "Fragonard - Porte de Clichy",
          "Gare de Courbevoie",
          "Place de Verdun",
          "Dugommier",
          "Montgallet - Reuilly",
          "Petit - Manin",
          "Place Jacques Madaule",
          "Ménilmontant - Pelleport",
          "Place de la Porte de Châtillon",
          "Chanzy - Sud-Est",
          "Paul Vaillant Couturier - Chaptal",
          "Jussieu - Guy de la Brosse",
          "Square Cambronne",
          "Parvis Robert Schuman - Roger Salengro",
          "Quai de la Loire - Jean Jaurès",
          "Navier - Epinettes",
          "Route de Sèvres - Porte de Bagatelle",
          "Verdun - Place Henri IV",
          "Bordier - Félix Faure",
          "Edgar Quinet - Gaité",
          "Félix Faure - Sadi Carnot",
          "Place Carnot",
          "Assemblée Nationale",
          "Ceinture du Lac Inferieure - Saint-Cloud",
          "Gare Montparnasse - René Mouchotte",
          "Anatole France - Jean Lolive",
          "18 juin 1940 - Buzenval",
          "Piat - Parc de Belleville",
          "Porte de la Villette",
          "Assas - Vaugirard",
          "Flandrin - Henri Martin",
          "Batignolles - Place de Clichy",
          "Charonne - Avron",
          "Lagny - Joffre",
          "Place du 8 Mai 1945",
          "Place Falguière",
          "Victor Hugo - Magasins Généraux",
          "Emeriau - Place de Brazzaville",
          "Porte d'Auteuil",
          "Parc Monceau",
          "Carnot - Pâquerettes",
          "Tardieu - Chappe",
          "Réunion - Avron",
          "Petites Ecuries - Faubourg Poissonnière",
          "Jacquard - Ternaux",
          "Francoeur - Marcadet",
          "Square des Saint-Simoniens",
          "Vignerons - Minimes",
          "Place des Marseillais",
          "Lamennais - Washington",
          "Place Jean-Baptiste Clément",
          "Pierre Grenier - Pont de Billancourt",
          "Jean Lolive - Parc Stalingrad",
          "Parc de Belleville - Julien Lacroix",
          "Champeaux - Gallieni",
          "Gare de Pont-Cardinet",
          "Courcelles - Place des Ternes",
          "Morice - Général Leclerc",
          "Parc Pierre Lagravère",
          "Place Jean Delay",
          "Guichet - Jean Jaurès",
          "Vasco de Gama",
          "Gravelle - Route du Bac",
          "Jonquoy - Didot",
          "Gare de Bercy",
          "Lucien Sampaix - Récollets",
          "Boyer-Barret - Raymond Losserand",
          "Place du Général de Gaulle",
          "Pailleron - Bouret",
          "Lauriston - Copernic",
          "Place Valhubert",
          "Charenton - Place du Col Bourgoin",
          "Nanterre - Université",
          "Haxo - Surmelin",
          "Henri Chevreau - Couronnes",
          "Mézières - Rennes",
          "Pascal - Claude Bernard",
          "Place Adolphe Cherioux - Vaugirard",
          "Sommerard - Saint-Jacques",
          "Raspail - Bac",
          "Grenelle - Dr Finlay",
          "Porte de Clignancourt.",
          "Porte d'Orléans",
          "Porte de Saint-Ouen - Henri Huchard",
          "Pierre et Marie Curie - Julien Grimau",
          "Place du Maréchal Juin - Péreire",
          "Raspail - Varenne",
          "Lucie Aubrac - Franklin",
          "Vladimir Ilitch Lénine - Andrée Chedid",
          "Hôtel de Ville d'Argenteuil",
          "Professeur René Leriche - Général Leclerc",
          "Gare Routière de Saint Cloud",
          "Saint-François-Xavier",
          "Primo Levi - Frigos",
          "Quai Voltaire",
          "Dunois - Clisson",
          "Uzès - Montmartre",
          "Milton - Manuel",
          "Ledru-Rollin - Charonne",
          "Mahatma Gandhi",
          "Gare de l'Est - Verdun",
          "Edouard Pailleron - Simon Bolivar",
          "Capitaine Glarner - Gabriel Péri",
          "Château - Bineau",
          "Pont de Levallois-bécon",
          "Bridaine - Lamandé",
          "Pierre Larousse - Raymond Losserand",
          "Laffitte - Italiens",
          "Pitié-Salpêtrière",
          "Courcelles - Pierre Demours",
          "Charles Delescluze",
          "Chabrol - d'Hauteville",
          "Bara - Henri Farman",
          "Pajol - Riquet",
          "Edouard Vaillant - Paul-Adolphe Souriau",
          "Lassus - Delouvain",
          "Porte Dorée",
          "Toffier Decaux - Cartier Bresson",
          "Belleville - Porte des Lilas",
          "François Ponsard - La Muette",
          "Sèvres-Gallieni",
          "Provence - Chaussée d'Antin",
          "Indre - Prairies",
          "Bellefond - Maubeuge",
          "Michelet - Assas",
          "Pelleport - Belgrand",
          "Tanger - Place du Maroc",
          "Porte d'Aubervilliers",
          "Vincennes - Douy-Delcupe",
          "Square Saint-Ambroise",
          "Place du Cornillon - Stade de France",
          "Sadi Carnot - François Mitterrand",
          "Génie - Mozart",
          "Charles de Gaulle - Jean Lolive",
          "Filles Saint-Thomas - Place de la Bourse",
          "Ecole Vétérinaire",
          "Batignolles - Rome",
          "Méchain - Faubourg Saint-Jacques",
          "Colonel Monteil - Brune",
          "Stade Auguste Delaune",
          "Verdun - Adrien Damalix",
          "Jean-Baptiste Pigalle - La Bruyere",
          "Eglise d'Auteuil",
          "Transvaal - Charles de Gaulle",
          "Jean Jaurès - Jean Baptiste Clément",
          "Belliard - Damrémont",
          "Mairie du 18ème",
          "Boulets - Faubourg Saint-Antoine",
          "Porte de Ménilmontant",
          "Route de la Muette - Porte de Neuilly",
          "Paris - Désiré Préaux",
          "Maine - Antoine Bourdelle",
          "Lourmel - Marie Skobtsov",
          "Kléber - Gouverneur Général Eboué",
          "Belleville - Télégraphe",
          "Président Wilson - Jean Jaures",
          "Gare d'Asnières sur Seine",
          "Pyrénées - Maraîchers",
          "Danton - Serpente",
          "Place Jacques Bonsergent",
          "République - Danton",
          "Square René Viviani - Montebello",
          "Mac-Mahon - Brey",
          "Place de Passy",
          "Square des Epinettes",
          "Haies - Réunion",
          "Les Planètes",
          "Place Pasdeloup",
          "Lepic - Armée d'Orient",
          "Place Alphonse Deville",
          "Cité des Sciences et de l'Industrie",
          "Caulaincourt - Place Constantin Pecqueur",
          "Emile Blemont - Poteau",
          "Maison de Radio - France",
          "Square du Carrefour de l'Insurrection",
          "Square Léon",
          "Orteaux - Mouraud",
          "Fontainebleau - Edmond Michelet",
          "Place Etienne Pernet",
          "Mont Valérien - Michel Salles",
          "Gabrielle Josserand - Edouard Vaillant",
          "Traversière - Ledru-Rollin",
          "Théâtre - Lourmel",
          "Champ de Mars - Cler",
          "Hameau Fleuri - Marché",
          "Belleville - Pyrénées",
          "Ledru-Rollin - Place du Père Chaillet",
          "Aqueduc - Villette",
          "Aubervilliers - Curial",
          "Mairie de Sceaux",
          "Bassano -  Iéna",
          "Sénat - Condé",
          "Balard - Montagne de la Fage",
          "Palais des Sports",
          "Lavandieres Sainte Opportune - Rivoli",
          "Pont Neuf - Rivoli",
          "Gare RER de Saint-Denis",
          "Diderot - Reuilly",
          "Mozart - Jasmin",
          "Borrégo - Gambetta",
          "Wilson - Landy",
          "Chateau",
          "Naples - Rome",
          "Hôtel de Ville - Pont-Marie",
          "Lallier - Trudaine",
          "Hôtel de Ville de Champigny sur Marne",
          "Villersexel - Saint-Germain",
          "Place François Mitterand",
          "Chernoviz - Raynouard",
          "Faubourg Poissonniere - Delta",
          "Pernety - Raymond Losserand",
          "Gare du Nord - Demarquay",
          "Eugène Reisz - Davout",
          "Greneta - Sebastopol",
          "Eugène Oudiné - Dessous Des Berges",
          "Bercy.",
          "Gare Montparnasse - Vaugirard",
          "Raspail - Chomel",
          "Neuve Saint-Pierre - Beautreillis",
          "Reims - Porte d'Asnières",
          "Sabot - Rennes",
          "Station Paris Basketball - Ney - Charles Hermite",
          "Pereire - Place de Wagram",
          "Centenaire - Sorins",
          "Hôpital Pitié Salpêtrière",
          "Franciade - Gabriel Péri",
          "Cadet - La Fayette",
          "Brochant - Square des Batignolles",
          "Gustave Eiffel - Parc des Impressionnistes",
          "Square Raymond Souplex",
          "Stade Gaston Bouillant",
          "Poissy - Saint-Germain",
          "Jeanne Hornet - Girardot",
          "Place des Larris",
          "Manin - Simon Bolivar",
          "Vistule - Choisy",
          "Calmette",
          "Square Desnouettes",
          "Duroc - Place de Breteuil",
          "Saint-Blaise - Mouraud",
          "Favart - Italiens",
          "Place de Finlande",
          "Parvis Corentin Celton",
          "Roquépine - Malesherbes",
          "Bois de Vincennes.",
          "Les Juilliottes",
          "Parc André Citroën",
          "République - Henri Barbusse",
          "François 1er - Montaigne",
          "Jeûneurs - Mulhouse",
          "Vieille du Temple - Francs Bourgeois",
          "Convention - Saint-Charles",
          "Saint-Jacques - Tombe Issoire",
          "Ferrus - Saint-Jacques",
          "Billancourt - Général Leclerc",
          "Bleue - Trévise",
          "Porte Maillot - Perreire",
          "Le Vau - Maurice Bertaux",
          "Place du Maquis du Vercors",
          "Daunou - Louis le Grand",
          "Poissonniers - Nord",
          "Versailles - Claude Terrasse",
          "Beaujon - Wagram",
          "Mornay - Sully",
          "Porte d'Ivry",
          "Porte Saint-Martin",
          "Surcouf - Université",
          "Parc de Sceaux - Centre-Ville",
          "Damrémont - Caulaincourt",
          "François 1er - Lincoln",
          "Dupont de l'Eure - Gambetta",
          "Place Mireille Havet",
          "Keller - La Roquette",
          "Bachaumont - Montmartre",
          "Parmentier - Fontaine au Roi",
          "Melun - Jean Jaurès",
          "Thérèse - Opéra",
          "Argenson - Château",
          "Rougemont - Poissonnière",
          "Place de l'Eglise - Pantin",
          "Mairie du 15ème",
          "Butte aux Cailles - Esperance",
          "Manin - Crimée",
          "Fernand Braudel - Vincent Auriol",
          "Nationale - Marcel Duchamp",
          "Terroirs de France - Lheureux",
          "Charonne - Philippe-Auguste",
          "Brochant - Clichy",
          "Hôtel de Ville de Levallois Perret",
          "Odessa - Départ",
          "Mairie de Clichy",
          "Madeleine Michelis - Roule",
          "Pont de Lodi - Dauphine",
          "Jessaint - Marx Dormoy",
          "Romain Rolland",
          "Léon - Doudeauville",
          "Gambetta - Michelet",
          "Sèvres Rive Gauche",
          "Claude Vellefaux - Sambre et Meuse",
          "Quai Marcel Boyer - Victor Hugo",
          "Faidherbe - Dahomey",
          "Gare de Clichy-Levallois",
          "Pierre Sarrazin - Saint-Michel",
          "Docteur Calmette - Martre",
          "Place Tony de Graaff",
          "Dareau - Broussais",
          "Georges V - François 1er",
          "Le Corbusier - Jean Jaurès",
          "Square Georges Melies",
          "Boutroux - Porte de Vitry",
          "Sorbonne - Ecoles",
          "Gergovie - Vercingétorix",
          "Lamartine - Faubourg Montmartre",
          "Sambre et Meuse - Villette",
          "Charles de Gaulle - Louis Philippe",
          "Hôpital Robert Debré",
          "Mairie du 19ème",
          "Bois de Vincennes - Porte Jaune",
          "Jardin Marguerite Long",
          "Choron - Martyrs",
          "Jean Jaurès - Reine",
          "Place du Président Salvador Allende",
          "Louis Ganne - Davout",
          "Edouard Vaillant - Galliéni",
          "Square du Bataclan",
          "Bastille - Quai de la Rapée",
          "Place du Canada",
          "Clapeyron - Moscou",
          "Roquette - Folie Regnault",
          "Alexander Fleming - Belvédère",
          "Vignes - Boulainvilliers",
          "Honoré d'Estienne d'Ovres - Grilles",
          "Place Marcel Sembat",
          "Jacquard - Ternaux",
          "René Coty - Parc Montsouris",
          "Place du Front Populaire - George Sand",
          "François Truffaut - Saint Emilion",
          "Jules Guesde - Alsace",
          "Lac Daumesnil - Saint-Maurice",
          "Commandant l'Herminier - Gallieni",
          "René Binet - Porte de Montmartre",
          "Longchamp - Place d'Iéna",
          "Moulin de la Pointe",
          "Charles Lecocq - Lecourbe",
          "Suffren - Pérignon",
          "Athènes - Clichy",
          "Saint-Fargeau - Mortier",
          "Stade Georges Carpentier",
          "République - Auguste Perret",
          "Mazagran - Pierre de Coubertin",
          "Beaumarchais - Pas de la Mule",
          "Pierre Demours - Laugier",
          "Cours de Vincennes - Davout",
          "Metz - Faubourg Saint-Denis",
          "Mairie du 9ème",
          "Belleville - Couronnes",
          "Jean Moulin - Paul Doumer",
          "Censier - Santeuil",
          "Véron - Lepic",
          "Chancé Milly - Cimetière Communal Sud",
          "Pont De Charenton",
          "Botzaris - Crimée",
          "Pierre Brossolette - Adolphe Pinard",
          "Cours de l'Ile Seguin - Parc Billancourt",
          "Place Centrale",
          "André Maurois - Joseph et Marie Hackin",
          "Gare de Nanterre Ville",
          "Eylau - Trocadéro",
          "Senard - Charles Blum",
          "Cimetière d'Issy-les-Moulineaux",
          "Pré Saint-Gervais - Lilas",
          "Marcel Yol - Jullien",
          "Pyramide - Parc Floral",
          "Gare Montparnasse - Edgar Quinet",
          "Jules Guesde - Laennec",
          "Wurtz - Tolbiac",
          "Demi-Lune - Aristide Briand",
          "Marc Sangnier - Division Leclerc",
          "Guy Môquet - Saint-Ouen",
          "Résistance - Hoche",
          "Auguste Blanqui - Glacière",
          "Raffet - Montmorency",
          "Paul Klee - Place Augusta Holmes",
          "Ivry - Simone Weil",
          "Santé - Arago",
          "Cimetière de Boulogne-Billancourt",
          "Gare du Nord - Place de Valenciennes",
          "Ranelagh - Maison de la Radio",
          "Averroès - Aimé Césaire",
          "Gare SNCF Vanves-Malakoff",
          "Paul Barruel - Vaugirard",
          "Place Saint-Ferdinand",
          "Rapp - Place du Général Gouraud",
          "Vinaigriers - Magenta",
          "Louis Blanc - Jemmapes",
          "Petit Palais",
          "Quai de Valmy",
          "Carnot - Général Lanrezac",
          "Square de la rue Pixérécourt",
          "Vanne - Saussaies",
          "Gare de Lyon - Van Gogh",
          "Jean-Pierre Timbaud - Vaucouleurs",
          "Parc Suzanne Lenglen",
          "Pierre Lefaucheux - Traversière",
          "Neuilly - Petit",
          "Square Alban Satragne",
          "Pelée - Alphonse Baudin",
          "Buzenval - Avron",
          "Joseph Sansboeuf - Saint Lazare",
          "Mairie de Romainville",
          "Place Jules Ferry",
          "Daumesnil - Hébrard",
          "Gare de l'Est - Fidélité",
          "Place de Barcelone - Mirabeau",
          "Mairie de Neuilly sur Seine",
          "Hôpital - Campo-Formio",
          "Saint-Didier - Raymond Poincaré",
          "Proudhon - Président Wilson",
          "Gare du Nord - Denain",
          "Paul Signac - Aristide Briand",
          "Place Fernand Forest",
          "George V - Christophe Colomb",
          "Hôtel de ville de Fontenay-sous-Bois",
          "Stade de France",
          "Pierre Levée - Fontaine Timbaud",
          "Porte d'Italie",
          "Victor Cresson - Telles de la Poterie",
          "Batignolles - Beudant",
          "Convention - Vaugirard",
          "La Motte-Picquet - Grenelle",
          "Paul Vaillant-Couturier - Gare RER",
          "Théâtre de La Garenne",
          "Commerce - Letellier",
          "Place de l'Insurrection d'Août 1944",
          "Fessart - Château",
          "Quai de la Gare - Pont de Bercy",
          "Brancion - Lefebvre",
          "Jean Moulin - Place Victor et Hélène Basch",
          "Hôtel de Ville de Fontenay-aux-Roses",
          "Porte d'Asnières",
          "Docteurs Déjérine - Pte de Montreuil",
          "Gaston Tessier - Rosa Parks RER",
          "Malakoff - Place de la Porte Maillot",
          "Camille Groult - Guy Môquet",
          "Bruneseau - Quai d'Ivry",
          "Mazagran - Bonne Nouvelle",
          "Pontoise - La Tournelle",
          "Raspail - Albert Schweitzer",
          "Jardin de l'Hospice Debrousse",
          "Assas - Luxembourg",
          "Amaury Duval - Gabriel Péri",
          "Brillat-Savarin - Küss",
          "Jean Calvin - Tournefort",
          "Estienne d'Orves - Henri Ginoux",
          "Gallieni - Lycée Charles Petitet",
          "Paris - Laitières",
          "Charles Gide - Fort de Bicêtre",
          "Charonne - Pierre Bayle",
          "Vitruve - Davout",
          "Javel - André Citroën",
          "Place de la Porte de Passy",
          "Emeriau - Beaugrenelle",
          "Damrémont - Ordener",
          "Faubourg Poissonnière - Dunkerque",
          "Place Nationale - Château-des-Rentiers",
          "Place Mongolfier",
          "Quai aux Fleurs - Pont Saint-Louis",
          "Gare de l'Est - Place du 11 Novembre 1918",
          "Place de Lévis",
          "Monceau - Malesherbes",
          "Arcole - Notre-Dame",
          "Lucien Lanternier - Le Luth",
          "Président Wilson - Baudin",
          "La Jarry - Place Diderot",
          "Jourdan - Monticelli",
          "Charonne - Bureau",
          "Marché aux fleurs",
          "Pergolèse - Malakoff",
          "Lobau - Hôtel de Ville",
          "Vaugirard - Pasteur",
          "Jacques Kellner - Saint-Ouen",
          "Voltaire - Anatole France",
          "Place de l'Europe - Quai de Bercy",
          "Blaise-Desgoffe - Vaugirard",
          "Louis Pasteur - Albert Petit",
          "Square Louise Michel",
          "Bobillot - Paulin Mery",
          "Mairie de Clamart",
          "Louis Rolland - République",
          "Place Jeanne d'Arc",
          "Victor Hugo - La Pompe",
          "Douai - Pierre Fontaine",
          "Gare de Lyon - Chalon",
          "Paul Vaillant-Couturier - Victor Hugo",
          "Colmar - Victor Hugo",
          "Portugais - Kléber",
          "Benjamin Delessert - Jean Lolive",
          "Halles - Bourdonnais",
          "Place de la Gare",
          "Saint-Mandé - Fabre d'Eglantine",
          "Italie - Jardin Joan Miro",
          "Lemercier - Cardinet",
          "Charles de Gaulle - Les Sablons",
          "Balzac - Olympes de Gouges",
          "Mairie de quartier du Plateau - Mont-Valérien",
          "Place Saint-Just",
          "Place Lafayette",
          "Toqueville - Cardinet",
          "Berthier - Place Stuart Merril",
          "Gérando - Rochechouart",
          "Lucien Bossoutrot - Général Martial Vallin",
          "Placette Grégoire Collas",
          "Goutte d'or - Barbès",
          "Centre Georges Pompidou",
          "Quai de l'Oise - Aisne",
          "Porte des Lilas - Faidherbe",
          "Place du 14 Juillet",
          "Square Bela Bartok",
          "Place Jacques et Thérèse Tréfouël",
          "Place Ginette Hamelin",
          "Bessières - Porte de Clichy",
          "Mstislav Rostropovitch - Berthier",
          "Place Edmond Michelet",
          "Saint-Germain - Ciseaux",
          "Emile Zola - Fondary",
          "Gare du Stade",
          "Estrapade - Ulm",
          "Esplanade du Foncet - Camille Desmoulins",
          "Charles Tillon - Cimetière Communal",
          "Londres - Place d'Estienne d'Orves",
          "La Motte-Picquet - La Tour Maubourg",
          "Dunkerque - Trudaine",
          "Quai du Président Roosevelt - Pont Aval",
          "Champs-Elysees - Bassano",
          "Delizy - Louis Nadot",
          "Joseph Dijon - Ornano",
          "Maréchal Joffre - Verdun",
          "Square Denise Buisson",
          "Île de la Jatte",
          "Chemin de Bretagne",
          "Cambronne - Villa Croix Nivert",
          "Crozatier - Faubourg Saint-Antoine",
          "Fort d'Aubervilliers",
          "Glacière - Soeur Catherine Marie",
          "Auguste Blanqui - Corvisart",
          "Rottembourg - Général Michel Bizot",
          "Suffren - Champ de Mars",
          "Geoffroy - Marie",
          "Taitbout - La Fayette",
          "Place de Rungis",
          "Place Nelson Mandela",
          "Vivaldi - Antoine-Julien Hénard",
          "Place Monge",
          "Louis Xavier de Ricard - Ancienne Mairie",
          "Picpus - Louis Braille",
          "Charenton - Prague",
          "Godot de Mauroy - Madeleine",
          "Harpe - Saint-Germain",
          "Madagascar - Meuniers",
          "Hôpital Necker",
          "Marché Saint-Quentin",
          "Bagnolet - Orteaux",
          "Buffon - Jardin des Plantes",
          "Mairie du 8ème",
          "Lebrun - Colonel Fabien",
          "Abbé Groult - Convention",
          "Vivienne - Montmartre",
          "Place d'Italie - Vincent Auriol",
          "Square Etienne Jarousse",
          "Marché Saint-Germain",
          "Cloître Saint-Merri - Renard",
          "Place Aimé Césaire",
          "Bourg l'Abbé - Saint-Martin",
          "Gare RER - Malleret-Joinville",
          "Gare d'Argenteuil",
          "Bruant - Vincent Auriol",
          "Jules Guesdes - Général de Gaulle",
          "Hôtel de Ville de Sèvres",
          "Bibliothèque Nationale - Richelieu",
          "Jean Monnet - Iles",
          "Cherche-Midi - Hôpital Necker",
          "Parc Eli Lotar",
          "Villiers - Batignolles",
          "Condorcet - Turgot",
          "Place Charles Michels",
          "Leredde - Tolbiac",
          "Croix Nivert - Square Saint-Lambert",
          "Porte de la Muette",
          "Benoît Frachon - République",
          "Landy - Heurtault",
          "Jean Jaurès - Jules Jacquemin",
          "Gare du Nord - Saint-Vincent de Paul",
          "Mairie du 14ème",
          "Ecoles - Carmes",
          "Place des Droits de l'Enfant",
          "Porte de Bagnolet",
          "Marne - Charles de Gaulle",
          "Reuilly - Place Felix Eboue",
          "Saint-Benoît - Jacob",
          "Flandrin - Longchamp",
          "Didot - Place de Moro-Giafferi",
          "Porte Molitor",
          "Davout - Volga",
          "Charles Frérot - Albert Guilpin",
          "Paradis - Hauteville",
          "Place de la Madeleine - Royale",
          "Bréguet - Sabin",
          "Claude Vellefaux - Hôpital Saint-Louis",
          "Stalingrad - Rigollots",
          "Gare RER les Grésillons",
          "Jardins d'Eole",
          "Murat - Porte de Saint-Cloud",
          "Raymond Poincaré - Place Victor Hugo",
          "Buisson Saint-Louis - Saint-Maur",
          "Paul Bodin - Clichy",
          "Diane Arbus",
          "Bourdon - Pont Morland",
          "Perle - Vieille du Temple",
          "Plantes - Moulin Vert",
          "Roger Salengro - Général de Gaulle",
          "Crevaux - Bugeaud",
          "Cadix - Hameau",
          "Cité Riverin - Château d'Eau",
          "Camille Risch - Paul Armangot",
          "Place de la Nation - Picpus",
          "Charentonneau - Maisons Alfort",
          "Maxime Gorki - Louis Aragon",
          "Mairie du 16ème",
          "Poissonniers - Championnet",
          "Cité Vaneau",
          "Grande Truanderie - Saint-Denis",
          "Leibniz - Jean Dollfus",
          "Gare Montparnasse - Arrivée",
          "Gare de Reuilly - Picpus",
          "Sèvres - Lecourbe",
          "Pergolèse - Marbeau",
          "Square Claude Bernard",
          "Jourdan - Cité Universitaire",
          "Jules Vallès - Charonne",
          "Gare Saint-Lazare - Stockholm",
          "Henri Ravera - Gabriel Péri",
          "Gambetta - Père Lachaise",
          "Charcot - Benfleet",
          "Niger - Soult",
          "Chevreuse - Montparnasse",
          "Porte de Clignancourt - Ney",
          "Epée de Bois - Mouffetard",
          "Louis Blanc - La Chapelle",
          "Reuilly - Daumesnil",
          "Quai de Béthune - Pont de la Tournelle",
          "Turbigo - Française",
          "Cordelières - Arago",
          "Molitor - Michel-Ange",
          "Centquatre",
          "Place des Abbesses",
          "Herschel - Observatoire",
          "Sorbier - Ménilmontant",
          "Petit - Georges Thill",
          "Place de la Nation - Charonne",
          "Mairie du 10ème",
          "Pyrénées - Avron",
          "Pyrénées - Plaine",
          "Louis Lumière.",
          "Saint-Denis - Université",
          "Mairie d'Issy",
          "Sarrette - Général Leclerc",
          "Beaubourg - Michel-le-Comte",
          "Turbigo - Réaumur",
          "Square Montholon",
          "Place de la Fraternité",
          "Phalsbourg - Villiers",
          "Parme - Clichy",
          "Emile Reynaud - Porte de la Villette",
          "Dunkerque - Alsace",
          "Chausson - Gabriel Péri",
          "Petites Ecuries - Faubourg Saint-Denis",
          "Bargue -  Dutot",
          "Charles de Gaulle - Plateau de Vanves",
          "Place de l'Europe - Alfortville",
          "Maurice Payret-Dortail",
          "Sèvres - Général Leclerc",
          "Archives - Rivoli",
          "Arsène Houssaye - Champs-Elysées",
          "Maine - Liancourt",
          "Gare de Bellevue",
          "Bourse du Travail",
          "Bosquet - Saint-Dominique",
          "Frères Flavien - Porte des Lilas",
          "Louis le Grand - Italiens",
          "Saint-Denis - Réaumur",
          "Maurice d'Ocagne - General Maudhuy",
          "Française - Etienne Marcel",
          "Beaumarchais - Saint-Gilles",
          "Cléry - Montmartre",
          "Lacuée - Lyon",
          "Adolphe Lalyre - Armand Silvestre",
          "Solitaires - Place des Fêtes",
          "Temple - Haudriettes",
          "Joffre - Aigle",
          "Square Emile - Chautemps",
          "Parc Roger Salengro",
          "Gare d'Austerlitz - Pont Charles de Gaulle",
          "Nationale - Vincent Auriol",
          "Etienne Marcel - Montorgueil",
          "Olivier de Serres - Leriche",
          "Gardenat-Lapostol - Velettes",
          "Sainte-Elisabeth - Turbigo",
          "Place du 17 Octobre",
          "Cours de Vincennes - Soult",
          "Adolphe Pinard - Victor Hugo",
          "Bézout - Général Leclerc",
          "Mairie du 3ème",
          "Blancs-Manteaux - Archives",
          "Mairie du 4ème",
          "Hôtel de Ville d'Asnières sur Seine",
          "Fille du Calvaire - Turenne",
          "Montmartre - Etienne Marcel",
          "Cesaria Evora - Rosa Parks",
          "Hôtel de Ville de Chaville",
          "Victoire - Laffitte",
          "Didot - Mariniers",
          "Eugène Varlin - Place de la Paix",
          "Lally-Tollendal - Armand Carrel",
          "Froidevaux - Boulard",
          "Lagny - Auguste Blanqui",
          "Tiron - Rivoli",
          "Kléber - National",
          "Alouettes - Maréchal de Lattre de Tassigny",
          "Château - République",
          "Mairie du Kremlin-Bicêtre",
          "Saint-Michel - Luxembourg",
          "Jean Bleuzen - Square du 11 Novembre",
          "Verdier - Jean Jaurès",
          "Gare du Nord - La Chapelle",
          "Rivoli - Musée du Louvre",
          "Village Saint-Paul",
          "Bas - Gabriel Péri",
          "Barbès - Monique Maunoury",
          "Séminaire de Conflans - Liberté",
          "Choiseul - Quatre Septembre",
          "Saint-Gilles - Turenne",
          "Hippodrome Paris-Vincennes",
          "Gardenat Lapostol - Franklin Roosevelt",
          "Bastille - Beaumarchais",
          "Pau Casals - Neuve Tolbiac",
          "Square Pierre Lazareff",
          "Jean-Jacques Rousseau - Deux Ecus",
          "Place Paul Delouvrier",
          "Édouard Vaillant - Place Jean Jaurès",
          "Candale - Mehul",
          "Aboukir - Alexandrie",
          "Saint-Bon - Rivoli",
          "Place de l'Hôtel de Ville",
          "Waldeck Rochet - Germaine Tillon",
          "Porte de Saint Cloud - Parc des Princes",
          "Place du 8 mai 1945.",
          "Quai Jules Guesde - Saint-Simon",
          "Gare des Vallées",
          "Place de la Bastille - Bourdon",
          "Mairie du 2ème",
          "Chaussée d'Antin - Haussmann",
          "Place du Lieutenant Henri Karcher",
          "Oratoire - Rivoli",
          "Grande Rue - Europe",
          "Ventadour - Opéra",
          "Custine - Ramey",
          "Port - Confluence",
          "Alger - Rivoli",
          "Choisy - Malmaisons",
          "Berthier - Porte de Clichy",
          "Saint-Honoré - 29 juillet",
          "Stade Pershing",
          "Gare de Sèvres - Ville d'Avray",
          "Saint-Amand - Labrouste",
          "Saint Pères - Saint Germain",
          "Jouffroy d'Abbans - Villiers",
          "Marseillaise - Grenade",
          "Saint-Placide - Cherche Midi",
          "Decrès - Alésia",
          "Marx Dormoy - Château Sainte-Barbe",
          "Square Victor Basch",
          "Amédée Huon - Fort d'Ivry",
          "Archives - Pastourelle",
          "Saint-Honoré - Musée du Louvre",
          "Jean Jaurès - Paul Lafargue",
          "Guy Môquet - Parvis Georges Marchais",
          "Quai de l'Aisne - Général Leclerc",
          "Le Goff - Gay-Lussac",
          "Magenta - Chabrol",
          "Château - Place de Catalogne",
          "Bréa - Raspail",
          "Résistance - Parmentier",
          "Parc Floral du Bel Air",
          "Arthur Ranc - Hôpital Bichat",
          "Place de la Division Leclerc",
          "Suresnes - Muette à Neuilly",
          "Belfort - Victor Hugo",
          "Verdun - Carnot",
          "Belles Feuilles - Place de Mexico",
          "Cardinal Lavigerie",
          "André Theuriet - Blagis",
          "Réaumur - Montmartre",
          "Lampes",
          "Victor Hugo - Gare",
          "Porte de Pantin.",
          "Saint-Marc - Feydeau",
          "Place André Malraux",
          "Danielle Casanova - Opéra",
          "Place Farhat Hached",
          "Jules Guesdes - Carnot",
          "Gare RER - Maurice Grandcoing",
          "Henri Barbusse - Marcel Cachin",
          "Dutot - Place Alleray",
          "Les Halles - Saint-Eustache",
          "Jouffroy d'Abbans - Malesherbes",
          "Place des Victoires",
          "Bagnolet - Place Saint-Blaise",
          "Victor Massé - Jean-Baptiste Pigalle",
          "Strasbourg - Saint-Denis",
          "Coquillière - Louvre",
          "République - Louis Loucheur",
          "Place de l'Eglise - Vitry-sur-Seine",
          "Henri Barbusse - Gabriel Péri",
          "Porte Dauphine",
          "André Mazet - Saint-André des Arts",
          "Vaugirard - Monsieur le Prince",
          "Mariotte - Batignolles",
          "Charenton - Wattignies",
          "Londres - Europe",
          "Sorbier - Gasnier-Guy",
          "Riquet - Marx Dormoy",
          "Saint-Mande - Picpus",
          "Gare de Chaville Rive Gauche",
          "Les Blagis",
          "Gobelins - Port-Royal",
          "Victor Hugo - Paul Eluard",
          "Mûriers - Père Lachaise",
          "Blanqui - Docteur Bauer",
          "Danielle Casanova - Ledru-Rollin",
          "Youri Gagarine - Commune de Paris",
          "Ney - Porte de Montmartre",
          "Quai de Sèvres - Manufacture Nationale",
          "Place du Maréchal de Lattre de Tassigny",
          "Silly - Louis Blériot",
          "Pierre Charron - Champs-Elysées",
          "Paganini - Davout",
          "Belleville -  Pré Saint-Gervais",
          "Stalingrad - Henri Luisette",
          "Château de Vincennes",
          "Gare de Robinson",
          "Place Denfert-Rochereau",
          "Jardin Modèle - Pierre Boudou",
          "Saint-Augustin",
          "Vincent Auriol - Louise Weiss",
          "Balzac - Champs Elysées",
          "Halle Freyssinet - Parvis Alan Turing",
          "Félix Faure - Convention",
          "Mairie",
          "Léon Frot - Charonne",
          "Béranger - Félix Faure",
          "Cambronne - Mademoiselle",
          "Bichat - Grange aux Belles",
          "Hôtel de Ville de Saint-Ouen",
          "Stéphanie Bouvard - Gambetta",
          "Taitbout - Châteaudun",
          "Chastenet de Géry - Marcel Paul",
          "Roquette - Auguste Laurent",
          "Martyrs de Châteaubriant - Jean Grandel",
          "Place de la vache noire",
          "Place Charles de Gaulle",
          "Gouthière - Poterne des Peupliers",
          "Clef des Champs - Albert Dhalenne",
          "Moscou - Edouard Vaillant",
          "Gare - Aristide Briand",
          "Pyrénées - Charles Renouvier",
          "Porte de Versailles",
          "Hector Malot - Daumesnil",
          "Bons Raisins - Voltaire",
          "Bercy - Traversiére",
          "Manin - Secrétan",
          "Pierre Joseph Desault",
          "Mathis - Flandre",
          "Suffren - La Motte-Piquet",
          "Bobillot - Tolbiac",
          "Dom-Pérignon - Gravelle",
          "Paix - Verdun",
          "Gambetta - Tourelles",
          "Chevaleret - Louise Weiss",
          "Square des Amandiers",
          "Général Leclerc - Bièvre",
          "Pereire - Saussure",
          "Edith Cavell - Volta",
          "Marcadet - Ramey",
          "Place du Docteur Yersin",
          "George Sand - Jean de La Fontaine",
          "Duméril - Jeanne d'Arc",
          "Porte de la Plaine",
          "Maxime Gorki - Paul Vaillant-Couturier",
          "Sahel - Général Michel Bizot",
          "Francoeur - Caulaincourt",
          "René Coty - Place Denfert-Rochereau",
          "Euryale Dehaynin - Loire",
          "Duhamel - André Gide",
          "Lecourbe - Convention",
          "Saint-Séverin - Saint-Michel",
          "Dôme - République",
          "Jean Jaurès - Place de la Libération",
          "Pyrénées - Cours de Vincennes",
          "Montreuil - République",
          "Franquet - Labrouste",
          "Constantine - Université",
          "Hauteville - Bonne Nouvelle",
          "Mairie de Bagnolet",
          "Place Charles Digeon",
          "Pierre Brossolette - 12 Février 1934",
          "Port Royal - Hôpital Cochin",
          "Guy Môquet - Compoint",
          "Gergovie - Alésia",
          "Reynaldo Hahn - Lagny",
          "Place Eustache Deschamps",
          "Verdier - République",
          "LCL Campus - Place Oscar Niemeyer",
          "Louis Blanc - Aqueduc",
          "Général De Gaulle - Vivien",
          "Regard - Rennes",
          "Buzenval - Vignoles",
          "Pasteur - Cotentin",
          "Guillaume Tell - Parc Henri Barbusse",
          "Ménilmontant - Oberkampf",
          "Hôtel de Ville de Vincennes",
          "Lorraine - Jean Jaurès",
          "Hispano Suiza - Parc des Bruyères",
          "Volontaires - Vaugirard",
          "Dominique Pado - Croix Nivert",
          "M.- A. Lagroua Weill-Hallé -  F. Dolto",
          "Jean de la Fontaine - Boulainvilliers",
          "Fief - République",
          "Olympiades",
          "Dantzig - Lefebvre",
          "Maine - Jean Zay",
          "Porte de Charenton",
          "Tombe Issoire - René Coty",
          "Arsonval - Falguière",
          "Siam - La Pompe",
          "Bobillot - Moulin des Prés",
          "Alexandre Dumas - Place de la Réunion",
          "Montparnasse -  Square Ozanam",
          "Bourdonnais - Tour Eiffel",
          "Jean Bologne - Passy",
          "Marcel Pourtout - Édouard Manet",
          "Pyrénées - Dagorno",
          "Ancienne Mairie - André Morizet",
          "Crimée - Ourcq",
          "Lavoisier - Missak Manouchian",
          "Flandre - Ourcq",
          "Charonne - Alexandre Dumas",
          "Saint-Maur - République",
          "Place Aristide Briand",
          "Saint-Marcel - Hôpital",
          "Marceau - Président Wilson",
          "Lacépède - Linné",
          "Legendre - Nollet",
          "Jacquier - Didot",
          "Rome - Provence",
          "Guynemer - Jardin du Luxembourg",
          "Gabriel Péri - Place de la Libération",
          "Verdun - Pierre et Marie Curie",
          "Championnet.",
          "Paul Valery - Victor Hugo",
          "Quatre Vents - Carrefour de l'Odéon",
          "Temple - Jean-Pierre Timbaud",
          "Philippe-Auguste",
          "Perrault - Place du Louvre",
          "Bois de Vincennes - Polygone",
          "Temple - Charlot",
          "Colonel Pierre Avia",
          "Place Tristan Bernard",
          "Marché d'Auteuil",
          "Claude Debussy - Marc Bloch",
          "Arthur Auger - Jean Jaurès",
          "Paul Doumer - Stalingrad",
          "Passy - Place du Costa Rica",
          "Galilée - Vernet",
          "Jean-Baptiste Charcot - Sainte-Geneviève",
          "Payenne - Square George Caïn",
          "Guillaume Bertrand - République",
          "Pyrénées - Ménilmontant",
          "Victor Hugo - Bineau",
          "8 Mai 1945 - 10 Juillet 1940",
          "Mairie du 20ème",
          "Félix Faure - Lourmel",
          "Hôtel de Ville de Rueil-Malmaison",
          "Gare RER - Général de Gaulle",
          "Place Saint-André des Arts",
          "Chevaleret - Tolbiac",
          "Rond-Point Rhin et Danube",
          "Dora Maar - Nadia Guendouz",
          "Point du Jour - Jean Jaurès",
          "Jean Bouin - Gouverneur Général Eboué",
          "Geoffroy-Saint-Hilaire - Saint-Marcel",
          "Ménil - Argenteuil",
          "Metz - Marne",
          "Richard Lenoir - Place de la Bastille",
          "Bertrand Sincholle - Henri Barbusse",
          "Cartier Bresson - Denis Papin",
          "Place d'Italie - Soeur Rosalie",
          "Pierre Ginier - Clichy",
          "Commandant Charcot - Bretteville",
          "Saint-Germain - Verdun",
          "Général Michel Bizot - Claude Decaen",
          "Président Roosevelt - Rouget de Lisle",
          "Ivry - Baudricourt",
          "Châteaudun - Place de la Liberté",
          "Saint-Mandé - Docteur Arnold Netter",
          "Champs de Manoeuvre - Cartoucherie",
          "Marcel Monge - Marcel Dassault",
          "Bastille - Biscornet",
          "Etienne Dolet - Place Maurice Chevalier",
          "Place Henri Dunant - Gare RER",
          "Convention - Campus de Bobigny",
          "Gare de Lyon - Roland Barthes",
          "Batignolles - Abel Truchet",
          "Parc des Pierrettes",
          "Pablo Picasso - Maurice Thorez",
          "Division Leclerc - Kléber",
          "Alfred de Vigny - Place du Général Brocard",
          "Gare Saint-Lazare - Place de Budapest",
          "Fontaine du Tertre - Calvaire",
          "Adrien Lesesne - Docteur Bauer",
          "Résistance - Romain Rolland",
          "Porte de Clichy - Place des Nations Unies",
          "Sèvres - Maréchal Juin",
          "Henri Barbusse - Bourguignons",
          "Louis Armand - Bernard Palissy",
          "Bateliers - Quai de Seine",
          "Place Jean Mermoz",
          "Jonquière - Docteur Paul Brousse",
          "Charles de Gaulle - Rue de l'Alma",
          "Clignancourt - Ordener",
          "Place des Arts - Jean Mermoz",
          "Pont de Suresnes",
          "Gare du Nord - Dunkerque",
          "Convention - Lourmel",
          "René Boulanger - Lancry",
          "Rampal - Belleville",
          "Ménilmontant - Père Lachaise",
          "Place du Moulin de Javel",
          "Hippodrome de Longchamp",
          "Choisy - Tolbiac",
          "Musée d'Orsay",
          "Place Balard",
          "Georges Pompidou - Verdun",
          "Rochechouart - Martyrs",
          "Gambetta - Saint Fargeau",
          "Enfants du Paradis - Peupliers",
          "Macdonald - Césaria Evora",
          "Belfort - Voltaire",
          "Pavé des Gardes - Charles Vaillant",
          "Alexandre Dumas - Voltaire",
          "Saint-Lazare - Place d'Estienne d'Orves",
          "Fabre d'Eglantine - Place de la Nation",
          "Epi d'Or - Chevilly",
          "Clichy - Douai",
          "Nungesser - Santé",
          "Montreuil - Voltaire",
          "Port - Maurice Chevalier",
          "Place Pigalle",
          "Gare du Nord - Faubourg Saint-Denis",
          "Colisée - Champs-Elysées",
          "Jean Mermoz - Champs-Elysées",
          "Place de la République - Temple",
          "Stalingrad - Barbara",
          "Bineau - Louise Michel",
          "Verdun - Henri Barbusse",
          "Carrefour Pleyel",
          "Lamarck - Saint-Ouen",
          "Westermeyer - Paul Vaillant-Couturier",
          "Stalingrad - Général de Gaulle",
          "Aristide Briand - Place de la Résistance",
          "Maréchal Leclerc de Hauteclocque - Marché Buzenval",
          "Place Charles Vallin",
          "Carpeaux - Place Jacques Froment",
          "Tremblay - Lac des Minimes",
          "Jemmapes - Ecluses Saint-Martin",
          "Saint-Denis - Rivoli",
          "Jean Jaurès - Place du Dr Roux",
          "Gare Saint-Lazare - Cour du Havre",
          "Val-Fleury",
          "Jean Jaurès - Gare de Clamart",
          "Faubourg St-Antoine - Place de la Nation",
          "Gare de la Garenne-Colombes",
          "Place du Colonel Fabien",
          "Quai des Célestins - Henri IV",
          "Charles de Gaulle - Madrid",
          "Guy Môquet - Jean Moulin",
          "Avenir",
          "Malesherbes - Place de la Madeleine",
          "Hélène et François Missoffe - Emile Borel",
          "Marceau Delorme - Pierre Brossolette",
          "Garibaldi - Gabriel Péri",
          "Roland Garros - Jean Bouin",
          "Gare RER",
          "Place de la Paix - Abbé Saint-Pierre",
          "Simone Signoret - Paris",
          "Gare de l'Est - Chateau Landon",
          "Ordener - Poissonniers",
          "Ruisseau - Ordener",
          "Madeleine Vionnet",
          "Daumesnil - Picpus",
          "Gare d'Austerlitz",
          "Saint-Jacques - Soufflot",
          "Caumartin - Provence",
          "Suzanne Masson",
          "Volontaires - Lecourbe",
          "Gabriel Péri - Jules Ferry",
          "Granges aux Belles - Hôpital Saint-Louis",
          "Ney - Porte de Clignancourt",
          "Liberté - Vert-de-Maisons",
          "Place de la République - Voltaire",
          "Place de la Nation - Taillebourg",
          "Faubourg Du Temple - Republique",
          "Jean Jaurès - Ouvrières Pivéreuses",
          "Jean Jaurès - Presles",
          "Richard Lenoir - Voltaire",
          "Vanne - Général de Gaulle",
          "Boulets - Voltaire",
          "Place de la Montagne du Goulet",
          "Ecole Militaire - Place Joffre",
          "Fédération - Suffren",
          "Cité de la Musique",
          "Hoche - Tilsitt",
          "Place Joffre - Frédéric le Play",
          "Octave Gréard - Tour Eiffel",
          "Traktir - Foch",
          "Bercy - Villot",
          "Diderot - Pierre Bourdan",
          "Sebastopol - Rambuteau",
          "Clichy - Place Blanche",
          "Saint-Antoine Sévigné",
          "Danielle Casanova - Place Vendôme",
          "BNF - Bibliothèque Nationale de France"
         ],
         "lat": [
          48.865983,
          48.871256519012,
          48.778192750803,
          48.837525839067,
          48.87929591733507,
          48.819428333369,
          48.840855311763,
          48.85165383178419,
          48.93626891059109,
          48.848563233059,
          48.855907555969,
          48.84389286531899,
          48.875448033960744,
          48.84708159081946,
          48.835092787824,
          48.91039875761846,
          48.81580226360801,
          48.836022242886884,
          48.856451985395786,
          48.835583838706,
          48.908168131015,
          48.862453313908,
          48.826103771275,
          48.876116,
          48.88287775178599,
          48.851296433665276,
          48.84504716661511,
          48.881973298352,
          48.8570414504784,
          48.83310149953933,
          48.82234096593411,
          48.871417284355,
          48.870828911558,
          48.830981659316855,
          48.89594736851349,
          48.86785,
          48.879406604954,
          48.853844054333514,
          48.871031137596,
          48.89792240854517,
          48.83823094269141,
          48.822036188382,
          48.78980918988166,
          48.84884147189881,
          48.892648526839,
          48.85772148887421,
          48.82557229464416,
          48.81807418981508,
          48.8804934032465,
          48.8529945,
          48.882428,
          48.79628807093802,
          48.871044051984,
          48.840579923690115,
          48.87393521240818,
          48.86785342111862,
          48.868834023334,
          48.879161,
          48.8214169,
          48.88949630486821,
          48.82435782216384,
          48.879223,
          48.838683941628375,
          48.78448485079149,
          48.87525454905335,
          48.86106902949534,
          48.8468428626593,
          48.83940266673835,
          48.874750203956566,
          48.87759897050706,
          48.88655580065981,
          48.87320440102894,
          48.875642647477,
          48.8761373390584,
          48.8351212784276,
          48.880726,
          48.8462904,
          48.844730256132095,
          48.87219,
          48.83842553348809,
          48.816376985087,
          48.859091104741,
          48.88320784122797,
          48.827228120536,
          48.874777677621296,
          48.874510616163,
          48.857058739111,
          48.84369030864,
          48.88115023337061,
          48.87973954830735,
          48.849063299501,
          48.8978765,
          48.88917613743794,
          48.851419978983,
          48.88896161855884,
          48.857615678565,
          48.884492238407525,
          48.883667,
          48.87745567681383,
          48.862923800596,
          48.845515089794,
          48.814183748660554,
          48.881949,
          48.87334627510507,
          48.929867194519,
          48.91864865955558,
          48.88022154052015,
          48.8847601,
          48.88192765861766,
          48.89577046284005,
          48.84097491091973,
          48.8554439,
          48.85507930579506,
          48.88006587474148,
          48.83761417037952,
          48.858688774062955,
          48.874746047357135,
          48.80889533774377,
          48.847020571652,
          48.861142162761,
          48.872010281270974,
          48.893923963057865,
          48.88364782887555,
          48.852804604940296,
          48.84479928858768,
          48.81995307955795,
          48.86131452758348,
          48.862147844548,
          48.8667175,
          48.82237977153955,
          48.875034655883944,
          48.8795431,
          48.821466904768,
          48.8750898883217,
          48.83372430280548,
          48.83681733526843,
          48.8927825,
          48.764615483395254,
          48.84780306364685,
          48.8687591,
          48.81217465201,
          48.83649602312711,
          48.95756799268,
          48.848225572724,
          48.877436681515796,
          48.9155156,
          48.886472466142,
          48.87403113727167,
          48.88467214209463,
          48.88633710236977,
          48.828012849445,
          48.814548697325,
          48.77093586667601,
          48.83769531916335,
          48.818144834008976,
          48.7985844,
          48.837668272811,
          48.89579697978,
          48.83796366147599,
          48.8417514,
          48.84993035512154,
          48.843949064031825,
          48.84264375274712,
          48.84706173362218,
          48.825218683556734,
          48.864920982538,
          48.87614039826388,
          48.89401874744574,
          48.81111581390707,
          48.81411442356866,
          48.89110239200789,
          48.87590240712654,
          48.886062068226,
          48.831632518292565,
          48.83659148147257,
          48.88794016394694,
          48.781383825117,
          48.81527009991819,
          48.82753962462998,
          48.876111,
          48.790114,
          48.86703740186721,
          48.784527937293184,
          48.890451120965,
          48.86531608707,
          48.84240765130395,
          48.86132665908402,
          48.826701758539215,
          48.8835462,
          48.83495885166784,
          48.866143390992,
          48.872420063053,
          48.892663,
          48.821092374256104,
          48.86431136000005,
          48.836191728066666,
          48.875065791004396,
          48.8415473058801,
          48.83802015441127,
          48.859358523593,
          48.86741186571367,
          48.8492084999386,
          48.86112461407359,
          48.857421708072074,
          48.877951,
          48.84442462786544,
          48.839109,
          48.84107178161383,
          48.844835471244416,
          48.787553654715644,
          48.876719895109,
          48.8436279,
          48.84520880183234,
          48.8094458,
          48.8644954,
          48.87451538963655,
          48.88863669349711,
          48.854898095789295,
          48.847563015126106,
          48.821475594736775,
          48.85034821320644,
          48.865804276686,
          48.8726877314,
          48.885325169402904,
          48.816939911292,
          48.82837482809675,
          48.886591074488,
          48.881287375060616,
          48.89790972494496,
          48.879359419425,
          48.87991924860035,
          48.883498,
          48.877141208359035,
          48.88611466796807,
          48.86921273836114,
          48.827673823165846,
          48.81057120969284,
          48.863875,
          48.84309486651855,
          48.88125496379482,
          48.882976576876565,
          48.8433725710224,
          48.819211549234495,
          48.858925,
          48.79387269664978,
          48.86746195408435,
          48.886785741479684,
          48.82577028927573,
          48.873722412917,
          48.871624306962985,
          48.850571,
          48.83486054775774,
          48.857992591527,
          48.83227829269761,
          48.910482,
          48.7672039733195,
          48.85670169739857,
          48.8888,
          48.89465,
          48.872988840744,
          48.852191909696,
          48.886393679436,
          48.892371898250424,
          48.909423010092326,
          48.888537048944826,
          48.90379820774301,
          48.89490221746837,
          48.864660627935,
          48.93870344444,
          48.882633484311,
          48.89432034553156,
          48.862382970647,
          48.80257200481316,
          48.8577967,
          48.846454,
          48.868895162679,
          48.87660163459077,
          48.88467368538326,
          48.83091743371036,
          48.799824,
          48.87866794788021,
          48.814280450380224,
          48.859403,
          48.867362,
          48.857202661803,
          48.8184945213025,
          48.85147910413369,
          48.93009363207303,
          48.84572797384512,
          48.83061737745,
          48.878438631226516,
          48.80476007936134,
          48.91118557052621,
          48.84571672113014,
          48.850500564921,
          48.868397,
          48.84718551002347,
          48.846171461187,
          48.85528017533187,
          48.88879,
          48.872933,
          48.83446472680611,
          48.878772242510465,
          48.869495661232,
          48.80893199114179,
          48.87778639599673,
          48.881804409079656,
          48.88873214926474,
          48.88511992309783,
          48.842647778701,
          48.848191348584,
          48.887808570529,
          48.90663823468682,
          48.90717373809284,
          48.827817291597846,
          48.85337548426,
          48.83617286014242,
          48.89484799296163,
          48.91835629408464,
          48.886674849730184,
          48.832308,
          48.888013281448,
          48.84487893836502,
          48.871379874257,
          48.89738369720229,
          48.894155633419,
          48.8993867,
          48.8202823,
          48.838811048815,
          48.844291,
          48.88650687534334,
          48.823933787309,
          48.87068263384462,
          48.8242469,
          48.888912037698766,
          48.893479576183,
          48.845665,
          48.84756654526,
          48.812657470558754,
          48.88339733854529,
          48.89587780769155,
          48.87525984132485,
          48.870797375639214,
          48.90390751882016,
          48.84116092896631,
          48.90812110228388,
          48.85593932186797,
          48.861411014652,
          48.86218070933143,
          48.83920384329242,
          48.8949922,
          48.868807,
          48.87195626635528,
          48.89835196548483,
          48.848274111398,
          48.8643275,
          48.883474535757,
          48.851602665222,
          48.84930687084088,
          48.871552174017,
          48.83629973941847,
          48.903281401126755,
          48.850785261674964,
          48.8479394142243,
          48.881077914129,
          48.79592939432515,
          48.884146759782,
          48.852566752033766,
          48.87397217237368,
          48.8643671,
          48.89104123261663,
          48.8701796,
          48.841486,
          48.82663907252554,
          48.87352990026496,
          48.81240466867336,
          48.8258020742942,
          48.89206174403158,
          48.8703459,
          48.864459134684644,
          48.88713901475306,
          48.878199928923124,
          48.90245471981591,
          48.92650488131725,
          48.823316,
          48.905169868129036,
          48.83671783466264,
          48.824407,
          48.82890454823947,
          48.839794573906,
          48.874330377560476,
          48.83329880233322,
          48.8525288,
          48.880516995482,
          48.86926,
          48.844182577315,
          48.844867319554,
          48.901365,
          48.8694370761222,
          48.87033205312931,
          48.85023459321703,
          48.839061952159746,
          48.83959442800459,
          48.850310432924466,
          48.855628721101,
          48.851315406715976,
          48.897488,
          48.8227639,
          48.898708366365064,
          48.870714014863225,
          48.885263,
          48.853147816545,
          48.86223916006812,
          48.813240124373,
          48.946504,
          48.90782845483013,
          48.84288183896324,
          48.85154484769,
          48.83094844846017,
          48.858942986179,
          48.832294,
          48.870790980240706,
          48.878249,
          48.85345855607243,
          48.876356,
          48.876156054271,
          48.87979886049996,
          48.902449900418745,
          48.890404028589806,
          48.8984179,
          48.8862074,
          48.83059564231877,
          48.871815737396,
          48.83748810318667,
          48.883769733273496,
          48.85242200848887,
          48.87701838803332,
          48.833218027457846,
          48.88960028134536,
          48.83484585882868,
          48.8755044846,
          48.8354337,
          48.90165072551549,
          48.87660391892763,
          48.8583666,
          48.837809408957,
          48.87428447542072,
          48.86254398506782,
          48.878255397645,
          48.842741502832,
          48.86500081847653,
          48.8862524447104,
          48.89859661942376,
          48.85493692155721,
          48.860934,
          48.92540695835961,
          48.87532687671517,
          48.794902381218904,
          48.8932644350857,
          48.868899890853,
          48.81488859822486,
          48.881823370566806,
          48.83586772099485,
          48.82650293311,
          48.80896378683884,
          48.8222334178559,
          48.87939826447722,
          48.84749841771691,
          48.848280403628806,
          48.84576261454011,
          48.89669238777841,
          48.892939296937605,
          48.849259262115,
          48.8691543609174,
          48.8798926,
          48.85742876694898,
          48.84308531746595,
          48.844974,
          48.826885843069796,
          48.8756045,
          48.89034054052266,
          48.90636459217474,
          48.85714001395299,
          48.852297362582,
          48.870948218595,
          48.85249172181667,
          48.851904891406384,
          48.877532084130166,
          48.85780291711202,
          48.89383909781389,
          48.85386896766491,
          48.8099849920804,
          48.862654215631,
          48.88753640381415,
          48.850188262662,
          48.89659571178903,
          48.8896779050281,
          48.8943782,
          48.85132886434057,
          48.820864559770676,
          48.88667396788626,
          48.85558642847872,
          48.80956436844049,
          48.84243457133779,
          48.8561915,
          48.90271566255436,
          48.850735824128805,
          48.8482070397636,
          48.856691550115315,
          48.831448892608314,
          48.8741908,
          48.856433706943704,
          48.883886063895,
          48.89088305227546,
          48.778916905132,
          48.868144510482075,
          48.84954227788459,
          48.83850740333351,
          48.833468517426,
          48.859279702476,
          48.860089892617,
          48.93554324248177,
          48.847208456061,
          48.85286124871689,
          48.87330497045532,
          48.91516726221354,
          48.774661399959,
          48.879960700846226,
          48.853899645527,
          48.88109246617963,
          48.813810628405,
          48.858297001218,
          48.86492782016328,
          48.8569864146289,
          48.882555807626765,
          48.834254627953,
          48.881154,
          48.85631874632638,
          48.865242333228,
          48.8256423,
          48.839966914994,
          48.8418071798797,
          48.852233164303,
          48.85355351439652,
          48.891834448210986,
          48.852575112948415,
          48.898748039775,
          48.887070607581215,
          48.85853523359734,
          48.8377016,
          48.93261499331498,
          48.875601632672,
          48.88818698581028,
          48.90390619651018,
          48.89183721478911,
          48.939958667023,
          48.84969649427,
          48.873802681432146,
          48.8568363,
          48.87649965412676,
          48.82365543660611,
          48.88104925098552,
          48.83476837934194,
          48.847460641142,
          48.85696177597818,
          48.871446353921,
          48.862408335967,
          48.82747252522725,
          48.87345073390807,
          48.8338064,
          48.8043072,
          48.840639944296655,
          48.90661553626751,
          48.866887649978,
          48.868997,
          48.858256413365815,
          48.843156111116,
          48.833206330538864,
          48.8313878,
          48.8322649,
          48.87578906564573,
          48.878021154637,
          48.86803439043193,
          48.877321579493575,
          48.869113,
          48.892511213520656,
          48.84021933807409,
          48.875352455985,
          48.84970399548416,
          48.821768747596,
          48.86860172112996,
          48.861273016278,
          48.7769529826096,
          48.88714509078738,
          48.869517979344,
          48.8679385,
          48.850533,
          48.8555508,
          48.86617395079137,
          48.86787670551736,
          48.8837796723475,
          48.866483514509,
          48.888559314669514,
          48.871611569354755,
          48.892809461520265,
          48.8417762,
          48.82758774190948,
          48.8831217743719,
          48.83637852318147,
          48.82463749337136,
          48.83212027074841,
          48.855603162026,
          48.89032998912038,
          48.89314451997415,
          48.842885590081,
          48.903653634661,
          48.88260431301364,
          48.855296898603285,
          48.88484543106364,
          48.820215229662765,
          48.88832421845225,
          48.85273792380526,
          48.821443218278,
          48.875022,
          48.82255636666729,
          48.851358329771806,
          48.89679827481989,
          48.850908146398,
          48.898969358483,
          48.8181645,
          48.8307758,
          48.87034,
          48.83780830557548,
          48.84070239213081,
          48.822632,
          48.849686566191,
          48.83453413883994,
          48.87661398289084,
          48.874405666217,
          48.881742142181,
          48.88005222200894,
          48.88256264247959,
          48.838751246689455,
          48.8816985773914,
          48.877851443502536,
          48.84009622558849,
          48.897307310356055,
          48.86338720692607,
          48.858462881661,
          48.8633762,
          48.84682410855,
          48.865346269363,
          48.88078819514121,
          48.859246959155485,
          48.88179064200294,
          48.856399483950504,
          48.89056394743836,
          48.83328865030686,
          48.8646605,
          48.82479134498032,
          48.90680713698062,
          48.83372354344807,
          48.890566275506,
          48.82774555743318,
          48.847040552603,
          48.89905109950848,
          48.86491723343388,
          48.82092946051445,
          48.84044,
          48.84717561492764,
          48.878113787876,
          48.87266656122256,
          48.820482438381,
          48.78695280952244,
          48.816218640260445,
          48.855580507049,
          48.8813072,
          48.847238029966,
          48.870893,
          48.87326713758289,
          48.868831082877,
          48.8622179854695,
          48.840658921385234,
          48.88526123395252,
          48.89687189382465,
          48.8179685,
          48.87959698690176,
          48.82177227954821,
          48.82714055843935,
          48.78740167690531,
          48.8778983,
          48.8950295,
          48.863354122371,
          48.857315824799,
          48.817699773925,
          48.877870626988,
          48.82537611802588,
          48.837442,
          48.841487851079,
          48.87628983900398,
          48.82631195621006,
          48.87626381919953,
          48.78599652305309,
          48.892777719023975,
          48.864273423741956,
          48.831151602964354,
          48.85258670812,
          48.838946417408025,
          48.823283932030755,
          48.83507657562064,
          48.830764,
          48.879089,
          48.85293603169479,
          48.91405323432864,
          48.819002163836444,
          48.84014918546239,
          48.87815529789739,
          48.858102885107,
          48.8731167,
          48.879330755297346,
          48.8667692,
          48.88126951579429,
          48.875443870736,
          48.8736824,
          48.786404,
          48.843839785643,
          48.867937,
          48.833250690537874,
          48.82435208303827,
          48.898965361341254,
          48.875388227727,
          48.8600265,
          48.851617204998654,
          48.87531563065266,
          48.885109,
          48.812107928414775,
          48.8429,
          48.874575,
          48.847623027364,
          48.88494728765838,
          48.835405,
          48.86642312020962,
          48.906442763495,
          48.879595787608,
          48.86950262156371,
          48.849269143835926,
          48.87046,
          48.84949749106274,
          48.919141953558054,
          48.86632723374305,
          48.817161987718954,
          48.822698842979,
          48.88216401466375,
          48.83767682233156,
          48.84858321339195,
          48.80108159069614,
          48.905658361454,
          48.84797660373612,
          48.81477852751594,
          48.84245,
          48.83730787972,
          48.82900222785569,
          48.82764910241,
          48.790844603480856,
          48.89035817610495,
          48.85398448133697,
          48.8963765,
          48.876733496637506,
          48.787482746521306,
          48.82494563758295,
          48.870047123655,
          48.850458009188,
          48.81031545,
          48.861451061938,
          48.843734468779,
          48.81718759671675,
          48.822203,
          48.84158856925782,
          48.815388220397274,
          48.927640283627,
          48.84630274151258,
          48.8071937956922,
          48.858445054262,
          48.86053161154489,
          48.846276485475,
          48.857341095470794,
          48.84791249714942,
          48.893400392981874,
          48.880883445404436,
          48.829268,
          48.815160030060376,
          48.85291595620935,
          48.876327,
          48.883546851533254,
          48.8795079,
          48.853883541328,
          48.93159430558871,
          48.89826887103676,
          48.849726940367326,
          48.822032,
          48.854176,
          48.855258115391,
          48.87521088779225,
          48.8562118,
          48.84040868803496,
          48.895809485802886,
          48.891999360256904,
          48.82529858840266,
          48.846128877747,
          48.796261,
          48.884687354509,
          48.829899841747384,
          48.800612,
          48.81710889740748,
          48.829575,
          48.86795222470859,
          48.88229101148092,
          48.845666194202,
          48.89819702263572,
          48.88652251096166,
          48.8712148,
          48.89392043619345,
          48.860448992575,
          48.80253358011283,
          48.8453579,
          48.81990914045756,
          48.890097168851746,
          48.880987514929,
          48.77850332486751,
          48.8799933,
          48.790379518724265,
          48.829654975522,
          48.88490187110713,
          48.885927922355044,
          48.88294340845,
          48.836956046311,
          48.94342014002797,
          48.885124323627,
          48.861419,
          48.8906231,
          48.87861855668978,
          48.8192669595252,
          48.85120156830401,
          48.842726498317,
          48.837853,
          48.89611762451474,
          48.892120821173975,
          48.860134890542,
          48.853305277595,
          48.847051143113745,
          48.9312676,
          48.84512772828,
          48.827090233494964,
          48.91844023641836,
          48.876693805756986,
          48.856926701847,
          48.88215166773376,
          48.8343883676388,
          48.871811807816,
          48.896212845581346,
          48.89374453351521,
          48.85385,
          48.8562322730982,
          48.894036161302104,
          48.824753068884,
          48.845847561366,
          48.850440013405,
          48.91502382370325,
          48.829522989420596,
          48.8300989,
          48.83787825992554,
          48.8547194,
          48.873781940593325,
          48.8733298892,
          48.82245594764965,
          48.897874318180556,
          48.841923663276546,
          48.842761803051,
          48.84629899065091,
          48.839988788912,
          48.848175129981,
          48.869789,
          48.851518815017,
          48.83460464474706,
          48.846043490118454,
          48.877356057652,
          48.85708641027236,
          48.842668466104875,
          48.877932,
          48.78266870733145,
          48.83596927866069,
          48.871347597383,
          48.831481874467,
          48.82485182597129,
          48.85165625855281,
          48.858835448898,
          48.783194713067815,
          48.86393331949257,
          48.802936,
          48.947022436806705,
          48.834848452929,
          48.81930581291959,
          48.824363561288756,
          48.868288993515,
          48.823393984057304,
          48.84461063309956,
          48.91844993053703,
          48.88125253846116,
          48.87985155789093,
          48.846401,
          48.82887629664,
          48.8430515215905,
          48.86302317841182,
          48.85230729014318,
          48.915096534520316,
          48.88433053604843,
          48.880955741648,
          48.83254578123,
          48.848904447989405,
          48.8274804,
          48.864707139122984,
          48.815071719544434,
          48.84030274499962,
          48.85545136013941,
          48.86877849178477,
          48.8337,
          48.84524763511433,
          48.852919679957296,
          48.8155839183714,
          48.874999954666755,
          48.869228052648,
          48.856931678257,
          48.872859139003,
          48.84997403844251,
          48.919898633572764,
          48.8869703,
          48.83750862621299,
          48.870306124369975,
          48.871746849303,
          48.89239614618928,
          48.898800717199,
          48.8478103,
          48.8601346,
          48.83005755305626,
          48.820029010376956,
          48.870809428669546,
          48.8340107632249,
          48.870702423554306,
          48.774703,
          48.846821681548,
          48.809932980484355,
          48.78909814728443,
          48.863936848471994,
          48.89543299733937,
          48.8542210666207,
          48.8626302,
          48.896328348515986,
          48.843827994315,
          48.84267354116789,
          48.8447677,
          48.87356870686902,
          48.89876016219984,
          48.819897343156676,
          48.85428437993525,
          48.877127316667654,
          48.79722273833844,
          48.864295696165875,
          48.878370277021,
          48.84369906369085,
          48.841739161231,
          48.899641123987095,
          48.841508690388835,
          48.884008964514,
          48.8395385,
          48.85097433194032,
          48.86358858111446,
          48.83548071896613,
          48.845182081538034,
          48.88933353845543,
          48.884542726149725,
          48.84342376221923,
          48.86854239566069,
          48.88603131999171,
          48.848364667777,
          48.872089449907,
          48.853246898211985,
          48.85026702458,
          48.86216198070008,
          48.94563430946964,
          48.8237677924683,
          48.825030852925,
          48.862534941806,
          48.865574047531,
          48.876620377545024,
          48.85716405838368,
          48.88242307900951,
          48.881266424227,
          48.90098953630053,
          48.879355,
          48.921891003481115,
          48.87287120589831,
          48.837884,
          48.82233088973263,
          48.78913702405837,
          48.87811957063342,
          48.83012155905476,
          48.857346707443,
          48.873409276267,
          48.835064363954,
          48.8192404685572,
          48.868976638826,
          48.85865170952645,
          48.8780992764359,
          48.870508937204,
          48.8661116315789,
          48.82414282524159,
          48.864053304653766,
          48.8580378,
          48.867458,
          48.849268481958,
          48.90406266961591,
          48.876601,
          48.861636880212,
          48.904033,
          48.867433724231,
          48.905303858642,
          48.842319830109304,
          48.83252708397293,
          48.86450567259199,
          48.83460221715206,
          48.87387,
          48.86610337431042,
          48.91962690034779,
          48.846918761569,
          48.8236825874564,
          48.82884804502439,
          48.86446178139141,
          48.85941800703,
          48.855949910497,
          48.90999330025577,
          48.86210505412563,
          48.86502194581,
          48.89717672825043,
          48.80887149094033,
          48.87514373494672,
          48.82650543613106,
          48.792862,
          48.88270066221072,
          48.835147319625,
          48.84922568052601,
          48.855692253233,
          48.906333898712234,
          48.85511009293948,
          48.905928,
          48.81191981537702,
          48.84501507626,
          48.8232579,
          48.81614048711214,
          48.884178287286,
          48.86364636851945,
          48.852639866624806,
          48.91585580539625,
          48.81552718820216,
          48.823194,
          48.8699355331869,
          48.858158956779,
          48.82048387758518,
          48.871839,
          48.853833463852,
          48.8311602,
          48.867141720746,
          48.86297805972131,
          48.89197621431365,
          48.86265537999924,
          48.8893935006175,
          48.86868344444473,
          48.857999643315,
          48.8573314,
          48.91105960199651,
          48.838662757066,
          48.938882272105,
          48.80391487219,
          48.913179,
          48.852364355271,
          48.8672190355135,
          48.87243,
          48.863490871724466,
          48.861342760889,
          48.8218104687602,
          48.866810653323,
          48.888735896947,
          48.936093926526,
          48.864773553495,
          48.821919702956,
          48.894222687781,
          48.86557114282421,
          48.829107826857,
          48.826262366227,
          48.834097274832295,
          48.853729675265,
          48.88421554703737,
          48.889371092747,
          48.8490535919234,
          48.832200060759,
          48.791782341055324,
          48.914304862261,
          48.805131376899986,
          48.8623615,
          48.863443132848,
          48.884933177666,
          48.79518840095975,
          48.895713,
          48.8461024009786,
          48.876495350882,
          48.836805542262,
          48.842738478258,
          48.85965138131299,
          48.839285711865735,
          48.8978712500682,
          48.793824988636516,
          48.868570404348,
          48.9018492,
          48.808439376064946,
          48.865804746474,
          48.832934193699835,
          48.77977325745441,
          48.868230999759,
          48.81152481985875,
          48.923133952658,
          48.889199725577,
          48.870310661422,
          48.863925158727,
          48.867643242297,
          48.825806194537,
          48.93828169931872,
          48.813881,
          48.93742089281,
          48.836826091766,
          48.86362695901683,
          48.8850134,
          48.8660354,
          48.85973,
          48.8811043724,
          48.869601642433,
          48.86379590966231,
          48.823549261189,
          48.791922819921815,
          48.801773795836,
          48.871139344351,
          48.85375581057431,
          48.848951441614,
          48.884571659595,
          48.836919119234,
          48.878618556803,
          48.86521763101122,
          48.89021003702,
          48.845127728278,
          48.80516030434533,
          48.785205,
          48.837135900263,
          48.819602554907,
          48.864130509668044,
          48.907735489085,
          48.815783497876815,
          48.782427463041,
          48.897918,
          48.828688,
          48.821707715257055,
          48.83219045374266,
          48.870103359864,
          48.85135,
          48.875565910073,
          48.78363092456589,
          48.84423193255657,
          48.7799259211605,
          48.843252536286684,
          48.914866710946,
          48.8762009747008,
          48.834001935501,
          48.872699639621,
          48.832846814471,
          48.841249336041045,
          48.87914304162,
          48.854963800335234,
          48.80404828621485,
          48.843277330035214,
          48.873688,
          48.911380185786,
          48.814548138856,
          48.876383969379,
          48.800123,
          48.858001906023354,
          48.951432,
          48.81040517059777,
          48.826073335699,
          48.820507,
          48.914938,
          48.90755810177,
          48.821410564722,
          48.86095933229224,
          48.832324016657,
          48.84693552991762,
          48.87282451461399,
          48.846192642574,
          48.8791665,
          48.82110230800372,
          48.8906429898976,
          48.850881230919,
          48.8255961335041,
          48.825481574435,
          48.900504,
          48.875337902264,
          48.83258651335057,
          48.86615630668046,
          48.782414428747316,
          48.888229075478,
          48.901616564286975,
          48.890875,
          48.82010494991975,
          48.84986918764119,
          48.83815160808658,
          48.82805169605981,
          48.79673508795443,
          48.840872964793355,
          48.8899944409612,
          48.833056477316,
          48.886248917304805,
          48.8365662244334,
          48.83923319241899,
          48.852731305488,
          48.832681,
          48.90617751921,
          48.847796779935,
          48.85026349463687,
          48.83287705011431,
          48.860680473738,
          48.87077436024,
          48.868421318555,
          48.84354203133597,
          48.8176962416867,
          48.838608030238,
          48.89213559044868,
          48.83088717455243,
          48.849266043601794,
          48.793855,
          48.815403766277,
          48.805342480621576,
          48.88203018259946,
          48.83607420090204,
          48.847385404956,
          48.85385817168762,
          48.8389284,
          48.88958925894009,
          48.866617658681,
          48.84827609706963,
          48.8863865,
          48.915885074177,
          48.84132050184004,
          48.83648798164934,
          48.828595283857425,
          48.85264791461651,
          48.83170888166024,
          48.826764665199,
          48.83013921586756,
          48.837925263898,
          48.83124010585643,
          48.83051287670899,
          48.84040040365445,
          48.861720329027264,
          48.828657346203,
          48.85533710742046,
          48.843310567822,
          48.860897797941,
          48.857566889784465,
          48.87555620763429,
          48.855425770695085,
          48.838311,
          48.894104140316,
          48.86286468896063,
          48.89260159189023,
          48.856077415056,
          48.864185861455,
          48.82189236575831,
          48.83950442458303,
          48.8652359,
          48.8437035476636,
          48.887742186754224,
          48.82953336292279,
          48.874230055580306,
          48.8466127,
          48.819828421929,
          48.812822398263286,
          48.8953643,
          48.87137406080164,
          48.851751374458864,
          48.86446597201,
          48.851853488265,
          48.860273568996,
          48.83544491617421,
          48.865709343796,
          48.8296843300915,
          48.8794936,
          48.84842761367387,
          48.910388180512,
          48.813736445585235,
          48.806518992199,
          48.8584893,
          48.871715878697,
          48.90310883721567,
          48.8578329,
          48.863825174341,
          48.8693268535238,
          48.88758225888669,
          48.784567029674,
          48.865302324275,
          48.83868901709515,
          48.878194,
          48.933548439566,
          48.852886173881,
          48.82941,
          48.840452820991764,
          48.905452421305,
          48.828753141436465,
          48.824792734266,
          48.83907826424974,
          48.925901818305,
          48.891163,
          48.8538327,
          48.89925982394349,
          48.902616,
          48.831908520394,
          48.8867667,
          48.87530570765423,
          48.882877330093,
          48.83481262982544,
          48.83047518749,
          48.824695995415006,
          48.90970830301211,
          48.84462585769668,
          48.835261,
          48.86096384533371,
          48.851355779579,
          48.86798303359366,
          48.788093281931,
          48.914920058264,
          48.84395729494058,
          48.883103904582,
          48.7973062,
          48.906887812943,
          48.798666226364,
          48.87836138361425,
          48.877753,
          48.8702539,
          48.90263867304635,
          48.950873482371,
          48.896737263309504,
          48.8324305,
          48.91301722799713,
          48.916925546419,
          48.915817585516,
          48.9220937,
          48.894799816683985,
          48.896620592993,
          48.891457726153774,
          48.880391139734,
          48.867415092322,
          48.880423508429,
          48.842055041656,
          48.8685433,
          48.873114661405,
          48.863287291502,
          48.84021670922,
          48.86413226532,
          48.82591155587,
          48.85972615790874,
          48.836395736424,
          48.875481,
          48.882193779572,
          48.871244610447015,
          48.833122686454,
          48.89883,
          48.8563358,
          48.81168551728,
          48.852888670365,
          48.8768345,
          48.8471116,
          48.781109786782,
          48.883687771522,
          48.852335,
          48.850507011842,
          48.832474421632,
          48.8827555,
          48.879612765504,
          48.870475399387,
          48.869689856852,
          48.867211201859,
          48.809223658808,
          48.88666162207,
          48.802056061754,
          48.92034156960326,
          48.891334555236,
          48.819116181578764,
          48.823450589614,
          48.82124248401006,
          48.858446,
          48.835523812041,
          48.8906542,
          48.834131261494,
          48.87748519186726,
          48.859059340842,
          48.927567032796,
          48.875674400851,
          48.807671407991,
          48.81321981219,
          48.8487726,
          48.909752,
          48.87756832086,
          48.8512971,
          48.884432270368,
          48.940931521020836,
          48.8103438,
          48.870406028483,
          48.89990653843488,
          48.91206062860357,
          48.905741911394,
          48.809460857173,
          48.896280181078,
          48.86462724459225,
          48.903600624712865,
          48.879305,
          48.891213890844654,
          48.89299462568024,
          48.902519074064,
          48.8374688,
          48.842524,
          48.846280383395,
          48.874422773426545,
          48.923306888013,
          48.84351378799,
          48.926182814311,
          48.874794994841,
          48.8978867,
          48.790147809608,
          48.866830968942,
          48.8488408,
          48.867872484749,
          48.910423437526,
          48.907134414988,
          48.86164273878,
          48.815007,
          48.85218705621,
          48.8443415,
          48.852060203583,
          48.852828153442,
          48.888796556487,
          48.874836457837,
          48.853754486938,
          48.856502977696,
          48.872755334614,
          48.841795009027,
          48.847648620797,
          48.86181809267,
          48.883601088297,
          48.8550222,
          48.868266498223,
          48.8350268238
         ],
         "legendgroup": "",
         "lon": [
          2.275725,
          2.4865807592869,
          2.3963020229163,
          2.3360354080796,
          2.3373600840568547,
          2.3433353751898,
          2.3875549435616,
          2.3308077827095985,
          2.3588666820200914,
          2.3204218259346,
          2.3925706744194,
          2.3519663885235786,
          2.315508019010038,
          2.321374788880348,
          2.3534681351338,
          2.3851355910301213,
          2.376804985105991,
          2.4708339950830287,
          2.334851883351803,
          2.2325500845909,
          2.4530601033354,
          2.1961666225454,
          2.3004549373748,
          2.288124,
          2.287667370814871,
          2.325061820447445,
          2.3494647851273465,
          2.301132157445,
          2.37289470306807,
          2.299380004405976,
          2.327861653302471,
          2.3076787590981,
          2.3459213599563,
          2.3481646925210953,
          2.381133802246315,
          2.446748,
          2.3034455627202988,
          2.289705348222022,
          2.379056852114,
          2.32851451022192,
          2.270506024360657,
          2.2754641655975,
          2.3143940046429634,
          2.426325418925233,
          2.2136941552162,
          2.2549109905958176,
          2.3576171323657036,
          2.3267009854316716,
          2.39806417375803,
          2.4247387,
          2.314002,
          2.417212128639221,
          2.3661044619878,
          2.2584119439125065,
          2.3064258322119713,
          2.349364310503006,
          2.2986030816809,
          2.343698,
          2.342167,
          2.333393658804396,
          2.377065159380436,
          2.349147,
          2.3110422492027287,
          2.35908430069685,
          2.340853661298752,
          2.2730283066630363,
          2.452062070369721,
          2.32971478253603,
          2.301771435325988,
          2.348463758826256,
          2.288640439510346,
          2.323658830743138,
          2.3594588041306,
          2.3680844979417,
          2.385534569621086,
          2.351464,
          2.3521495,
          2.341923944866407,
          2.329423,
          2.493693307042122,
          2.2670380088932,
          2.3185685276985,
          2.3308449949028507,
          2.268122527474,
          2.326515804784655,
          2.2994716674148,
          2.3417982839439,
          2.3657163977623,
          2.480436824262142,
          2.288012132048607,
          2.3558086529374,
          2.3230632,
          2.3833653330802917,
          2.3097044974566,
          2.322528975094376,
          2.3358313530377,
          2.3703941702842717,
          2.395733,
          2.309694221419506,
          2.4155035614967,
          2.3726498446286,
          2.2872862592339516,
          2.352339,
          2.337980867701675,
          2.2836696356535,
          2.2814112156629562,
          2.2854680567979813,
          2.3534657,
          2.392586767673493,
          2.223908342421055,
          2.264390252530575,
          2.2704418,
          2.3733686318721463,
          2.3310810327529907,
          2.397253782195704,
          2.383553994571467,
          2.3082953318953514,
          2.5382421165704727,
          2.3464982619671,
          2.3677996181077,
          2.392039597034455,
          2.39790290594101,
          2.2952447086572647,
          2.293077029857222,
          2.329337755887181,
          2.464176752459464,
          2.440614402294159,
          2.3772348091006,
          2.3692541,
          2.4586871266365056,
          2.359801238597928,
          2.3264628,
          2.3215785772007,
          2.3826304078102116,
          2.2713854536414146,
          2.3312794080411474,
          2.3635598,
          2.4071189761161804,
          2.445141971111298,
          2.4329931,
          2.3035024699104,
          2.479562651149885,
          2.2834496977978,
          2.3502873256803,
          2.3860743641853337,
          2.3814103,
          2.3328901827335,
          2.38959476351738,
          2.3919698596000676,
          2.407338917255402,
          2.3056878894567,
          2.3611663654447,
          2.4034014344215398,
          2.275374233722687,
          2.271184623241425,
          2.3821302,
          2.3448138346607,
          2.3455855841349,
          2.2877392172813416,
          2.3413893,
          2.294612042605877,
          2.415081394834419,
          2.3445946723222733,
          2.4787822365760808,
          2.3107116669416428,
          2.3025491823859,
          2.301303138307601,
          2.3319872841238976,
          2.3145738624448158,
          2.39090770483017,
          2.402843534946442,
          2.322616316378116,
          2.2917001576821,
          2.3293121159076686,
          2.2930556908249855,
          2.326124420314341,
          2.3723508417606,
          2.298078276995073,
          2.2416052222251897,
          2.4677312,
          2.4025777,
          2.336716018617153,
          2.3646667979455587,
          2.3490573929687,
          2.37611478491,
          2.281037718057633,
          2.349419631063938,
          2.3384983465075493,
          2.4137883,
          2.2416803240776066,
          2.3251800647137,
          2.3483952362828,
          2.172411,
          2.333725690841675,
          2.4105210229754443,
          2.2811267160086417,
          2.3316738009452824,
          2.233161628246308,
          2.2460845112800603,
          2.3896131366845,
          2.290781380114821,
          2.32851454623001,
          2.381299026310444,
          2.437578141689301,
          2.381464,
          2.294059172272682,
          2.4175664,
          2.355475388467312,
          2.297508493065834,
          2.306235730648041,
          2.344393021854,
          2.4630465,
          2.2656840831041336,
          2.3903009,
          2.3750124,
          2.415283620357514,
          2.3111706599593163,
          2.4186685681343083,
          2.433383166790009,
          2.3026576638221745,
          2.273029983043671,
          2.3693370749669,
          2.376461327076,
          2.316423766314984,
          2.2809894804846,
          2.384273745805574,
          2.2613945603371,
          2.420119643211365,
          2.2383723043644914,
          2.3665961623192,
          2.2763770446181297,
          2.282015,
          2.4461565166711807,
          2.356855627529275,
          2.371688821240712,
          2.320918142795563,
          2.3842826485633855,
          2.28189,
          2.2597770800669053,
          2.373463287949562,
          2.260125767248034,
          2.275132834911347,
          2.254007756710053,
          2.3789759,
          2.321148812770844,
          2.405970990657807,
          2.3746193200349808,
          2.3210415244102482,
          2.3158480972052,
          2.3639265082738348,
          2.3471015,
          2.3445770524322067,
          2.3469167947769,
          2.3022570088505745,
          2.297998,
          2.4144977331161503,
          2.445072233676911,
          2.296319,
          2.381868,
          2.3294984212276,
          2.3740932717919,
          2.3865414544355,
          2.205548956990242,
          2.3584435880184174,
          2.3561610281467438,
          2.3187401890754704,
          2.3648490384221077,
          2.3692265531829,
          2.2234171606307,
          2.3448844062122,
          2.432552274419542,
          2.3384822532535,
          2.3786691203713417,
          2.3192664,
          2.415514,
          2.3919824145635,
          2.3129771277308464,
          2.380039058625698,
          2.2790706530213356,
          2.328171,
          2.2420343756675725,
          2.3410347104072575,
          2.276522,
          2.396222,
          2.3152771219611,
          2.3744174838066106,
          2.296709530055523,
          2.3564037680625916,
          2.4236011505126953,
          2.2920634208276,
          2.297727763652802,
          2.4180373930262093,
          2.379864752692811,
          2.4272462725639348,
          2.3890856287864,
          2.3678933,
          2.3534858599305153,
          2.3793068155646,
          2.337574325501919,
          2.3785,
          2.309796,
          2.3293386027216907,
          2.270772233605385,
          2.3066138139003,
          2.3349460959434514,
          2.337429821491241,
          2.2921088710427284,
          2.2881576418876652,
          2.34719488842051,
          2.3861649278137,
          2.341831654854,
          2.3000952981763,
          2.24679596722126,
          2.2695400938391685,
          2.3705490678548813,
          2.3828620836139,
          2.319392143923804,
          2.4188338592648506,
          2.3523425683379173,
          2.3613611608743668,
          2.38637,
          2.3737595955229,
          2.2905756533145905,
          2.3698963836667,
          2.3959985375404362,
          2.3143893107772,
          2.2506506,
          2.473775,
          2.3896577954292,
          2.3896481,
          2.3938155401308374,
          2.2606918215752,
          2.398959602331646,
          2.3186306,
          2.195632159709931,
          2.2775253653526,
          2.355653,
          2.3025691509247,
          2.1921751275658607,
          2.371074522980134,
          2.3226776719093327,
          2.249415814876557,
          2.2277003154158592,
          2.3830059170722966,
          2.32459545135498,
          2.378623187541962,
          2.441531717777252,
          2.3201214185208,
          2.2617871686816216,
          2.320883944630623,
          2.4253764,
          2.185428,
          2.384981390278095,
          2.386150136590004,
          2.3292413726449,
          2.2724174,
          2.326493114233,
          2.3984030470379,
          2.417949736118317,
          2.2025031970585,
          2.3104464635252953,
          2.368072383105755,
          2.2871585190296173,
          2.2608396783471107,
          2.3095492646098,
          2.4261841177940373,
          2.341845408082,
          2.403928068708116,
          2.348388757504776,
          2.3730935,
          2.340014585442034,
          2.3967273,
          2.430793,
          2.4059280753135686,
          2.303444892168045,
          2.3617091774940495,
          2.2487989068031315,
          2.4091735482215886,
          2.3842214,
          2.4161778017878532,
          2.314494143994255,
          2.2992860188665043,
          2.3128929734230046,
          2.239069678491417,
          2.354336,
          2.3023840785026555,
          2.283664085650799,
          2.418455,
          2.31648076325655,
          2.3826066032052,
          2.3621229082345963,
          2.3173383995890617,
          2.4877332,
          2.3763902374411,
          2.289918,
          2.3640366643667,
          2.3825789350545,
          2.212693,
          2.40539657537972,
          2.388777695596218,
          2.3303819820284843,
          2.3499782010912895,
          2.3010657727718353,
          2.345015835298588,
          2.3256602883339,
          2.2919502854347233,
          2.343996,
          2.3249313,
          2.3295360803604126,
          2.424097023904324,
          2.298286,
          2.3263905197382,
          2.4435862898826604,
          2.3319716067039,
          2.2496396,
          2.307887971401215,
          2.222245037555695,
          2.3146149516106,
          2.37965351592796,
          2.3314182047146,
          2.3674523,
          2.3431010171771054,
          2.341181,
          2.3772463581947094,
          2.264205,
          2.3609149083206,
          2.374839261174202,
          2.3304807533425724,
          2.270106375217438,
          2.2791311,
          2.3206239,
          2.3119183257222176,
          2.3372015478451,
          2.365213818848133,
          2.29858466343129,
          2.380632497370243,
          2.3513179644942284,
          2.2677567601203923,
          2.3628534749150276,
          2.2479459643363957,
          2.3890327325519,
          2.4077132,
          2.4017545580863957,
          2.404769691129476,
          2.2744515,
          2.2281519323587,
          2.332976511564311,
          2.403290458023548,
          2.3452642187476,
          2.3350211977959,
          2.403980836377493,
          2.3689296841621403,
          2.3689722642302513,
          2.436049282550812,
          2.375841,
          2.3644426837563515,
          2.4241617321968083,
          2.3734183609485626,
          2.4126765131950383,
          2.3397543845203,
          2.4224362157778994,
          2.3202589899301524,
          2.33798034198275,
          2.3092747998272,
          2.4345204234123234,
          2.4215328320860863,
          2.333709173337285,
          2.26848387135299,
          2.2373420120857195,
          2.2369650006294255,
          2.338023450388167,
          2.3445510864257812,
          2.3917546141943,
          2.40932246879487,
          2.2587671,
          2.4323049187660217,
          2.320263946784738,
          2.287283,
          2.2723413258790965,
          2.3995549,
          2.2920683026313786,
          2.2835066914558415,
          2.4043509364128113,
          2.3414132371545,
          2.3612049221992,
          2.462034523487091,
          2.347842156887055,
          2.294512536052928,
          2.277500546942199,
          2.325953990221024,
          2.402426162238911,
          2.4580853059887886,
          2.3670325062844,
          2.334307730197907,
          2.3275961726904,
          2.384599149227142,
          2.33817871442611,
          2.3415122,
          2.277785539627075,
          2.291113436222077,
          2.353205569088459,
          2.408762907764669,
          2.3626908659935,
          2.2921819612383847,
          2.2152966,
          2.3933270573616032,
          2.375870111706245,
          2.2898658737540245,
          2.306646779179573,
          2.2412404417991643,
          2.3860039,
          2.379020587761426,
          2.367198803315,
          2.3688579350709915,
          2.2887361764861,
          2.296149600985935,
          2.337939441204071,
          2.2782871127128606,
          2.2858720645308,
          2.3466217517853,
          2.344057559967,
          2.3471488058567047,
          2.3861273378134,
          2.268483570651513,
          2.4014145880937576,
          2.357633225619793,
          2.3135878035462,
          2.321358695626259,
          2.3569472506642,
          2.3408224806189537,
          2.5096759200096,
          2.3237934708595,
          2.442958317697048,
          2.282173218142987,
          2.3497482016682625,
          2.317609339387,
          2.358411,
          2.410396970808506,
          2.3516669869423,
          2.3750226,
          2.3788625746965,
          2.31951002690117,
          2.3266580700874,
          2.3639122769236565,
          2.300144659954865,
          2.331552766263485,
          2.3645754531026,
          2.304111124531457,
          2.4273508787155156,
          2.3604946,
          2.355954498052597,
          2.3435704037547,
          2.316861143151153,
          2.2946908324956894,
          2.335426103165901,
          2.3279571813836,
          2.3529685288668,
          2.427820265293122,
          2.4780236,
          2.379407362599104,
          2.3615723848342896,
          2.424993216991425,
          2.284142297394666,
          2.3126140236855,
          2.40869477391243,
          2.3382901058508,
          2.3113624379039,
          2.2784319519996648,
          2.320404499769211,
          2.4132221,
          2.4437362,
          2.2780618071556096,
          2.389432489871979,
          2.3066755757207,
          2.346925,
          2.35821794718504,
          2.2831090539694,
          2.3369108140468597,
          2.3408563,
          2.2380413,
          2.347289621829987,
          2.2842371277102,
          2.411030612453627,
          2.4083782732486725,
          2.332515,
          2.3522228747606277,
          2.263834191152959,
          2.2964416444302,
          2.364460788667202,
          2.3688706755638,
          2.35570102930069,
          2.3094535509142,
          2.2957214713096623,
          2.3325880989432335,
          2.3024262188416,
          2.4003649,
          2.383756,
          2.3752778,
          2.3449775576591496,
          2.372705978671471,
          2.376477420330048,
          2.3344334212238,
          2.2642001509666447,
          2.345873080193996,
          2.4124351143836975,
          2.2986539,
          2.3492151126265526,
          2.3863670602440834,
          2.3723404482007027,
          2.3678014799952507,
          2.388618104159832,
          2.39054639062,
          2.319730559929781,
          2.2888818383216862,
          2.3244281485677,
          2.3059353232384,
          2.2773634269833565,
          2.339947307565249,
          2.358930408954621,
          2.3234144234418346,
          2.353573372638597,
          2.429966032505036,
          2.2150785306885,
          2.370478,
          2.392039597034455,
          2.383823134795429,
          2.2984680533409123,
          2.342130728066,
          2.3086513252383,
          2.2458109,
          2.3361804,
          2.30082,
          2.2408381104469304,
          2.409667745232582,
          2.377738,
          2.3434996604919,
          2.313154547426182,
          2.339765690267086,
          2.3738072379951,
          2.2710045335353,
          2.4008650346327003,
          2.3812624812126164,
          2.4605489149689674,
          2.2836575657129288,
          2.3396701365709305,
          2.239872515201569,
          2.40079153681279,
          2.409725748002529,
          2.4147954583168,
          2.3711327,
          2.3669364675879,
          2.3101937879648,
          2.324815057218075,
          2.386553623578705,
          2.4030599377642674,
          2.275240458548069,
          2.4064831843792427,
          2.2441747784614567,
          2.373162,
          2.336124926805496,
          2.364541214992642,
          2.386601903271428,
          2.2950777411461,
          2.4183654785156246,
          2.4160453677177,
          2.3365534096956253,
          2.2926748171448708,
          2.3563179373741145,
          2.294867,
          2.307052147596786,
          2.32956021945824,
          2.407912909984589,
          2.3668321967125,
          2.3518594354391094,
          2.344226874411106,
          2.3684333673431,
          2.294846,
          2.4107042336225,
          2.353521,
          2.340753448052758,
          2.3809862136841,
          2.45533436536789,
          2.3537524044513702,
          2.334559857845307,
          2.303922325372696,
          2.4199531,
          2.3887913337477067,
          2.313155829906464,
          2.234234511852265,
          2.2278830409049992,
          2.2789591,
          2.1957932,
          2.2864209115505,
          2.221091687679291,
          2.2609312087297,
          2.3959073424339,
          2.287235018058929,
          2.440452,
          2.3233232282801,
          2.5006942078471184,
          2.344585955142975,
          2.4562818557024,
          2.329955510795116,
          2.3270335793495183,
          2.435784414410591,
          2.3438221961259837,
          2.2629252456151954,
          2.3704235663952966,
          2.3659095168113713,
          2.3415737262044938,
          2.252024,
          2.354235,
          2.280449643731117,
          2.412636950612068,
          2.292150005103606,
          2.3044332861900334,
          2.288518047864942,
          2.3004072904587,
          2.3593052,
          2.368448562920093,
          2.3157655,
          2.368186041712761,
          2.2938242935036,
          2.3960278,
          2.338848,
          2.3704450240357,
          2.377885,
          2.2765403240919113,
          2.2417913004755974,
          2.29627937078476,
          2.3559567333359,
          2.3710541,
          2.401513597307666,
          2.3229019716382027,
          2.435679,
          2.325837314128876,
          2.38474,
          2.356796,
          2.2735664248466,
          2.2677031159400944,
          2.358218,
          2.285863497192411,
          2.3584905266762,
          2.3544725775719,
          2.4502260982990265,
          2.2818631678819656,
          2.30104,
          2.4750164151191716,
          2.362065576016903,
          2.3711163550615306,
          2.360236309468746,
          2.2686498274964,
          2.319852970540523,
          2.295586926020252,
          2.299347817897797,
          2.402097210288048,
          2.2345951981176,
          2.2966245196598805,
          2.398074567317963,
          2.23989,
          2.3740861260598,
          2.301431038163409,
          2.3261967301369,
          2.2871455930319455,
          2.3036286234855656,
          2.41208288897222,
          2.3743692,
          2.2834577411413193,
          2.3976725712418556,
          2.388566136360169,
          2.3511248454452,
          2.3524542754922,
          2.34395871,
          2.40568600595,
          2.3334283818759,
          2.323841750621796,
          2.350422,
          2.348489575088024,
          2.320886790760933,
          2.3308986340524,
          2.4207553267478947,
          2.353984415531159,
          2.3903981223891,
          2.4091592812626543,
          2.2786368057131767,
          2.2644165538827115,
          2.2843059897422795,
          2.336266523912805,
          2.349934279918671,
          2.365212,
          2.4592879414558415,
          2.352195717394352,
          2.3585464,
          2.3131933808326726,
          2.3145456,
          2.3493797332048,
          2.2889783978462224,
          2.2849336266517644,
          2.452013790607453,
          2.329095,
          2.396093,
          2.3473754525185,
          2.2842781618237495,
          2.3532536,
          2.3154367133975033,
          2.327897409164145,
          2.284262739121914,
          2.3945679143071175,
          2.3242672160268,
          2.317289,
          2.3441386967897,
          2.3543356766748507,
          2.262151,
          2.3193106434955717,
          2.369126,
          2.28146318346262,
          2.33324121683836,
          2.3741452395916,
          2.293848017974069,
          2.173960916697979,
          2.2937349,
          2.417981922626496,
          2.3460162431002,
          2.4275037646293645,
          2.3965022,
          2.3592948541045193,
          2.317377626895905,
          2.2715748726513,
          2.4006786569952965,
          2.2072437,
          2.3895226791501045,
          2.2638675570488,
          2.3109393194317818,
          2.2933450341224675,
          2.3464846238494,
          2.2741072252393,
          2.2487476095557213,
          2.3496962338686,
          2.352581,
          2.3833701,
          2.4120327830314636,
          2.30119988322258,
          2.2846536710858345,
          2.3125657439232,
          2.382064,
          2.31790903955698,
          2.309234105050564,
          2.3500636965036,
          2.3344654618827,
          2.2953405976295476,
          2.2603778,
          2.3454568170362,
          2.2606857866048813,
          2.3935630917549138,
          2.3305362090468407,
          2.3096215831203,
          2.3463253676891327,
          2.2656820714473724,
          2.300238981843,
          2.4094578623771667,
          2.3476678133010864,
          2.470307,
          2.426436245441437,
          2.2666339203715324,
          2.2588385956052,
          2.3017574474216,
          2.378901366211,
          2.4035281687974925,
          2.343570403754711,
          2.3502726,
          2.4044052511453633,
          2.2952168,
          2.344513876337893,
          2.3352625966072,
          2.347382729482953,
          2.2182820737361912,
          2.389728979467376,
          2.3524079471827,
          2.472420372068882,
          2.4005256685521,
          2.3763584494312,
          2.326347,
          2.3436703160405,
          2.3970650508999825,
          2.313245013356209,
          2.3545114456374,
          2.3984125256538396,
          2.3618587106466293,
          2.318264,
          2.381317801773548,
          2.302064039509349,
          2.3414588347077,
          2.3567550292319,
          2.2925933450460434,
          2.335500307381153,
          2.3518279194832,
          2.2429127991199493,
          2.352406270802021,
          2.42531,
          2.256898172199726,
          2.3668264996271,
          2.278934195637703,
          2.2131047397851944,
          2.3380893096328,
          2.2497073194874866,
          2.317914068698883,
          2.3727085813879967,
          2.31653843075037,
          2.345232367515564,
          2.28502,
          2.3744382709265,
          2.295200452208519,
          2.2687188170157406,
          2.415605485439301,
          2.375951372087002,
          2.4082902455152104,
          2.3524305148385,
          2.3254923149943,
          2.3473486304283147,
          2.3319217,
          2.408344637349607,
          2.4121668934822087,
          2.394630398715453,
          2.3334722220897675,
          2.274354539176829,
          2.3215,
          2.2569015249609947,
          2.410522909779111,
          2.3505029082298283,
          2.3522757401923404,
          2.324421107769,
          2.3706749462105,
          2.3700717069851,
          2.45557576417923,
          2.31458459136273,
          2.3668488,
          2.2577651962637906,
          2.285074541420228,
          2.372252832879,
          2.317142598330975,
          2.3524022474885,
          2.3659356,
          2.3611206,
          2.3232302069664006,
          2.4846760556101803,
          2.281149007691853,
          2.289516180753708,
          2.358739863900845,
          2.373685,
          2.4001130461693,
          2.443288456496946,
          2.368387877941132,
          2.2765953093767166,
          2.3530178144574165,
          2.319614924490452,
          2.3498075,
          2.333390423834684,
          2.3225811123848,
          2.3972943797707558,
          2.3110086,
          2.281512522529856,
          2.375325746834278,
          2.3397007964124366,
          2.384767457842827,
          2.322417162358761,
          2.302115857601166,
          2.398228667282044,
          2.440523876268,
          2.410361237220498,
          2.3315522167367,
          2.344321422278881,
          2.350066713988781,
          2.3599335551262,
          2.3972516,
          2.356307208538055,
          2.3477794602513313,
          2.348572461702221,
          2.26211277356597,
          2.3707854375243187,
          2.3386867716908455,
          2.3376645147800446,
          2.3897721245884895,
          2.3895753175020222,
          2.3997623859813,
          2.3575825989246,
          2.405871044529538,
          2.4062821269035,
          2.41112578185621,
          2.3638297989964485,
          2.27231115102768,
          2.3264128693982,
          2.3543103039265,
          2.3564198613167,
          2.3457641154527664,
          2.422847449779511,
          2.3090453445911407,
          2.3281970934506,
          2.3887022584676743,
          2.358379,
          2.2952306270599365,
          2.3542150855064397,
          2.308876,
          2.298571803412886,
          2.4284800887107854,
          2.2233625128865246,
          2.231426239013672,
          2.3539767041802,
          2.2977904602885,
          2.323731449974,
          2.2295309230685234,
          2.3623438552022,
          2.303716580234576,
          2.41104629853209,
          2.3340544619393,
          2.3507790675507594,
          2.3158789426088333,
          2.347587011754513,
          2.3679352,
          2.3445211,
          2.3704585433006,
          2.273416221141815,
          2.391769,
          2.3566960206458,
          2.245096,
          2.3536357283592,
          2.31055945158,
          2.3670300096273422,
          2.362354410392119,
          2.3461959511041637,
          2.2957482933998112,
          2.224185,
          2.359649240970612,
          2.2978286134199792,
          2.4105220288038,
          2.3077843710780144,
          2.3285973072052,
          2.361762821674347,
          2.3559471219778,
          2.3563823103905,
          2.288238108158112,
          2.3649600148200993,
          2.3450684401448,
          2.3745173960924144,
          2.188134044408798,
          2.338118505144376,
          2.313136198271666,
          2.363093,
          2.374717555940151,
          2.3294411972165,
          2.4218603968620305,
          2.3579058051109,
          2.2393910586833954,
          2.4930700287222862,
          2.253629,
          2.3570189997553825,
          2.3394941166043,
          2.2965213,
          2.3123561963438988,
          2.3561057075858,
          2.33409583568573,
          2.3607301712036137,
          2.2948095202445984,
          2.3687169334905405,
          2.404179,
          2.3359975218772893,
          2.3647149920992,
          2.446271181106568,
          2.222505,
          2.3685702681541,
          2.3774395,
          2.3483933508396,
          2.3414635285735126,
          2.3851288855075836,
          2.2089037319128613,
          2.414379715919495,
          2.3502043269474897,
          2.3502172809763,
          2.351458,
          2.3676301538944244,
          2.2525164484978,
          2.3566243797541,
          2.4089661620274,
          2.257726,
          2.3681089282036,
          2.3404625437747044,
          2.33359,
          2.3400671035051346,
          2.3400047421455,
          2.205879874527455,
          2.3343884482519,
          2.3469526693225,
          2.3436167797955,
          2.3294493936128,
          2.3633468834071,
          2.3125872006816,
          2.330567417577153,
          2.4583535268903,
          2.2001516849313,
          2.3087677359581,
          2.3300181032703,
          2.3056533560156827,
          2.3979396821544,
          2.325317971408367,
          2.3139070151575,
          2.297856844961643,
          2.2289156913757,
          2.388489693403244,
          2.3595041,
          2.3348781846405,
          2.2484488785267,
          2.35943466424942,
          2.400571,
          2.3412207886576653,
          2.3560990020633,
          2.3185293003917,
          2.3297942217634,
          2.436705082654953,
          2.438560165464878,
          2.333521842956543,
          2.2731140430551027,
          2.266000919044,
          2.3172724,
          2.373795211315155,
          2.2829206287861,
          2.402636749399156,
          2.3130525648593903,
          2.3438260338876,
          2.4017931148409843,
          2.2600970417261,
          2.3950181901455,
          2.3419791832566,
          2.3356226831675,
          2.3333894088864,
          2.3819742271533,
          2.3508992046117783,
          2.392429,
          2.3720374971659,
          2.3071701095578,
          2.342623919248581,
          2.3070717,
          2.3420333,
          2.40334,
          2.3366955667734,
          2.3542908579111,
          2.3425736278295517,
          2.5101865455508,
          2.395057752728462,
          2.2874166362216,
          2.2749781616017,
          2.3390958085656166,
          2.3411329463124,
          2.321469503475,
          2.3916775206425,
          2.3248164693922,
          2.39365965127945,
          2.3601756244898,
          2.4015686296482,
          2.188277207314968,
          2.302526,
          2.3515201359987,
          2.4114319673051,
          2.39164982067019,
          2.3407192814591,
          2.383259721100331,
          2.3939734697342,
          2.3364872,
          2.22499,
          2.2853431485432423,
          2.2340199351310734,
          2.3043501377106,
          2.412021,
          2.3930460959673,
          2.366935946761926,
          2.439209537709179,
          2.281828634440899,
          2.245987951755524,
          2.3057010525935,
          2.319786250591278,
          2.3703888058662,
          2.3001953959465,
          2.3711421713233,
          2.288386600849503,
          2.4163350908311,
          2.387217085372007,
          2.2848263373723436,
          2.30230766886348,
          2.365015,
          2.3340076807601,
          2.4024386957288,
          2.335356677933531,
          2.3567359,
          2.381797702650783,
          2.211214,
          2.327060401439667,
          2.1894485725692,
          2.351342,
          2.330665,
          2.4689837335263,
          2.2555950104387,
          2.400421852042113,
          2.2875617349045,
          2.3770876228809357,
          2.1947155570850896,
          2.3703800886869,
          2.3787959,
          2.378775402903557,
          2.3762554675340652,
          2.3012199997902,
          2.350204177200794,
          2.409880310297,
          2.261173,
          2.4059921130538,
          2.371211388119954,
          2.3891324177384377,
          2.3166695237159733,
          2.3101296275854,
          2.269354350864887,
          2.3449019,
          2.3725583776831627,
          2.268257387525699,
          2.357108449556404,
          2.2924277186393742,
          2.3683342337608337,
          2.4044444784522057,
          2.342529706656933,
          2.3329411447048,
          2.3774591088294987,
          2.312707121097412,
          2.2915197908878326,
          2.3440927639604,
          2.250257,
          2.4391458057475,
          2.4061721563339,
          2.4345204234123234,
          2.306762784719467,
          2.3148481955842,
          2.3496496368327,
          2.4179587885737,
          2.418427169322968,
          2.3076123744249344,
          2.3406994164846,
          2.32321947813034,
          2.318882101207347,
          2.412330328844772,
          2.336637,
          2.31739372015,
          2.363983690738678,
          2.3635615780949593,
          2.4189166724681854,
          2.3268555477262,
          2.400004081428051,
          2.316356,
          2.4198862910270695,
          2.3830134404158,
          2.4398955702781677,
          2.3825772,
          2.2682306702811,
          2.30808901725357,
          2.2897250577807426,
          2.380220606266108,
          2.2758664190769196,
          2.255771979689598,
          2.3650860786438,
          2.295934036374092,
          2.3225428909063,
          2.3989107459783554,
          2.3343613743782043,
          2.313117867297474,
          2.275346568555312,
          2.353020646317,
          2.3997703687646292,
          2.3265242949128,
          2.295599598447,
          2.280027395306772,
          2.1655967831611638,
          2.4051643162965775,
          2.234077,
          2.3729460884673,
          2.495676465332508,
          2.3790915682911873,
          2.3948693275452,
          2.3783174157143,
          2.413003742694855,
          2.360989417022932,
          2.3002513,
          2.354651279747486,
          2.320293079881375,
          2.318179272115231,
          2.325570111724113,
          2.3325478,
          2.3117361743705,
          2.3707106709480286,
          2.3498166,
          2.2887128591537476,
          2.338161695134053,
          2.3660597205162,
          2.3932945355773,
          2.3412468419093,
          2.431421081436563,
          2.3652737250724,
          2.275342586850291,
          2.2915423,
          2.265253821160005,
          2.3117771744728,
          2.3069277405738835,
          2.3368880152702,
          2.2839655,
          2.2985444962978,
          2.278892956674099,
          2.3622643,
          2.380906377155,
          2.395084574818611,
          2.2783890366554265,
          2.3979035764933,
          2.3990669846535,
          2.2818081825971603,
          2.181724,
          2.3064726536317,
          2.3426544293761,
          2.375934,
          2.2280225157737736,
          2.3220406472683,
          2.245911467014621,
          2.2651904328524,
          2.356877340669728,
          2.2741496502338,
          2.3865705,
          2.3697222,
          2.3042294383049016,
          2.397814,
          2.3546943448098,
          2.326228,
          2.2558460757136345,
          2.4331868384644,
          2.400927788127704,
          2.2616135525345,
          2.363106073577468,
          2.2454486480600626,
          2.404946386814118,
          2.447974,
          2.2246733296048142,
          2.369220033288,
          2.3851405311143026,
          2.2909234046643,
          2.4172238067445,
          2.3790882155299187,
          2.3238347490884,
          2.2909969,
          2.4489325365198,
          2.2833752789972,
          2.305254448220567,
          2.327339,
          2.2187778,
          2.348248063431511,
          2.2310190077797,
          2.310542999196392,
          2.2292812,
          2.2734212270774417,
          2.3124207955211,
          2.3239533298594,
          2.2718348,
          2.318705212173216,
          2.252313240191,
          2.348636478060487,
          2.1832160452221,
          2.2258946679617,
          2.3527636751533,
          2.2859910875559,
          2.3600032,
          2.3798409114805,
          2.3869940266013,
          2.2716060653329,
          2.239905372262,
          2.3602393269539,
          2.325860448181629,
          2.2784192115068,
          2.232443,
          2.3405495658517,
          2.4039056897163396,
          2.2571459412575,
          2.37933,
          2.3829901,
          2.2111820107205,
          2.3891476408096,
          2.3329067,
          2.3956204,
          2.3549050362061,
          2.328063700029,
          2.448967,
          2.3930755582745,
          2.490257616467,
          2.3361566,
          2.3568402975798,
          2.3076190799475,
          2.3107324540615,
          2.3635464370545,
          2.3175904558822,
          2.2843274474144,
          2.3159965061736,
          2.3438543826341625,
          2.3272445342326,
          2.3966637253761296,
          2.4965062363218,
          2.2511002421379094,
          2.192077,
          2.3025986552238,
          2.3309428,
          2.4547516554594,
          2.3660067468881607,
          2.3476943001151,
          2.2947337017374,
          2.3265598341823,
          2.2407217696309,
          2.2716768079163,
          2.393606,
          2.239145,
          2.3698791861534,
          2.3624535,
          2.2608044743538,
          2.363948999931771,
          2.3003776,
          2.323243509808,
          2.321543991674844,
          2.295897423568745,
          2.3316044208059,
          2.2853198638301,
          2.4581568985227,
          2.2047570338469806,
          2.465406596265139,
          2.362424,
          2.351288666219873,
          2.340144887566567,
          2.3740895837545,
          2.401765,
          2.364044,
          2.3430785379567,
          2.3284685611724854,
          2.3847292397611,
          2.3065522313118,
          2.3912295762525,
          2.366669436985,
          2.3458001,
          2.4328628182411,
          2.3654810339212,
          2.3973043,
          2.3648982158072,
          2.3995766043663,
          2.3960057280531,
          2.3727491497993,
          2.328318,
          2.3890301585197,
          2.2773844,
          2.3017993569374,
          2.2978776320815,
          2.3925811931922,
          2.2971323132515,
          2.3044242337346,
          2.2931787543289,
          2.2915497802487,
          2.3767850184816,
          2.3902582749724,
          2.3501381278038,
          2.3332237824798,
          2.3612322,
          2.3304839059711,
          2.3760157451034
         ],
         "marker": {
          "color": "blue",
          "size": [
           2,
           25,
           13,
           6,
           1,
           6,
           8,
           17,
           9,
           6,
           0,
           10,
           11,
           11,
           2,
           3,
           12,
           24,
           19,
           9,
           27,
           0,
           1,
           40,
           6,
           44,
           8,
           6,
           39,
           0,
           1,
           8,
           31,
           8,
           3,
           3,
           10,
           32,
           3,
           12,
           11,
           5,
           9,
           20,
           4,
           2,
           1,
           14,
           0,
           19,
           0,
           18,
           4,
           0,
           18,
           20,
           20,
           2,
           3,
           1,
           59,
           1,
           3,
           3,
           30,
           2,
           3,
           6,
           24,
           3,
           18,
           27,
           2,
           5,
           36,
           0,
           15,
           24,
           13,
           21,
           1,
           20,
           1,
           30,
           21,
           28,
           14,
           0,
           22,
           5,
           38,
           5,
           2,
           17,
           4,
           17,
           2,
           0,
           24,
           11,
           20,
           4,
           3,
           32,
           18,
           2,
           12,
           2,
           0,
           13,
           2,
           3,
           9,
           1,
           0,
           3,
           30,
           21,
           37,
           6,
           1,
           19,
           7,
           7,
           12,
           33,
           0,
           4,
           6,
           27,
           0,
           4,
           1,
           2,
           16,
           2,
           3,
           25,
           3,
           0,
           12,
           1,
           0,
           33,
           1,
           15,
           6,
           0,
           2,
           3,
           2,
           10,
           25,
           62,
           2,
           18,
           13,
           0,
           1,
           13,
           21,
           5,
           22,
           0,
           3,
           54,
           23,
           6,
           5,
           15,
           3,
           23,
           9,
           2,
           4,
           1,
           9,
           3,
           18,
           2,
           6,
           28,
           3,
           3,
           3,
           29,
           21,
           7,
           0,
           8,
           29,
           28,
           14,
           2,
           3,
           22,
           21,
           11,
           14,
           1,
           21,
           8,
           6,
           9,
           1,
           28,
           3,
           27,
           7,
           1,
           9,
           18,
           21,
           27,
           3,
           2,
           5,
           3,
           32,
           1,
           18,
           3,
           10,
           0,
           1,
           53,
           23,
           0,
           26,
           0,
           5,
           1,
           0,
           3,
           3,
           0,
           35,
           2,
           1,
           3,
           22,
           38,
           14,
           12,
           5,
           0,
           2,
           2,
           34,
           6,
           29,
           4,
           22,
           2,
           2,
           15,
           1,
           23,
           2,
           26,
           28,
           0,
           18,
           22,
           4,
           17,
           0,
           5,
           0,
           1,
           8,
           65,
           14,
           11,
           17,
           4,
           28,
           1,
           26,
           11,
           27,
           1,
           0,
           0,
           44,
           2,
           27,
           28,
           10,
           8,
           14,
           16,
           17,
           17,
           4,
           9,
           37,
           8,
           0,
           1,
           40,
           0,
           20,
           33,
           11,
           5,
           2,
           25,
           2,
           4,
           16,
           3,
           3,
           1,
           12,
           34,
           1,
           14,
           37,
           1,
           46,
           1,
           4,
           4,
           10,
           8,
           10,
           23,
           9,
           10,
           1,
           22,
           2,
           3,
           14,
           39,
           38,
           21,
           7,
           6,
           3,
           17,
           23,
           7,
           5,
           12,
           1,
           50,
           0,
           2,
           5,
           9,
           1,
           4,
           19,
           7,
           5,
           4,
           20,
           1,
           2,
           30,
           39,
           4,
           12,
           15,
           0,
           0,
           13,
           0,
           4,
           0,
           15,
           22,
           24,
           8,
           6,
           8,
           0,
           1,
           6,
           7,
           3,
           25,
           1,
           7,
           24,
           26,
           1,
           7,
           6,
           2,
           12,
           0,
           6,
           20,
           11,
           3,
           1,
           0,
           11,
           25,
           4,
           31,
           49,
           56,
           0,
           5,
           11,
           0,
           14,
           18,
           1,
           2,
           14,
           6,
           29,
           36,
           33,
           29,
           6,
           23,
           2,
           27,
           19,
           4,
           0,
           10,
           4,
           42,
           2,
           3,
           33,
           49,
           3,
           10,
           8,
           32,
           1,
           26,
           0,
           8,
           4,
           0,
           1,
           24,
           20,
           1,
           1,
           9,
           1,
           2,
           13,
           2,
           18,
           29,
           2,
           1,
           10,
           55,
           23,
           3,
           2,
           0,
           20,
           6,
           5,
           7,
           21,
           11,
           1,
           2,
           7,
           1,
           5,
           4,
           2,
           15,
           18,
           1,
           15,
           5,
           2,
           21,
           8,
           0,
           31,
           7,
           1,
           3,
           0,
           11,
           10,
           2,
           14,
           1,
           2,
           3,
           43,
           3,
           2,
           2,
           0,
           13,
           0,
           6,
           25,
           30,
           9,
           12,
           2,
           6,
           3,
           0,
           27,
           13,
           20,
           34,
           20,
           18,
           22,
           13,
           40,
           3,
           1,
           34,
           11,
           1,
           6,
           1,
           13,
           13,
           0,
           11,
           1,
           3,
           0,
           8,
           12,
           28,
           60,
           4,
           46,
           6,
           12,
           23,
           4,
           1,
           2,
           23,
           12,
           6,
           1,
           1,
           4,
           8,
           17,
           2,
           6,
           0,
           2,
           0,
           14,
           11,
           1,
           17,
           19,
           49,
           32,
           16,
           15,
           63,
           21,
           0,
           23,
           5,
           0,
           1,
           22,
           21,
           9,
           0,
           0,
           0,
           15,
           0,
           3,
           17,
           3,
           4,
           6,
           54,
           6,
           2,
           28,
           0,
           38,
           4,
           30,
           5,
           3,
           22,
           9,
           25,
           14,
           8,
           0,
           1,
           32,
           2,
           54,
           0,
           5,
           13,
           0,
           20,
           5,
           13,
           4,
           4,
           3,
           9,
           13,
           2,
           24,
           28,
           13,
           27,
           24,
           19,
           4,
           22,
           41,
           15,
           33,
           35,
           0,
           5,
           1,
           14,
           0,
           1,
           1,
           4,
           2,
           7,
           15,
           5,
           4,
           6,
           17,
           54,
           5,
           2,
           4,
           4,
           1,
           12,
           0,
           0,
           65,
           65,
           0,
           3,
           7,
           11,
           37,
           5,
           4,
           12,
           8,
           1,
           7,
           16,
           6,
           3,
           3,
           4,
           10,
           21,
           2,
           1,
           64,
           1,
           3,
           6,
           3,
           6,
           22,
           11,
           10,
           16,
           9,
           15,
           6,
           0,
           0,
           11,
           1,
           8,
           5,
           0,
           7,
           3,
           3,
           14,
           3,
           33,
           1,
           11,
           29,
           1,
           16,
           11,
           4,
           1,
           5,
           31,
           10,
           4,
           33,
           2,
           0,
           0,
           7,
           48,
           3,
           45,
           28,
           6,
           1,
           12,
           13,
           17,
           2,
           10,
           25,
           4,
           0,
           11,
           3,
           4,
           25,
           1,
           0,
           27,
           24,
           0,
           39,
           3,
           8,
           10,
           2,
           15,
           30,
           23,
           10,
           20,
           9,
           7,
           24,
           0,
           3,
           1,
           4,
           10,
           2,
           16,
           5,
           44,
           22,
           17,
           9,
           0,
           1,
           4,
           0,
           23,
           0,
           16,
           20,
           5,
           4,
           6,
           42,
           8,
           24,
           5,
           0,
           12,
           37,
           20,
           1,
           1,
           16,
           29,
           14,
           22,
           3,
           0,
           3,
           15,
           28,
           31,
           3,
           3,
           16,
           13,
           10,
           0,
           0,
           4,
           3,
           1,
           4,
           12,
           2,
           13,
           30,
           26,
           22,
           6,
           19,
           38,
           30,
           6,
           0,
           0,
           19,
           1,
           12,
           61,
           2,
           4,
           1,
           31,
           12,
           1,
           24,
           3,
           0,
           1,
           21,
           6,
           19,
           11,
           10,
           23,
           17,
           1,
           13,
           15,
           27,
           10,
           24,
           9,
           0,
           27,
           0,
           5,
           2,
           0,
           1,
           9,
           28,
           4,
           27,
           2,
           4,
           1,
           10,
           22,
           15,
           52,
           4,
           18,
           2,
           3,
           0,
           3,
           6,
           10,
           15,
           6,
           27,
           3,
           4,
           9,
           7,
           0,
           0,
           38,
           3,
           1,
           17,
           30,
           12,
           15,
           15,
           20,
           20,
           0,
           15,
           15,
           7,
           17,
           12,
           6,
           4,
           28,
           41,
           5,
           14,
           19,
           11,
           6,
           0,
           0,
           32,
           1,
           1,
           9,
           4,
           20,
           21,
           4,
           3,
           5,
           9,
           20,
           41,
           26,
           3,
           2,
           13,
           0,
           5,
           12,
           1,
           1,
           5,
           11,
           11,
           0,
           11,
           12,
           6,
           2,
           11,
           6,
           1,
           5,
           6,
           4,
           15,
           6,
           0,
           4,
           6,
           4,
           8,
           17,
           2,
           8,
           3,
           4,
           0,
           0,
           12,
           6,
           5,
           14,
           4,
           1,
           13,
           15,
           13,
           2,
           3,
           3,
           6,
           0,
           5,
           11,
           8,
           4,
           11,
           9,
           13,
           20,
           1,
           14,
           9,
           3,
           2,
           6,
           0,
           3,
           2,
           8,
           4,
           4,
           3,
           16,
           2,
           20,
           19,
           27,
           2,
           2,
           11,
           22,
           1,
           27,
           15,
           0,
           10,
           8,
           42,
           15,
           3,
           0,
           11,
           7,
           11,
           15,
           37,
           1,
           27,
           1,
           2,
           8,
           10,
           6,
           1,
           1,
           12,
           8,
           9,
           3,
           6,
           14,
           2,
           0,
           18,
           3,
           4,
           1,
           1,
           20,
           9,
           18,
           21,
           9,
           15,
           14,
           1,
           6,
           4,
           23,
           5,
           0,
           1,
           12,
           39,
           10,
           26,
           8,
           3,
           51,
           11,
           21,
           0,
           0,
           2,
           11,
           17,
           13,
           29,
           10,
           12,
           15,
           4,
           15,
           27,
           24,
           28,
           18,
           14,
           25,
           2,
           3,
           20,
           0,
           21,
           15,
           11,
           5,
           5,
           21,
           3,
           5,
           21,
           6,
           2,
           0,
           15,
           14,
           21,
           23,
           3,
           2,
           11,
           3,
           0,
           12,
           6,
           3,
           5,
           5,
           2,
           13,
           9,
           4,
           7,
           13,
           17,
           39,
           0,
           3,
           36,
           17,
           17,
           25,
           3,
           20,
           4,
           1,
           31,
           9,
           24,
           2,
           7,
           8,
           19,
           32,
           26,
           2,
           0,
           38,
           14,
           2,
           8,
           8,
           1,
           2,
           5,
           2,
           23,
           9,
           23,
           0,
           15,
           13,
           9,
           5,
           27,
           0,
           12,
           28,
           13,
           1,
           6,
           13,
           20,
           2,
           1,
           19,
           19,
           29,
           21,
           30,
           1,
           4,
           1,
           8,
           3,
           15,
           12,
           36,
           2,
           10,
           28,
           8,
           1,
           16,
           9,
           26,
           13,
           1,
           22,
           25,
           0,
           18,
           1,
           11,
           1,
           15,
           5,
           18,
           8,
           0,
           25,
           2,
           22,
           5,
           8,
           4,
           14,
           1,
           7,
           0,
           2,
           5,
           3,
           1,
           2,
           1,
           21,
           27,
           25,
           22,
           9,
           3,
           1,
           55,
           12,
           0,
           9,
           0,
           5,
           4,
           0,
           5,
           9,
           1,
           5,
           3,
           5,
           9,
           2,
           2,
           3,
           2,
           2,
           4,
           5,
           7,
           1,
           54,
           26,
           23,
           6,
           1,
           6,
           8,
           1,
           1,
           1,
           3,
           2,
           6,
           59,
           2,
           23,
           2,
           14,
           1,
           14,
           1,
           3,
           0,
           15,
           14,
           29,
           44,
           4,
           0,
           27,
           3,
           3,
           3,
           1,
           26,
           19,
           6,
           2,
           25,
           1,
           6,
           29,
           5,
           5,
           33,
           8,
           16,
           11,
           13,
           4,
           6,
           4,
           0,
           9,
           0,
           0,
           33,
           1,
           12,
           35,
           19,
           48,
           13,
           4,
           30,
           10,
           3,
           5,
           8,
           19,
           16,
           7,
           2,
           5,
           1,
           7,
           38,
           1,
           8,
           2,
           11,
           31,
           55,
           0,
           3,
           26,
           50,
           3,
           1,
           0,
           8,
           28,
           37,
           3,
           7,
           10,
           22,
           14,
           6,
           0,
           3,
           7,
           4,
           28,
           1,
           9,
           0,
           2,
           0,
           11,
           0,
           7,
           46,
           7,
           0,
           64,
           38,
           9,
           3,
           0,
           58,
           4,
           9,
           6,
           8,
           36,
           22,
           4,
           7,
           0,
           8,
           25,
           4,
           1,
           15,
           26,
           7,
           0,
           9,
           2,
           47,
           0,
           39,
           11,
           12,
           2,
           5,
           1,
           54,
           1,
           41,
           14,
           39,
           1,
           0,
           5,
           0,
           2,
           2,
           19,
           9,
           25,
           70,
           25,
           3,
           15,
           2,
           14,
           1,
           11,
           3,
           1,
           2,
           56,
           12,
           0,
           15,
           28,
           0,
           5,
           0,
           5,
           0,
           15,
           8,
           23,
           4,
           0,
           0,
           3,
           8,
           7,
           20,
           7,
           12,
           18,
           11,
           36,
           32,
           8,
           40,
           11,
           16,
           0,
           9,
           35,
           61
          ],
          "sizemode": "area",
          "sizeref": 0.175
         },
         "mode": "markers",
         "name": "",
         "showlegend": false,
         "subplot": "mapbox",
         "type": "scattermapbox"
        }
       ],
       "layout": {
        "height": 800,
        "legend": {
         "itemsizing": "constant",
         "tracegroupgap": 0
        },
        "mapbox": {
         "center": {
          "lat": 48.85861764719713,
          "lon": 2.340848480331031
         },
         "domain": {
          "x": [
           0,
           1
          ],
          "y": [
           0,
           1
          ]
         },
         "style": "open-street-map",
         "zoom": 10
        },
        "margin": {
         "t": 60
        },
        "template": {
         "data": {
          "bar": [
           {
            "error_x": {
             "color": "#2a3f5f"
            },
            "error_y": {
             "color": "#2a3f5f"
            },
            "marker": {
             "line": {
              "color": "#E5ECF6",
              "width": 0.5
             },
             "pattern": {
              "fillmode": "overlay",
              "size": 10,
              "solidity": 0.2
             }
            },
            "type": "bar"
           }
          ],
          "barpolar": [
           {
            "marker": {
             "line": {
              "color": "#E5ECF6",
              "width": 0.5
             },
             "pattern": {
              "fillmode": "overlay",
              "size": 10,
              "solidity": 0.2
             }
            },
            "type": "barpolar"
           }
          ],
          "carpet": [
           {
            "aaxis": {
             "endlinecolor": "#2a3f5f",
             "gridcolor": "white",
             "linecolor": "white",
             "minorgridcolor": "white",
             "startlinecolor": "#2a3f5f"
            },
            "baxis": {
             "endlinecolor": "#2a3f5f",
             "gridcolor": "white",
             "linecolor": "white",
             "minorgridcolor": "white",
             "startlinecolor": "#2a3f5f"
            },
            "type": "carpet"
           }
          ],
          "choropleth": [
           {
            "colorbar": {
             "outlinewidth": 0,
             "ticks": ""
            },
            "type": "choropleth"
           }
          ],
          "contour": [
           {
            "colorbar": {
             "outlinewidth": 0,
             "ticks": ""
            },
            "colorscale": [
             [
              0,
              "#0d0887"
             ],
             [
              0.1111111111111111,
              "#46039f"
             ],
             [
              0.2222222222222222,
              "#7201a8"
             ],
             [
              0.3333333333333333,
              "#9c179e"
             ],
             [
              0.4444444444444444,
              "#bd3786"
             ],
             [
              0.5555555555555556,
              "#d8576b"
             ],
             [
              0.6666666666666666,
              "#ed7953"
             ],
             [
              0.7777777777777778,
              "#fb9f3a"
             ],
             [
              0.8888888888888888,
              "#fdca26"
             ],
             [
              1,
              "#f0f921"
             ]
            ],
            "type": "contour"
           }
          ],
          "contourcarpet": [
           {
            "colorbar": {
             "outlinewidth": 0,
             "ticks": ""
            },
            "type": "contourcarpet"
           }
          ],
          "heatmap": [
           {
            "colorbar": {
             "outlinewidth": 0,
             "ticks": ""
            },
            "colorscale": [
             [
              0,
              "#0d0887"
             ],
             [
              0.1111111111111111,
              "#46039f"
             ],
             [
              0.2222222222222222,
              "#7201a8"
             ],
             [
              0.3333333333333333,
              "#9c179e"
             ],
             [
              0.4444444444444444,
              "#bd3786"
             ],
             [
              0.5555555555555556,
              "#d8576b"
             ],
             [
              0.6666666666666666,
              "#ed7953"
             ],
             [
              0.7777777777777778,
              "#fb9f3a"
             ],
             [
              0.8888888888888888,
              "#fdca26"
             ],
             [
              1,
              "#f0f921"
             ]
            ],
            "type": "heatmap"
           }
          ],
          "heatmapgl": [
           {
            "colorbar": {
             "outlinewidth": 0,
             "ticks": ""
            },
            "colorscale": [
             [
              0,
              "#0d0887"
             ],
             [
              0.1111111111111111,
              "#46039f"
             ],
             [
              0.2222222222222222,
              "#7201a8"
             ],
             [
              0.3333333333333333,
              "#9c179e"
             ],
             [
              0.4444444444444444,
              "#bd3786"
             ],
             [
              0.5555555555555556,
              "#d8576b"
             ],
             [
              0.6666666666666666,
              "#ed7953"
             ],
             [
              0.7777777777777778,
              "#fb9f3a"
             ],
             [
              0.8888888888888888,
              "#fdca26"
             ],
             [
              1,
              "#f0f921"
             ]
            ],
            "type": "heatmapgl"
           }
          ],
          "histogram": [
           {
            "marker": {
             "pattern": {
              "fillmode": "overlay",
              "size": 10,
              "solidity": 0.2
             }
            },
            "type": "histogram"
           }
          ],
          "histogram2d": [
           {
            "colorbar": {
             "outlinewidth": 0,
             "ticks": ""
            },
            "colorscale": [
             [
              0,
              "#0d0887"
             ],
             [
              0.1111111111111111,
              "#46039f"
             ],
             [
              0.2222222222222222,
              "#7201a8"
             ],
             [
              0.3333333333333333,
              "#9c179e"
             ],
             [
              0.4444444444444444,
              "#bd3786"
             ],
             [
              0.5555555555555556,
              "#d8576b"
             ],
             [
              0.6666666666666666,
              "#ed7953"
             ],
             [
              0.7777777777777778,
              "#fb9f3a"
             ],
             [
              0.8888888888888888,
              "#fdca26"
             ],
             [
              1,
              "#f0f921"
             ]
            ],
            "type": "histogram2d"
           }
          ],
          "histogram2dcontour": [
           {
            "colorbar": {
             "outlinewidth": 0,
             "ticks": ""
            },
            "colorscale": [
             [
              0,
              "#0d0887"
             ],
             [
              0.1111111111111111,
              "#46039f"
             ],
             [
              0.2222222222222222,
              "#7201a8"
             ],
             [
              0.3333333333333333,
              "#9c179e"
             ],
             [
              0.4444444444444444,
              "#bd3786"
             ],
             [
              0.5555555555555556,
              "#d8576b"
             ],
             [
              0.6666666666666666,
              "#ed7953"
             ],
             [
              0.7777777777777778,
              "#fb9f3a"
             ],
             [
              0.8888888888888888,
              "#fdca26"
             ],
             [
              1,
              "#f0f921"
             ]
            ],
            "type": "histogram2dcontour"
           }
          ],
          "mesh3d": [
           {
            "colorbar": {
             "outlinewidth": 0,
             "ticks": ""
            },
            "type": "mesh3d"
           }
          ],
          "parcoords": [
           {
            "line": {
             "colorbar": {
              "outlinewidth": 0,
              "ticks": ""
             }
            },
            "type": "parcoords"
           }
          ],
          "pie": [
           {
            "automargin": true,
            "type": "pie"
           }
          ],
          "scatter": [
           {
            "fillpattern": {
             "fillmode": "overlay",
             "size": 10,
             "solidity": 0.2
            },
            "type": "scatter"
           }
          ],
          "scatter3d": [
           {
            "line": {
             "colorbar": {
              "outlinewidth": 0,
              "ticks": ""
             }
            },
            "marker": {
             "colorbar": {
              "outlinewidth": 0,
              "ticks": ""
             }
            },
            "type": "scatter3d"
           }
          ],
          "scattercarpet": [
           {
            "marker": {
             "colorbar": {
              "outlinewidth": 0,
              "ticks": ""
             }
            },
            "type": "scattercarpet"
           }
          ],
          "scattergeo": [
           {
            "marker": {
             "colorbar": {
              "outlinewidth": 0,
              "ticks": ""
             }
            },
            "type": "scattergeo"
           }
          ],
          "scattergl": [
           {
            "marker": {
             "colorbar": {
              "outlinewidth": 0,
              "ticks": ""
             }
            },
            "type": "scattergl"
           }
          ],
          "scattermapbox": [
           {
            "marker": {
             "colorbar": {
              "outlinewidth": 0,
              "ticks": ""
             }
            },
            "type": "scattermapbox"
           }
          ],
          "scatterpolar": [
           {
            "marker": {
             "colorbar": {
              "outlinewidth": 0,
              "ticks": ""
             }
            },
            "type": "scatterpolar"
           }
          ],
          "scatterpolargl": [
           {
            "marker": {
             "colorbar": {
              "outlinewidth": 0,
              "ticks": ""
             }
            },
            "type": "scatterpolargl"
           }
          ],
          "scatterternary": [
           {
            "marker": {
             "colorbar": {
              "outlinewidth": 0,
              "ticks": ""
             }
            },
            "type": "scatterternary"
           }
          ],
          "surface": [
           {
            "colorbar": {
             "outlinewidth": 0,
             "ticks": ""
            },
            "colorscale": [
             [
              0,
              "#0d0887"
             ],
             [
              0.1111111111111111,
              "#46039f"
             ],
             [
              0.2222222222222222,
              "#7201a8"
             ],
             [
              0.3333333333333333,
              "#9c179e"
             ],
             [
              0.4444444444444444,
              "#bd3786"
             ],
             [
              0.5555555555555556,
              "#d8576b"
             ],
             [
              0.6666666666666666,
              "#ed7953"
             ],
             [
              0.7777777777777778,
              "#fb9f3a"
             ],
             [
              0.8888888888888888,
              "#fdca26"
             ],
             [
              1,
              "#f0f921"
             ]
            ],
            "type": "surface"
           }
          ],
          "table": [
           {
            "cells": {
             "fill": {
              "color": "#EBF0F8"
             },
             "line": {
              "color": "white"
             }
            },
            "header": {
             "fill": {
              "color": "#C8D4E3"
             },
             "line": {
              "color": "white"
             }
            },
            "type": "table"
           }
          ]
         },
         "layout": {
          "annotationdefaults": {
           "arrowcolor": "#2a3f5f",
           "arrowhead": 0,
           "arrowwidth": 1
          },
          "autotypenumbers": "strict",
          "coloraxis": {
           "colorbar": {
            "outlinewidth": 0,
            "ticks": ""
           }
          },
          "colorscale": {
           "diverging": [
            [
             0,
             "#8e0152"
            ],
            [
             0.1,
             "#c51b7d"
            ],
            [
             0.2,
             "#de77ae"
            ],
            [
             0.3,
             "#f1b6da"
            ],
            [
             0.4,
             "#fde0ef"
            ],
            [
             0.5,
             "#f7f7f7"
            ],
            [
             0.6,
             "#e6f5d0"
            ],
            [
             0.7,
             "#b8e186"
            ],
            [
             0.8,
             "#7fbc41"
            ],
            [
             0.9,
             "#4d9221"
            ],
            [
             1,
             "#276419"
            ]
           ],
           "sequential": [
            [
             0,
             "#0d0887"
            ],
            [
             0.1111111111111111,
             "#46039f"
            ],
            [
             0.2222222222222222,
             "#7201a8"
            ],
            [
             0.3333333333333333,
             "#9c179e"
            ],
            [
             0.4444444444444444,
             "#bd3786"
            ],
            [
             0.5555555555555556,
             "#d8576b"
            ],
            [
             0.6666666666666666,
             "#ed7953"
            ],
            [
             0.7777777777777778,
             "#fb9f3a"
            ],
            [
             0.8888888888888888,
             "#fdca26"
            ],
            [
             1,
             "#f0f921"
            ]
           ],
           "sequentialminus": [
            [
             0,
             "#0d0887"
            ],
            [
             0.1111111111111111,
             "#46039f"
            ],
            [
             0.2222222222222222,
             "#7201a8"
            ],
            [
             0.3333333333333333,
             "#9c179e"
            ],
            [
             0.4444444444444444,
             "#bd3786"
            ],
            [
             0.5555555555555556,
             "#d8576b"
            ],
            [
             0.6666666666666666,
             "#ed7953"
            ],
            [
             0.7777777777777778,
             "#fb9f3a"
            ],
            [
             0.8888888888888888,
             "#fdca26"
            ],
            [
             1,
             "#f0f921"
            ]
           ]
          },
          "colorway": [
           "#636efa",
           "#EF553B",
           "#00cc96",
           "#ab63fa",
           "#FFA15A",
           "#19d3f3",
           "#FF6692",
           "#B6E880",
           "#FF97FF",
           "#FECB52"
          ],
          "font": {
           "color": "#2a3f5f"
          },
          "geo": {
           "bgcolor": "white",
           "lakecolor": "white",
           "landcolor": "#E5ECF6",
           "showlakes": true,
           "showland": true,
           "subunitcolor": "white"
          },
          "hoverlabel": {
           "align": "left"
          },
          "hovermode": "closest",
          "mapbox": {
           "style": "light"
          },
          "paper_bgcolor": "white",
          "plot_bgcolor": "#E5ECF6",
          "polar": {
           "angularaxis": {
            "gridcolor": "white",
            "linecolor": "white",
            "ticks": ""
           },
           "bgcolor": "#E5ECF6",
           "radialaxis": {
            "gridcolor": "white",
            "linecolor": "white",
            "ticks": ""
           }
          },
          "scene": {
           "xaxis": {
            "backgroundcolor": "#E5ECF6",
            "gridcolor": "white",
            "gridwidth": 2,
            "linecolor": "white",
            "showbackground": true,
            "ticks": "",
            "zerolinecolor": "white"
           },
           "yaxis": {
            "backgroundcolor": "#E5ECF6",
            "gridcolor": "white",
            "gridwidth": 2,
            "linecolor": "white",
            "showbackground": true,
            "ticks": "",
            "zerolinecolor": "white"
           },
           "zaxis": {
            "backgroundcolor": "#E5ECF6",
            "gridcolor": "white",
            "gridwidth": 2,
            "linecolor": "white",
            "showbackground": true,
            "ticks": "",
            "zerolinecolor": "white"
           }
          },
          "shapedefaults": {
           "line": {
            "color": "#2a3f5f"
           }
          },
          "ternary": {
           "aaxis": {
            "gridcolor": "white",
            "linecolor": "white",
            "ticks": ""
           },
           "baxis": {
            "gridcolor": "white",
            "linecolor": "white",
            "ticks": ""
           },
           "bgcolor": "#E5ECF6",
           "caxis": {
            "gridcolor": "white",
            "linecolor": "white",
            "ticks": ""
           }
          },
          "title": {
           "x": 0.05
          },
          "xaxis": {
           "automargin": true,
           "gridcolor": "white",
           "linecolor": "white",
           "ticks": "",
           "title": {
            "standoff": 15
           },
           "zerolinecolor": "white",
           "zerolinewidth": 2
          },
          "yaxis": {
           "automargin": true,
           "gridcolor": "white",
           "linecolor": "white",
           "ticks": "",
           "title": {
            "standoff": 15
           },
           "zerolinecolor": "white",
           "zerolinewidth": 2
          }
         }
        },
        "title": {
         "text": "Number of Bikes Available at Each Station (Updated: 2024-04-15T14:19:19+02:00)"
        },
        "width": 1000
       }
      }
     },
     "metadata": {},
     "output_type": "display_data"
    }
   ],
   "source": [
    "# Extract latitude and longitude\n",
    "dataset_clean[['Latitude', 'Longitude']] = dataset_clean['Geographic Coordinates'].str.split(', ', expand=True).astype(float)\n",
    "\n",
    "fig = px.scatter_mapbox(dataset_clean, lat=\"Latitude\", lon=\"Longitude\",\n",
    "                        size=\"Total Number of Bikes Available\", hover_name=\"Station Name\",\n",
    "                        hover_data=[\"Station Name\", \"Total Number of Bikes Available\"],\n",
    "                        color_discrete_sequence=[\"blue\"], zoom=10, height=600)\n",
    "fig.update_layout(mapbox_style=\"open-street-map\")\n",
    "fig.update_layout(title=f'Number of Bikes Available at Each Station (Updated: {timestamp})')\n",
    "fig.update_layout(width=1000, height=800)\n",
    "\n",
    "fig.show()\n"
   ]
  },
  {
   "cell_type": "markdown",
   "metadata": {},
   "source": [
    "##### Insight:\n",
    "\n",
    "From the geographic plot, it's obvious that the majority of stations are clustered along the Seine River and in popular tourist areas, such as the Eiffel Tower, Latin Quarter, Champs-Elysees, and Marais quarter."
   ]
  },
  {
   "cell_type": "markdown",
   "metadata": {},
   "source": [
    "#### Limitations:\n",
    "One limitation is that the map only shows bike availability at the time the data was collected and may not reflect real-time availability. Additionally, the map does not consider other factors such as station capacity, demand, or usage patterns, which could affect bike availability. Therefore, the map provides a snapshot of bike availability but may not capture the full complexity of bike distribution dynamics."
   ]
  },
  {
   "cell_type": "markdown",
   "metadata": {},
   "source": [
    "## Conclusion"
   ]
  },
  {
   "cell_type": "markdown",
   "metadata": {},
   "source": [
    "**Main Findings:**\n",
    "1. The quantity of both types of bikes is increasing, potentially due to government initiatives.\n",
    "2. Paris has the highest number of bicycles, attributed to its dense population and tourist attractions.\n",
    "3. Mechanical bikes dominate in the top 10 areas, except for Aubervilliers and Saint-Denis.\n",
    "4. Busy bike stations are clustered along the Seine and in tourist areas.\n",
    "5. Paris has the highest return and payment availability, followed by Boulogne-Billancourt.\n",
    "\n",
    "**Ability to Answer Research Question:** Yes, the analysis effectively addresses the research question by providing insights into how bike and terminal availability vary spatially and temporally within Paris.\n",
    "\n",
    "**Limitations and Biases:** The map reflects bike availability at a specific time and may not capture real-time dynamics or other factors influencing availability.\n",
    "It doesn't consider station capacity, demand, or usage patterns, which could affect bike availability and distribution.\n",
    "\n",
    "**Supporting or Contradictory Sources:** The image of the return and payment services contradict the conclusion.\n",
    "\n",
    "**Next Steps:** With more time, further analysis could explore correlations between bike/terminal availability and external factors such as weather patterns, special events, or infrastructure changes. Exploring the bike availability in different time during a day or the distribution in different arrondissements might bring some interesting insights.\n",
    "\n",
    "**Other method:** Aside from data analysis, qualitative methods like surveys or interviews with bike users could provide insights into usage patterns, preferences, and factors influencing bike availability and distribution. Additionally, observational studies or experiments could complement quantitative analysis by providing context and deeper understanding."
   ]
  }
 ],
 "metadata": {
  "kernelspec": {
   "display_name": "Python 3",
   "language": "python",
   "name": "python3"
  },
  "language_info": {
   "codemirror_mode": {
    "name": "ipython",
    "version": 3
   },
   "file_extension": ".py",
   "mimetype": "text/x-python",
   "name": "python",
   "nbconvert_exporter": "python",
   "pygments_lexer": "ipython3",
   "version": "3.12.0"
  },
  "orig_nbformat": 4
 },
 "nbformat": 4,
 "nbformat_minor": 2
}
